{
 "cells": [
  {
   "cell_type": "code",
   "execution_count": 1,
   "id": "489e8a60",
   "metadata": {},
   "outputs": [],
   "source": [
    "import pandas as pd\n",
    "import numpy as np\n",
    "import matplotlib.pyplot as plt\n",
    "import seaborn as sns\n",
    "from scipy import stats\n",
    "import statsmodels.api as sm\n",
    "from statsmodels.formula.api  import ols\n",
    "import warnings\n",
    "warnings.filterwarnings('ignore')\n",
    "pd.set_option('display.max_column',None)\n",
    "from sklearn import preprocessing\n",
    "label_encoder = preprocessing.LabelEncoder()\n",
    "from sklearn.preprocessing import LabelEncoder"
   ]
  },
  {
   "cell_type": "code",
   "execution_count": 2,
   "id": "c1f559c9",
   "metadata": {},
   "outputs": [],
   "source": [
    "import os\n",
    "os.chdir('D:\\IMARTICUS\\CAPSTONE PROJECT\\Tourism prediction')"
   ]
  },
  {
   "cell_type": "code",
   "execution_count": 3,
   "id": "de248a5f",
   "metadata": {},
   "outputs": [],
   "source": [
    "import statsmodels.api as sm\n",
    "import sklearn\n",
    "from sklearn.model_selection import train_test_split\n",
    "from sklearn.feature_selection import RFE\n",
    "from sklearn.preprocessing import StandardScaler\n",
    "from sklearn.metrics import r2_score\n",
    "from sklearn.linear_model import LinearRegression \n",
    "from statsmodels.stats.outliers_influence import variance_inflation_factor\n",
    "from statsmodels.stats.multicomp import pairwise_tukeyhsd\n",
    "import statsmodels.formula.api as smf\n",
    "pd.set_option('display.max_column',None)\n",
    "from sklearn.linear_model import LinearRegression"
   ]
  },
  {
   "cell_type": "code",
   "execution_count": null,
   "id": "e0df8243",
   "metadata": {},
   "outputs": [],
   "source": []
  },
  {
   "cell_type": "code",
   "execution_count": 4,
   "id": "174c21b0",
   "metadata": {},
   "outputs": [
    {
     "data": {
      "text/html": [
       "<div>\n",
       "<style scoped>\n",
       "    .dataframe tbody tr th:only-of-type {\n",
       "        vertical-align: middle;\n",
       "    }\n",
       "\n",
       "    .dataframe tbody tr th {\n",
       "        vertical-align: top;\n",
       "    }\n",
       "\n",
       "    .dataframe thead th {\n",
       "        text-align: right;\n",
       "    }\n",
       "</style>\n",
       "<table border=\"1\" class=\"dataframe\">\n",
       "  <thead>\n",
       "    <tr style=\"text-align: right;\">\n",
       "      <th></th>\n",
       "      <th>ID</th>\n",
       "      <th>country</th>\n",
       "      <th>age_group</th>\n",
       "      <th>travel_with</th>\n",
       "      <th>total_female</th>\n",
       "      <th>total_male</th>\n",
       "      <th>purpose</th>\n",
       "      <th>main_activity</th>\n",
       "      <th>info_source</th>\n",
       "      <th>tour_arrangement</th>\n",
       "      <th>package_transport_int</th>\n",
       "      <th>package_accomodation</th>\n",
       "      <th>package_food</th>\n",
       "      <th>package_transport_tz</th>\n",
       "      <th>package_sightseeing</th>\n",
       "      <th>package_guided_tour</th>\n",
       "      <th>package_insurance</th>\n",
       "      <th>night_mainland</th>\n",
       "      <th>night_zanzibar</th>\n",
       "      <th>payment_mode</th>\n",
       "      <th>first_trip_tz</th>\n",
       "      <th>most_impressing</th>\n",
       "      <th>total_cost</th>\n",
       "    </tr>\n",
       "  </thead>\n",
       "  <tbody>\n",
       "    <tr>\n",
       "      <th>0</th>\n",
       "      <td>tour_0</td>\n",
       "      <td>SWIZERLAND</td>\n",
       "      <td>45-64</td>\n",
       "      <td>Friends/Relatives</td>\n",
       "      <td>1.0</td>\n",
       "      <td>1.0</td>\n",
       "      <td>Leisure and Holidays</td>\n",
       "      <td>Wildlife tourism</td>\n",
       "      <td>Friends, relatives</td>\n",
       "      <td>Independent</td>\n",
       "      <td>No</td>\n",
       "      <td>No</td>\n",
       "      <td>No</td>\n",
       "      <td>No</td>\n",
       "      <td>No</td>\n",
       "      <td>No</td>\n",
       "      <td>No</td>\n",
       "      <td>13</td>\n",
       "      <td>0</td>\n",
       "      <td>Cash</td>\n",
       "      <td>No</td>\n",
       "      <td>Friendly People</td>\n",
       "      <td>674602.5</td>\n",
       "    </tr>\n",
       "    <tr>\n",
       "      <th>1</th>\n",
       "      <td>tour_10</td>\n",
       "      <td>UNITED KINGDOM</td>\n",
       "      <td>25-44</td>\n",
       "      <td>NaN</td>\n",
       "      <td>1.0</td>\n",
       "      <td>0.0</td>\n",
       "      <td>Leisure and Holidays</td>\n",
       "      <td>Cultural tourism</td>\n",
       "      <td>others</td>\n",
       "      <td>Independent</td>\n",
       "      <td>No</td>\n",
       "      <td>No</td>\n",
       "      <td>No</td>\n",
       "      <td>No</td>\n",
       "      <td>No</td>\n",
       "      <td>No</td>\n",
       "      <td>No</td>\n",
       "      <td>14</td>\n",
       "      <td>7</td>\n",
       "      <td>Cash</td>\n",
       "      <td>Yes</td>\n",
       "      <td>Wonderful Country, Landscape, Nature</td>\n",
       "      <td>3214906.5</td>\n",
       "    </tr>\n",
       "    <tr>\n",
       "      <th>2</th>\n",
       "      <td>tour_1000</td>\n",
       "      <td>UNITED KINGDOM</td>\n",
       "      <td>25-44</td>\n",
       "      <td>Alone</td>\n",
       "      <td>0.0</td>\n",
       "      <td>1.0</td>\n",
       "      <td>Visiting Friends and Relatives</td>\n",
       "      <td>Cultural tourism</td>\n",
       "      <td>Friends, relatives</td>\n",
       "      <td>Independent</td>\n",
       "      <td>No</td>\n",
       "      <td>No</td>\n",
       "      <td>No</td>\n",
       "      <td>No</td>\n",
       "      <td>No</td>\n",
       "      <td>No</td>\n",
       "      <td>No</td>\n",
       "      <td>1</td>\n",
       "      <td>31</td>\n",
       "      <td>Cash</td>\n",
       "      <td>No</td>\n",
       "      <td>Excellent Experience</td>\n",
       "      <td>3315000.0</td>\n",
       "    </tr>\n",
       "    <tr>\n",
       "      <th>3</th>\n",
       "      <td>tour_1002</td>\n",
       "      <td>UNITED KINGDOM</td>\n",
       "      <td>25-44</td>\n",
       "      <td>Spouse</td>\n",
       "      <td>1.0</td>\n",
       "      <td>1.0</td>\n",
       "      <td>Leisure and Holidays</td>\n",
       "      <td>Wildlife tourism</td>\n",
       "      <td>Travel, agent, tour operator</td>\n",
       "      <td>Package Tour</td>\n",
       "      <td>No</td>\n",
       "      <td>Yes</td>\n",
       "      <td>Yes</td>\n",
       "      <td>Yes</td>\n",
       "      <td>Yes</td>\n",
       "      <td>Yes</td>\n",
       "      <td>No</td>\n",
       "      <td>11</td>\n",
       "      <td>0</td>\n",
       "      <td>Cash</td>\n",
       "      <td>Yes</td>\n",
       "      <td>Friendly People</td>\n",
       "      <td>7790250.0</td>\n",
       "    </tr>\n",
       "    <tr>\n",
       "      <th>4</th>\n",
       "      <td>tour_1004</td>\n",
       "      <td>CHINA</td>\n",
       "      <td>Jan-24</td>\n",
       "      <td>NaN</td>\n",
       "      <td>1.0</td>\n",
       "      <td>0.0</td>\n",
       "      <td>Leisure and Holidays</td>\n",
       "      <td>Wildlife tourism</td>\n",
       "      <td>Travel, agent, tour operator</td>\n",
       "      <td>Independent</td>\n",
       "      <td>No</td>\n",
       "      <td>No</td>\n",
       "      <td>No</td>\n",
       "      <td>No</td>\n",
       "      <td>No</td>\n",
       "      <td>No</td>\n",
       "      <td>No</td>\n",
       "      <td>7</td>\n",
       "      <td>4</td>\n",
       "      <td>Cash</td>\n",
       "      <td>Yes</td>\n",
       "      <td>No comments</td>\n",
       "      <td>1657500.0</td>\n",
       "    </tr>\n",
       "  </tbody>\n",
       "</table>\n",
       "</div>"
      ],
      "text/plain": [
       "          ID         country age_group        travel_with  total_female  \\\n",
       "0     tour_0      SWIZERLAND     45-64  Friends/Relatives           1.0   \n",
       "1    tour_10  UNITED KINGDOM     25-44                NaN           1.0   \n",
       "2  tour_1000  UNITED KINGDOM     25-44              Alone           0.0   \n",
       "3  tour_1002  UNITED KINGDOM     25-44             Spouse           1.0   \n",
       "4  tour_1004           CHINA    Jan-24                NaN           1.0   \n",
       "\n",
       "   total_male                         purpose     main_activity  \\\n",
       "0         1.0            Leisure and Holidays  Wildlife tourism   \n",
       "1         0.0            Leisure and Holidays  Cultural tourism   \n",
       "2         1.0  Visiting Friends and Relatives  Cultural tourism   \n",
       "3         1.0            Leisure and Holidays  Wildlife tourism   \n",
       "4         0.0            Leisure and Holidays  Wildlife tourism   \n",
       "\n",
       "                    info_source tour_arrangement package_transport_int  \\\n",
       "0            Friends, relatives      Independent                    No   \n",
       "1                        others      Independent                    No   \n",
       "2            Friends, relatives      Independent                    No   \n",
       "3  Travel, agent, tour operator     Package Tour                    No   \n",
       "4  Travel, agent, tour operator      Independent                    No   \n",
       "\n",
       "  package_accomodation package_food package_transport_tz package_sightseeing  \\\n",
       "0                   No           No                   No                  No   \n",
       "1                   No           No                   No                  No   \n",
       "2                   No           No                   No                  No   \n",
       "3                  Yes          Yes                  Yes                 Yes   \n",
       "4                   No           No                   No                  No   \n",
       "\n",
       "  package_guided_tour package_insurance  night_mainland  night_zanzibar  \\\n",
       "0                  No                No              13               0   \n",
       "1                  No                No              14               7   \n",
       "2                  No                No               1              31   \n",
       "3                 Yes                No              11               0   \n",
       "4                  No                No               7               4   \n",
       "\n",
       "  payment_mode first_trip_tz                       most_impressing  total_cost  \n",
       "0         Cash            No                       Friendly People    674602.5  \n",
       "1         Cash           Yes  Wonderful Country, Landscape, Nature   3214906.5  \n",
       "2         Cash            No                  Excellent Experience   3315000.0  \n",
       "3         Cash           Yes                       Friendly People   7790250.0  \n",
       "4         Cash           Yes                           No comments   1657500.0  "
      ]
     },
     "execution_count": 4,
     "metadata": {},
     "output_type": "execute_result"
    }
   ],
   "source": [
    "data = pd.read_csv(\"D:\\IMARTICUS\\CAPSTONE PROJECT\\Tourism prediction\\Train (1).csv\")\n",
    "data.head()"
   ]
  },
  {
   "cell_type": "code",
   "execution_count": 5,
   "id": "76e4e458",
   "metadata": {},
   "outputs": [
    {
     "data": {
      "text/plain": [
       "(4809, 23)"
      ]
     },
     "execution_count": 5,
     "metadata": {},
     "output_type": "execute_result"
    }
   ],
   "source": [
    "data.shape"
   ]
  },
  {
   "cell_type": "code",
   "execution_count": 6,
   "id": "c56ce168",
   "metadata": {},
   "outputs": [
    {
     "data": {
      "text/plain": [
       "Index(['ID', 'country', 'age_group', 'travel_with', 'total_female',\n",
       "       'total_male', 'purpose', 'main_activity', 'info_source',\n",
       "       'tour_arrangement', 'package_transport_int', 'package_accomodation',\n",
       "       'package_food', 'package_transport_tz', 'package_sightseeing',\n",
       "       'package_guided_tour', 'package_insurance', 'night_mainland',\n",
       "       'night_zanzibar', 'payment_mode', 'first_trip_tz', 'most_impressing',\n",
       "       'total_cost'],\n",
       "      dtype='object')"
      ]
     },
     "execution_count": 6,
     "metadata": {},
     "output_type": "execute_result"
    }
   ],
   "source": [
    "data.columns"
   ]
  },
  {
   "cell_type": "code",
   "execution_count": 7,
   "id": "1ae6ba03",
   "metadata": {},
   "outputs": [
    {
     "name": "stdout",
     "output_type": "stream",
     "text": [
      "<class 'pandas.core.frame.DataFrame'>\n",
      "RangeIndex: 4809 entries, 0 to 4808\n",
      "Data columns (total 23 columns):\n",
      " #   Column                 Non-Null Count  Dtype  \n",
      "---  ------                 --------------  -----  \n",
      " 0   ID                     4809 non-null   object \n",
      " 1   country                4809 non-null   object \n",
      " 2   age_group              4809 non-null   object \n",
      " 3   travel_with            3695 non-null   object \n",
      " 4   total_female           4806 non-null   float64\n",
      " 5   total_male             4804 non-null   float64\n",
      " 6   purpose                4809 non-null   object \n",
      " 7   main_activity          4809 non-null   object \n",
      " 8   info_source            4809 non-null   object \n",
      " 9   tour_arrangement       4809 non-null   object \n",
      " 10  package_transport_int  4809 non-null   object \n",
      " 11  package_accomodation   4809 non-null   object \n",
      " 12  package_food           4809 non-null   object \n",
      " 13  package_transport_tz   4809 non-null   object \n",
      " 14  package_sightseeing    4809 non-null   object \n",
      " 15  package_guided_tour    4809 non-null   object \n",
      " 16  package_insurance      4809 non-null   object \n",
      " 17  night_mainland         4809 non-null   int64  \n",
      " 18  night_zanzibar         4809 non-null   int64  \n",
      " 19  payment_mode           4809 non-null   object \n",
      " 20  first_trip_tz          4809 non-null   object \n",
      " 21  most_impressing        4496 non-null   object \n",
      " 22  total_cost             4809 non-null   float64\n",
      "dtypes: float64(3), int64(2), object(18)\n",
      "memory usage: 864.2+ KB\n"
     ]
    }
   ],
   "source": [
    "data.info()"
   ]
  },
  {
   "cell_type": "markdown",
   "id": "09c14465",
   "metadata": {},
   "source": [
    "### CHECKING NULL VALUES IN DATA"
   ]
  },
  {
   "cell_type": "code",
   "execution_count": 8,
   "id": "402ca40f",
   "metadata": {},
   "outputs": [
    {
     "data": {
      "text/plain": [
       "ID                          0\n",
       "country                     0\n",
       "age_group                   0\n",
       "travel_with              1114\n",
       "total_female                3\n",
       "total_male                  5\n",
       "purpose                     0\n",
       "main_activity               0\n",
       "info_source                 0\n",
       "tour_arrangement            0\n",
       "package_transport_int       0\n",
       "package_accomodation        0\n",
       "package_food                0\n",
       "package_transport_tz        0\n",
       "package_sightseeing         0\n",
       "package_guided_tour         0\n",
       "package_insurance           0\n",
       "night_mainland              0\n",
       "night_zanzibar              0\n",
       "payment_mode                0\n",
       "first_trip_tz               0\n",
       "most_impressing           313\n",
       "total_cost                  0\n",
       "dtype: int64"
      ]
     },
     "execution_count": 8,
     "metadata": {},
     "output_type": "execute_result"
    }
   ],
   "source": [
    "data.isnull().sum()"
   ]
  },
  {
   "cell_type": "markdown",
   "id": "ec751e2e",
   "metadata": {},
   "source": [
    "### LET'S FILL NULL VALUES"
   ]
  },
  {
   "cell_type": "markdown",
   "id": "a177b5e0",
   "metadata": {},
   "source": [
    "### 1.TRAVEL_WITH"
   ]
  },
  {
   "cell_type": "code",
   "execution_count": 9,
   "id": "001fa440",
   "metadata": {},
   "outputs": [],
   "source": [
    "df = pd.DataFrame(data)\n",
    "\n",
    "# calculate median of non-null values in travel_with column\n",
    "mode_travel_with = df['travel_with'].dropna().mode()[0]\n",
    "\n",
    "# replace null values in travel_with column with mode\n",
    "df['travel_with'].fillna(mode_travel_with, inplace=True)"
   ]
  },
  {
   "cell_type": "markdown",
   "id": "f34bdc74",
   "metadata": {},
   "source": [
    "## 2.total_female"
   ]
  },
  {
   "cell_type": "code",
   "execution_count": 10,
   "id": "4aeaf633",
   "metadata": {},
   "outputs": [],
   "source": [
    "df = pd.DataFrame(data)\n",
    "\n",
    "# calculate median of non-null values in travel_with column\n",
    "mode_travel_with = df['total_female'].dropna().mode()[0]\n",
    "\n",
    "# replace null values in travel_with column with mode\n",
    "df['total_female'].fillna(mode_travel_with, inplace=True)"
   ]
  },
  {
   "cell_type": "markdown",
   "id": "db3d8fdc",
   "metadata": {},
   "source": [
    "### 3.TOTAL_MALE"
   ]
  },
  {
   "cell_type": "code",
   "execution_count": 11,
   "id": "40887dfb",
   "metadata": {},
   "outputs": [],
   "source": [
    "# calculate median of non-null values in travel_with column\n",
    "mode_travel_with = df['total_male'].dropna().mode()[0]\n",
    "\n",
    "# replace null values in travel_with column with mode\n",
    "df['total_male'].fillna(mode_travel_with, inplace=True)"
   ]
  },
  {
   "cell_type": "markdown",
   "id": "d3d75032",
   "metadata": {},
   "source": [
    "### 4.MOST_IMPRESSING"
   ]
  },
  {
   "cell_type": "code",
   "execution_count": 12,
   "id": "fd308155",
   "metadata": {},
   "outputs": [],
   "source": [
    "# calculate median of non-null values in travel_with column\n",
    "mode_travel_with = df['most_impressing'].dropna().mode()[0]\n",
    "\n",
    "# replace null values in travel_with column with mode\n",
    "df['most_impressing'].fillna(mode_travel_with, inplace=True)"
   ]
  },
  {
   "cell_type": "code",
   "execution_count": 13,
   "id": "77bc81a2",
   "metadata": {},
   "outputs": [
    {
     "data": {
      "text/plain": [
       "ID                       0\n",
       "country                  0\n",
       "age_group                0\n",
       "travel_with              0\n",
       "total_female             0\n",
       "total_male               0\n",
       "purpose                  0\n",
       "main_activity            0\n",
       "info_source              0\n",
       "tour_arrangement         0\n",
       "package_transport_int    0\n",
       "package_accomodation     0\n",
       "package_food             0\n",
       "package_transport_tz     0\n",
       "package_sightseeing      0\n",
       "package_guided_tour      0\n",
       "package_insurance        0\n",
       "night_mainland           0\n",
       "night_zanzibar           0\n",
       "payment_mode             0\n",
       "first_trip_tz            0\n",
       "most_impressing          0\n",
       "total_cost               0\n",
       "dtype: int64"
      ]
     },
     "execution_count": 13,
     "metadata": {},
     "output_type": "execute_result"
    }
   ],
   "source": [
    "data.isnull().sum()"
   ]
  },
  {
   "cell_type": "markdown",
   "id": "4f13c1e3",
   "metadata": {},
   "source": [
    "### NULL VALUES ARE REPLACED WITH MODE, BECAUSE IT'S CATEGORICAL"
   ]
  },
  {
   "cell_type": "code",
   "execution_count": null,
   "id": "6d3fe0d6",
   "metadata": {},
   "outputs": [],
   "source": []
  },
  {
   "cell_type": "code",
   "execution_count": 14,
   "id": "90285999",
   "metadata": {},
   "outputs": [
    {
     "data": {
      "text/html": [
       "<div>\n",
       "<style scoped>\n",
       "    .dataframe tbody tr th:only-of-type {\n",
       "        vertical-align: middle;\n",
       "    }\n",
       "\n",
       "    .dataframe tbody tr th {\n",
       "        vertical-align: top;\n",
       "    }\n",
       "\n",
       "    .dataframe thead th {\n",
       "        text-align: right;\n",
       "    }\n",
       "</style>\n",
       "<table border=\"1\" class=\"dataframe\">\n",
       "  <thead>\n",
       "    <tr style=\"text-align: right;\">\n",
       "      <th></th>\n",
       "      <th>total_female</th>\n",
       "      <th>total_male</th>\n",
       "      <th>night_mainland</th>\n",
       "      <th>night_zanzibar</th>\n",
       "      <th>total_cost</th>\n",
       "    </tr>\n",
       "  </thead>\n",
       "  <tbody>\n",
       "    <tr>\n",
       "      <th>count</th>\n",
       "      <td>4809.000000</td>\n",
       "      <td>4809.000000</td>\n",
       "      <td>4809.000000</td>\n",
       "      <td>4809.000000</td>\n",
       "      <td>4.809000e+03</td>\n",
       "    </tr>\n",
       "    <tr>\n",
       "      <th>mean</th>\n",
       "      <td>0.926804</td>\n",
       "      <td>1.009565</td>\n",
       "      <td>8.488043</td>\n",
       "      <td>2.304429</td>\n",
       "      <td>8.114389e+06</td>\n",
       "    </tr>\n",
       "    <tr>\n",
       "      <th>std</th>\n",
       "      <td>1.287841</td>\n",
       "      <td>1.138273</td>\n",
       "      <td>10.427624</td>\n",
       "      <td>4.227080</td>\n",
       "      <td>1.222490e+07</td>\n",
       "    </tr>\n",
       "    <tr>\n",
       "      <th>min</th>\n",
       "      <td>0.000000</td>\n",
       "      <td>0.000000</td>\n",
       "      <td>0.000000</td>\n",
       "      <td>0.000000</td>\n",
       "      <td>4.900000e+04</td>\n",
       "    </tr>\n",
       "    <tr>\n",
       "      <th>25%</th>\n",
       "      <td>0.000000</td>\n",
       "      <td>1.000000</td>\n",
       "      <td>3.000000</td>\n",
       "      <td>0.000000</td>\n",
       "      <td>8.121750e+05</td>\n",
       "    </tr>\n",
       "    <tr>\n",
       "      <th>50%</th>\n",
       "      <td>1.000000</td>\n",
       "      <td>1.000000</td>\n",
       "      <td>6.000000</td>\n",
       "      <td>0.000000</td>\n",
       "      <td>3.397875e+06</td>\n",
       "    </tr>\n",
       "    <tr>\n",
       "      <th>75%</th>\n",
       "      <td>1.000000</td>\n",
       "      <td>1.000000</td>\n",
       "      <td>11.000000</td>\n",
       "      <td>4.000000</td>\n",
       "      <td>9.945000e+06</td>\n",
       "    </tr>\n",
       "    <tr>\n",
       "      <th>max</th>\n",
       "      <td>49.000000</td>\n",
       "      <td>44.000000</td>\n",
       "      <td>145.000000</td>\n",
       "      <td>61.000000</td>\n",
       "      <td>9.953288e+07</td>\n",
       "    </tr>\n",
       "  </tbody>\n",
       "</table>\n",
       "</div>"
      ],
      "text/plain": [
       "       total_female   total_male  night_mainland  night_zanzibar    total_cost\n",
       "count   4809.000000  4809.000000     4809.000000     4809.000000  4.809000e+03\n",
       "mean       0.926804     1.009565        8.488043        2.304429  8.114389e+06\n",
       "std        1.287841     1.138273       10.427624        4.227080  1.222490e+07\n",
       "min        0.000000     0.000000        0.000000        0.000000  4.900000e+04\n",
       "25%        0.000000     1.000000        3.000000        0.000000  8.121750e+05\n",
       "50%        1.000000     1.000000        6.000000        0.000000  3.397875e+06\n",
       "75%        1.000000     1.000000       11.000000        4.000000  9.945000e+06\n",
       "max       49.000000    44.000000      145.000000       61.000000  9.953288e+07"
      ]
     },
     "execution_count": 14,
     "metadata": {},
     "output_type": "execute_result"
    }
   ],
   "source": [
    "data.describe()"
   ]
  },
  {
   "cell_type": "markdown",
   "id": "f2331897",
   "metadata": {},
   "source": [
    "### TOTAL_COST(TARGET VARIABLE)"
   ]
  },
  {
   "cell_type": "code",
   "execution_count": 15,
   "id": "4d98d4c9",
   "metadata": {},
   "outputs": [
    {
     "data": {
      "text/plain": [
       "1657500.0     154\n",
       "3315000.0     109\n",
       "828750.0       88\n",
       "497250.0       76\n",
       "331500.0       76\n",
       "             ... \n",
       "240337.5        1\n",
       "2361937.5       1\n",
       "425000.0        1\n",
       "37956750.0      1\n",
       "2246636.7       1\n",
       "Name: total_cost, Length: 1637, dtype: int64"
      ]
     },
     "execution_count": 15,
     "metadata": {},
     "output_type": "execute_result"
    }
   ],
   "source": [
    "data.total_cost.value_counts()"
   ]
  },
  {
   "cell_type": "code",
   "execution_count": 16,
   "id": "43370f6c",
   "metadata": {},
   "outputs": [
    {
     "data": {
      "text/plain": [
       "<AxesSubplot:xlabel='total_cost', ylabel='Density'>"
      ]
     },
     "execution_count": 16,
     "metadata": {},
     "output_type": "execute_result"
    },
    {
     "data": {
      "image/png": "[encoded data removed]",
      "text/plain": [
       "<Figure size 432x288 with 1 Axes>"
      ]
     },
     "metadata": {
      "needs_background": "light"
     },
     "output_type": "display_data"
    }
   ],
   "source": [
    "sns.distplot(data['total_cost'])"
   ]
  },
  {
   "cell_type": "markdown",
   "id": "a2a6292a",
   "metadata": {},
   "source": [
    "### DATA IS NOT NORMAL(SKEWED)"
   ]
  },
  {
   "cell_type": "code",
   "execution_count": 17,
   "id": "9dbd1418",
   "metadata": {},
   "outputs": [
    {
     "data": {
      "text/plain": [
       "<AxesSubplot:xlabel='total_cost'>"
      ]
     },
     "execution_count": 17,
     "metadata": {},
     "output_type": "execute_result"
    },
    {
     "data": {
      "image/png": "[encoded data removed]",
      "text/plain": [
       "<Figure size 432x288 with 1 Axes>"
      ]
     },
     "metadata": {
      "needs_background": "light"
     },
     "output_type": "display_data"
    }
   ],
   "source": [
    "sns.boxplot(x = 'total_cost', data = data)"
   ]
  },
  {
   "cell_type": "markdown",
   "id": "12918688",
   "metadata": {},
   "source": [
    "### FIX THE OUTLIERS"
   ]
  },
  {
   "cell_type": "code",
   "execution_count": 18,
   "id": "03c4af82",
   "metadata": {},
   "outputs": [
    {
     "data": {
      "text/plain": [
       "9132825.0"
      ]
     },
     "execution_count": 18,
     "metadata": {},
     "output_type": "execute_result"
    }
   ],
   "source": [
    "iqr_fa = stats.iqr(data['total_cost'])\n",
    "iqr_fa"
   ]
  },
  {
   "cell_type": "code",
   "execution_count": 19,
   "id": "57adec1b",
   "metadata": {},
   "outputs": [],
   "source": [
    "Q1 = data['total_cost'].quantile(0.25)\n",
    "\n",
    "Q3 = data['total_cost'].quantile(0.75)\n",
    "\n",
    "upper_bound = Q3 + 1.5*iqr_fa\n",
    "lower_bound = Q1 - 1.5*iqr_fa"
   ]
  },
  {
   "cell_type": "code",
   "execution_count": 20,
   "id": "22c89a28",
   "metadata": {},
   "outputs": [],
   "source": [
    "data['total_cost'] = np.where(data['total_cost'] > upper_bound,upper_bound,data['total_cost'])"
   ]
  },
  {
   "cell_type": "markdown",
   "id": "2b94419f",
   "metadata": {},
   "source": [
    "### Outliers has been handled"
   ]
  },
  {
   "cell_type": "code",
   "execution_count": 21,
   "id": "04dafc24",
   "metadata": {},
   "outputs": [
    {
     "data": {
      "text/plain": [
       "<AxesSubplot:xlabel='total_cost'>"
      ]
     },
     "execution_count": 21,
     "metadata": {},
     "output_type": "execute_result"
    },
    {
     "data": {
      "image/png": "[encoded data removed]",
      "text/plain": [
       "<Figure size 432x288 with 1 Axes>"
      ]
     },
     "metadata": {
      "needs_background": "light"
     },
     "output_type": "display_data"
    }
   ],
   "source": [
    "sns.boxplot(data = data , x = 'total_cost' , color='b')"
   ]
  },
  {
   "cell_type": "code",
   "execution_count": 22,
   "id": "53fb02e5",
   "metadata": {},
   "outputs": [
    {
     "data": {
      "text/plain": [
       "<seaborn.axisgrid.FacetGrid at 0x1cdeb36ecd0>"
      ]
     },
     "execution_count": 22,
     "metadata": {},
     "output_type": "execute_result"
    },
    {
     "data": {
      "image/png": "[encoded data removed]",
      "text/plain": [
       "<Figure size 360x360 with 1 Axes>"
      ]
     },
     "metadata": {
      "needs_background": "light"
     },
     "output_type": "display_data"
    }
   ],
   "source": [
    "sns.displot(data = data , x = 'total_cost')  #positively skewed"
   ]
  },
  {
   "cell_type": "code",
   "execution_count": 23,
   "id": "4f5f41f9",
   "metadata": {},
   "outputs": [
    {
     "data": {
      "text/plain": [
       "<AxesSubplot:>"
      ]
     },
     "execution_count": 23,
     "metadata": {},
     "output_type": "execute_result"
    },
    {
     "data": {
      "image/png": "[encoded data removed]",
      "text/plain": [
       "<Figure size 1080x432 with 2 Axes>"
      ]
     },
     "metadata": {
      "needs_background": "light"
     },
     "output_type": "display_data"
    }
   ],
   "source": [
    "plt.figure(figsize=(15,6))\n",
    "sns.heatmap(data.corr(),cmap='coolwarm',annot=True,linewidth=.5)"
   ]
  },
  {
   "cell_type": "code",
   "execution_count": null,
   "id": "b48e9f82",
   "metadata": {},
   "outputs": [],
   "source": []
  },
  {
   "cell_type": "markdown",
   "id": "92ed0c85",
   "metadata": {},
   "source": [
    "### 0.COUNTRY"
   ]
  },
  {
   "cell_type": "code",
   "execution_count": 24,
   "id": "3d1a9968",
   "metadata": {},
   "outputs": [
    {
     "data": {
      "text/plain": [
       "UNITED STATES OF AMERICA    695\n",
       "UNITED KINGDOM              533\n",
       "ITALY                       393\n",
       "FRANCE                      280\n",
       "ZIMBABWE                    274\n",
       "                           ... \n",
       "NIGER                         1\n",
       "MYANMAR                       1\n",
       "DOMINICA                      1\n",
       "TUNISIA                       1\n",
       "ESTONIA                       1\n",
       "Name: country, Length: 105, dtype: int64"
      ]
     },
     "execution_count": 24,
     "metadata": {},
     "output_type": "execute_result"
    }
   ],
   "source": [
    "data.country.value_counts()"
   ]
  },
  {
   "cell_type": "code",
   "execution_count": 25,
   "id": "4cc9a871",
   "metadata": {},
   "outputs": [
    {
     "data": {
      "text/plain": [
       "<function matplotlib.pyplot.show(close=None, block=None)>"
      ]
     },
     "execution_count": 25,
     "metadata": {},
     "output_type": "execute_result"
    },
    {
     "data": {
      "image/png": "[encoded data removed]",
      "text/plain": [
       "<Figure size 1296x576 with 1 Axes>"
      ]
     },
     "metadata": {
      "needs_background": "light"
     },
     "output_type": "display_data"
    }
   ],
   "source": [
    "plt.figure(figsize=(18,8))\n",
    "sns.countplot(data['country'])\n",
    "plt.show"
   ]
  },
  {
   "cell_type": "markdown",
   "id": "6c4fe4ea",
   "metadata": {},
   "source": [
    "### 1.AGE_GROUP"
   ]
  },
  {
   "cell_type": "code",
   "execution_count": 26,
   "id": "2afeffe3",
   "metadata": {},
   "outputs": [
    {
     "data": {
      "text/plain": [
       "25-44     2487\n",
       "45-64     1391\n",
       "Jan-24     624\n",
       "65+        307\n",
       "Name: age_group, dtype: int64"
      ]
     },
     "execution_count": 26,
     "metadata": {},
     "output_type": "execute_result"
    }
   ],
   "source": [
    "data.age_group.value_counts()"
   ]
  },
  {
   "cell_type": "code",
   "execution_count": 27,
   "id": "b47fbf21",
   "metadata": {},
   "outputs": [
    {
     "data": {
      "text/plain": [
       "<AxesSubplot:xlabel='age_group', ylabel='count'>"
      ]
     },
     "execution_count": 27,
     "metadata": {},
     "output_type": "execute_result"
    },
    {
     "data": {
      "image/png": "[encoded data removed]",
      "text/plain": [
       "<Figure size 1080x432 with 1 Axes>"
      ]
     },
     "metadata": {
      "needs_background": "light"
     },
     "output_type": "display_data"
    }
   ],
   "source": [
    "plt.figure(figsize=(15,6))\n",
    "sns.countplot(x = 'age_group', hue = 'travel_with', data = data)"
   ]
  },
  {
   "cell_type": "code",
   "execution_count": null,
   "id": "f4a4617f",
   "metadata": {},
   "outputs": [],
   "source": []
  },
  {
   "cell_type": "markdown",
   "id": "946cd5be",
   "metadata": {},
   "source": [
    "### 2.TRAVEL_WITH"
   ]
  },
  {
   "cell_type": "code",
   "execution_count": 28,
   "id": "56feae21",
   "metadata": {},
   "outputs": [
    {
     "data": {
      "text/plain": [
       "Alone                  2379\n",
       "Spouse                 1005\n",
       "Friends/Relatives       895\n",
       "Spouse and Children     368\n",
       "Children                162\n",
       "Name: travel_with, dtype: int64"
      ]
     },
     "execution_count": 28,
     "metadata": {},
     "output_type": "execute_result"
    }
   ],
   "source": [
    "data.travel_with.value_counts()"
   ]
  },
  {
   "cell_type": "code",
   "execution_count": 29,
   "id": "3f8308eb",
   "metadata": {},
   "outputs": [
    {
     "data": {
      "text/plain": [
       "<AxesSubplot:xlabel='travel_with', ylabel='count'>"
      ]
     },
     "execution_count": 29,
     "metadata": {},
     "output_type": "execute_result"
    },
    {
     "data": {
      "image/png": "[encoded data removed]",
      "text/plain": [
       "<Figure size 1080x432 with 1 Axes>"
      ]
     },
     "metadata": {
      "needs_background": "light"
     },
     "output_type": "display_data"
    }
   ],
   "source": [
    "plt.figure(figsize=(15,6))\n",
    "sns.countplot( x = 'travel_with', data = data)"
   ]
  },
  {
   "cell_type": "markdown",
   "id": "7fab5ac4",
   "metadata": {},
   "source": [
    "### CONSIDERING \"PURPOSE\" AS HUE"
   ]
  },
  {
   "cell_type": "code",
   "execution_count": 30,
   "id": "2a2886c1",
   "metadata": {},
   "outputs": [
    {
     "data": {
      "text/plain": [
       "<AxesSubplot:xlabel='travel_with', ylabel='count'>"
      ]
     },
     "execution_count": 30,
     "metadata": {},
     "output_type": "execute_result"
    },
    {
     "data": {
      "image/png": "[encoded data removed]",
      "text/plain": [
       "<Figure size 1080x576 with 1 Axes>"
      ]
     },
     "metadata": {
      "needs_background": "light"
     },
     "output_type": "display_data"
    }
   ],
   "source": [
    "plt.figure(figsize=(15,8))\n",
    "sns.countplot( x = 'travel_with', hue = 'purpose', data = data)"
   ]
  },
  {
   "cell_type": "markdown",
   "id": "23a42178",
   "metadata": {},
   "source": [
    "### 3.TOTAL_FEMALE"
   ]
  },
  {
   "cell_type": "code",
   "execution_count": 31,
   "id": "dd3de6a3",
   "metadata": {},
   "outputs": [
    {
     "data": {
      "text/plain": [
       "1.0     2421\n",
       "0.0     1669\n",
       "2.0      463\n",
       "3.0      144\n",
       "4.0       46\n",
       "5.0       25\n",
       "6.0       15\n",
       "7.0       10\n",
       "10.0       4\n",
       "9.0        4\n",
       "12.0       3\n",
       "11.0       3\n",
       "15.0       1\n",
       "49.0       1\n",
       "Name: total_female, dtype: int64"
      ]
     },
     "execution_count": 31,
     "metadata": {},
     "output_type": "execute_result"
    }
   ],
   "source": [
    "data.total_female.value_counts()"
   ]
  },
  {
   "cell_type": "code",
   "execution_count": 32,
   "id": "b0699fd5",
   "metadata": {},
   "outputs": [
    {
     "data": {
      "text/plain": [
       "<AxesSubplot:xlabel='total_female', ylabel='count'>"
      ]
     },
     "execution_count": 32,
     "metadata": {},
     "output_type": "execute_result"
    },
    {
     "data": {
      "image/png": "[encoded data removed]",
      "text/plain": [
       "<Figure size 1080x432 with 1 Axes>"
      ]
     },
     "metadata": {
      "needs_background": "light"
     },
     "output_type": "display_data"
    }
   ],
   "source": [
    "plt.figure(figsize = (15,6))\n",
    "sns.countplot(data = data, x = 'total_female')"
   ]
  },
  {
   "cell_type": "markdown",
   "id": "6a7d5d54",
   "metadata": {},
   "source": [
    "### 4.TOTAL_MALE"
   ]
  },
  {
   "cell_type": "code",
   "execution_count": 33,
   "id": "83ae3504",
   "metadata": {},
   "outputs": [
    {
     "data": {
      "text/plain": [
       "1.0     2966\n",
       "0.0     1137\n",
       "2.0      478\n",
       "3.0      139\n",
       "4.0       46\n",
       "6.0       17\n",
       "5.0       15\n",
       "15.0       2\n",
       "7.0        2\n",
       "10.0       2\n",
       "9.0        2\n",
       "17.0       1\n",
       "12.0       1\n",
       "44.0       1\n",
       "Name: total_male, dtype: int64"
      ]
     },
     "execution_count": 33,
     "metadata": {},
     "output_type": "execute_result"
    }
   ],
   "source": [
    "data.total_male.value_counts()"
   ]
  },
  {
   "cell_type": "code",
   "execution_count": 34,
   "id": "4ba37a32",
   "metadata": {},
   "outputs": [
    {
     "data": {
      "text/plain": [
       "<AxesSubplot:xlabel='total_male', ylabel='count'>"
      ]
     },
     "execution_count": 34,
     "metadata": {},
     "output_type": "execute_result"
    },
    {
     "data": {
      "image/png": "[encoded data removed]",
      "text/plain": [
       "<Figure size 1080x432 with 1 Axes>"
      ]
     },
     "metadata": {
      "needs_background": "light"
     },
     "output_type": "display_data"
    }
   ],
   "source": [
    "plt.figure(figsize=(15,6))\n",
    "sns.countplot(data = data, x = 'total_male')"
   ]
  },
  {
   "cell_type": "markdown",
   "id": "f8dec53a",
   "metadata": {},
   "source": [
    "### 5.PURPOSE"
   ]
  },
  {
   "cell_type": "code",
   "execution_count": 35,
   "id": "ac94c7ff",
   "metadata": {},
   "outputs": [
    {
     "data": {
      "text/plain": [
       "Leisure and Holidays              2840\n",
       "Business                           671\n",
       "Visiting Friends and Relatives     633\n",
       "Meetings and Conference            312\n",
       "Volunteering                       138\n",
       "Other                              128\n",
       "Scientific and Academic             87\n",
       "Name: purpose, dtype: int64"
      ]
     },
     "execution_count": 35,
     "metadata": {},
     "output_type": "execute_result"
    }
   ],
   "source": [
    "data.purpose.value_counts()"
   ]
  },
  {
   "cell_type": "code",
   "execution_count": 36,
   "id": "e6626f5b",
   "metadata": {},
   "outputs": [
    {
     "data": {
      "text/plain": [
       "<AxesSubplot:xlabel='purpose', ylabel='count'>"
      ]
     },
     "execution_count": 36,
     "metadata": {},
     "output_type": "execute_result"
    },
    {
     "data": {
      "image/png": "[encoded data removed]",
      "text/plain": [
       "<Figure size 1152x432 with 1 Axes>"
      ]
     },
     "metadata": {
      "needs_background": "light"
     },
     "output_type": "display_data"
    }
   ],
   "source": [
    "plt.figure(figsize=(16,6))\n",
    "sns.countplot(data = data, x = 'purpose')"
   ]
  },
  {
   "cell_type": "markdown",
   "id": "a282e245",
   "metadata": {},
   "source": [
    "### 6.MAIN_ACTIVITY"
   ]
  },
  {
   "cell_type": "code",
   "execution_count": 37,
   "id": "381dbf9d",
   "metadata": {},
   "outputs": [
    {
     "data": {
      "text/plain": [
       "Wildlife tourism            2259\n",
       "Beach tourism               1025\n",
       "Hunting tourism              457\n",
       "Conference tourism           367\n",
       "Cultural tourism             359\n",
       "Mountain climbing            234\n",
       "business                      58\n",
       "Bird watching                 37\n",
       "Diving and Sport Fishing      13\n",
       "Name: main_activity, dtype: int64"
      ]
     },
     "execution_count": 37,
     "metadata": {},
     "output_type": "execute_result"
    }
   ],
   "source": [
    "data.main_activity.value_counts()"
   ]
  },
  {
   "cell_type": "code",
   "execution_count": 38,
   "id": "cebb1477",
   "metadata": {},
   "outputs": [
    {
     "data": {
      "text/plain": [
       "<AxesSubplot:xlabel='main_activity', ylabel='count'>"
      ]
     },
     "execution_count": 38,
     "metadata": {},
     "output_type": "execute_result"
    },
    {
     "data": {
      "image/png": "[encoded data removed]",
      "text/plain": [
       "<Figure size 1080x576 with 1 Axes>"
      ]
     },
     "metadata": {
      "needs_background": "light"
     },
     "output_type": "display_data"
    }
   ],
   "source": [
    "plt.figure(figsize= (15,8))\n",
    "sns.countplot(data = data, x = 'main_activity')"
   ]
  },
  {
   "cell_type": "markdown",
   "id": "5ad02edd",
   "metadata": {},
   "source": [
    "### 7.PACKAGE_FOOD"
   ]
  },
  {
   "cell_type": "code",
   "execution_count": 39,
   "id": "7c9ed107",
   "metadata": {},
   "outputs": [
    {
     "data": {
      "text/plain": [
       "No     2748\n",
       "Yes    2061\n",
       "Name: package_food, dtype: int64"
      ]
     },
     "execution_count": 39,
     "metadata": {},
     "output_type": "execute_result"
    }
   ],
   "source": [
    "data.package_food.value_counts()"
   ]
  },
  {
   "cell_type": "code",
   "execution_count": 40,
   "id": "e224d916",
   "metadata": {},
   "outputs": [
    {
     "data": {
      "text/plain": [
       "<AxesSubplot:xlabel='package_food', ylabel='count'>"
      ]
     },
     "execution_count": 40,
     "metadata": {},
     "output_type": "execute_result"
    },
    {
     "data": {
      "image/png": "[encoded data removed]",
      "text/plain": [
       "<Figure size 1080x576 with 1 Axes>"
      ]
     },
     "metadata": {
      "needs_background": "light"
     },
     "output_type": "display_data"
    }
   ],
   "source": [
    "plt.figure(figsize=(15,8))\n",
    "sns.countplot(data = data, x = 'package_food')"
   ]
  },
  {
   "cell_type": "markdown",
   "id": "681151d2",
   "metadata": {},
   "source": [
    "### 8.INFO_SOURCE"
   ]
  },
  {
   "cell_type": "code",
   "execution_count": 41,
   "id": "d0a892ea",
   "metadata": {},
   "outputs": [
    {
     "data": {
      "text/plain": [
       "Travel, agent, tour operator      1913\n",
       "Friends, relatives                1635\n",
       "others                             490\n",
       "Newspaper, magazines,brochures     359\n",
       "Radio, TV, Web                     249\n",
       "Trade fair                          77\n",
       "Tanzania Mission Abroad             68\n",
       "inflight magazines                  18\n",
       "Name: info_source, dtype: int64"
      ]
     },
     "execution_count": 41,
     "metadata": {},
     "output_type": "execute_result"
    }
   ],
   "source": [
    "data.info_source.value_counts()"
   ]
  },
  {
   "cell_type": "code",
   "execution_count": 42,
   "id": "9a9367cb",
   "metadata": {},
   "outputs": [
    {
     "data": {
      "text/plain": [
       "<AxesSubplot:xlabel='info_source', ylabel='count'>"
      ]
     },
     "execution_count": 42,
     "metadata": {},
     "output_type": "execute_result"
    },
    {
     "data": {
      "image/png": "[encoded data removed]",
      "text/plain": [
       "<Figure size 1080x576 with 1 Axes>"
      ]
     },
     "metadata": {
      "needs_background": "light"
     },
     "output_type": "display_data"
    }
   ],
   "source": [
    "plt.figure(figsize=(15,8))\n",
    "sns.countplot(data = data, x = 'info_source')"
   ]
  },
  {
   "cell_type": "markdown",
   "id": "0c236090",
   "metadata": {},
   "source": [
    "### 9.Package_Transport_TZ"
   ]
  },
  {
   "cell_type": "code",
   "execution_count": 43,
   "id": "e960f413",
   "metadata": {},
   "outputs": [
    {
     "data": {
      "text/plain": [
       "No     2919\n",
       "Yes    1890\n",
       "Name: package_transport_tz, dtype: int64"
      ]
     },
     "execution_count": 43,
     "metadata": {},
     "output_type": "execute_result"
    }
   ],
   "source": [
    "data.package_transport_tz.value_counts()"
   ]
  },
  {
   "cell_type": "code",
   "execution_count": 44,
   "id": "eae9127d",
   "metadata": {},
   "outputs": [
    {
     "data": {
      "text/plain": [
       "<AxesSubplot:xlabel='package_transport_tz', ylabel='count'>"
      ]
     },
     "execution_count": 44,
     "metadata": {},
     "output_type": "execute_result"
    },
    {
     "data": {
      "image/png": "[encoded data removed]",
      "text/plain": [
       "<Figure size 720x360 with 1 Axes>"
      ]
     },
     "metadata": {
      "needs_background": "light"
     },
     "output_type": "display_data"
    }
   ],
   "source": [
    "plt.figure(figsize=(10,5))\n",
    "sns.countplot(data = data, x = 'package_transport_tz')"
   ]
  },
  {
   "cell_type": "markdown",
   "id": "d6ac05f1",
   "metadata": {},
   "source": [
    "### 10.Package_Sightseeing"
   ]
  },
  {
   "cell_type": "code",
   "execution_count": 45,
   "id": "08d6d318",
   "metadata": {},
   "outputs": [
    {
     "data": {
      "text/plain": [
       "No     3319\n",
       "Yes    1490\n",
       "Name: package_sightseeing, dtype: int64"
      ]
     },
     "execution_count": 45,
     "metadata": {},
     "output_type": "execute_result"
    }
   ],
   "source": [
    "data.package_sightseeing.value_counts()"
   ]
  },
  {
   "cell_type": "code",
   "execution_count": 46,
   "id": "345f89db",
   "metadata": {},
   "outputs": [
    {
     "data": {
      "text/plain": [
       "<AxesSubplot:xlabel='package_sightseeing', ylabel='count'>"
      ]
     },
     "execution_count": 46,
     "metadata": {},
     "output_type": "execute_result"
    },
    {
     "data": {
      "image/png": "[encoded data removed]",
      "text/plain": [
       "<Figure size 720x360 with 1 Axes>"
      ]
     },
     "metadata": {
      "needs_background": "light"
     },
     "output_type": "display_data"
    }
   ],
   "source": [
    "plt.figure(figsize=(10,5))\n",
    "sns.countplot(data = data, x = 'package_sightseeing')"
   ]
  },
  {
   "cell_type": "markdown",
   "id": "6b0bf3ea",
   "metadata": {},
   "source": [
    "### 11.Package_Guided_Tour"
   ]
  },
  {
   "cell_type": "code",
   "execution_count": 47,
   "id": "05864453",
   "metadata": {},
   "outputs": [
    {
     "data": {
      "text/plain": [
       "No     3259\n",
       "Yes    1550\n",
       "Name: package_guided_tour, dtype: int64"
      ]
     },
     "execution_count": 47,
     "metadata": {},
     "output_type": "execute_result"
    }
   ],
   "source": [
    "data.package_guided_tour.value_counts()"
   ]
  },
  {
   "cell_type": "code",
   "execution_count": 48,
   "id": "d4ca2536",
   "metadata": {},
   "outputs": [
    {
     "data": {
      "text/plain": [
       "<AxesSubplot:xlabel='package_guided_tour', ylabel='count'>"
      ]
     },
     "execution_count": 48,
     "metadata": {},
     "output_type": "execute_result"
    },
    {
     "data": {
      "image/png": "[encoded data removed]",
      "text/plain": [
       "<Figure size 720x432 with 1 Axes>"
      ]
     },
     "metadata": {
      "needs_background": "light"
     },
     "output_type": "display_data"
    }
   ],
   "source": [
    "plt.figure(figsize=(10,6))\n",
    "sns.countplot(data = data, x = 'package_guided_tour')"
   ]
  },
  {
   "cell_type": "markdown",
   "id": "50f0167b",
   "metadata": {},
   "source": [
    "### 12.Package_Insurance"
   ]
  },
  {
   "cell_type": "code",
   "execution_count": 49,
   "id": "8b2951d8",
   "metadata": {},
   "outputs": [
    {
     "data": {
      "text/plain": [
       "No     4079\n",
       "Yes     730\n",
       "Name: package_insurance, dtype: int64"
      ]
     },
     "execution_count": 49,
     "metadata": {},
     "output_type": "execute_result"
    }
   ],
   "source": [
    "data.package_insurance.value_counts()"
   ]
  },
  {
   "cell_type": "code",
   "execution_count": 50,
   "id": "5cf40930",
   "metadata": {},
   "outputs": [
    {
     "data": {
      "text/plain": [
       "<AxesSubplot:xlabel='package_insurance', ylabel='count'>"
      ]
     },
     "execution_count": 50,
     "metadata": {},
     "output_type": "execute_result"
    },
    {
     "data": {
      "image/png": "[encoded data removed]",
      "text/plain": [
       "<Figure size 720x432 with 1 Axes>"
      ]
     },
     "metadata": {
      "needs_background": "light"
     },
     "output_type": "display_data"
    }
   ],
   "source": [
    "plt.figure(figsize=(10,6))\n",
    "sns.countplot(data = data, x = 'package_insurance')"
   ]
  },
  {
   "cell_type": "markdown",
   "id": "87683726",
   "metadata": {},
   "source": [
    "### 13.Night_Mainland"
   ]
  },
  {
   "cell_type": "code",
   "execution_count": 51,
   "id": "01825371",
   "metadata": {},
   "outputs": [
    {
     "data": {
      "text/plain": [
       "0      537\n",
       "2      425\n",
       "7      414\n",
       "3      395\n",
       "4      379\n",
       "      ... \n",
       "66       1\n",
       "130      1\n",
       "69       1\n",
       "120      1\n",
       "145      1\n",
       "Name: night_mainland, Length: 64, dtype: int64"
      ]
     },
     "execution_count": 51,
     "metadata": {},
     "output_type": "execute_result"
    }
   ],
   "source": [
    "data.night_mainland.value_counts()"
   ]
  },
  {
   "cell_type": "code",
   "execution_count": 52,
   "id": "53dead1f",
   "metadata": {},
   "outputs": [
    {
     "data": {
      "text/plain": [
       "<AxesSubplot:xlabel='night_mainland', ylabel='count'>"
      ]
     },
     "execution_count": 52,
     "metadata": {},
     "output_type": "execute_result"
    },
    {
     "data": {
      "image/png": "[encoded data removed]",
      "text/plain": [
       "<Figure size 1080x432 with 1 Axes>"
      ]
     },
     "metadata": {
      "needs_background": "light"
     },
     "output_type": "display_data"
    }
   ],
   "source": [
    "plt.figure(figsize = (15,6))\n",
    "sns.countplot(data = data, x = 'night_mainland')"
   ]
  },
  {
   "cell_type": "markdown",
   "id": "8306df10",
   "metadata": {},
   "source": [
    "### 14.Night_Zanzibar"
   ]
  },
  {
   "cell_type": "code",
   "execution_count": 53,
   "id": "054352c4",
   "metadata": {},
   "outputs": [
    {
     "data": {
      "text/plain": [
       "0     3023\n",
       "7      367\n",
       "4      282\n",
       "3      261\n",
       "5      229\n",
       "6      184\n",
       "2      128\n",
       "10      62\n",
       "14      50\n",
       "1       48\n",
       "9       39\n",
       "11      25\n",
       "13      25\n",
       "12      22\n",
       "15      17\n",
       "17       9\n",
       "30       4\n",
       "25       4\n",
       "19       4\n",
       "43       3\n",
       "16       3\n",
       "22       3\n",
       "26       2\n",
       "23       2\n",
       "27       2\n",
       "60       2\n",
       "20       2\n",
       "21       1\n",
       "24       1\n",
       "33       1\n",
       "35       1\n",
       "31       1\n",
       "50       1\n",
       "61       1\n",
       "Name: night_zanzibar, dtype: int64"
      ]
     },
     "execution_count": 53,
     "metadata": {},
     "output_type": "execute_result"
    }
   ],
   "source": [
    "data.night_zanzibar.value_counts()"
   ]
  },
  {
   "cell_type": "code",
   "execution_count": 54,
   "id": "92035e08",
   "metadata": {
    "scrolled": true
   },
   "outputs": [
    {
     "data": {
      "text/plain": [
       "<AxesSubplot:xlabel='night_zanzibar', ylabel='count'>"
      ]
     },
     "execution_count": 54,
     "metadata": {},
     "output_type": "execute_result"
    },
    {
     "data": {
      "image/png": "[encoded data removed]",
      "text/plain": [
       "<Figure size 1080x360 with 1 Axes>"
      ]
     },
     "metadata": {
      "needs_background": "light"
     },
     "output_type": "display_data"
    }
   ],
   "source": [
    "plt.figure(figsize = (15,5))\n",
    "sns.countplot(data = data, x = 'night_zanzibar')"
   ]
  },
  {
   "cell_type": "markdown",
   "id": "9c68bbd9",
   "metadata": {},
   "source": [
    "### 15.Payment_Mode"
   ]
  },
  {
   "cell_type": "code",
   "execution_count": 55,
   "id": "d13cd4ae",
   "metadata": {},
   "outputs": [
    {
     "data": {
      "text/plain": [
       "Cash                 4172\n",
       "Credit Card           622\n",
       "Other                   8\n",
       "Travellers Cheque       7\n",
       "Name: payment_mode, dtype: int64"
      ]
     },
     "execution_count": 55,
     "metadata": {},
     "output_type": "execute_result"
    }
   ],
   "source": [
    "data.payment_mode.value_counts()"
   ]
  },
  {
   "cell_type": "code",
   "execution_count": 56,
   "id": "09346fe1",
   "metadata": {},
   "outputs": [
    {
     "data": {
      "text/plain": [
       "<AxesSubplot:xlabel='payment_mode', ylabel='count'>"
      ]
     },
     "execution_count": 56,
     "metadata": {},
     "output_type": "execute_result"
    },
    {
     "data": {
      "image/png": "[encoded data removed]",
      "text/plain": [
       "<Figure size 1080x432 with 1 Axes>"
      ]
     },
     "metadata": {
      "needs_background": "light"
     },
     "output_type": "display_data"
    }
   ],
   "source": [
    "plt.figure(figsize=(15,6))\n",
    "sns.countplot(data = data, x = 'payment_mode')"
   ]
  },
  {
   "cell_type": "markdown",
   "id": "93a30f33",
   "metadata": {},
   "source": [
    "### 16.First_Trip_TZ"
   ]
  },
  {
   "cell_type": "code",
   "execution_count": 57,
   "id": "5a0fde38",
   "metadata": {},
   "outputs": [
    {
     "data": {
      "text/plain": [
       "Yes    3243\n",
       "No     1566\n",
       "Name: first_trip_tz, dtype: int64"
      ]
     },
     "execution_count": 57,
     "metadata": {},
     "output_type": "execute_result"
    }
   ],
   "source": [
    "data.first_trip_tz.value_counts()"
   ]
  },
  {
   "cell_type": "code",
   "execution_count": 58,
   "id": "9a19cf5f",
   "metadata": {},
   "outputs": [
    {
     "data": {
      "text/plain": [
       "<AxesSubplot:xlabel='first_trip_tz', ylabel='count'>"
      ]
     },
     "execution_count": 58,
     "metadata": {},
     "output_type": "execute_result"
    },
    {
     "data": {
      "image/png": "[encoded data removed]",
      "text/plain": [
       "<Figure size 1080x432 with 1 Axes>"
      ]
     },
     "metadata": {
      "needs_background": "light"
     },
     "output_type": "display_data"
    }
   ],
   "source": [
    "plt.figure(figsize=(15,6))\n",
    "sns.countplot(data = data, x = 'first_trip_tz')"
   ]
  },
  {
   "cell_type": "markdown",
   "id": "8c503c10",
   "metadata": {},
   "source": [
    "### 17.Most_Impressing"
   ]
  },
  {
   "cell_type": "code",
   "execution_count": 59,
   "id": "e4a11075",
   "metadata": {},
   "outputs": [
    {
     "data": {
      "text/plain": [
       "Friendly People                         1854\n",
       " Wildlife                               1038\n",
       "No comments                              743\n",
       "Wonderful Country, Landscape, Nature     507\n",
       "Good service                             365\n",
       "Excellent Experience                     271\n",
       "Satisfies and Hope Come Back              31\n",
       "Name: most_impressing, dtype: int64"
      ]
     },
     "execution_count": 59,
     "metadata": {},
     "output_type": "execute_result"
    }
   ],
   "source": [
    "data.most_impressing.value_counts()"
   ]
  },
  {
   "cell_type": "code",
   "execution_count": 60,
   "id": "ff49f8e2",
   "metadata": {},
   "outputs": [
    {
     "data": {
      "text/plain": [
       "<AxesSubplot:xlabel='most_impressing', ylabel='count'>"
      ]
     },
     "execution_count": 60,
     "metadata": {},
     "output_type": "execute_result"
    },
    {
     "data": {
      "image/png": "[encoded data removed]",
      "text/plain": [
       "<Figure size 1296x576 with 1 Axes>"
      ]
     },
     "metadata": {
      "needs_background": "light"
     },
     "output_type": "display_data"
    }
   ],
   "source": [
    "plt.figure(figsize=(18,8))\n",
    "sns.countplot(data = data, x = 'most_impressing')"
   ]
  },
  {
   "cell_type": "markdown",
   "id": "b84e603f",
   "metadata": {},
   "source": [
    "### 18.Package_Transport_int"
   ]
  },
  {
   "cell_type": "code",
   "execution_count": 61,
   "id": "a42d4850",
   "metadata": {},
   "outputs": [
    {
     "data": {
      "text/plain": [
       "No     3357\n",
       "Yes    1452\n",
       "Name: package_transport_int, dtype: int64"
      ]
     },
     "execution_count": 61,
     "metadata": {},
     "output_type": "execute_result"
    }
   ],
   "source": [
    "data.package_transport_int.value_counts()"
   ]
  },
  {
   "cell_type": "code",
   "execution_count": 62,
   "id": "091fb416",
   "metadata": {},
   "outputs": [
    {
     "data": {
      "text/plain": [
       "<AxesSubplot:xlabel='package_transport_int', ylabel='count'>"
      ]
     },
     "execution_count": 62,
     "metadata": {},
     "output_type": "execute_result"
    },
    {
     "data": {
      "image/png": "[encoded data removed]",
      "text/plain": [
       "<Figure size 1296x576 with 1 Axes>"
      ]
     },
     "metadata": {
      "needs_background": "light"
     },
     "output_type": "display_data"
    }
   ],
   "source": [
    "plt.figure(figsize=(18,8))\n",
    "sns.countplot(data = data, x = 'package_transport_int')"
   ]
  },
  {
   "cell_type": "markdown",
   "id": "f2d556d4",
   "metadata": {},
   "source": [
    "### 19.Tour_Arrangement"
   ]
  },
  {
   "cell_type": "code",
   "execution_count": 63,
   "id": "4dd126ba",
   "metadata": {},
   "outputs": [
    {
     "data": {
      "text/plain": [
       "Independent     2570\n",
       "Package Tour    2239\n",
       "Name: tour_arrangement, dtype: int64"
      ]
     },
     "execution_count": 63,
     "metadata": {},
     "output_type": "execute_result"
    }
   ],
   "source": [
    "data.tour_arrangement.value_counts()"
   ]
  },
  {
   "cell_type": "code",
   "execution_count": 64,
   "id": "8e42e227",
   "metadata": {},
   "outputs": [
    {
     "data": {
      "text/plain": [
       "<AxesSubplot:xlabel='tour_arrangement', ylabel='count'>"
      ]
     },
     "execution_count": 64,
     "metadata": {},
     "output_type": "execute_result"
    },
    {
     "data": {
      "image/png": "[encoded data removed]",
      "text/plain": [
       "<Figure size 1296x576 with 1 Axes>"
      ]
     },
     "metadata": {
      "needs_background": "light"
     },
     "output_type": "display_data"
    }
   ],
   "source": [
    "plt.figure(figsize=(18,8))\n",
    "sns.countplot(data = data, x = 'tour_arrangement')"
   ]
  },
  {
   "cell_type": "markdown",
   "id": "252d4097",
   "metadata": {},
   "source": [
    "### 20.Package_Accomodation"
   ]
  },
  {
   "cell_type": "code",
   "execution_count": 65,
   "id": "3863e147",
   "metadata": {},
   "outputs": [
    {
     "data": {
      "text/plain": [
       "No     2602\n",
       "Yes    2207\n",
       "Name: package_accomodation, dtype: int64"
      ]
     },
     "execution_count": 65,
     "metadata": {},
     "output_type": "execute_result"
    }
   ],
   "source": [
    "data.package_accomodation.value_counts()"
   ]
  },
  {
   "cell_type": "code",
   "execution_count": 66,
   "id": "dabf1042",
   "metadata": {},
   "outputs": [
    {
     "data": {
      "text/plain": [
       "<AxesSubplot:xlabel='package_accomodation', ylabel='count'>"
      ]
     },
     "execution_count": 66,
     "metadata": {},
     "output_type": "execute_result"
    },
    {
     "data": {
      "image/png": "[encoded data removed]",
      "text/plain": [
       "<Figure size 1296x576 with 1 Axes>"
      ]
     },
     "metadata": {
      "needs_background": "light"
     },
     "output_type": "display_data"
    }
   ],
   "source": [
    "plt.figure(figsize=(18,8))\n",
    "sns.countplot(data = data, x = 'package_accomodation')"
   ]
  },
  {
   "cell_type": "code",
   "execution_count": null,
   "id": "b872bede",
   "metadata": {},
   "outputs": [],
   "source": []
  },
  {
   "cell_type": "markdown",
   "id": "9eeb89fd",
   "metadata": {},
   "source": [
    "### REPLACING NAME of AGE_GROUP FOR CONVENIENCE"
   ]
  },
  {
   "cell_type": "code",
   "execution_count": 67,
   "id": "cc93a72c",
   "metadata": {},
   "outputs": [],
   "source": [
    "data['age_group'] = data['age_group'].replace('25-44', 'young_age')\n",
    "data['age_group'] = data['age_group'].replace('45-64', 'middle_age')\n",
    "data['age_group'] = data['age_group'].replace('Jan-24', 'early_age')\n",
    "data['age_group'] = data['age_group'].replace('65+', 'old_age')"
   ]
  },
  {
   "cell_type": "code",
   "execution_count": 68,
   "id": "011d0c90",
   "metadata": {},
   "outputs": [
    {
     "data": {
      "text/plain": [
       "young_age     2487\n",
       "middle_age    1391\n",
       "early_age      624\n",
       "old_age        307\n",
       "Name: age_group, dtype: int64"
      ]
     },
     "execution_count": 68,
     "metadata": {},
     "output_type": "execute_result"
    }
   ],
   "source": [
    "data.age_group.value_counts()"
   ]
  },
  {
   "cell_type": "code",
   "execution_count": 69,
   "id": "95ab86f1",
   "metadata": {},
   "outputs": [
    {
     "data": {
      "text/html": [
       "<div>\n",
       "<style scoped>\n",
       "    .dataframe tbody tr th:only-of-type {\n",
       "        vertical-align: middle;\n",
       "    }\n",
       "\n",
       "    .dataframe tbody tr th {\n",
       "        vertical-align: top;\n",
       "    }\n",
       "\n",
       "    .dataframe thead th {\n",
       "        text-align: right;\n",
       "    }\n",
       "</style>\n",
       "<table border=\"1\" class=\"dataframe\">\n",
       "  <thead>\n",
       "    <tr style=\"text-align: right;\">\n",
       "      <th></th>\n",
       "      <th>ID</th>\n",
       "      <th>country</th>\n",
       "      <th>age_group</th>\n",
       "      <th>travel_with</th>\n",
       "      <th>total_female</th>\n",
       "      <th>total_male</th>\n",
       "      <th>purpose</th>\n",
       "      <th>main_activity</th>\n",
       "      <th>info_source</th>\n",
       "      <th>tour_arrangement</th>\n",
       "      <th>package_transport_int</th>\n",
       "      <th>package_accomodation</th>\n",
       "      <th>package_food</th>\n",
       "      <th>package_transport_tz</th>\n",
       "      <th>package_sightseeing</th>\n",
       "      <th>package_guided_tour</th>\n",
       "      <th>package_insurance</th>\n",
       "      <th>night_mainland</th>\n",
       "      <th>night_zanzibar</th>\n",
       "      <th>payment_mode</th>\n",
       "      <th>first_trip_tz</th>\n",
       "      <th>most_impressing</th>\n",
       "      <th>total_cost</th>\n",
       "    </tr>\n",
       "  </thead>\n",
       "  <tbody>\n",
       "    <tr>\n",
       "      <th>0</th>\n",
       "      <td>tour_0</td>\n",
       "      <td>SWIZERLAND</td>\n",
       "      <td>middle_age</td>\n",
       "      <td>Friends/Relatives</td>\n",
       "      <td>1.0</td>\n",
       "      <td>1.0</td>\n",
       "      <td>Leisure and Holidays</td>\n",
       "      <td>Wildlife tourism</td>\n",
       "      <td>Friends, relatives</td>\n",
       "      <td>Independent</td>\n",
       "      <td>No</td>\n",
       "      <td>No</td>\n",
       "      <td>No</td>\n",
       "      <td>No</td>\n",
       "      <td>No</td>\n",
       "      <td>No</td>\n",
       "      <td>No</td>\n",
       "      <td>13</td>\n",
       "      <td>0</td>\n",
       "      <td>Cash</td>\n",
       "      <td>No</td>\n",
       "      <td>Friendly People</td>\n",
       "      <td>674602.5</td>\n",
       "    </tr>\n",
       "    <tr>\n",
       "      <th>1</th>\n",
       "      <td>tour_10</td>\n",
       "      <td>UNITED KINGDOM</td>\n",
       "      <td>young_age</td>\n",
       "      <td>Alone</td>\n",
       "      <td>1.0</td>\n",
       "      <td>0.0</td>\n",
       "      <td>Leisure and Holidays</td>\n",
       "      <td>Cultural tourism</td>\n",
       "      <td>others</td>\n",
       "      <td>Independent</td>\n",
       "      <td>No</td>\n",
       "      <td>No</td>\n",
       "      <td>No</td>\n",
       "      <td>No</td>\n",
       "      <td>No</td>\n",
       "      <td>No</td>\n",
       "      <td>No</td>\n",
       "      <td>14</td>\n",
       "      <td>7</td>\n",
       "      <td>Cash</td>\n",
       "      <td>Yes</td>\n",
       "      <td>Wonderful Country, Landscape, Nature</td>\n",
       "      <td>3214906.5</td>\n",
       "    </tr>\n",
       "    <tr>\n",
       "      <th>2</th>\n",
       "      <td>tour_1000</td>\n",
       "      <td>UNITED KINGDOM</td>\n",
       "      <td>young_age</td>\n",
       "      <td>Alone</td>\n",
       "      <td>0.0</td>\n",
       "      <td>1.0</td>\n",
       "      <td>Visiting Friends and Relatives</td>\n",
       "      <td>Cultural tourism</td>\n",
       "      <td>Friends, relatives</td>\n",
       "      <td>Independent</td>\n",
       "      <td>No</td>\n",
       "      <td>No</td>\n",
       "      <td>No</td>\n",
       "      <td>No</td>\n",
       "      <td>No</td>\n",
       "      <td>No</td>\n",
       "      <td>No</td>\n",
       "      <td>1</td>\n",
       "      <td>31</td>\n",
       "      <td>Cash</td>\n",
       "      <td>No</td>\n",
       "      <td>Excellent Experience</td>\n",
       "      <td>3315000.0</td>\n",
       "    </tr>\n",
       "    <tr>\n",
       "      <th>3</th>\n",
       "      <td>tour_1002</td>\n",
       "      <td>UNITED KINGDOM</td>\n",
       "      <td>young_age</td>\n",
       "      <td>Spouse</td>\n",
       "      <td>1.0</td>\n",
       "      <td>1.0</td>\n",
       "      <td>Leisure and Holidays</td>\n",
       "      <td>Wildlife tourism</td>\n",
       "      <td>Travel, agent, tour operator</td>\n",
       "      <td>Package Tour</td>\n",
       "      <td>No</td>\n",
       "      <td>Yes</td>\n",
       "      <td>Yes</td>\n",
       "      <td>Yes</td>\n",
       "      <td>Yes</td>\n",
       "      <td>Yes</td>\n",
       "      <td>No</td>\n",
       "      <td>11</td>\n",
       "      <td>0</td>\n",
       "      <td>Cash</td>\n",
       "      <td>Yes</td>\n",
       "      <td>Friendly People</td>\n",
       "      <td>7790250.0</td>\n",
       "    </tr>\n",
       "    <tr>\n",
       "      <th>4</th>\n",
       "      <td>tour_1004</td>\n",
       "      <td>CHINA</td>\n",
       "      <td>early_age</td>\n",
       "      <td>Alone</td>\n",
       "      <td>1.0</td>\n",
       "      <td>0.0</td>\n",
       "      <td>Leisure and Holidays</td>\n",
       "      <td>Wildlife tourism</td>\n",
       "      <td>Travel, agent, tour operator</td>\n",
       "      <td>Independent</td>\n",
       "      <td>No</td>\n",
       "      <td>No</td>\n",
       "      <td>No</td>\n",
       "      <td>No</td>\n",
       "      <td>No</td>\n",
       "      <td>No</td>\n",
       "      <td>No</td>\n",
       "      <td>7</td>\n",
       "      <td>4</td>\n",
       "      <td>Cash</td>\n",
       "      <td>Yes</td>\n",
       "      <td>No comments</td>\n",
       "      <td>1657500.0</td>\n",
       "    </tr>\n",
       "    <tr>\n",
       "      <th>5</th>\n",
       "      <td>tour_1005</td>\n",
       "      <td>UNITED KINGDOM</td>\n",
       "      <td>young_age</td>\n",
       "      <td>Alone</td>\n",
       "      <td>0.0</td>\n",
       "      <td>1.0</td>\n",
       "      <td>Leisure and Holidays</td>\n",
       "      <td>Wildlife tourism</td>\n",
       "      <td>Travel, agent, tour operator</td>\n",
       "      <td>Package Tour</td>\n",
       "      <td>No</td>\n",
       "      <td>No</td>\n",
       "      <td>No</td>\n",
       "      <td>No</td>\n",
       "      <td>Yes</td>\n",
       "      <td>Yes</td>\n",
       "      <td>No</td>\n",
       "      <td>9</td>\n",
       "      <td>3</td>\n",
       "      <td>Cash</td>\n",
       "      <td>Yes</td>\n",
       "      <td>Wildlife</td>\n",
       "      <td>120950.0</td>\n",
       "    </tr>\n",
       "    <tr>\n",
       "      <th>6</th>\n",
       "      <td>tour_1007</td>\n",
       "      <td>SOUTH AFRICA</td>\n",
       "      <td>middle_age</td>\n",
       "      <td>Alone</td>\n",
       "      <td>0.0</td>\n",
       "      <td>1.0</td>\n",
       "      <td>Business</td>\n",
       "      <td>Mountain climbing</td>\n",
       "      <td>Friends, relatives</td>\n",
       "      <td>Independent</td>\n",
       "      <td>No</td>\n",
       "      <td>No</td>\n",
       "      <td>No</td>\n",
       "      <td>No</td>\n",
       "      <td>No</td>\n",
       "      <td>No</td>\n",
       "      <td>No</td>\n",
       "      <td>9</td>\n",
       "      <td>0</td>\n",
       "      <td>Cash</td>\n",
       "      <td>Yes</td>\n",
       "      <td>Friendly People</td>\n",
       "      <td>466140.0</td>\n",
       "    </tr>\n",
       "    <tr>\n",
       "      <th>7</th>\n",
       "      <td>tour_1008</td>\n",
       "      <td>UNITED STATES OF AMERICA</td>\n",
       "      <td>middle_age</td>\n",
       "      <td>Friends/Relatives</td>\n",
       "      <td>1.0</td>\n",
       "      <td>1.0</td>\n",
       "      <td>Leisure and Holidays</td>\n",
       "      <td>Wildlife tourism</td>\n",
       "      <td>Travel, agent, tour operator</td>\n",
       "      <td>Package Tour</td>\n",
       "      <td>Yes</td>\n",
       "      <td>Yes</td>\n",
       "      <td>Yes</td>\n",
       "      <td>Yes</td>\n",
       "      <td>Yes</td>\n",
       "      <td>Yes</td>\n",
       "      <td>Yes</td>\n",
       "      <td>10</td>\n",
       "      <td>3</td>\n",
       "      <td>Cash</td>\n",
       "      <td>Yes</td>\n",
       "      <td>Friendly People</td>\n",
       "      <td>3480750.0</td>\n",
       "    </tr>\n",
       "    <tr>\n",
       "      <th>8</th>\n",
       "      <td>tour_101</td>\n",
       "      <td>NIGERIA</td>\n",
       "      <td>young_age</td>\n",
       "      <td>Alone</td>\n",
       "      <td>0.0</td>\n",
       "      <td>1.0</td>\n",
       "      <td>Leisure and Holidays</td>\n",
       "      <td>Cultural tourism</td>\n",
       "      <td>Travel, agent, tour operator</td>\n",
       "      <td>Independent</td>\n",
       "      <td>No</td>\n",
       "      <td>No</td>\n",
       "      <td>No</td>\n",
       "      <td>No</td>\n",
       "      <td>No</td>\n",
       "      <td>No</td>\n",
       "      <td>No</td>\n",
       "      <td>4</td>\n",
       "      <td>0</td>\n",
       "      <td>Cash</td>\n",
       "      <td>Yes</td>\n",
       "      <td>Friendly People</td>\n",
       "      <td>994500.0</td>\n",
       "    </tr>\n",
       "    <tr>\n",
       "      <th>9</th>\n",
       "      <td>tour_1011</td>\n",
       "      <td>INDIA</td>\n",
       "      <td>young_age</td>\n",
       "      <td>Alone</td>\n",
       "      <td>1.0</td>\n",
       "      <td>0.0</td>\n",
       "      <td>Business</td>\n",
       "      <td>Wildlife tourism</td>\n",
       "      <td>Travel, agent, tour operator</td>\n",
       "      <td>Independent</td>\n",
       "      <td>No</td>\n",
       "      <td>No</td>\n",
       "      <td>No</td>\n",
       "      <td>No</td>\n",
       "      <td>No</td>\n",
       "      <td>No</td>\n",
       "      <td>No</td>\n",
       "      <td>5</td>\n",
       "      <td>0</td>\n",
       "      <td>Credit Card</td>\n",
       "      <td>Yes</td>\n",
       "      <td>Friendly People</td>\n",
       "      <td>2486250.0</td>\n",
       "    </tr>\n",
       "  </tbody>\n",
       "</table>\n",
       "</div>"
      ],
      "text/plain": [
       "          ID                   country   age_group        travel_with  \\\n",
       "0     tour_0                SWIZERLAND  middle_age  Friends/Relatives   \n",
       "1    tour_10            UNITED KINGDOM   young_age              Alone   \n",
       "2  tour_1000            UNITED KINGDOM   young_age              Alone   \n",
       "3  tour_1002            UNITED KINGDOM   young_age             Spouse   \n",
       "4  tour_1004                     CHINA   early_age              Alone   \n",
       "5  tour_1005            UNITED KINGDOM   young_age              Alone   \n",
       "6  tour_1007              SOUTH AFRICA  middle_age              Alone   \n",
       "7  tour_1008  UNITED STATES OF AMERICA  middle_age  Friends/Relatives   \n",
       "8   tour_101                   NIGERIA   young_age              Alone   \n",
       "9  tour_1011                     INDIA   young_age              Alone   \n",
       "\n",
       "   total_female  total_male                         purpose  \\\n",
       "0           1.0         1.0            Leisure and Holidays   \n",
       "1           1.0         0.0            Leisure and Holidays   \n",
       "2           0.0         1.0  Visiting Friends and Relatives   \n",
       "3           1.0         1.0            Leisure and Holidays   \n",
       "4           1.0         0.0            Leisure and Holidays   \n",
       "5           0.0         1.0            Leisure and Holidays   \n",
       "6           0.0         1.0                        Business   \n",
       "7           1.0         1.0            Leisure and Holidays   \n",
       "8           0.0         1.0            Leisure and Holidays   \n",
       "9           1.0         0.0                        Business   \n",
       "\n",
       "       main_activity                   info_source tour_arrangement  \\\n",
       "0   Wildlife tourism            Friends, relatives      Independent   \n",
       "1   Cultural tourism                        others      Independent   \n",
       "2   Cultural tourism            Friends, relatives      Independent   \n",
       "3   Wildlife tourism  Travel, agent, tour operator     Package Tour   \n",
       "4   Wildlife tourism  Travel, agent, tour operator      Independent   \n",
       "5   Wildlife tourism  Travel, agent, tour operator     Package Tour   \n",
       "6  Mountain climbing            Friends, relatives      Independent   \n",
       "7   Wildlife tourism  Travel, agent, tour operator     Package Tour   \n",
       "8   Cultural tourism  Travel, agent, tour operator      Independent   \n",
       "9   Wildlife tourism  Travel, agent, tour operator      Independent   \n",
       "\n",
       "  package_transport_int package_accomodation package_food  \\\n",
       "0                    No                   No           No   \n",
       "1                    No                   No           No   \n",
       "2                    No                   No           No   \n",
       "3                    No                  Yes          Yes   \n",
       "4                    No                   No           No   \n",
       "5                    No                   No           No   \n",
       "6                    No                   No           No   \n",
       "7                   Yes                  Yes          Yes   \n",
       "8                    No                   No           No   \n",
       "9                    No                   No           No   \n",
       "\n",
       "  package_transport_tz package_sightseeing package_guided_tour  \\\n",
       "0                   No                  No                  No   \n",
       "1                   No                  No                  No   \n",
       "2                   No                  No                  No   \n",
       "3                  Yes                 Yes                 Yes   \n",
       "4                   No                  No                  No   \n",
       "5                   No                 Yes                 Yes   \n",
       "6                   No                  No                  No   \n",
       "7                  Yes                 Yes                 Yes   \n",
       "8                   No                  No                  No   \n",
       "9                   No                  No                  No   \n",
       "\n",
       "  package_insurance  night_mainland  night_zanzibar payment_mode  \\\n",
       "0                No              13               0         Cash   \n",
       "1                No              14               7         Cash   \n",
       "2                No               1              31         Cash   \n",
       "3                No              11               0         Cash   \n",
       "4                No               7               4         Cash   \n",
       "5                No               9               3         Cash   \n",
       "6                No               9               0         Cash   \n",
       "7               Yes              10               3         Cash   \n",
       "8                No               4               0         Cash   \n",
       "9                No               5               0  Credit Card   \n",
       "\n",
       "  first_trip_tz                       most_impressing  total_cost  \n",
       "0            No                       Friendly People    674602.5  \n",
       "1           Yes  Wonderful Country, Landscape, Nature   3214906.5  \n",
       "2            No                  Excellent Experience   3315000.0  \n",
       "3           Yes                       Friendly People   7790250.0  \n",
       "4           Yes                           No comments   1657500.0  \n",
       "5           Yes                              Wildlife    120950.0  \n",
       "6           Yes                       Friendly People    466140.0  \n",
       "7           Yes                       Friendly People   3480750.0  \n",
       "8           Yes                       Friendly People    994500.0  \n",
       "9           Yes                       Friendly People   2486250.0  "
      ]
     },
     "execution_count": 69,
     "metadata": {},
     "output_type": "execute_result"
    }
   ],
   "source": [
    "data.head(10)"
   ]
  },
  {
   "cell_type": "code",
   "execution_count": 70,
   "id": "5e223b17",
   "metadata": {},
   "outputs": [
    {
     "name": "stdout",
     "output_type": "stream",
     "text": [
      "<class 'pandas.core.frame.DataFrame'>\n",
      "RangeIndex: 4809 entries, 0 to 4808\n",
      "Data columns (total 23 columns):\n",
      " #   Column                 Non-Null Count  Dtype  \n",
      "---  ------                 --------------  -----  \n",
      " 0   ID                     4809 non-null   object \n",
      " 1   country                4809 non-null   object \n",
      " 2   age_group              4809 non-null   object \n",
      " 3   travel_with            4809 non-null   object \n",
      " 4   total_female           4809 non-null   float64\n",
      " 5   total_male             4809 non-null   float64\n",
      " 6   purpose                4809 non-null   object \n",
      " 7   main_activity          4809 non-null   object \n",
      " 8   info_source            4809 non-null   object \n",
      " 9   tour_arrangement       4809 non-null   object \n",
      " 10  package_transport_int  4809 non-null   object \n",
      " 11  package_accomodation   4809 non-null   object \n",
      " 12  package_food           4809 non-null   object \n",
      " 13  package_transport_tz   4809 non-null   object \n",
      " 14  package_sightseeing    4809 non-null   object \n",
      " 15  package_guided_tour    4809 non-null   object \n",
      " 16  package_insurance      4809 non-null   object \n",
      " 17  night_mainland         4809 non-null   int64  \n",
      " 18  night_zanzibar         4809 non-null   int64  \n",
      " 19  payment_mode           4809 non-null   object \n",
      " 20  first_trip_tz          4809 non-null   object \n",
      " 21  most_impressing        4809 non-null   object \n",
      " 22  total_cost             4809 non-null   float64\n",
      "dtypes: float64(3), int64(2), object(18)\n",
      "memory usage: 864.2+ KB\n"
     ]
    }
   ],
   "source": [
    "data.info()"
   ]
  },
  {
   "cell_type": "markdown",
   "id": "42fcb540",
   "metadata": {},
   "source": [
    "### STATISTICAL TEST"
   ]
  },
  {
   "cell_type": "markdown",
   "id": "2935298b",
   "metadata": {},
   "source": [
    "### PERFORMING \"ANNOVA\" AND \"TUKEY- HSD\" ON CATEGORICAL v/s CONTINUOUS FEATURES"
   ]
  },
  {
   "cell_type": "code",
   "execution_count": 71,
   "id": "1720a04d",
   "metadata": {},
   "outputs": [],
   "source": [
    "import statsmodels.api as sm\n",
    "from statsmodels.formula.api import ols"
   ]
  },
  {
   "cell_type": "code",
   "execution_count": 72,
   "id": "07a7f005",
   "metadata": {},
   "outputs": [],
   "source": [
    "from statsmodels.stats.multicomp import pairwise_tukeyhsd"
   ]
  },
  {
   "cell_type": "code",
   "execution_count": null,
   "id": "61a77dd3",
   "metadata": {},
   "outputs": [],
   "source": []
  },
  {
   "cell_type": "markdown",
   "id": "6caaf616",
   "metadata": {},
   "source": [
    "### 1.AGE_GROUP"
   ]
  },
  {
   "cell_type": "code",
   "execution_count": 75,
   "id": "927ac0e4",
   "metadata": {},
   "outputs": [
    {
     "name": "stdout",
     "output_type": "stream",
     "text": [
      "                 sum_sq      df          F  PR(>F)\n",
      "age_group  2.833165e+16     3.0  185.22693     0.0\n",
      "Residual   2.449852e+17  4805.0        NaN     NaN\n"
     ]
    }
   ],
   "source": [
    "annova=ols('total_cost ~ age_group',data=data).fit()\n",
    "an=sm.stats.anova_lm(annova,typ=2)\n",
    "print(an.round(decimals=5))"
   ]
  },
  {
   "cell_type": "code",
   "execution_count": 76,
   "id": "5026052d",
   "metadata": {},
   "outputs": [
    {
     "name": "stdout",
     "output_type": "stream",
     "text": [
      "             Multiple Comparison of Means - Tukey HSD, FWER=0.05             \n",
      "=============================================================================\n",
      "  group1     group2      meandiff   p-adj      lower         upper     reject\n",
      "-----------------------------------------------------------------------------\n",
      " early_age middle_age  4435173.7817    0.0  3551023.0337  5319324.5297   True\n",
      " early_age    old_age  8866575.5614    0.0  7587317.9454 10145833.1774   True\n",
      " early_age  young_age   818984.7094 0.0511     -2622.935  1640592.3538  False\n",
      "middle_age    old_age  4431401.7798    0.0  3274275.5361  5588528.0234   True\n",
      "middle_age  young_age -3616189.0723    0.0 -4230583.2593 -3001794.8853   True\n",
      "   old_age  young_age  -8047590.852    0.0 -9157661.8948 -6937519.8093   True\n",
      "-----------------------------------------------------------------------------\n"
     ]
    }
   ],
   "source": [
    "tukey = pairwise_tukeyhsd(data.total_cost,data.age_group,alpha=0.05)\n",
    "print (tukey)"
   ]
  },
  {
   "cell_type": "code",
   "execution_count": 77,
   "id": "0b6ad42e",
   "metadata": {},
   "outputs": [],
   "source": [
    "data['age_group'].replace({'young_age': 'early_age'},inplace = True)"
   ]
  },
  {
   "cell_type": "code",
   "execution_count": 78,
   "id": "2cb39e10",
   "metadata": {},
   "outputs": [
    {
     "name": "stdout",
     "output_type": "stream",
     "text": [
      "           Multiple Comparison of Means - Tukey HSD, FWER=0.05           \n",
      "=========================================================================\n",
      "  group1     group2     meandiff   p-adj    lower        upper     reject\n",
      "-------------------------------------------------------------------------\n",
      " early_age middle_age 3780459.8722   0.0 3240202.6984  4320717.046   True\n",
      " early_age    old_age  8211861.652   0.0 7209837.4678 9213885.8362   True\n",
      "middle_age    old_age 4431401.7798   0.0 3375198.6311 5487604.9284   True\n",
      "-------------------------------------------------------------------------\n"
     ]
    }
   ],
   "source": [
    "tukey = pairwise_tukeyhsd(data.total_cost,data.age_group,alpha=0.05)\n",
    "print (tukey)"
   ]
  },
  {
   "cell_type": "markdown",
   "id": "9197ad38",
   "metadata": {},
   "source": [
    "### 2.travel_with"
   ]
  },
  {
   "cell_type": "code",
   "execution_count": 79,
   "id": "74d2e2e7",
   "metadata": {},
   "outputs": [
    {
     "name": "stdout",
     "output_type": "stream",
     "text": [
      "                   sum_sq      df         F  PR(>F)\n",
      "travel_with  6.199290e+16     4.0  352.3192     0.0\n",
      "Residual     2.113239e+17  4804.0       NaN     NaN\n"
     ]
    }
   ],
   "source": [
    "annova=ols('total_cost ~ travel_with',data=data).fit()\n",
    "an=sm.stats.anova_lm(annova,typ=2)\n",
    "print(an.round(decimals=5))"
   ]
  },
  {
   "cell_type": "code",
   "execution_count": 80,
   "id": "80e81973",
   "metadata": {},
   "outputs": [
    {
     "name": "stdout",
     "output_type": "stream",
     "text": [
      "                     Multiple Comparison of Means - Tukey HSD, FWER=0.05                     \n",
      "=============================================================================================\n",
      "      group1             group2          meandiff   p-adj      lower         upper     reject\n",
      "---------------------------------------------------------------------------------------------\n",
      "            Alone            Children  5627790.5272    0.0  4158208.1261  7097372.9283   True\n",
      "            Alone   Friends/Relatives  4670883.6186    0.0  3961180.1348  5380587.1023   True\n",
      "            Alone              Spouse  7139650.1642    0.0  6458753.4107  7820546.9178   True\n",
      "            Alone Spouse and Children 10432448.4637    0.0  9418643.2097 11446253.7177   True\n",
      "         Children   Friends/Relatives  -956906.9086 0.4403 -2502214.0334   588400.2161  False\n",
      "         Children              Spouse   1511859.637 0.0552   -20431.2831  3044150.5572  False\n",
      "         Children Spouse and Children  4804657.9365    0.0  3098171.4385  6511144.4345   True\n",
      "Friends/Relatives              Spouse  2468766.5457    0.0  1636948.0167  3300585.0747   True\n",
      "Friends/Relatives Spouse and Children  5761564.8451    0.0  4640804.9381  6882324.7521   True\n",
      "           Spouse Spouse and Children  3292798.2995    0.0   2190054.393  4395542.2059   True\n",
      "---------------------------------------------------------------------------------------------\n"
     ]
    }
   ],
   "source": [
    "tukey = pairwise_tukeyhsd(data.total_cost,data.travel_with,alpha=0.05)\n",
    "print (tukey)"
   ]
  },
  {
   "cell_type": "code",
   "execution_count": 81,
   "id": "301df2c9",
   "metadata": {},
   "outputs": [],
   "source": [
    "data['travel_with'].replace({'Friends/Relatives': 'Children'},inplace = True)\n",
    "data['travel_with'].replace({'Spouse': 'Children'},inplace = True)"
   ]
  },
  {
   "cell_type": "code",
   "execution_count": 82,
   "id": "a34f4e24",
   "metadata": {},
   "outputs": [
    {
     "name": "stdout",
     "output_type": "stream",
     "text": [
      "               Multiple Comparison of Means - Tukey HSD, FWER=0.05                \n",
      "==================================================================================\n",
      " group1         group2          meandiff   p-adj    lower         upper     reject\n",
      "----------------------------------------------------------------------------------\n",
      "   Alone            Children  5949316.8376   0.0 5478359.6083  6420274.0668   True\n",
      "   Alone Spouse and Children 10432448.4637   0.0 9555668.0653 11309228.8621   True\n",
      "Children Spouse and Children  4483131.6261   0.0 3597368.6371  5368894.6152   True\n",
      "----------------------------------------------------------------------------------\n"
     ]
    }
   ],
   "source": [
    "tukey = pairwise_tukeyhsd(data.total_cost,data.travel_with,alpha=0.05)\n",
    "print (tukey)"
   ]
  },
  {
   "cell_type": "markdown",
   "id": "42316503",
   "metadata": {},
   "source": [
    "### 3.total_female"
   ]
  },
  {
   "cell_type": "code",
   "execution_count": 83,
   "id": "55d3c1a0",
   "metadata": {},
   "outputs": [
    {
     "name": "stdout",
     "output_type": "stream",
     "text": [
      "                    sum_sq      df          F  PR(>F)\n",
      "total_female  2.460094e+16     1.0  475.46907     0.0\n",
      "Residual      2.487159e+17  4807.0        NaN     NaN\n"
     ]
    }
   ],
   "source": [
    "annova=ols('total_cost ~ total_female',data=data).fit()\n",
    "an=sm.stats.anova_lm(annova,typ=2)\n",
    "print(an.round(decimals=5))"
   ]
  },
  {
   "cell_type": "code",
   "execution_count": 84,
   "id": "e3785b5a",
   "metadata": {},
   "outputs": [
    {
     "name": "stdout",
     "output_type": "stream",
     "text": [
      "         Multiple Comparison of Means - Tukey HSD, FWER=0.05          \n",
      "======================================================================\n",
      "group1 group2    meandiff   p-adj      lower          upper     reject\n",
      "----------------------------------------------------------------------\n",
      "   0.0    1.0  4736128.0005   -0.0   3999035.8993  5473220.1017   True\n",
      "   0.0    2.0  7785952.7434   -0.0   6569036.7395  9002868.7474   True\n",
      "   0.0    3.0 10887924.4339   -0.0   8875705.8576 12900143.0102   True\n",
      "   0.0    4.0  8980680.3139   -0.0   5518013.9813 12443346.6464   True\n",
      "   0.0    5.0  8966572.0693    0.0   4298428.5829 13634715.5557   True\n",
      "   0.0    6.0 10201325.9117    0.0   4192592.8341 16210058.9893   True\n",
      "   0.0    7.0  8087050.5117 0.0161    738818.7391 15435282.2843   True\n",
      "   0.0    9.0 10694306.9367 0.1077   -903489.2599 22292103.1333  False\n",
      "   0.0   10.0 11260307.5617 0.0674   -337488.6349 22858103.7583  False\n",
      "   0.0   11.0  3530168.3117 0.9998  -9857810.2169 16918146.8403  False\n",
      "   0.0   12.0 13647663.8117 0.0407    259685.2831 27035642.3403   True\n",
      "   0.0   15.0 20653363.8117 0.1419  -2521422.2454 43828149.8688  False\n",
      "   0.0   49.0 20653363.8117 0.1419  -2521422.2454 43828149.8688  False\n",
      "   1.0    2.0   3049824.743   -0.0   1874669.0628  4224980.4232   True\n",
      "   1.0    3.0  6151796.4334   -0.0   4164554.6487  8139038.2181   True\n",
      "   1.0    4.0  4244552.3134 0.0029    796340.5388   7692764.088   True\n",
      "   1.0    5.0  4230444.0688 0.1221   -426987.6185  8887875.7561  False\n",
      "   1.0    6.0  5465197.9112 0.1194   -535217.0336  11465612.856  False\n",
      "   1.0    7.0  3350922.5112  0.962  -3990508.9906  10692354.013  False\n",
      "   1.0    9.0  5958178.9362 0.9076    -5635309.88 17551667.7524  False\n",
      "   1.0   10.0  6524179.5612 0.8333   -5069309.255 18117668.3774  False\n",
      "   1.0   11.0 -1205959.6888    1.0 -14590206.9741 12178287.5965  False\n",
      "   1.0   12.0  8911535.8112 0.6044  -4472711.4741 22295783.0965  False\n",
      "   1.0   15.0 15917235.8112 0.5514  -7255394.9222 39089866.5446  False\n",
      "   1.0   49.0 15917235.8112 0.5514  -7255394.9222 39089866.5446  False\n",
      "   2.0    3.0  3101971.6905 0.0002    891381.3381  5312562.0428   True\n",
      "   2.0    4.0  1194727.5704 0.9979  -2386856.4698  4776311.6107  False\n",
      "   2.0    5.0  1180619.3259 0.9999  -3576401.7711  5937640.4228  False\n",
      "   2.0    6.0  2415373.1683 0.9884  -3662665.9321  8493412.2686  False\n",
      "   2.0    7.0   301097.7683    1.0  -7103913.7976  7706109.3341  False\n",
      "   2.0    9.0  2908354.1933 0.9999  -8725499.9715  14542208.358  False\n",
      "   2.0   10.0  3474354.8183 0.9993  -8159499.3465  15108208.983  False\n",
      "   2.0   11.0 -4255784.4317 0.9987  -17675011.503  9163442.6395  False\n",
      "   2.0   12.0  5861711.0683 0.9735   -7557516.003 19280938.1395  False\n",
      "   2.0   15.0 12867411.0683 0.8471  -10325441.169 36060263.3055  False\n",
      "   2.0   49.0 12867411.0683 0.8471  -10325441.169 36060263.3055  False\n",
      "   3.0    4.0   -1907244.12 0.9382  -5831002.9398  2016514.6997  False\n",
      "   3.0    5.0 -1921352.3646 0.9918  -6941052.4308  3098347.7016  False\n",
      "   3.0    6.0  -686598.5222    1.0  -6972352.1241  5599155.0796  False\n",
      "   3.0    7.0 -2800873.9222 0.9941 -10377306.8117  4775558.9673  False\n",
      "   3.0    9.0  -193617.4972    1.0 -11937326.5265  11550091.532  False\n",
      "   3.0   10.0   372383.1278    1.0 -11371325.9015  12116092.157  False\n",
      "   3.0   11.0 -7357756.1222 0.8642 -20872333.2235  6156820.9791  False\n",
      "   3.0   12.0  2759739.3778    1.0 -10754837.7235 16274316.4791  False\n",
      "   3.0   15.0  9765439.3778  0.981 -13482711.8162 33013590.5718  False\n",
      "   3.0   49.0  9765439.3778  0.981 -13482711.8162 33013590.5718  False\n",
      "   4.0    5.0   -14108.2446    1.0  -5770706.4837  5742489.9945  False\n",
      "   4.0    6.0  1220645.5978    1.0  -5667876.2229  8109167.4186  False\n",
      "   4.0    7.0  -893629.8022    1.0  -8977154.3961  7189894.7917  False\n",
      "   4.0    9.0  1713626.6228    1.0 -10363448.2008 13790701.4464  False\n",
      "   4.0   10.0  2279627.2478    1.0  -9797447.5758 14356702.0714  False\n",
      "   4.0   11.0 -5450512.0022 0.9891 -19255758.4237  8354734.4194  False\n",
      "   4.0   12.0  4666983.4978 0.9975  -9138262.9237 18472229.9194  False\n",
      "   4.0   15.0 11672683.4978 0.9256 -11745633.4458 35091000.4414  False\n",
      "   4.0   49.0 11672683.4978 0.9256 -11745633.4458 35091000.4414  False\n",
      "   5.0    6.0  1234753.8424    1.0  -6331833.1262   8801340.811  False\n",
      "   5.0    7.0  -879521.5576    1.0  -9548135.9417  7789092.8265  False\n",
      "   5.0    9.0  1727734.8674    1.0 -10748532.2736 14204002.0084  False\n",
      "   5.0   10.0  2293735.4924    1.0 -10182531.6486 14770002.6334  False\n",
      "   5.0   11.0 -5436403.7576 0.9915 -19592191.7695  8719384.2543  False\n",
      "   5.0   12.0  4681091.7424  0.998  -9474696.2695 18836879.7543  False\n",
      "   5.0   15.0 11686791.7424 0.9296 -11939868.4945 35313451.9793  False\n",
      "   5.0   49.0 11686791.7424 0.9296 -11939868.4945 35313451.9793  False\n",
      "   6.0    7.0    -2114275.4    1.0 -11572509.1108  7343958.3108  False\n",
      "   6.0    9.0    492981.025    1.0 -12544294.4328 13530256.4828  False\n",
      "   6.0   10.0    1058981.65    1.0 -11978293.8078 14096257.1078  False\n",
      "   6.0   11.0    -6671157.6 0.9628 -21323790.2586  7981475.0586  False\n",
      "   6.0   12.0     3446337.9    1.0 -11206294.7586 18098970.5586  False\n",
      "   6.0   15.0    10452037.9 0.9735 -13475611.0346 34379686.8346  False\n",
      "   6.0   49.0    10452037.9 0.9735 -13475611.0346 34379686.8346  False\n",
      "   7.0    9.0   2607256.425    1.0 -11099026.3806 16313539.2306  False\n",
      "   7.0   10.0    3173257.05    1.0 -10533025.7556 16879539.8556  False\n",
      "   7.0   11.0    -4556882.2 0.9993  -19807825.804  10694061.404  False\n",
      "   7.0   12.0     5560613.3 0.9948   -9690330.304  20811556.904  False\n",
      "   7.0   15.0    12566313.3 0.9035 -11732329.0597 36864955.6597  False\n",
      "   7.0   49.0    12566313.3 0.9035 -11732329.0597 36864955.6597  False\n",
      "   9.0   10.0    566000.625    1.0 -15816140.7119 16948141.9619  False\n",
      "   9.0   11.0  -7164138.625 0.9863 -24858873.6399 10530596.3899  False\n",
      "   9.0   12.0   2953356.875    1.0 -14741378.1399 20648091.8899  False\n",
      "   9.0   15.0   9959056.875 0.9914 -15943382.9128 35861496.6628  False\n",
      "   9.0   49.0   9959056.875 0.9914 -15943382.9128 35861496.6628  False\n",
      "  10.0   11.0   -7730139.25 0.9735 -25424874.2649  9964595.7649  False\n",
      "  10.0   12.0    2387356.25    1.0 -15307378.7649 20082091.2649  False\n",
      "  10.0   15.0    9393056.25 0.9951 -16509383.5378 35295496.0378  False\n",
      "  10.0   49.0    9393056.25 0.9951 -16509383.5378 35295496.0378  False\n",
      "  11.0   12.0    10117495.5  0.879  -8798971.9216 29033962.9216  False\n",
      "  11.0   15.0    17123195.5 0.6678  -9628729.2798 43875120.2798  False\n",
      "  11.0   49.0    17123195.5 0.6678  -9628729.2798 43875120.2798  False\n",
      "  12.0   15.0     7005700.0 0.9998 -19746224.7798 33757624.7798  False\n",
      "  12.0   49.0     7005700.0 0.9998 -19746224.7798 33757624.7798  False\n",
      "  15.0   49.0           0.0    1.0 -32764282.6739 32764282.6739  False\n",
      "----------------------------------------------------------------------\n"
     ]
    }
   ],
   "source": [
    "tukey = pairwise_tukeyhsd(data.total_cost,data.total_female,alpha=0.05)\n",
    "print (tukey)"
   ]
  },
  {
   "cell_type": "code",
   "execution_count": 85,
   "id": "3913d0dc",
   "metadata": {},
   "outputs": [],
   "source": [
    "data['total_female'].replace({9.0: 0.0},inplace = True)\n",
    "data['total_female'].replace({10.0: 0.0},inplace = True)\n",
    "data['total_female'].replace({11.0: 0.0},inplace = True)\n",
    "data['total_female'].replace({15.0: 0.0},inplace = True)\n",
    "data['total_female'].replace({49.0: 0.0},inplace = True)"
   ]
  },
  {
   "cell_type": "code",
   "execution_count": 86,
   "id": "06e72f1f",
   "metadata": {},
   "outputs": [
    {
     "name": "stdout",
     "output_type": "stream",
     "text": [
      "         Multiple Comparison of Means - Tukey HSD, FWER=0.05          \n",
      "======================================================================\n",
      "group1 group2    meandiff   p-adj      lower          upper     reject\n",
      "----------------------------------------------------------------------\n",
      "   0.0    1.0  4653062.7861   -0.0   3970554.0375  5335571.5347   True\n",
      "   0.0    2.0  7702887.5291   -0.0   6574448.7259  8831326.3323   True\n",
      "   0.0    3.0 10804859.2195   -0.0   8937946.5652 12671771.8739   True\n",
      "   0.0    4.0  8897615.0995   -0.0   5684340.7136 12110889.4854   True\n",
      "   0.0    5.0  8883506.8549    0.0    4551375.513 13215638.1969   True\n",
      "   0.0    6.0 10118260.6973    0.0   4541909.0786 15694612.3161   True\n",
      "   0.0    7.0  8003985.2973 0.0084   1184445.9697  14823524.625   True\n",
      "   0.0   12.0 13564598.5973 0.0204   1139661.9175 25989535.2772   True\n",
      "   1.0    2.0   3049824.743   -0.0   1959194.3593  4140455.1266   True\n",
      "   1.0    3.0  6151796.4334   -0.0   4307490.7754  7996102.0914   True\n",
      "   1.0    4.0  4244552.3134 0.0013   1044359.6972  7444744.9295   True\n",
      "   1.0    5.0  4230444.0688 0.0607     -91993.029  8552881.1667  False\n",
      "   1.0    6.0  5465197.9112 0.0592   -103625.8315 11034021.6539  False\n",
      "   1.0    7.0  3350922.5112 0.8435  -3462462.6344 10164307.6568  False\n",
      "   1.0   12.0  8911535.8112 0.3885  -3510024.1552 21333095.7776  False\n",
      "   2.0    3.0  3101971.6905 0.0001   1050382.2333  5153561.1476   True\n",
      "   2.0    4.0  1194727.5704 0.9721  -2129244.2587  4518699.3996  False\n",
      "   2.0    5.0  1180619.3259  0.996  -3234244.0249  5595482.6766  False\n",
      "   2.0    6.0  2415373.1683 0.9229  -3225491.4656  8056237.8021  False\n",
      "   2.0    7.0   301097.7683    1.0   -6571294.325  7173489.8615  False\n",
      "   2.0   12.0  5861711.0683 0.8737  -6592312.6968 18315734.8333  False\n",
      "   3.0    4.0   -1907244.12 0.7911    -5548779.16  1734290.9199  False\n",
      "   3.0    5.0 -1921352.3646 0.9373  -6580001.0026  2737296.2733  False\n",
      "   3.0    6.0  -686598.5222    1.0   -6520237.399  5147040.3545  False\n",
      "   3.0    7.0 -2800873.9222 0.9486  -9832357.5359  4230609.6915  False\n",
      "   3.0   12.0  2759739.3778  0.999   -9782776.186 15302254.9415  False\n",
      "   4.0    5.0   -14108.2446    1.0  -5356652.2596  5328435.7704  False\n",
      "   4.0    6.0  1220645.5978 0.9996  -5172406.2528  7613697.4484  False\n",
      "   4.0    7.0  -893629.8022    1.0  -8395731.5897  6608471.9853  False\n",
      "   4.0   12.0  4666983.4978 0.9697  -8145294.4451 17479261.4408  False\n",
      "   5.0    6.0  1234753.8424 0.9998  -5787592.0369  8257099.7217  False\n",
      "   5.0    7.0  -879521.5576    1.0  -8924629.4447  7165586.3295  False\n",
      "   5.0   12.0  4681091.7424 0.9735  -8456514.4236 17818697.9084  False\n",
      "   6.0    7.0    -2114275.4 0.9981 -10892207.7492  6663656.9492  False\n",
      "   6.0   12.0     3446337.9 0.9972  -10152376.421  17045052.221  False\n",
      "   7.0   12.0     5560613.3 0.9525  -8593377.3192 19714603.9192  False\n",
      "----------------------------------------------------------------------\n"
     ]
    }
   ],
   "source": [
    "tukey = pairwise_tukeyhsd(data.total_cost,data.total_female,alpha=0.05)\n",
    "print (tukey)"
   ]
  },
  {
   "cell_type": "code",
   "execution_count": 87,
   "id": "68632242",
   "metadata": {},
   "outputs": [],
   "source": [
    "data['total_female'].replace({5.0: 1.0},inplace = True)\n",
    "data['total_female'].replace({6.0: 1.0},inplace = True)\n",
    "data['total_female'].replace({7.0: 1.0},inplace = True)\n",
    "data['total_female'].replace({12.0: 1.0},inplace = True)"
   ]
  },
  {
   "cell_type": "code",
   "execution_count": 88,
   "id": "79fe2cfd",
   "metadata": {},
   "outputs": [
    {
     "name": "stdout",
     "output_type": "stream",
     "text": [
      "         Multiple Comparison of Means - Tukey HSD, FWER=0.05         \n",
      "=====================================================================\n",
      "group1 group2    meandiff   p-adj      lower         upper     reject\n",
      "---------------------------------------------------------------------\n",
      "   0.0    1.0  4753298.3977    0.0  4154432.5996  5352164.1958   True\n",
      "   0.0    2.0  7702887.5291    0.0  6708364.7344  8697410.3238   True\n",
      "   0.0    3.0 10804859.2195    0.0  9159499.9983 12450218.4408   True\n",
      "   0.0    4.0  8897615.0995    0.0  6065671.8755 11729558.3235   True\n",
      "   1.0    2.0  2949589.1314    0.0  1990042.2136  3909136.0493   True\n",
      "   1.0    3.0  6051560.8219    0.0   4427103.477  7676018.1668   True\n",
      "   1.0    4.0  4144316.7018 0.0006  1324466.1522  6964167.2515   True\n",
      "   2.0    3.0  3101971.6905    0.0   1293851.946  4910091.4349   True\n",
      "   2.0    4.0  1194727.5704 0.7998 -1734776.2216  4124231.3624  False\n",
      "   3.0    4.0   -1907244.12 0.4835 -5116624.7215  1302136.4814  False\n",
      "---------------------------------------------------------------------\n"
     ]
    }
   ],
   "source": [
    "tukey = pairwise_tukeyhsd(data.total_cost,data.total_female,alpha=0.05)\n",
    "print (tukey)"
   ]
  },
  {
   "cell_type": "code",
   "execution_count": 89,
   "id": "4694a629",
   "metadata": {},
   "outputs": [],
   "source": [
    "data['total_female'].replace({2.0: 4.0},inplace = True)\n",
    "data['total_female'].replace({3.0: 4.0},inplace = True)"
   ]
  },
  {
   "cell_type": "code",
   "execution_count": 90,
   "id": "931985a1",
   "metadata": {},
   "outputs": [
    {
     "name": "stdout",
     "output_type": "stream",
     "text": [
      "       Multiple Comparison of Means - Tukey HSD, FWER=0.05       \n",
      "=================================================================\n",
      "group1 group2   meandiff   p-adj    lower        upper     reject\n",
      "-----------------------------------------------------------------\n",
      "   0.0    1.0 4753298.3977   0.0 4237714.4409 5268882.3544   True\n",
      "   0.0    4.0 8471097.9298   0.0 7718871.9562 9223323.9034   True\n",
      "   1.0    4.0 3717799.5321   0.0 3000035.0377 4435564.0266   True\n",
      "-----------------------------------------------------------------\n"
     ]
    }
   ],
   "source": [
    "tukey = pairwise_tukeyhsd(data.total_cost,data.total_female,alpha=0.05)\n",
    "print (tukey)"
   ]
  },
  {
   "cell_type": "code",
   "execution_count": null,
   "id": "c229f18d",
   "metadata": {},
   "outputs": [],
   "source": []
  },
  {
   "cell_type": "markdown",
   "id": "d3ae2e8b",
   "metadata": {},
   "source": [
    "### 4.total_male"
   ]
  },
  {
   "cell_type": "code",
   "execution_count": 91,
   "id": "587be923",
   "metadata": {},
   "outputs": [
    {
     "name": "stdout",
     "output_type": "stream",
     "text": [
      "                  sum_sq      df          F  PR(>F)\n",
      "total_male  9.498003e+15     1.0  173.06157     0.0\n",
      "Residual    2.638188e+17  4807.0        NaN     NaN\n"
     ]
    }
   ],
   "source": [
    "annova=ols('total_cost ~ total_male',data=data).fit()\n",
    "an=sm.stats.anova_lm(annova,typ=2)\n",
    "print(an.round(decimals=5))"
   ]
  },
  {
   "cell_type": "code",
   "execution_count": 92,
   "id": "6b2f552f",
   "metadata": {},
   "outputs": [
    {
     "name": "stdout",
     "output_type": "stream",
     "text": [
      "          Multiple Comparison of Means - Tukey HSD, FWER=0.05          \n",
      "=======================================================================\n",
      "group1 group2    meandiff    p-adj      lower          upper     reject\n",
      "-----------------------------------------------------------------------\n",
      "   0.0    1.0   1479222.9701    0.0    623002.4299  2335443.5102   True\n",
      "   0.0    2.0   4558817.0896   -0.0   3220704.1451  5896930.0341   True\n",
      "   0.0    3.0   8423076.3658   -0.0   6217417.2458 10628735.4858   True\n",
      "   0.0    4.0   6930728.2504    0.0   3238964.3958  10622492.105   True\n",
      "   0.0    5.0   6298467.8728 0.0571    -81244.0269 12678179.7726  False\n",
      "   0.0    6.0   8766138.7689 0.0001   2768243.1892 14764034.3486   True\n",
      "   0.0    7.0  10636075.9895 0.7328  -6736624.0511 28008776.0301  False\n",
      "   0.0    9.0   1548312.7395    1.0 -15824387.3011 18921012.7801  False\n",
      "   0.0   10.0   7666562.7395 0.9712  -9706137.3011 25039262.7801  False\n",
      "   0.0   12.0  -3770187.2605    1.0 -28328107.6948 20787733.1738  False\n",
      "   0.0   15.0   6946681.4895 0.9877 -10426018.5511 24319381.5301  False\n",
      "   0.0   17.0  -4764687.2605    1.0 -29322607.6948 19793233.1738  False\n",
      "   0.0   44.0  18713800.2395 0.3689  -5844120.1948 43271720.6738  False\n",
      "   1.0    2.0   3079594.1195   -0.0   1869740.7482  4289447.4908   True\n",
      "   1.0    3.0   6943853.3958   -0.0   4813564.4291  9074142.3624   True\n",
      "   1.0    4.0   5451505.2803    0.0   1804270.8094  9098739.7513   True\n",
      "   1.0    5.0   4819244.9028  0.377  -1534802.8506 11173292.6561  False\n",
      "   1.0    6.0   7286915.7989 0.0034   1316325.3496 13257506.2481   True\n",
      "   1.0    7.0   9156853.0194 0.8898  -8206438.8812 26520144.9201  False\n",
      "   1.0    9.0     69089.7694    1.0 -17294202.1312 17432381.6701  False\n",
      "   1.0   10.0   6187339.7694 0.9959 -11175952.1312 23550631.6701  False\n",
      "   1.0   12.0  -5249410.2306    1.0 -29800676.0836 19301855.6225  False\n",
      "   1.0   15.0   5467458.5194 0.9988 -11895833.3812 22830750.4201  False\n",
      "   1.0   17.0  -6243910.2306 0.9999 -30795176.0836 18307355.6225  False\n",
      "   1.0   44.0  17234577.2694 0.5134  -7316688.5836 41785843.1225  False\n",
      "   2.0    3.0   3864259.2762    0.0   1498764.8839  6229753.6686   True\n",
      "   2.0    4.0   2371911.1608 0.7014  -1417515.1711  6161337.4927  False\n",
      "   2.0    5.0   1739650.7832 0.9998  -4697068.5279  8176370.0944  False\n",
      "   2.0    6.0   4207321.6793 0.5324  -1851175.0774 10265818.4361  False\n",
      "   2.0    7.0   6077258.8999 0.9966  -11316456.582 23470974.3819  False\n",
      "   2.0    9.0  -3010504.3501    1.0  -20404219.832 14383211.1319  False\n",
      "   2.0   10.0   3107745.6499    1.0  -14285969.832 20501461.1319  False\n",
      "   2.0   12.0  -8329004.3501 0.9975 -32901795.9624 16243787.2623  False\n",
      "   2.0   15.0   2387864.3999    1.0  -15005851.082 19781579.8819  False\n",
      "   2.0   17.0  -9323504.3501 0.9924 -33896295.9624 15249287.2623  False\n",
      "   2.0   44.0  14154983.1499 0.8085 -10417808.4624 38727774.7623  False\n",
      "   3.0    4.0  -1492348.1155 0.9957   -5667768.792  2683072.5611  False\n",
      "   3.0    5.0   -2124608.493 0.9987  -8795870.8467  4546653.8607  False\n",
      "   3.0    6.0    343062.4031    1.0  -5964058.0851  6650182.8913  False\n",
      "   3.0    7.0   2212999.6237    1.0 -15268868.8168 19694868.0641  False\n",
      "   3.0    9.0  -6874763.6263 0.9895 -24356632.0668 10607104.8141  False\n",
      "   3.0   10.0   -756513.6263    1.0 -18238382.0668 16725354.8141  False\n",
      "   3.0   12.0 -12193263.6263 0.9293 -36828532.5213 12442005.2686  False\n",
      "   3.0   15.0  -1476394.8763    1.0 -18958263.3168 16005473.5641  False\n",
      "   3.0   17.0 -13187763.6263 0.8783 -37823032.5213 11447505.2686  False\n",
      "   3.0   44.0  10290723.8737 0.9819 -14344545.0213 34925992.7686  False\n",
      "   4.0    5.0   -632260.3775    1.0  -7930885.5629  6666364.8078  False\n",
      "   4.0    6.0   1835410.5185 0.9998  -5131938.8381  8802759.8752  False\n",
      "   4.0    7.0   3705347.7391    1.0 -14025414.0148  21436109.493  False\n",
      "   4.0    9.0  -5382415.5109 0.9992 -23113177.2648  12348346.243  False\n",
      "   4.0   10.0    735834.4891    1.0 -16994927.2648  18466596.243  False\n",
      "   4.0   12.0 -10700915.5109 0.9762 -35513425.6969 14111594.6751  False\n",
      "   4.0   15.0     15953.2391    1.0 -17714808.5148  17746714.993  False\n",
      "   4.0   17.0 -11695415.5109 0.9511 -36507925.6969 13117094.6751  False\n",
      "   4.0   44.0  11783071.9891 0.9482 -13029438.1969 36595582.1751  False\n",
      "   5.0    6.0   2467670.8961 0.9996  -6228049.9264 11163391.7186  False\n",
      "   5.0    7.0   4337608.1167    1.0 -14140798.6312 22816014.8645  False\n",
      "   5.0    9.0  -4750155.1333 0.9999 -23228561.8812 13728251.6145  False\n",
      "   5.0   10.0   1368094.8667    1.0 -17110311.8812 19846501.6145  False\n",
      "   5.0   12.0 -10068655.1333 0.9885 -35420820.0369 15283509.7702  False\n",
      "   5.0   15.0    648213.6167    1.0 -17830193.1312 19126620.3645  False\n",
      "   5.0   17.0 -11063155.1333 0.9737 -36415320.0369 14289009.7702  False\n",
      "   5.0   44.0  12415332.3667 0.9346 -12936832.5369 37767497.2702  False\n",
      "   6.0    7.0   1869937.2206    1.0 -16480145.7056 20220020.1468  False\n",
      "   6.0    9.0  -7217826.0294 0.9894 -25567908.9556 11132256.8968  False\n",
      "   6.0   10.0  -1099576.0294    1.0 -19449658.9556 17250506.8968  False\n",
      "   6.0   12.0 -12536326.0294 0.9279  -37795112.476 12722460.4172  False\n",
      "   6.0   15.0  -1819457.2794    1.0 -20169540.2056 16530625.6468  False\n",
      "   6.0   17.0 -13530826.0294 0.8777  -38789612.476 11727960.4172  False\n",
      "   6.0   44.0   9947661.4706 0.9893  -15311124.976 35206447.9172  False\n",
      "   7.0    9.0    -9087763.25  0.994 -33634891.3654 15459364.8654  False\n",
      "   7.0   10.0    -2969513.25    1.0 -27516641.3654 21577614.8654  False\n",
      "   7.0   12.0   -14406263.25 0.9445 -44470232.5167 15657706.0167  False\n",
      "   7.0   15.0     -3689394.5    1.0 -28236522.6154 20857733.6154  False\n",
      "   7.0   17.0   -15400763.25 0.9096 -45464732.5167 14663206.0167  False\n",
      "   7.0   44.0     8077724.25 0.9998 -21986245.0167 38141693.5167  False\n",
      "   9.0   10.0      6118250.0 0.9999 -18428878.1154 30665378.1154  False\n",
      "   9.0   12.0     -5318500.0    1.0 -35382469.2667 24745469.2667  False\n",
      "   9.0   15.0     5398368.75    1.0 -19148759.3654 29945496.8654  False\n",
      "   9.0   17.0     -6313000.0    1.0 -36376969.2667 23750969.2667  False\n",
      "   9.0   44.0     17165487.5 0.8182 -12898481.7667 47229456.7667  False\n",
      "  10.0   12.0    -11436750.0 0.9922 -41500719.2667 18627219.2667  False\n",
      "  10.0   15.0     -719881.25    1.0 -25267009.3654 23827246.8654  False\n",
      "  10.0   17.0    -12431250.0 0.9835 -42495219.2667 17632719.2667  False\n",
      "  10.0   44.0     11047237.5 0.9944 -19016731.7667 41111206.7667  False\n",
      "  12.0   15.0    10716868.75 0.9958 -19347100.5167 40780838.0167  False\n",
      "  12.0   17.0      -994500.0    1.0 -35709381.4981 33720381.4981  False\n",
      "  12.0   44.0     22483987.5 0.6493 -12230893.9981 57198868.9981  False\n",
      "  15.0   17.0   -11711368.75 0.9903 -41775338.0167 18352600.5167  False\n",
      "  15.0   44.0    11767118.75 0.9899 -18296850.5167 41831088.0167  False\n",
      "  17.0   44.0     23478487.5  0.578 -11236393.9981 58193368.9981  False\n",
      "-----------------------------------------------------------------------\n"
     ]
    }
   ],
   "source": [
    "tukey = pairwise_tukeyhsd(data.total_cost,data.total_male,alpha=0.05)\n",
    "print (tukey)"
   ]
  },
  {
   "cell_type": "code",
   "execution_count": 93,
   "id": "1a7c5952",
   "metadata": {},
   "outputs": [],
   "source": [
    "data['total_male'].replace({5.0: 0.0},inplace = True)\n",
    "data['total_male'].replace({7.0: 0.0},inplace = True)\n",
    "data['total_male'].replace({9.0: 0.0},inplace = True)\n",
    "data['total_male'].replace({12.0: 0.0},inplace = True)\n",
    "data['total_male'].replace({15.0: 0.0},inplace = True)\n",
    "data['total_male'].replace({17.0: 0.0},inplace = True)\n",
    "data['total_male'].replace({44.0: 0.0},inplace = True)\n",
    "data['total_male'].replace({10.0: 0.0},inplace = True)"
   ]
  },
  {
   "cell_type": "code",
   "execution_count": 94,
   "id": "feedbca8",
   "metadata": {},
   "outputs": [
    {
     "name": "stdout",
     "output_type": "stream",
     "text": [
      "         Multiple Comparison of Means - Tukey HSD, FWER=0.05         \n",
      "=====================================================================\n",
      "group1 group2    meandiff   p-adj      lower         upper     reject\n",
      "---------------------------------------------------------------------\n",
      "   0.0    1.0  1343151.4226    0.0   620201.0669  2066101.7783   True\n",
      "   0.0    2.0  4422745.5421   -0.0  3287442.1124  5558048.9718   True\n",
      "   0.0    3.0  8287004.8184   -0.0  6411709.3696 10162300.2671   True\n",
      "   0.0    4.0  6794656.7029    0.0  3653382.5401  9935930.8657   True\n",
      "   0.0    6.0  8630067.2214    0.0  3525156.5073 13734977.9356   True\n",
      "   1.0    2.0  3079594.1195   -0.0  2049697.7796  4109490.4594   True\n",
      "   1.0    3.0  6943853.3958   -0.0  5130429.6688  8757277.1228   True\n",
      "   1.0    4.0  5451505.2803    0.0  2346770.8377  8556239.7229   True\n",
      "   1.0    6.0  7286915.7989 0.0006   2204407.954 12369423.6437   True\n",
      "   2.0    3.0  3864259.2762    0.0  1850615.2475   5877903.305   True\n",
      "   2.0    4.0  2371911.1608 0.2893   -853865.121  5597687.4426  False\n",
      "   2.0    6.0  4207321.6793 0.1838  -950017.0388  9364660.3975  False\n",
      "   3.0    4.0 -1492348.1155 0.8385 -5046704.8453  2062008.6143  False\n",
      "   3.0    6.0   343062.4031    1.0 -5025919.0456  5712043.8518  False\n",
      "   4.0    6.0  1835410.5185 0.9508 -4095595.4789   7766416.516  False\n",
      "---------------------------------------------------------------------\n"
     ]
    }
   ],
   "source": [
    "tukey = pairwise_tukeyhsd(data.total_cost,data.total_male,alpha=0.05)\n",
    "print (tukey)"
   ]
  },
  {
   "cell_type": "code",
   "execution_count": 95,
   "id": "18de4a27",
   "metadata": {},
   "outputs": [],
   "source": [
    "data['total_male'].replace({4.0: 2.0},inplace = True)\n",
    "data['total_male'].replace({6.0: 2.0},inplace = True)"
   ]
  },
  {
   "cell_type": "code",
   "execution_count": 96,
   "id": "0cd72e59",
   "metadata": {},
   "outputs": [
    {
     "name": "stdout",
     "output_type": "stream",
     "text": [
      "       Multiple Comparison of Means - Tukey HSD, FWER=0.05       \n",
      "=================================================================\n",
      "group1 group2   meandiff   p-adj    lower        upper     reject\n",
      "-----------------------------------------------------------------\n",
      "   0.0    1.0 1343151.4226   0.0  690947.0713 1995355.7739   True\n",
      "   0.0    2.0 4756631.6455   0.0 3775600.0684 5737663.2226   True\n",
      "   0.0    3.0 8287004.8184   0.0 6595220.8085 9978788.8282   True\n",
      "   1.0    2.0 3413480.2229   0.0 2532187.1465 4294773.2994   True\n",
      "   1.0    3.0 6943853.3958   0.0 5307886.5051 8579820.2864   True\n",
      "   2.0    3.0 3530373.1728   0.0  1737766.103 5322980.2426   True\n",
      "-----------------------------------------------------------------\n"
     ]
    }
   ],
   "source": [
    "tukey = pairwise_tukeyhsd(data.total_cost,data.total_male,alpha=0.05)\n",
    "print (tukey)"
   ]
  },
  {
   "cell_type": "code",
   "execution_count": null,
   "id": "9588edf2",
   "metadata": {},
   "outputs": [],
   "source": []
  },
  {
   "cell_type": "code",
   "execution_count": null,
   "id": "6bbfb3f2",
   "metadata": {},
   "outputs": [],
   "source": []
  },
  {
   "cell_type": "code",
   "execution_count": null,
   "id": "382a6b11",
   "metadata": {},
   "outputs": [],
   "source": []
  },
  {
   "cell_type": "markdown",
   "id": "9adec9ff",
   "metadata": {},
   "source": [
    "### 5.purpose"
   ]
  },
  {
   "cell_type": "code",
   "execution_count": 97,
   "id": "124c2bd9",
   "metadata": {},
   "outputs": [
    {
     "name": "stdout",
     "output_type": "stream",
     "text": [
      "                sum_sq      df          F  PR(>F)\n",
      "purpose   6.464900e+16     6.0  247.95746     0.0\n",
      "Residual  2.086678e+17  4802.0        NaN     NaN\n"
     ]
    }
   ],
   "source": [
    "annova=ols('total_cost ~ purpose',data=data).fit()\n",
    "an=sm.stats.anova_lm(annova,typ=2)\n",
    "print(an.round(decimals=5))"
   ]
  },
  {
   "cell_type": "code",
   "execution_count": 98,
   "id": "b8198c38",
   "metadata": {},
   "outputs": [
    {
     "name": "stdout",
     "output_type": "stream",
     "text": [
      "                                 Multiple Comparison of Means - Tukey HSD, FWER=0.05                                  \n",
      "======================================================================================================================\n",
      "            group1                         group2                meandiff   p-adj      lower          upper     reject\n",
      "----------------------------------------------------------------------------------------------------------------------\n",
      "                      Business           Leisure and Holidays  8041370.5799   -0.0   7206784.7437   8875956.416   True\n",
      "                      Business        Meetings and Conference    736865.168  0.662   -595472.2566  2069202.5926  False\n",
      "                      Business                          Other  -329673.0819 0.9986  -2205026.6975  1545680.5336  False\n",
      "                      Business        Scientific and Academic  1479788.5181  0.434   -735803.2442  3695380.2805  False\n",
      "                      Business Visiting Friends and Relatives  1021539.3046 0.0764     -55798.019  2098876.6282  False\n",
      "                      Business                   Volunteering  2050061.6416 0.0154    232665.9973  3867457.2859   True\n",
      "          Leisure and Holidays        Meetings and Conference -7304505.4118   -0.0  -8464170.7132 -6144840.1105   True\n",
      "          Leisure and Holidays                          Other -8371043.6618   -0.0 -10127930.6193 -6614156.7044   True\n",
      "          Leisure and Holidays        Scientific and Academic -6561582.0617   -0.0  -8677839.9514 -4445324.1721   True\n",
      "          Leisure and Holidays Visiting Friends and Relatives -7019831.2752   -0.0  -7874440.1371 -6165222.4133   True\n",
      "          Leisure and Holidays                   Volunteering -5991308.9383   -0.0  -7686191.6852 -4296426.1913   True\n",
      "       Meetings and Conference                          Other   -1066538.25 0.7196  -3107430.5245   974354.0246  False\n",
      "       Meetings and Conference        Scientific and Academic   742923.3501 0.9679  -1614434.6945  3100281.3948  False\n",
      "       Meetings and Conference Visiting Friends and Relatives   284674.1366 0.9961  -1060296.4214  1629644.6947  False\n",
      "       Meetings and Conference                   Volunteering  1313196.4736 0.4481   -674570.3692  3300963.3163  False\n",
      "                         Other        Scientific and Academic  1809461.6001 0.4305   -892198.0974  4511121.2975  False\n",
      "                         Other Visiting Friends and Relatives  1351212.3866 0.3438   -533137.3613  3235562.1344  False\n",
      "                         Other                   Volunteering  2379734.7235 0.0511     -6275.5848  4765745.0318  False\n",
      "       Scientific and Academic Visiting Friends and Relatives  -458249.2135 0.9966  -2681460.7748  1764962.3478  False\n",
      "       Scientific and Academic                   Volunteering   570273.1234 0.9958  -2091482.0993  3232028.3461  False\n",
      "Visiting Friends and Relatives                   Volunteering  1028522.3369 0.6424    -798154.897  2855199.5708  False\n",
      "----------------------------------------------------------------------------------------------------------------------\n"
     ]
    }
   ],
   "source": [
    "tukey = pairwise_tukeyhsd(data.total_cost,data.purpose,alpha=0.05)\n",
    "print (tukey)"
   ]
  },
  {
   "cell_type": "code",
   "execution_count": 99,
   "id": "fe9172d3",
   "metadata": {},
   "outputs": [],
   "source": [
    "data['purpose'].replace({'Meetings and Conference': 'Business'},inplace = True)\n",
    "data['purpose'].replace({'Other': 'Business'},inplace = True)\n",
    "data['purpose'].replace({'Scientific and Academic': 'Business'},inplace = True)\n",
    "data['purpose'].replace({'Visiting Friends and Relatives': 'Business'},inplace = True)"
   ]
  },
  {
   "cell_type": "code",
   "execution_count": 100,
   "id": "cdbb7b47",
   "metadata": {},
   "outputs": [
    {
     "name": "stdout",
     "output_type": "stream",
     "text": [
      "                       Multiple Comparison of Means - Tukey HSD, FWER=0.05                       \n",
      "=================================================================================================\n",
      "       group1               group2           meandiff   p-adj      lower         upper     reject\n",
      "-------------------------------------------------------------------------------------------------\n",
      "            Business Leisure and Holidays  7515384.9115    0.0  7051806.6993  7978963.1236   True\n",
      "            Business         Volunteering  1524075.9732 0.0242     158673.87  2889478.0763   True\n",
      "Leisure and Holidays         Volunteering -5991308.9383    0.0 -7339604.3551 -4643013.5215   True\n",
      "-------------------------------------------------------------------------------------------------\n"
     ]
    }
   ],
   "source": [
    "tukey = pairwise_tukeyhsd(data.total_cost,data.purpose,alpha=0.05)\n",
    "print (tukey)"
   ]
  },
  {
   "cell_type": "markdown",
   "id": "2e21557d",
   "metadata": {},
   "source": [
    "### 6.main_activity"
   ]
  },
  {
   "cell_type": "code",
   "execution_count": 101,
   "id": "1329850a",
   "metadata": {},
   "outputs": [
    {
     "name": "stdout",
     "output_type": "stream",
     "text": [
      "                     sum_sq      df         F  PR(>F)\n",
      "main_activity  2.970015e+16     8.0  73.14807     0.0\n",
      "Residual       2.436167e+17  4800.0       NaN     NaN\n"
     ]
    }
   ],
   "source": [
    "annova=ols('total_cost ~ main_activity',data=data).fit()\n",
    "an=sm.stats.anova_lm(annova,typ=2)\n",
    "print(an.round(decimals=5))"
   ]
  },
  {
   "cell_type": "code",
   "execution_count": 102,
   "id": "c1bc884f",
   "metadata": {},
   "outputs": [
    {
     "name": "stdout",
     "output_type": "stream",
     "text": [
      "                           Multiple Comparison of Means - Tukey HSD, FWER=0.05                            \n",
      "==========================================================================================================\n",
      "         group1                   group2             meandiff   p-adj      lower          upper     reject\n",
      "----------------------------------------------------------------------------------------------------------\n",
      "           Beach tourism            Bird watching -3382594.3751 0.1049  -7082033.2571   316844.5068  False\n",
      "           Beach tourism       Conference tourism  1910161.9868 0.0004    565351.6272  3254972.3463   True\n",
      "           Beach tourism         Cultural tourism -2699507.0754    0.0  -4055305.9879 -1343708.1629   True\n",
      "           Beach tourism Diving and Sport Fishing  3589074.1074  0.679  -2581157.4279  9759305.6426  False\n",
      "           Beach tourism          Hunting tourism -4760660.1839   -0.0  -6004144.9303 -3517175.4374   True\n",
      "           Beach tourism        Mountain climbing -4634479.4106   -0.0  -6236172.8504 -3032785.9708   True\n",
      "           Beach tourism         Wildlife tourism   2109278.868   -0.0     1276714.31  2941843.4261   True\n",
      "           Beach tourism                 business    27601.6378    1.0  -2956232.5935   3011435.869  False\n",
      "           Bird watching       Conference tourism  5292756.3619 0.0006   1479524.7777  9105987.9461   True\n",
      "           Bird watching         Cultural tourism   683087.2998 0.9998  -3134033.4611  4500208.0606  False\n",
      "           Bird watching Diving and Sport Fishing  6971668.4825  0.061   -156022.4066 14099359.3716  False\n",
      "           Bird watching          Hunting tourism -1378065.8087 0.9695  -5156752.6873  2400621.0699  False\n",
      "           Bird watching        Mountain climbing -1251885.0355 0.9866  -5163105.0608  2659334.9899  False\n",
      "           Bird watching         Wildlife tourism  5491873.2432 0.0001    1827806.656  9155939.8304   True\n",
      "           Bird watching                 business  3410196.0129 0.3575  -1241200.2217  8061592.2476  False\n",
      "      Conference tourism         Cultural tourism -4609669.0621   -0.0  -6250729.0137 -2968609.1106   True\n",
      "      Conference tourism Diving and Sport Fishing  1678912.1206 0.9958  -4560209.9548   7918034.196  False\n",
      "      Conference tourism          Hunting tourism -6670822.1706   -0.0  -8220383.8467 -5121260.4945   True\n",
      "      Conference tourism        Mountain climbing -6544641.3974   -0.0  -8394049.1265 -4695233.6683   True\n",
      "      Conference tourism         Wildlife tourism   199116.8813 0.9999  -1045090.0215   1443323.784  False\n",
      "      Conference tourism                 business  -1882560.349 0.6346  -5006364.7272  1241244.0292  False\n",
      "        Cultural tourism Diving and Sport Fishing  6288581.1828 0.0466     47081.3582 12530081.0073   True\n",
      "        Cultural tourism          Hunting tourism -2061153.1085 0.0014  -3620260.9226  -502045.2944   True\n",
      "        Cultural tourism        Mountain climbing -1934972.3352 0.0336  -3792385.7885   -77558.8819   True\n",
      "        Cultural tourism         Wildlife tourism  4808785.9434   -0.0    3552710.068  6064861.8188   True\n",
      "        Cultural tourism                 business  2727108.7131 0.1462   -401442.0026  5855659.4289  False\n",
      "Diving and Sport Fishing          Hunting tourism -8349734.2913  0.001 -14567803.4195  -2131665.163   True\n",
      "Diving and Sport Fishing        Mountain climbing  -8223553.518 0.0017 -14523041.6912 -1924065.3448   True\n",
      "Diving and Sport Fishing         Wildlife tourism -1479795.2394 0.9981  -7628884.0428  4669293.5641  False\n",
      "Diving and Sport Fishing                 business -3561472.4696 0.7889   -10345379.61  3222434.6707  False\n",
      "         Hunting tourism        Mountain climbing   126180.7733    1.0  -1650909.0838  1903270.6303  False\n",
      "         Hunting tourism         Wildlife tourism  6869939.0519   -0.0   5736012.1458   8003865.958   True\n",
      "         Hunting tourism                 business  4788261.8216 0.0001   1706721.1023  7869802.5409   True\n",
      "       Mountain climbing         Wildlife tourism  6743758.2786   -0.0   5225549.5352  8261967.0221   True\n",
      "       Mountain climbing                 business  4662081.0484 0.0003   1419387.6054  7904774.4914   True\n",
      "        Wildlife tourism                 business -2081677.2303 0.4075  -5021541.6206   858187.1601  False\n",
      "----------------------------------------------------------------------------------------------------------\n"
     ]
    }
   ],
   "source": [
    "tukey = pairwise_tukeyhsd(data.total_cost,data.main_activity,alpha=0.05)\n",
    "print (tukey)"
   ]
  },
  {
   "cell_type": "code",
   "execution_count": 103,
   "id": "68d0c81f",
   "metadata": {},
   "outputs": [],
   "source": [
    "data['main_activity'].replace({'Bird watching': 'Beach tourism'},inplace = True)\n",
    "data['main_activity'].replace({'Diving and Sport Fishing': 'Beach tourism'},inplace = True)\n",
    "data['main_activity'].replace({'business': 'Beach tourism'},inplace = True)"
   ]
  },
  {
   "cell_type": "code",
   "execution_count": 104,
   "id": "ec0c4b4a",
   "metadata": {},
   "outputs": [
    {
     "name": "stdout",
     "output_type": "stream",
     "text": [
      "                     Multiple Comparison of Means - Tukey HSD, FWER=0.05                     \n",
      "=============================================================================================\n",
      "      group1             group2          meandiff   p-adj      lower         upper     reject\n",
      "---------------------------------------------------------------------------------------------\n",
      "     Beach tourism Conference tourism  1978032.3605 0.0001   757099.1033  3198965.6178   True\n",
      "     Beach tourism   Cultural tourism -2631636.7016    0.0 -3862802.4185 -1400470.9847   True\n",
      "     Beach tourism    Hunting tourism -4692789.8101   -0.0 -5819260.2207 -3566319.3995   True\n",
      "     Beach tourism  Mountain climbing -4566609.0368   -0.0 -6026282.3059 -3106935.7677   True\n",
      "     Beach tourism   Wildlife tourism  2177149.2418   -0.0  1437119.5711  2917178.9125   True\n",
      "Conference tourism   Cultural tourism -4609669.0621   -0.0 -6118645.0716 -3100693.0527   True\n",
      "Conference tourism    Hunting tourism -6670822.1706   -0.0 -8095664.3236 -5245980.0177   True\n",
      "Conference tourism  Mountain climbing -6544641.3974   -0.0 -8245195.9032 -4844086.8915   True\n",
      "Conference tourism   Wildlife tourism   199116.8813 0.9963  -944947.5786  1343181.3411  False\n",
      "  Cultural tourism    Hunting tourism -2061153.1085 0.0006 -3494773.0597  -627533.1573   True\n",
      "  Cultural tourism  Mountain climbing -1934972.3352 0.0158 -3642888.2088  -227056.4617   True\n",
      "  Cultural tourism   Wildlife tourism  4808785.9434   -0.0  3653807.8085  5963764.0783   True\n",
      "   Hunting tourism  Mountain climbing   126180.7733 0.9999 -1507876.5069  1760238.0534  False\n",
      "   Hunting tourism   Wildlife tourism  6869939.0519   -0.0   5827278.486  7912599.6178   True\n",
      " Mountain climbing   Wildlife tourism  6743758.2786   -0.0  5347745.5558  8139771.0015   True\n",
      "---------------------------------------------------------------------------------------------\n"
     ]
    }
   ],
   "source": [
    "tukey = pairwise_tukeyhsd(data.total_cost,data.main_activity,alpha=0.05)\n",
    "print (tukey)"
   ]
  },
  {
   "cell_type": "code",
   "execution_count": 105,
   "id": "bf219477",
   "metadata": {},
   "outputs": [],
   "source": [
    "data['main_activity'].replace({'Wildlife tourism': 'Conference tourism'},inplace = True)"
   ]
  },
  {
   "cell_type": "code",
   "execution_count": 106,
   "id": "be309280",
   "metadata": {},
   "outputs": [
    {
     "name": "stdout",
     "output_type": "stream",
     "text": [
      "                     Multiple Comparison of Means - Tukey HSD, FWER=0.05                     \n",
      "=============================================================================================\n",
      "      group1             group2          meandiff   p-adj      lower         upper     reject\n",
      "---------------------------------------------------------------------------------------------\n",
      "     Beach tourism Conference tourism  2149321.4065    0.0  1457758.2152  2840884.5979   True\n",
      "     Beach tourism   Cultural tourism -2631636.7016    0.0 -3810002.8426 -1453270.5606   True\n",
      "     Beach tourism    Hunting tourism -4692789.8101    0.0  -5770950.591 -3614629.0292   True\n",
      "     Beach tourism  Mountain climbing -4566609.0368    0.0 -5963682.9918 -3169535.0819   True\n",
      "Conference tourism   Cultural tourism -4780958.1081    0.0 -5875760.1665 -3686156.0498   True\n",
      "Conference tourism    Hunting tourism -6842111.2166    0.0 -7828252.9175 -5855969.5157   True\n",
      "Conference tourism  Mountain climbing -6715930.4434    0.0 -8043281.3466 -5388579.5401   True\n",
      "  Cultural tourism    Hunting tourism -2061153.1085 0.0004  -3433291.064   -689015.153   True\n",
      "  Cultural tourism  Mountain climbing -1934972.3352 0.0109  -3569642.802  -300301.8684   True\n",
      "   Hunting tourism  Mountain climbing   126180.7733 0.9995 -1437798.5879  1690160.1344  False\n",
      "---------------------------------------------------------------------------------------------\n"
     ]
    }
   ],
   "source": [
    "tukey = pairwise_tukeyhsd(data.total_cost,data.main_activity,alpha=0.05)\n",
    "print (tukey)"
   ]
  },
  {
   "cell_type": "code",
   "execution_count": 107,
   "id": "746601c0",
   "metadata": {},
   "outputs": [],
   "source": [
    "data['main_activity'].replace({'Mountain climbing': 'Hunting tourism'},inplace = True)"
   ]
  },
  {
   "cell_type": "code",
   "execution_count": 108,
   "id": "59836740",
   "metadata": {},
   "outputs": [
    {
     "name": "stdout",
     "output_type": "stream",
     "text": [
      "                     Multiple Comparison of Means - Tukey HSD, FWER=0.05                     \n",
      "=============================================================================================\n",
      "      group1             group2          meandiff   p-adj      lower         upper     reject\n",
      "---------------------------------------------------------------------------------------------\n",
      "     Beach tourism Conference tourism  2149321.4065    0.0  1498087.8022  2800555.0109   True\n",
      "     Beach tourism   Cultural tourism -2631636.7016    0.0 -3741284.5817 -1521988.8215   True\n",
      "     Beach tourism    Hunting tourism -4650059.9969    0.0 -5534404.3231 -3765715.6706   True\n",
      "Conference tourism   Cultural tourism -4780958.1081    0.0 -5811915.0756 -3750001.1407   True\n",
      "Conference tourism    Hunting tourism -6799381.4034    0.0 -7582719.6051 -6016043.2017   True\n",
      "  Cultural tourism    Hunting tourism -2018423.2953 0.0001 -3210409.8508  -826436.7397   True\n",
      "---------------------------------------------------------------------------------------------\n"
     ]
    }
   ],
   "source": [
    "tukey = pairwise_tukeyhsd(data.total_cost,data.main_activity,alpha=0.05)\n",
    "print (tukey)"
   ]
  },
  {
   "cell_type": "markdown",
   "id": "42d89e3c",
   "metadata": {},
   "source": [
    "### 7.info_source"
   ]
  },
  {
   "cell_type": "code",
   "execution_count": 109,
   "id": "d4f98c67",
   "metadata": {},
   "outputs": [
    {
     "name": "stdout",
     "output_type": "stream",
     "text": [
      "                   sum_sq      df          F  PR(>F)\n",
      "info_source  4.551514e+16     7.0  137.03534     0.0\n",
      "Residual     2.278017e+17  4801.0        NaN     NaN\n"
     ]
    }
   ],
   "source": [
    "annova=ols('total_cost ~ info_source',data=data).fit()\n",
    "an=sm.stats.anova_lm(annova,typ=2)\n",
    "print(an.round(decimals=5))"
   ]
  },
  {
   "cell_type": "code",
   "execution_count": 110,
   "id": "df1a8c3c",
   "metadata": {},
   "outputs": [
    {
     "name": "stdout",
     "output_type": "stream",
     "text": [
      "                                 Multiple Comparison of Means - Tukey HSD, FWER=0.05                                  \n",
      "======================================================================================================================\n",
      "            group1                         group2                meandiff   p-adj      lower          upper     reject\n",
      "----------------------------------------------------------------------------------------------------------------------\n",
      "            Friends, relatives Newspaper, magazines,brochures  1652413.3081  0.001    435022.0935  2869804.5227   True\n",
      "            Friends, relatives                 Radio, TV, Web  1936398.8406  0.001    515524.7787  3357272.9025   True\n",
      "            Friends, relatives        Tanzania Mission Abroad  -656085.1681 0.9946  -3241127.6123   1928957.276  False\n",
      "            Friends, relatives                     Trade fair    726957.376 0.9857  -1708728.7828  3162643.5347  False\n",
      "            Friends, relatives   Travel, agent, tour operator  6590646.2057   -0.0   5887170.4557  7294121.9557   True\n",
      "            Friends, relatives             inflight magazines -1304190.8077 0.9932  -6254302.3466  3645920.7312  False\n",
      "            Friends, relatives                         others   273389.1734 0.9946   -802323.3824  1349101.7292  False\n",
      "Newspaper, magazines,brochures                 Radio, TV, Web   283985.5325 0.9997  -1438591.2164  2006562.2815  False\n",
      "Newspaper, magazines,brochures        Tanzania Mission Abroad -2308498.4762 0.1813  -5070894.5366   453897.5841  False\n",
      "Newspaper, magazines,brochures                     Trade fair  -925455.9322  0.963  -3548613.3084  1697701.4441  False\n",
      "Newspaper, magazines,brochures   Travel, agent, tour operator  4938232.8976   -0.0   3736872.9652    6139592.83   True\n",
      "Newspaper, magazines,brochures             inflight magazines -2956604.1158 0.6358  -8001600.8258  2088392.5942  False\n",
      "Newspaper, magazines,brochures                         others -1379024.1347 0.0765  -2830073.7752    72025.5057  False\n",
      "                Radio, TV, Web        Tanzania Mission Abroad -2592484.0088 0.1081   -5450398.235   265430.2175  False\n",
      "                Radio, TV, Web                     Trade fair -1209441.4647 0.8809  -3933004.6365  1514121.7072  False\n",
      "                Radio, TV, Web   Travel, agent, tour operator  4654247.3651   -0.0   3247084.4685  6061410.2617   True\n",
      "                Radio, TV, Web             inflight magazines -3240589.6483 0.5318  -8338514.0823  1857334.7857  False\n",
      "                Radio, TV, Web                         others -1663009.6673 0.0406   -3288551.666   -37467.6686   True\n",
      "       Tanzania Mission Abroad                     Trade fair  1383042.5441 0.9303  -2092782.2054  4858867.2936  False\n",
      "       Tanzania Mission Abroad   Travel, agent, tour operator  7246731.3738   -0.0   4669199.8501  9824262.8976   True\n",
      "       Tanzania Mission Abroad             inflight magazines  -648105.6395    1.0  -6184566.1399  4888354.8609  False\n",
      "       Tanzania Mission Abroad                         others   929474.3415 0.9679   -1773477.402   3632426.085  False\n",
      "                    Trade fair   Travel, agent, tour operator  5863688.8298    0.0   3435975.6297  8291402.0299   True\n",
      "                    Trade fair             inflight magazines -2031148.1836 0.9512  -7499467.6237  3437171.2564  False\n",
      "                    Trade fair                         others  -453568.2026 0.9995  -3014050.7262  2106914.3211  False\n",
      "  Travel, agent, tour operator             inflight magazines -7894837.0134    0.0 -12841030.3543 -2948643.6725   True\n",
      "  Travel, agent, tour operator                         others -6317257.0323   -0.0  -7374792.7625 -5259721.3022   True\n",
      "            inflight magazines                         others   1577579.981 0.9805  -3435114.6972  6590274.6593  False\n",
      "----------------------------------------------------------------------------------------------------------------------\n"
     ]
    }
   ],
   "source": [
    "tukey = pairwise_tukeyhsd(data.total_cost,data.info_source,alpha=0.05)\n",
    "print (tukey)"
   ]
  },
  {
   "cell_type": "code",
   "execution_count": 111,
   "id": "4ccd3e46",
   "metadata": {},
   "outputs": [],
   "source": [
    "data['info_source'].replace({'Tanzania Mission Abroad': 'Friends, relatives'},inplace = True)\n",
    "data['info_source'].replace({'Trade fair': 'Friends, relatives'},inplace = True)\n",
    "data['info_source'].replace({'inflight magazines': 'Friends, relatives'},inplace = True)\n",
    "data['info_source'].replace({'others': 'Friends, relatives'},inplace = True)"
   ]
  },
  {
   "cell_type": "code",
   "execution_count": 112,
   "id": "e0d8e49b",
   "metadata": {},
   "outputs": [
    {
     "name": "stdout",
     "output_type": "stream",
     "text": [
      "                                Multiple Comparison of Means - Tukey HSD, FWER=0.05                                \n",
      "===================================================================================================================\n",
      "            group1                         group2               meandiff   p-adj      lower        upper     reject\n",
      "-------------------------------------------------------------------------------------------------------------------\n",
      "            Friends, relatives Newspaper, magazines,brochures 1599158.4187 0.0003   594358.6694  2603958.168   True\n",
      "            Friends, relatives                 Radio, TV, Web 1883143.9512 0.0002   701979.5981 3064308.3044   True\n",
      "            Friends, relatives   Travel, agent, tour operator 6537391.3163    0.0  5989027.7056 7085754.9271   True\n",
      "Newspaper, magazines,brochures                 Radio, TV, Web  283985.5325 0.9591 -1175778.5496 1743749.6147  False\n",
      "Newspaper, magazines,brochures   Travel, agent, tour operator 4938232.8976    0.0  3920163.8449 5956301.9503   True\n",
      "                Radio, TV, Web   Travel, agent, tour operator 4654247.3651    0.0  3461774.6027 5846720.1275   True\n",
      "-------------------------------------------------------------------------------------------------------------------\n"
     ]
    }
   ],
   "source": [
    "tukey = pairwise_tukeyhsd(data.total_cost,data.info_source,alpha=0.05)\n",
    "print (tukey)"
   ]
  },
  {
   "cell_type": "code",
   "execution_count": 113,
   "id": "276719f2",
   "metadata": {},
   "outputs": [],
   "source": [
    "data['info_source'].replace({'Radio, TV, Web': 'Newspaper, magazines,brochures'},inplace = True)"
   ]
  },
  {
   "cell_type": "code",
   "execution_count": 114,
   "id": "813b7261",
   "metadata": {},
   "outputs": [
    {
     "name": "stdout",
     "output_type": "stream",
     "text": [
      "                               Multiple Comparison of Means - Tukey HSD, FWER=0.05                               \n",
      "=================================================================================================================\n",
      "            group1                         group2               meandiff   p-adj    lower        upper     reject\n",
      "-----------------------------------------------------------------------------------------------------------------\n",
      "            Friends, relatives Newspaper, magazines,brochures 1715461.7042   0.0  978781.6629 2452141.7456   True\n",
      "            Friends, relatives   Travel, agent, tour operator 6537391.3163   0.0 6037183.7342 7037598.8984   True\n",
      "Newspaper, magazines,brochures   Travel, agent, tour operator 4821929.6121   0.0 4070243.4195 5573615.8047   True\n",
      "-----------------------------------------------------------------------------------------------------------------\n"
     ]
    }
   ],
   "source": [
    "tukey = pairwise_tukeyhsd(data.total_cost,data.info_source,alpha=0.05)\n",
    "print (tukey)"
   ]
  },
  {
   "cell_type": "markdown",
   "id": "ab84254c",
   "metadata": {},
   "source": [
    "### 8.tour_arrangement"
   ]
  },
  {
   "cell_type": "code",
   "execution_count": 115,
   "id": "d1b4d29c",
   "metadata": {},
   "outputs": [
    {
     "name": "stdout",
     "output_type": "stream",
     "text": [
      "                        sum_sq      df           F  PR(>F)\n",
      "tour_arrangement  9.026114e+16     1.0  2370.23653     0.0\n",
      "Residual          1.830557e+17  4807.0         NaN     NaN\n"
     ]
    }
   ],
   "source": [
    "annova=ols('total_cost ~ tour_arrangement',data=data).fit()\n",
    "an=sm.stats.anova_lm(annova,typ=2)\n",
    "print(an.round(decimals=5))"
   ]
  },
  {
   "cell_type": "code",
   "execution_count": 116,
   "id": "47530e98",
   "metadata": {},
   "outputs": [
    {
     "name": "stdout",
     "output_type": "stream",
     "text": [
      "            Multiple Comparison of Means - Tukey HSD, FWER=0.05             \n",
      "============================================================================\n",
      "   group1      group2      meandiff   p-adj    lower        upper     reject\n",
      "----------------------------------------------------------------------------\n",
      "Independent Package Tour 8685287.1076  -0.0 8335546.7158 9035027.4994   True\n",
      "----------------------------------------------------------------------------\n"
     ]
    }
   ],
   "source": [
    "tukey = pairwise_tukeyhsd(data.total_cost,data.tour_arrangement,alpha=0.05)\n",
    "print (tukey)"
   ]
  },
  {
   "cell_type": "markdown",
   "id": "356ffd39",
   "metadata": {},
   "source": [
    "### 9.package_transport_int"
   ]
  },
  {
   "cell_type": "code",
   "execution_count": 117,
   "id": "2fb1209c",
   "metadata": {},
   "outputs": [
    {
     "name": "stdout",
     "output_type": "stream",
     "text": [
      "                             sum_sq      df           F  PR(>F)\n",
      "package_transport_int  6.986236e+16     1.0  1650.63141     0.0\n",
      "Residual               2.034545e+17  4807.0         NaN     NaN\n"
     ]
    }
   ],
   "source": [
    "annova=ols('total_cost ~ package_transport_int',data=data).fit()\n",
    "an=sm.stats.anova_lm(annova,typ=2)\n",
    "print(an.round(decimals=5))"
   ]
  },
  {
   "cell_type": "code",
   "execution_count": 118,
   "id": "ef53aa65",
   "metadata": {},
   "outputs": [
    {
     "name": "stdout",
     "output_type": "stream",
     "text": [
      "      Multiple Comparison of Means - Tukey HSD, FWER=0.05       \n",
      "================================================================\n",
      "group1 group2   meandiff   p-adj    lower        upper    reject\n",
      "----------------------------------------------------------------\n",
      "    No    Yes 8302139.3914  -0.0 7901528.8018 8702749.981   True\n",
      "----------------------------------------------------------------\n"
     ]
    }
   ],
   "source": [
    "tukey = pairwise_tukeyhsd(data.total_cost,data.package_transport_int,alpha=0.05)\n",
    "print (tukey)"
   ]
  },
  {
   "cell_type": "markdown",
   "id": "56e4dd6d",
   "metadata": {},
   "source": [
    "### 10.package_accomodation"
   ]
  },
  {
   "cell_type": "code",
   "execution_count": 119,
   "id": "f6a5f09a",
   "metadata": {},
   "outputs": [
    {
     "name": "stdout",
     "output_type": "stream",
     "text": [
      "                            sum_sq      df           F  PR(>F)\n",
      "package_accomodation  8.819222e+16     1.0  2290.02497     0.0\n",
      "Residual              1.851246e+17  4807.0         NaN     NaN\n"
     ]
    }
   ],
   "source": [
    "annova=ols('total_cost ~ package_accomodation',data=data).fit()\n",
    "an=sm.stats.anova_lm(annova,typ=2)\n",
    "print(an.round(decimals=5))"
   ]
  },
  {
   "cell_type": "code",
   "execution_count": 120,
   "id": "948be17b",
   "metadata": {},
   "outputs": [
    {
     "name": "stdout",
     "output_type": "stream",
     "text": [
      "       Multiple Comparison of Means - Tukey HSD, FWER=0.05       \n",
      "=================================================================\n",
      "group1 group2   meandiff   p-adj    lower        upper     reject\n",
      "-----------------------------------------------------------------\n",
      "    No    Yes 8593848.7012  -0.0 8241781.9192 8945915.4833   True\n",
      "-----------------------------------------------------------------\n"
     ]
    }
   ],
   "source": [
    "tukey = pairwise_tukeyhsd(data.total_cost,data.package_accomodation,alpha=0.05)\n",
    "print (tukey)"
   ]
  },
  {
   "cell_type": "markdown",
   "id": "f01f9f9e",
   "metadata": {},
   "source": [
    "### 11.package_food"
   ]
  },
  {
   "cell_type": "code",
   "execution_count": 121,
   "id": "40424d54",
   "metadata": {},
   "outputs": [
    {
     "name": "stdout",
     "output_type": "stream",
     "text": [
      "                    sum_sq      df           F  PR(>F)\n",
      "package_food  7.777952e+16     1.0  1912.09632     0.0\n",
      "Residual      1.955373e+17  4807.0         NaN     NaN\n"
     ]
    }
   ],
   "source": [
    "annova=ols('total_cost ~ package_food',data=data).fit()\n",
    "an=sm.stats.anova_lm(annova,typ=2)\n",
    "print(an.round(decimals=5))"
   ]
  },
  {
   "cell_type": "code",
   "execution_count": 122,
   "id": "3ffe5543",
   "metadata": {},
   "outputs": [
    {
     "name": "stdout",
     "output_type": "stream",
     "text": [
      "       Multiple Comparison of Means - Tukey HSD, FWER=0.05       \n",
      "=================================================================\n",
      "group1 group2   meandiff   p-adj    lower        upper     reject\n",
      "-----------------------------------------------------------------\n",
      "    No    Yes 8126670.7211  -0.0 7762323.6887 8491017.7535   True\n",
      "-----------------------------------------------------------------\n"
     ]
    }
   ],
   "source": [
    "tukey = pairwise_tukeyhsd(data.total_cost,data.package_food,alpha=0.05)\n",
    "print (tukey)"
   ]
  },
  {
   "cell_type": "markdown",
   "id": "0af45ebb",
   "metadata": {},
   "source": [
    "### 12.package_transport_tz"
   ]
  },
  {
   "cell_type": "code",
   "execution_count": 123,
   "id": "4a53768d",
   "metadata": {},
   "outputs": [
    {
     "name": "stdout",
     "output_type": "stream",
     "text": [
      "                            sum_sq      df           F  PR(>F)\n",
      "package_transport_tz  7.665663e+16     1.0  1873.73163     0.0\n",
      "Residual              1.966602e+17  4807.0         NaN     NaN\n"
     ]
    }
   ],
   "source": [
    "annova=ols('total_cost ~ package_transport_tz',data=data).fit()\n",
    "an=sm.stats.anova_lm(annova,typ=2)\n",
    "print(an.round(decimals=5))"
   ]
  },
  {
   "cell_type": "code",
   "execution_count": 124,
   "id": "25476623",
   "metadata": {},
   "outputs": [
    {
     "name": "stdout",
     "output_type": "stream",
     "text": [
      "       Multiple Comparison of Means - Tukey HSD, FWER=0.05       \n",
      "=================================================================\n",
      "group1 group2   meandiff   p-adj    lower        upper     reject\n",
      "-----------------------------------------------------------------\n",
      "    No    Yes 8174370.2616  -0.0 7804151.8038 8544588.7194   True\n",
      "-----------------------------------------------------------------\n"
     ]
    }
   ],
   "source": [
    "tukey = pairwise_tukeyhsd(data.total_cost,data.package_transport_tz,alpha=0.05)\n",
    "print (tukey)"
   ]
  },
  {
   "cell_type": "markdown",
   "id": "9811000b",
   "metadata": {},
   "source": [
    "### 13.package_sightseeing"
   ]
  },
  {
   "cell_type": "code",
   "execution_count": 125,
   "id": "083519dc",
   "metadata": {},
   "outputs": [
    {
     "name": "stdout",
     "output_type": "stream",
     "text": [
      "                           sum_sq      df           F  PR(>F)\n",
      "package_sightseeing  6.313990e+16     1.0  1444.08577     0.0\n",
      "Residual             2.101769e+17  4807.0         NaN     NaN\n"
     ]
    }
   ],
   "source": [
    "annova=ols('total_cost ~ package_sightseeing',data=data).fit()\n",
    "an=sm.stats.anova_lm(annova,typ=2)\n",
    "print(an.round(decimals=5))"
   ]
  },
  {
   "cell_type": "code",
   "execution_count": 126,
   "id": "a824f9d2",
   "metadata": {},
   "outputs": [
    {
     "name": "stdout",
     "output_type": "stream",
     "text": [
      "       Multiple Comparison of Means - Tukey HSD, FWER=0.05       \n",
      "=================================================================\n",
      "group1 group2   meandiff   p-adj    lower        upper     reject\n",
      "-----------------------------------------------------------------\n",
      "    No    Yes 7835786.2203  -0.0 7431542.2593 8240030.1814   True\n",
      "-----------------------------------------------------------------\n"
     ]
    }
   ],
   "source": [
    "tukey = pairwise_tukeyhsd(data.total_cost,data.package_sightseeing,alpha=0.05)\n",
    "print (tukey)"
   ]
  },
  {
   "cell_type": "markdown",
   "id": "45d11168",
   "metadata": {},
   "source": [
    "### 14.package_guided_tour"
   ]
  },
  {
   "cell_type": "code",
   "execution_count": 127,
   "id": "73596839",
   "metadata": {},
   "outputs": [
    {
     "name": "stdout",
     "output_type": "stream",
     "text": [
      "                           sum_sq      df           F  PR(>F)\n",
      "package_guided_tour  5.842676e+16     1.0  1306.98188     0.0\n",
      "Residual             2.148901e+17  4807.0         NaN     NaN\n"
     ]
    }
   ],
   "source": [
    "annova=ols('total_cost ~ package_guided_tour',data=data).fit()\n",
    "an=sm.stats.anova_lm(annova,typ=2)\n",
    "print(an.round(decimals=5))"
   ]
  },
  {
   "cell_type": "code",
   "execution_count": 128,
   "id": "81dd46dd",
   "metadata": {},
   "outputs": [
    {
     "name": "stdout",
     "output_type": "stream",
     "text": [
      "       Multiple Comparison of Means - Tukey HSD, FWER=0.05       \n",
      "=================================================================\n",
      "group1 group2   meandiff   p-adj    lower        upper     reject\n",
      "-----------------------------------------------------------------\n",
      "    No    Yes 7458049.3714  -0.0 7053615.1214 7862483.6213   True\n",
      "-----------------------------------------------------------------\n"
     ]
    }
   ],
   "source": [
    "tukey = pairwise_tukeyhsd(data.total_cost,data.package_guided_tour,alpha=0.05)\n",
    "print (tukey)"
   ]
  },
  {
   "cell_type": "markdown",
   "id": "0ffd2694",
   "metadata": {},
   "source": [
    "### 15.package_insurance"
   ]
  },
  {
   "cell_type": "code",
   "execution_count": 129,
   "id": "50b1189b",
   "metadata": {},
   "outputs": [
    {
     "name": "stdout",
     "output_type": "stream",
     "text": [
      "                         sum_sq      df          F  PR(>F)\n",
      "package_insurance  2.887238e+16     1.0  567.77538     0.0\n",
      "Residual           2.444444e+17  4807.0        NaN     NaN\n"
     ]
    }
   ],
   "source": [
    "annova=ols('total_cost ~ package_insurance',data=data).fit()\n",
    "an=sm.stats.anova_lm(annova,typ=2)\n",
    "print(an.round(decimals=5))"
   ]
  },
  {
   "cell_type": "code",
   "execution_count": 130,
   "id": "59d253d5",
   "metadata": {},
   "outputs": [
    {
     "name": "stdout",
     "output_type": "stream",
     "text": [
      "       Multiple Comparison of Means - Tukey HSD, FWER=0.05       \n",
      "=================================================================\n",
      "group1 group2   meandiff   p-adj    lower        upper     reject\n",
      "-----------------------------------------------------------------\n",
      "    No    Yes 6828580.1498  -0.0 6266757.0551 7390403.2444   True\n",
      "-----------------------------------------------------------------\n"
     ]
    }
   ],
   "source": [
    "tukey = pairwise_tukeyhsd(data.total_cost,data.package_insurance,alpha=0.05)\n",
    "print (tukey)"
   ]
  },
  {
   "cell_type": "markdown",
   "id": "f65d5981",
   "metadata": {},
   "source": [
    "### 16.night_mainland"
   ]
  },
  {
   "cell_type": "code",
   "execution_count": 131,
   "id": "766d89bd",
   "metadata": {},
   "outputs": [
    {
     "name": "stdout",
     "output_type": "stream",
     "text": [
      "                      sum_sq      df        F   PR(>F)\n",
      "night_mainland  1.667585e+14     1.0  2.93468  0.08676\n",
      "Residual        2.731501e+17  4807.0      NaN      NaN\n"
     ]
    }
   ],
   "source": [
    "annova=ols('total_cost ~ night_mainland',data=data).fit()\n",
    "an=sm.stats.anova_lm(annova,typ=2)\n",
    "print(an.round(decimals=5))"
   ]
  },
  {
   "cell_type": "code",
   "execution_count": 132,
   "id": "4663d58c",
   "metadata": {},
   "outputs": [
    {
     "name": "stdout",
     "output_type": "stream",
     "text": [
      "          Multiple Comparison of Means - Tukey HSD, FWER=0.05          \n",
      "=======================================================================\n",
      "group1 group2    meandiff    p-adj      lower          upper     reject\n",
      "-----------------------------------------------------------------------\n",
      "     0      1  -6985112.0466    0.0   -9369874.708 -4600349.3852   True\n",
      "     0      2  -7213590.2347    0.0  -9082634.0744 -5344546.3951   True\n",
      "     0      3  -5821786.9118    0.0  -7730039.3481 -3913534.4755   True\n",
      "     0      4  -3495269.7137    0.0  -5426591.0972 -1563948.3301   True\n",
      "     0      5  -2278356.4618 0.0056  -4293877.8642  -262835.0594   True\n",
      "     0      6     146474.069    1.0  -1821082.1378  2114030.2758  False\n",
      "     0      7    786014.6607    1.0  -1096838.7312  2668868.0527  False\n",
      "     0      9   1373303.7781  0.994  -1024652.9068  3771260.4631  False\n",
      "     0     10    -97035.3568    1.0  -2118299.2357  1924228.5221  False\n",
      "     0     11     31821.6109    1.0  -2782136.6931  2845779.9149  False\n",
      "     0     12    654677.6139    1.0  -1829921.9967  3139277.2245  False\n",
      "     0     13   -510906.8683    1.0  -3351497.1466  2329683.4099  False\n",
      "     0     14    -90864.1325    1.0  -2433889.9319  2252161.6669  False\n",
      "     0     15    -428875.503    1.0  -3618889.9923  2761138.9862  False\n",
      "     0     16   2065720.1289    1.0  -2448556.2564  6579996.5142  False\n",
      "     0     17   -156691.0092    1.0  -5178849.4444   4865467.426  False\n",
      "     0     19  -2105767.4006    1.0  -8661768.4878  4450233.6865  False\n",
      "     0     20  -2197854.3097 0.9982  -6240444.8029  1844736.1834  False\n",
      "     0     21  -4767743.4057 0.0082  -9063871.1365  -471615.6749   True\n",
      "     0     22  -2363631.1173    1.0  -9261845.0065  4534582.7719  False\n",
      "     0     23  -2493352.2776    1.0 -10573812.2962   5587107.741  False\n",
      "     0     24   -4970134.034 0.5845  -11373876.667   1433608.599  False\n",
      "     0     25  -2488812.0461    1.0 -11257212.0548  6279587.9626  False\n",
      "     0     26   -726111.9506    1.0 -10979789.9458  9527566.0445  False\n",
      "     0     27  -4245458.4506 0.9997 -12648218.5857  4157301.6844  False\n",
      "     0     29  -3716499.1506    1.0 -13392624.4555  5959626.1542  False\n",
      "     0     30  -3989229.1631  0.013  -7670842.5787  -307615.7475   True\n",
      "     0     31  -6448696.7006    1.0 -35263625.7788 22366232.3776  False\n",
      "     0     32  -5645261.7206    1.0 -18579505.9816  7288982.5403  False\n",
      "     0     33  -5400116.7006    1.0 -22067317.5794 11267084.1781  False\n",
      "     0     34  -5067487.3256    1.0 -19515065.5327  9380090.8815  False\n",
      "     0     35  -5216288.9006    1.0 -18150533.1616  7717955.3603  False\n",
      "     0     36  -3457585.1721    1.0 -14409166.8623  7493996.5181  False\n",
      "     0     37  -5592189.7006    1.0 -20039767.9077  8855388.5065  False\n",
      "     0     39  -4875521.7006    1.0 -21542722.5794 11791679.1781  False\n",
      "     0     40  -3306515.9506    1.0 -12494496.7791  5881464.8778  False\n",
      "     0     41   -315946.7006    1.0 -29130875.7788 28498982.3776  False\n",
      "     0     42  -2436255.6256    1.0 -10839015.7607  5966504.5094  False\n",
      "     0     43  -4147618.7006    1.0 -17081862.9616  8786625.5603  False\n",
      "     0     45   -3447820.034    1.0 -13123945.3388  6228305.2709  False\n",
      "     0     46  -6257946.7006    1.0 -20705524.9077  8189631.5065  False\n",
      "     0     47     558189.966    1.0 -16109010.9127 17225390.8448  False\n",
      "     0     49  -8354821.7006    1.0 -37169750.7788 20460107.3776  False\n",
      "     0     50    803767.7056    1.0  -9449910.2895 11057445.7008  False\n",
      "     0     51  -8520571.7006    1.0 -37335500.7788 20294357.3776  False\n",
      "     0     53  -4542571.7006    1.0 -33357500.7788 24272357.3776  False\n",
      "     0     54  -5686321.7006    1.0 -34501250.7788 23128607.3776  False\n",
      "     0     55   -6994877.286    1.0 -23662078.1647  9672323.5928  False\n",
      "     0     56  -6974118.3673    1.0  -23641319.246  9693082.5114  False\n",
      "     0     59   4793297.0494    1.0 -15600861.9991 25187456.0978  False\n",
      "     0     60  -5396015.7006 0.7932 -12932179.4509  2140148.0497  False\n",
      "     0     61  -3769071.7006    1.0 -20436272.5794 12898129.1781  False\n",
      "     0     63   -7619655.034    1.0 -24286855.9127  9047545.8448  False\n",
      "     0     64  -5371321.7006    1.0 -34186250.7788 23443607.3776  False\n",
      "     0     65  14957915.7994 0.9994 -13857013.2788 43772844.8776  False\n",
      "     0     66  -1878331.7006    1.0 -30693260.7788 26936597.3776  False\n",
      "     0     69  -4625446.7006    1.0 -33440375.7788 24189482.3776  False\n",
      "     0     70  -7567802.4406 0.4098 -16755783.2691  1620178.3878  False\n",
      "     0     75  -6686321.7006    1.0 -35501250.7788 22128607.3776  False\n",
      "     0     90  -3606634.7006    1.0 -13282760.0055  6069490.6042  False\n",
      "     0    120  -7263796.7006    1.0 -36078725.7788 21551132.3776  False\n",
      "     0    130   1258678.2994    1.0 -27556250.7788 30073607.3776  False\n",
      "     0    145  -7028821.7006    1.0 -35843750.7788 21786107.3776  False\n",
      "     1      2   -228478.1881    1.0  -2697040.5659  2240084.1897  False\n",
      "     1      3   1163325.1348    1.0  -1335054.8802  3661705.1498  False\n",
      "     1      4    3489842.333    0.0    973798.2902  6005886.3757   True\n",
      "     1      5   4706755.5848    0.0    2125515.212  7287995.9576   True\n",
      "     1      6   7131586.1156    0.0   4587622.1289  9675550.1023   True\n",
      "     1      7   7771126.7074    0.0   5292092.1707 10250161.2441   True\n",
      "     1      9   8358415.8248    0.0   5468662.9631 11248168.6865   True\n",
      "     1     10   6888076.6899    0.0   4302349.9048  9473803.4749   True\n",
      "     1     11   7016933.6575    0.0   3773658.0486 10260209.2665   True\n",
      "     1     12   7639789.6605    0.0   4677744.6636 10601834.6574   True\n",
      "     1     13   6474205.1783    0.0   3207796.0693  9740614.2873   True\n",
      "     1     14   6894247.9141    0.0   4049912.2737  9738583.5545   True\n",
      "     1     15   6556236.5436    0.0   2981790.0438 10130683.0434   True\n",
      "     1     16   9050832.1755    0.0   4257173.1742 13844491.1769   True\n",
      "     1     17   6828421.0374 0.0002   1553712.4495 12103129.6253   True\n",
      "     1     19    4879344.646 0.7726   -1872071.916  11630761.208  False\n",
      "     1     20   4787257.7369 0.0098    434900.5326  9139614.9412   True\n",
      "     1     21   2217368.6409 0.9999  -2371442.6232   6806179.905  False\n",
      "     1     22   4621480.9293  0.936  -2462714.8754  11705676.734  False\n",
      "     1     23   4491759.7691 0.9981  -3748040.5593 12731560.0974  False\n",
      "     1     24   2014978.0127    1.0  -4588687.2611  8618643.2865  False\n",
      "     1     25   4496300.0005 0.9997  -4419153.6644 13411753.6655  False\n",
      "     1     26    6259000.096  0.983  -4120710.2934 16638710.4854  False\n",
      "     1     27    2739653.596    1.0  -5816446.7556 11295753.9476  False\n",
      "     1     29    3268612.896    1.0  -6540967.9438 13078193.7358  False\n",
      "     1     30   2995882.8835 0.6969  -1023414.6522  7015180.4193  False\n",
      "     1     31     536415.346    1.0 -28323602.2063 29396432.8983  False\n",
      "     1     32    1339850.326    1.0  -11694533.048    14374233.7  False\n",
      "     1     33    1584995.346    1.0 -15160035.5728 18330026.2648  False\n",
      "     1     34    1917624.721    1.0  -12619671.843  16454921.285  False\n",
      "     1     35    1768823.146    1.0  -11265560.228   14803206.52  False\n",
      "     1     36   3527526.8746    1.0  -7542144.1619  14597197.911  False\n",
      "     1     37    1392922.346    1.0  -13144374.218   15930218.91  False\n",
      "     1     39    2109590.346    1.0 -14635440.5728 18854621.2648  False\n",
      "     1     40    3678596.096    1.0  -5649826.4417 13007018.6337  False\n",
      "     1     41    6669165.346    1.0 -22190852.2063 35529182.8983  False\n",
      "     1     42    4548856.421  0.999  -4007243.9306 13104956.7726  False\n",
      "     1     43    2837493.346    1.0  -10196890.028   15871876.72  False\n",
      "     1     45   3537292.0127    1.0  -6272288.8272 13346872.8525  False\n",
      "     1     46     727165.346    1.0  -13810131.218   15264461.91  False\n",
      "     1     47   7543302.0127    1.0  -9201728.9061 24288332.9314  False\n",
      "     1     49   -1369709.654    1.0 -30229727.2063 27490307.8983  False\n",
      "     1     50   7788879.7522 0.6791  -2590830.6371 18168590.1416  False\n",
      "     1     51   -1535459.654    1.0 -30395477.2063 27324557.8983  False\n",
      "     1     53    2442540.346    1.0 -26417477.2063 31302557.8983  False\n",
      "     1     54    1298790.346    1.0 -27561227.2063 30158807.8983  False\n",
      "     1     55     -9765.2393    1.0 -16754796.1581 16735265.6794  False\n",
      "     1     56     10993.6793    1.0 -16734037.2394 16756024.5981  False\n",
      "     1     59   11778409.096 0.9933  -8679406.0032 32236224.1952  False\n",
      "     1     60    1589096.346    1.0  -6117669.4744  9295862.1664  False\n",
      "     1     61    3216040.346    1.0 -13528990.5728 19961071.2648  False\n",
      "     1     63   -634542.9873    1.0 -17379573.9061 16110487.9314  False\n",
      "     1     64    1613790.346    1.0 -27246227.2063 30473807.8983  False\n",
      "     1     65   21943027.846 0.6432  -6916989.7063 50803045.3983  False\n",
      "     1     66    5106780.346    1.0 -23753237.2063 33966797.8983  False\n",
      "     1     69    2359665.346    1.0 -26500352.2063 31219682.8983  False\n",
      "     1     70    -582690.394    1.0  -9911112.9317  8745732.1437  False\n",
      "     1     75     298790.346    1.0 -28561227.2063 29158807.8983  False\n",
      "     1     90    3378477.346    1.0  -6431103.4938 13188058.1858  False\n",
      "     1    120    -278684.654    1.0 -29138702.2063 28581332.8983  False\n",
      "     1    130    8243790.346    1.0 -20616227.2063 37103807.8983  False\n",
      "     1    145     -43709.654    1.0 -28903727.2063 28816307.8983  False\n",
      "     2      3   1391803.3229 0.8595   -620194.3467  3403800.9926  False\n",
      "     2      4   3718320.5211    0.0   1684430.2713  5752210.7709   True\n",
      "     2      5   4935233.7729    0.0    2821224.836  7049242.7098   True\n",
      "     2      6   7360064.3037    0.0   5291735.3432  9428393.2642   True\n",
      "     2      7   7999604.8955    0.0     6011680.31   9987529.481   True\n",
      "     2      9   8586894.0129    0.0   6105583.1648  11068204.861   True\n",
      "     2     10    7116554.878    0.0   4997070.2873  9236039.4686   True\n",
      "     2     11   7245411.8457    0.0   4360092.3488 10130731.3425   True\n",
      "     2     12   7868267.8486    0.0   5303127.9914 10433407.7058   True\n",
      "     2     13   6702683.3664    0.0     3791384.62  9613982.1128   True\n",
      "     2     14   7122726.1022    0.0   4694459.8156  9550992.3888   True\n",
      "     2     15   6784714.7317    0.0   3531577.8297 10037851.6337   True\n",
      "     2     16   9279310.3637    0.0   4720209.7347 13838410.9926   True\n",
      "     2     17   7056899.2255    0.0   1994411.4369 12119387.0142   True\n",
      "     2     19   5107822.8341  0.587  -1479123.1591 11694768.8273  False\n",
      "     2     20    5015735.925 0.0009    923151.7589  9108320.0912   True\n",
      "     2     21    2445846.829 0.9959  -1897357.1428  6789050.8009  False\n",
      "     2     22   4849959.1174 0.8383  -2077671.2222 11777589.4571  False\n",
      "     2     23   4720237.9572 0.9915  -3385349.0897  12825825.004  False\n",
      "     2     24   2243456.2008    1.0  -4191963.5192  8678875.9207  False\n",
      "     2     25   4724778.1887 0.9986  -4066782.8772 13516339.2545  False\n",
      "     2     26   6487478.2841 0.9616  -3786012.8309 16760969.3991  False\n",
      "     2     27   2968131.7841    1.0  -5458794.4141 11395057.9823  False\n",
      "     2     29   3497091.0841    1.0  -6200027.4661 13194209.6343  False\n",
      "     2     30   3224361.0716 0.2839   -512079.0261  6960801.1694  False\n",
      "     2     31    764893.5341    1.0 -28057091.9118   29586878.98  False\n",
      "     2     32   1568328.5141    1.0 -11381628.3145 14518285.3427  False\n",
      "     2     33   1813473.5341    1.0  -14865923.709 18492870.7772  False\n",
      "     2     34   2146102.9091    1.0  -12315543.723 16607749.5412  False\n",
      "     2     35   1997301.3341    1.0 -10952655.4945 14947258.1627  False\n",
      "     2     36   3756005.0627    1.0  -7214129.3385 14726139.4638  False\n",
      "     2     37   1621400.5341    1.0  -12840246.098 16083047.1662  False\n",
      "     2     39   2338068.5341    1.0  -14341328.709 19017465.7772  False\n",
      "     2     40   3907074.2841    1.0  -5303012.5214 13117161.0897  False\n",
      "     2     41   6897643.5341    1.0 -21924341.9118   35719628.98  False\n",
      "     2     42   4777334.6091 0.9952  -3649591.5891 13204260.8073  False\n",
      "     2     43   3065971.5341    1.0  -9883985.2945 16015928.3627  False\n",
      "     2     45   3765770.2008    1.0  -5931348.3494  13462888.751  False\n",
      "     2     46    955643.5341    1.0  -13506003.098 15417290.1662  False\n",
      "     2     47   7771780.2008    1.0  -8907617.0423 24451177.4439  False\n",
      "     2     49  -1141231.4659    1.0 -29963216.9118   27680753.98  False\n",
      "     2     50   8017357.9404 0.5685  -2256133.1746 18290849.0554  False\n",
      "     2     51  -1306981.4659    1.0 -30128966.9118   27515003.98  False\n",
      "     2     53   2671018.5341    1.0 -26150966.9118   31493003.98  False\n",
      "     2     54   1527268.5341    1.0 -27294716.9118   30349253.98  False\n",
      "     2     55    218712.9488    1.0 -16460684.2943 16898110.1919  False\n",
      "     2     56    239471.8674    1.0 -16439925.3757 16918869.1106  False\n",
      "     2     59  12006887.2841 0.9894  -8397240.4982 32411015.0664  False\n",
      "     2     60   1817574.5341    1.0  -5745524.7865  9380673.8547  False\n",
      "     2     61   3444518.5341    1.0  -13234878.709 20123915.7772  False\n",
      "     2     63   -406064.7992    1.0 -17085462.0423 16273332.4439  False\n",
      "     2     64   1842268.5341    1.0 -26979716.9118   30664253.98  False\n",
      "     2     65  22171506.0341 0.6101  -6650479.4118   50993491.48  False\n",
      "     2     66   5335258.5341    1.0 -23486726.9118   34157243.98  False\n",
      "     2     69   2588143.5341    1.0 -26233841.9118   31410128.98  False\n",
      "     2     70   -354212.2059    1.0  -9564299.0114  8855874.5997  False\n",
      "     2     75    527268.5341    1.0 -28294716.9118   29349253.98  False\n",
      "     2     90   3606955.5341    1.0  -6090163.0161 13304074.0843  False\n",
      "     2    120    -50206.4659    1.0 -28872191.9118   28771778.98  False\n",
      "     2    130   8472268.5341    1.0 -20349716.9118   37294253.98  False\n",
      "     2    145    184768.5341    1.0 -28637216.9118   29006753.98  False\n",
      "     3      4   2326517.1981 0.0063     256538.446  4396495.9503   True\n",
      "     3      5     3543430.45    0.0   1394678.1907  5692182.7092   True\n",
      "     3      6   5968260.9808    0.0   3864434.1878  8072087.7738   True\n",
      "     3      7   6607801.5726    0.0   4582969.0749  8632634.0702   True\n",
      "     3      9     7195090.69    0.0   4684113.5871  9706067.7928   True\n",
      "     3     10    5724751.555    0.0   3570611.9551   7878891.155   True\n",
      "     3     11   5853608.5227    0.0   2942737.3327  8764479.7127   True\n",
      "     3     12   6476464.5257    0.0   3882617.0026  9070312.0488   True\n",
      "     3     13   5310880.0435    0.0   2374255.6417  8247504.4452   True\n",
      "     3     14   5730922.7793    0.0   3272350.0948  8189495.4637   True\n",
      "     3     15   5392911.4088    0.0   2117090.5667  8668732.2509   True\n",
      "     3     16   7887507.0407    0.0   3312192.7312 12462821.3503   True\n",
      "     3     17   5665095.9026 0.0073    588001.7439 10742190.0613   True\n",
      "     3     19   3716019.5112 0.9958  -2882159.0256  10314198.048  False\n",
      "     3     20   3623932.6021 0.2333   -486705.7478  7734570.9519  False\n",
      "     3     21   1054043.5061    1.0  -3306177.0419  5414264.0541  False\n",
      "     3     22   3458155.7945 0.9998  -3480155.5713 10396467.1603  False\n",
      "     3     23   3328434.6343    1.0  -4786283.0971 11443152.3657  False\n",
      "     3     24    851652.8778    1.0  -5595263.3972  7298569.1529  False\n",
      "     3     25   3332974.8657    1.0  -5467005.1605 12132954.8919  False\n",
      "     3     26   5095674.9612 0.9998  -5185021.6191 15376371.5415  False\n",
      "     3     27   1576328.4612    1.0  -6859380.6161 10012037.5384  False\n",
      "     3     29   2105287.7612    1.0  -7599464.2018 11810039.7242  False\n",
      "     3     30   1832557.7487 0.9999  -1923648.7273  5588764.2247  False\n",
      "     3     31   -626909.7888    1.0 -29451464.3826  28197644.805  False\n",
      "     3     32    176525.1912    1.0 -12779148.6373 13132199.0196  False\n",
      "     3     33    421670.2112    1.0 -16262166.1246  17105506.547  False\n",
      "     3     34    754299.5862    1.0 -13712466.6661 15221065.8385  False\n",
      "     3     35    605498.0112    1.0 -12350175.8173 13561171.8396  False\n",
      "     3     36   2364201.7398    1.0  -8612680.8444 13341084.3239  False\n",
      "     3     37    229597.2112    1.0 -14237169.0411 14696363.4635  False\n",
      "     3     39    946265.2112    1.0 -15737571.1246  17630101.547  False\n",
      "     3     40   2515270.9612    1.0  -6702852.5709 11733394.4932  False\n",
      "     3     41   5505840.2112    1.0 -23318714.3826  34330394.805  False\n",
      "     3     42   3385531.2862    1.0  -5050177.7911 11821240.3634  False\n",
      "     3     43   1674168.2112    1.0 -11281505.6173 14629842.0396  False\n",
      "     3     45   2373966.8778    1.0  -7330785.0851 12078718.8408  False\n",
      "     3     46   -436159.7888    1.0 -14902926.0411 14030606.4635  False\n",
      "     3     47   6379976.8778    1.0  -10303859.458 23063813.2136  False\n",
      "     3     49  -2533034.7888    1.0 -31357589.3826  26291519.805  False\n",
      "     3     50   6625554.6174 0.9468  -3655141.9629 16906251.1977  False\n",
      "     3     51  -2698784.7888    1.0 -31523339.3826  26125769.805  False\n",
      "     3     53   1279215.2112    1.0 -27545339.3826  30103769.805  False\n",
      "     3     54    135465.2112    1.0 -28689089.3826  28960019.805  False\n",
      "     3     55  -1173090.3742    1.0   -17856926.71 15510745.9616  False\n",
      "     3     56  -1152331.4555    1.0 -17836167.7913 15531504.8803  False\n",
      "     3     59  10615083.9612 0.9994   -9792672.727 31022840.6493  False\n",
      "     3     60    425771.2112    1.0  -7147112.9038  7998655.3262  False\n",
      "     3     61   2052715.2112    1.0 -14631121.1246  18736551.547  False\n",
      "     3     63  -1797868.1222    1.0  -18481704.458 14885968.2136  False\n",
      "     3     64    450465.2112    1.0 -28374089.3826  29275019.805  False\n",
      "     3     65  20779702.7112 0.7783  -8044851.8826  49604257.305  False\n",
      "     3     66   3943455.2112    1.0 -24881099.3826  32768009.805  False\n",
      "     3     69   1196340.2112    1.0 -27628214.3826  30020894.805  False\n",
      "     3     70  -1746015.5288    1.0 -10964139.0609  7472108.0032  False\n",
      "     3     75   -864534.7888    1.0 -29689089.3826  27960019.805  False\n",
      "     3     90   2215152.2112    1.0  -7489599.7518 11919904.1742  False\n",
      "     3    120  -1442009.7888    1.0 -30266564.3826  27382544.805  False\n",
      "     3    130   7080465.2112    1.0 -21744089.3826  35905019.805  False\n",
      "     3    145  -1207034.7888    1.0 -30031589.3826  27617519.805  False\n",
      "     4      5   1216913.2518 0.9962   -952351.8766  3386178.3803  False\n",
      "     4      6   3641743.7826    0.0   1516970.3592  5766517.2061   True\n",
      "     4      7   4281284.3744    0.0   2234696.5875  6327872.1613   True\n",
      "     4      9   4868573.4918    0.0   2340020.3607  7397126.6229   True\n",
      "     4     10   3398234.3569    0.0   1223632.7056  5572836.0082   True\n",
      "     4     11   3527091.3246 0.0013     601045.185  6453137.4641   True\n",
      "     4     12   4149947.3276    0.0   1539081.5901   6760813.065   True\n",
      "     4     13   2984362.8453 0.0423     32695.8921  5936029.7985   True\n",
      "     4     14   3404405.5811    0.0    927884.9229  5880926.2393   True\n",
      "     4     15   3066394.2106 0.1281    -222918.349  6355706.7703  False\n",
      "     4     16   5560989.8426 0.0011    976006.0959 10145973.5892   True\n",
      "     4     17   3338578.7045 0.9299  -1747230.9678  8424388.3767  False\n",
      "     4     19    1389502.313    1.0  -5215384.8873  7994389.5134  False\n",
      "     4     20   1297415.4039    1.0  -2823982.7289  5418813.5367  False\n",
      "     4     21  -1272473.6921    1.0  -5642839.5982   3097892.214  False\n",
      "     4     22   1131638.5964    1.0  -5813052.8679  8076330.0607  False\n",
      "     4     23   1001917.4361    1.0  -7118256.1326  9122091.0048  False\n",
      "     4     24  -1474864.3203    1.0   -7928646.497  4978917.8564  False\n",
      "     4     25   1006457.6676    1.0   -7798553.598  9811468.9332  False\n",
      "     4     26    2769157.763    1.0  -7515845.7422 13054161.2682  False\n",
      "     4     27    -750188.737    1.0  -9191146.1804  7690768.7064  False\n",
      "     4     29    -221229.437    1.0  -9930543.8097  9488084.9358  False\n",
      "     4     30   -493959.4494    1.0  -4261937.9547  3274019.0558  False\n",
      "     4     31   -2953426.987    1.0  -31779517.989  25872664.015  False\n",
      "     4     32   -2149992.007    1.0 -15109083.7682 10809099.7542  False\n",
      "     4     33   -1904846.987    1.0 -18591337.6248 14781643.6508  False\n",
      "     4     34   -1572217.612    1.0 -16042044.8647 12897609.6408  False\n",
      "     4     35   -1721019.187    1.0 -14680110.9482 11238072.5742  False\n",
      "     4     36     37684.5416    1.0 -10943231.9134 11018600.9966  False\n",
      "     4     37   -2096919.987    1.0 -16566747.2397 12372907.2658  False\n",
      "     4     39   -1380251.987    1.0 -18066742.6248 15306238.6508  False\n",
      "     4     40     188753.763    1.0  -9034172.9079   9411680.434  False\n",
      "     4     41    3179323.013    1.0  -25646767.989  32005414.015  False\n",
      "     4     42    1059014.088    1.0  -7381943.3554  9499971.5314  False\n",
      "     4     43    -652348.987    1.0 -13611440.7482 12306742.7742  False\n",
      "     4     45     47449.6797    1.0   -9661864.693  9756764.0524  False\n",
      "     4     46   -2762676.987    1.0 -17232504.2397 11707150.2658  False\n",
      "     4     47   4053459.6797    1.0 -12633030.9581 20739950.3175  False\n",
      "     4     49   -4859551.987    1.0  -33685642.989  23966539.015  False\n",
      "     4     50   4299037.4193    1.0  -5985966.0859 14584040.9245  False\n",
      "     4     51   -5025301.987    1.0  -33851392.989  23800789.015  False\n",
      "     4     53   -1047301.987    1.0  -29873392.989  27778789.015  False\n",
      "     4     54   -2191051.987    1.0  -31017142.989  26635039.015  False\n",
      "     4     55  -3499607.5723    1.0 -20186098.2101 13186883.0655  False\n",
      "     4     56  -3478848.6536    1.0 -20165339.2914 13207641.9842  False\n",
      "     4     59    8288566.763    1.0 -12121359.9386 28698493.4647  False\n",
      "     4     60   -1900745.987    1.0  -9479476.0089   5677984.035  False\n",
      "     4     61    -273801.987    1.0 -16960292.6248 16412688.6508  False\n",
      "     4     63  -4124385.3203    1.0 -20810875.9581 12562105.3175  False\n",
      "     4     64   -1876051.987    1.0  -30702142.989  26950039.015  False\n",
      "     4     65   18453185.513 0.9521  -10372905.489  47279276.515  False\n",
      "     4     66    1616938.013    1.0  -27209152.989  30443029.015  False\n",
      "     4     69   -1130176.987    1.0  -29956267.989  27695914.015  False\n",
      "     4     70   -4072532.727    1.0 -13295459.3979   5150393.944  False\n",
      "     4     75   -3191051.987    1.0  -32017142.989  25635039.015  False\n",
      "     4     90    -111364.987    1.0  -9820679.3597  9597949.3858  False\n",
      "     4    120   -3768526.987    1.0  -32594617.989  25057564.015  False\n",
      "     4    130    4753948.013    1.0  -24072142.989  33580039.015  False\n",
      "     4    145   -3533551.987    1.0  -32359642.989  25292539.015  False\n",
      "     5      6   2424830.5308 0.0095    223243.2993  4626417.7623   True\n",
      "     5      7   3064371.1226    0.0    938143.0524  5190599.1928   True\n",
      "     5      9     3651660.24    0.0   1058225.2256  6245095.2544   True\n",
      "     5     10   2181321.1051 0.0777    -68393.6722  4431035.8824  False\n",
      "     5     11   2310178.0727 0.5901    -672114.711  5292470.8565  False\n",
      "     5     12   2933034.0757 0.0103    259283.1269  5606785.0245   True\n",
      "     5     13   1767449.5935 0.9897   -1239984.868  4774884.0549  False\n",
      "     5     14   2187492.3293 0.2917   -355238.2517  4730222.9103  False\n",
      "     5     15   1849480.9588 0.9972  -1489965.3055  5188927.2231  False\n",
      "     5     16   4344076.5907 0.1158   -277005.5546  8965158.7361  False\n",
      "     5     17   2121665.4526    1.0  -2996711.6592  7240042.5645  False\n",
      "     5     19    172589.0612    1.0  -6457407.8593  6802585.9817  False\n",
      "     5     20     80502.1521    1.0  -4081017.6191  4242021.9233  False\n",
      "     5     21  -2489386.9439 0.9956  -6897609.0788   1918835.191  False\n",
      "     5     22    -85274.6555    1.0  -7053851.5383  6883302.2273  False\n",
      "     5     23   -214995.8157    1.0  -8355606.5436  7925614.9122  False\n",
      "     5     24  -2691777.5721    1.0  -9171255.0681  3787699.9238  False\n",
      "     5     25   -210455.5843    1.0  -9034317.9826  8613406.8141  False\n",
      "     5     26   1552244.5112    1.0  -8748902.0919 11853391.1143  False\n",
      "     5     27  -1967101.9888    1.0 -10427721.7532  6493517.7757  False\n",
      "     5     29  -1438142.6888    1.0 -11164555.6877  8288270.3101  False\n",
      "     5     30  -1710872.7013    1.0  -5522694.6086  2100949.2061  False\n",
      "     5     31  -4170340.2388    1.0 -33002194.9605 24661514.4829  False\n",
      "     5     32  -3366905.2588    1.0 -16338812.7327  9605002.2151  False\n",
      "     5     33  -3121760.2388    1.0 -19818205.7899 13574685.3124  False\n",
      "     5     34  -2789130.8638    1.0 -17270436.9154 11692175.1878  False\n",
      "     5     35  -2937932.4388    1.0 -15909839.9127 10033975.0351  False\n",
      "     5     36  -1179228.7102    1.0 -12175266.6525  9816809.2321  False\n",
      "     5     37  -3313833.2388    1.0 -17795139.2904 11167472.8128  False\n",
      "     5     39  -2597165.2388    1.0 -19293610.7899 14099280.3124  False\n",
      "     5     40  -1028159.4888    1.0 -10269084.8004  8212765.8228  False\n",
      "     5     41   1962409.7612    1.0 -26869444.9605 30794264.4829  False\n",
      "     5     42   -157899.1638    1.0  -8618518.9282  8302720.6007  False\n",
      "     5     43  -1869262.2388    1.0 -14841169.7127 11102645.2351  False\n",
      "     5     45  -1169463.5721    1.0 -10895876.5711  8556949.4268  False\n",
      "     5     46  -3979590.2388    1.0 -18460896.2904 10501715.8128  False\n",
      "     5     47   2836546.4279    1.0 -13859899.1233  19532991.979  False\n",
      "     5     49  -6076465.2388    1.0 -34908319.9605 22755389.4829  False\n",
      "     5     50   3082124.1675    1.0  -7219022.4357 13383270.7706  False\n",
      "     5     51  -6242215.2388    1.0 -35074069.9605 22589639.4829  False\n",
      "     5     53  -2264215.2388    1.0 -31096069.9605 26567639.4829  False\n",
      "     5     54  -3407965.2388    1.0 -32239819.9605 25423889.4829  False\n",
      "     5     55  -4716520.8241    1.0 -21412966.3753  11979924.727  False\n",
      "     5     56  -4695761.9055    1.0 -21392207.4566 12000683.6457  False\n",
      "     5     59   7071653.5112    1.0 -13346412.8078 27489719.8302  False\n",
      "     5     60  -3117659.2388    1.0 -10718282.4358  4482963.9582  False\n",
      "     5     61  -1490715.2388    1.0 -18187160.7899 15205730.3124  False\n",
      "     5     63  -5341298.5721    1.0 -22037744.1233  11355146.979  False\n",
      "     5     64  -3092965.2388    1.0 -31924819.9605 25738889.4829  False\n",
      "     5     65  17236272.2612 0.9856 -11595582.4605 46068126.9829  False\n",
      "     5     66    400024.7612    1.0 -28431829.9605 29231879.4829  False\n",
      "     5     69  -2347090.2388    1.0 -31178944.9605 26484764.4829  False\n",
      "     5     70  -5289445.9788 0.9941 -14530371.2904  3951479.3328  False\n",
      "     5     75  -4407965.2388    1.0 -33239819.9605 24423889.4829  False\n",
      "     5     90  -1328278.2388    1.0 -11054691.2377  8398134.7601  False\n",
      "     5    120  -4985440.2388    1.0 -33817294.9605 23846414.4829  False\n",
      "     5    130   3537034.7612    1.0 -25294819.9605 32368889.4829  False\n",
      "     5    145  -4750465.2388    1.0 -33582319.9605 24081389.4829  False\n",
      "     6      7    639540.5918    1.0  -1441275.7649  2720356.9484  False\n",
      "     6      9   1226829.7092 0.9999  -1329506.7471  3783166.1654  False\n",
      "     6     10   -243509.4257    1.0  -2450355.0213  1963336.1698  False\n",
      "     6     11   -114652.4581    1.0  -3064740.7875  2835435.8713  False\n",
      "     6     12    508203.5449    1.0   -2129578.675  3145985.7648  False\n",
      "     6     13   -657380.9373    1.0  -3632883.0703  2318121.1957  False\n",
      "     6     14   -237338.2015    1.0  -2742219.3785  2267542.9755  False\n",
      "     6     15    -575349.572    1.0  -3886067.3576  2735368.2136  False\n",
      "     6     16   1919246.0599    1.0  -2681118.1754  6519610.2952  False\n",
      "     6     17   -303165.0782    1.0  -5402844.9861  4796514.8297  False\n",
      "     6     19  -2252241.4696    1.0  -8867814.7682   4363331.829  False\n",
      "     6     20  -2344328.3787 0.9953  -6482830.2465  1794173.4891  False\n",
      "     6     21  -4914217.4747 0.0068  -9300716.4538  -527718.4956   True\n",
      "     6     22  -2510105.1863    1.0   -9464960.661  4444750.2885  False\n",
      "     6     23  -2639826.3465    1.0 -10768694.2829  5489041.5898  False\n",
      "     6     24  -5116608.1029  0.527 -11581326.1575  1348109.9516  False\n",
      "     6     25  -2635286.1151    1.0 -11448316.1574  6177743.9273  False\n",
      "     6     26   -872586.0196    1.0 -11164455.2494  9419283.2102  False\n",
      "     6     27  -4391932.5196 0.9994 -12841254.2499  4057389.2107  False\n",
      "     6     29  -3862973.2196    1.0 -13579560.1064  5853613.6672  False\n",
      "     6     30  -4135703.2321 0.0112  -7922382.1406  -349024.3235   True\n",
      "     6     31  -6595170.7696    1.0 -35423712.1409 22233370.6017  False\n",
      "     6     32  -5791735.7896    1.0 -18756277.2167  7172805.6375  False\n",
      "     6     33  -5546590.7696    1.0 -22237314.0896 11144132.5504  False\n",
      "     6     34  -5213961.3946    1.0  -19688669.539  9260746.7498  False\n",
      "     6     35  -5362762.9696    1.0 -18327304.3967  7601778.4575  False\n",
      "     6     36   -3604059.241    1.0 -14591406.5702  7383288.0881  False\n",
      "     6     37  -5738663.7696    1.0  -20213371.914  8736044.3748  False\n",
      "     6     39  -5021995.7696    1.0 -21712719.0896 11668727.5504  False\n",
      "     6     40  -3452990.0196    1.0 -12683572.4237  5777592.3845  False\n",
      "     6     41   -462420.7696    1.0 -29290962.1409 28366120.6017  False\n",
      "     6     42  -2582729.6946    1.0 -11032051.4249  5866592.0357  False\n",
      "     6     43  -4294092.7696    1.0 -17258634.1967  8670448.6575  False\n",
      "     6     45  -3594294.1029    1.0 -13310880.9898  6122292.7839  False\n",
      "     6     46  -6404420.7696    1.0  -20879128.914  8070287.3748  False\n",
      "     6     47    411715.8971    1.0  -16279007.423 17102439.2171  False\n",
      "     6     49  -8501295.7696    1.0 -37329837.1409 20327245.6017  False\n",
      "     6     50    657293.6366    1.0  -9634575.5931 10949162.8664  False\n",
      "     6     51  -8667045.7696    1.0 -37495587.1409 20161495.6017  False\n",
      "     6     53  -4689045.7696    1.0 -33517587.1409 24139495.6017  False\n",
      "     6     54  -5832795.7696    1.0 -34661337.1409 22995745.6017  False\n",
      "     6     55  -7141351.3549    1.0  -23832074.675  9549371.9651  False\n",
      "     6     56  -7120592.4363    1.0 -23811315.7563  9570130.8838  False\n",
      "     6     59   4646822.9804    1.0 -15766564.3698 25060210.3306  False\n",
      "     6     60  -5542489.7696 0.7478 -13130534.5695  2045555.0303  False\n",
      "     6     61  -3915545.7696    1.0 -20606269.0896 12775177.5504  False\n",
      "     6     63  -7766129.1029    1.0  -24456852.423  8924594.2171  False\n",
      "     6     64  -5517795.7696    1.0 -34346337.1409 23310745.6017  False\n",
      "     6     65  14811441.7304 0.9996 -14017099.6409 43639983.1017  False\n",
      "     6     66  -2024805.7696    1.0 -30853347.1409 26803735.6017  False\n",
      "     6     69  -4771920.7696    1.0 -33600462.1409 24056620.6017  False\n",
      "     6     70  -7714276.5096 0.3687 -16944858.9137  1516305.8945  False\n",
      "     6     75  -6832795.7696    1.0 -35661337.1409 21995745.6017  False\n",
      "     6     90  -3753108.7696    1.0 -13469695.6564  5963478.1172  False\n",
      "     6    120  -7410270.7696    1.0 -36238812.1409 21418270.6017  False\n",
      "     6    130   1112204.2304    1.0 -27716337.1409 29940745.6017  False\n",
      "     6    145  -7175295.7696    1.0 -36003837.1409 21653245.6017  False\n",
      "     7      9    587289.1174    1.0  -1904440.3113  3079018.5461  False\n",
      "     7     10   -883050.0175    1.0  -3014722.3542  1248622.3192  False\n",
      "     7     11   -754193.0498    1.0  -3648477.1789  2140091.0793  False\n",
      "     7     12   -131337.0469    1.0  -2706556.3595  2443882.2658  False\n",
      "     7     13  -1296921.5291    1.0  -4217105.1555  1623262.0973  False\n",
      "     7     14   -876878.7933    1.0  -3315790.2676  1562032.6811  False\n",
      "     7     15  -1214890.1638    1.0  -4475980.7366  2046200.4091  False\n",
      "     7     16   1279705.4682    1.0  -3285073.8875  5844484.8238  False\n",
      "     7     17   -942705.6699    1.0  -6010308.1239   4124896.784  False\n",
      "     7     19  -2891782.0614    1.0  -9482659.8131  3699095.6903  False\n",
      "     7     20  -2983868.9705 0.7559  -7082778.2374  1115040.2964  False\n",
      "     7     21  -5553758.0665 0.0003  -9902922.6716 -1204593.4614   True\n",
      "     7     22   -3149645.778    1.0 -10081014.6287  3781723.0726  False\n",
      "     7     23  -3279366.9383    1.0 -11388149.4237  4829415.5471  False\n",
      "     7     24  -5756148.6947 0.2035 -12195592.6919   683295.3025  False\n",
      "     7     25  -3274826.7068    1.0 -12069333.9697   5519680.556  False\n",
      "     7     26  -1512126.6114    1.0 -11788139.0535  8763885.8308  False\n",
      "     7     27  -5031473.1114  0.986 -13461472.9436  3398526.7208  False\n",
      "     7     29  -4502513.8114    1.0   -14202303.51  5197275.8873  False\n",
      "     7     30  -4775243.8238 0.0003   -8518610.841 -1031876.8067   True\n",
      "     7     31  -7234711.3614    1.0 -36057595.6214 21588172.8986  False\n",
      "     7     32  -6431276.3814 0.9998 -19383233.5263  6520680.7636  False\n",
      "     7     33  -6186131.3614    1.0 -22867081.7064 10494818.9837  False\n",
      "     7     34  -5853501.9864    1.0 -20316939.8672  8609935.8945  False\n",
      "     7     35  -6002303.5614    1.0 -18954260.7063  6949653.5836  False\n",
      "     7     36  -4243599.8328    1.0 -15216095.4833  6728895.8177  False\n",
      "     7     37  -6378204.3614    1.0 -20841642.2422  8085233.5195  False\n",
      "     7     39  -5661536.3614    1.0 -22342486.7064 11019413.9837  False\n",
      "     7     40  -4092530.6114    1.0 -13305429.7743  5120368.5516  False\n",
      "     7     41  -1101961.3614    1.0 -29924845.6214 27720922.8986  False\n",
      "     7     42  -3222270.2864    1.0 -11652270.1186  5207729.5458  False\n",
      "     7     43  -4933633.3614    1.0 -17885590.5063  8018323.7836  False\n",
      "     7     45  -4233834.6947    1.0 -13933624.3933  5465955.0039  False\n",
      "     7     46  -7043961.3614 0.9999 -21507399.2422  7419476.5195  False\n",
      "     7     47   -227824.6947    1.0 -16908775.0398 16453125.6504  False\n",
      "     7     49  -9140836.3614    1.0 -37963720.6214 19682047.8986  False\n",
      "     7     50     17753.0449    1.0 -10258259.3973  10293765.487  False\n",
      "     7     51  -9306586.3614    1.0 -38129470.6214 19516297.8986  False\n",
      "     7     53  -5328586.3614    1.0 -34151470.6214 23494297.8986  False\n",
      "     7     54  -6472336.3614    1.0 -35295220.6214 22350547.8986  False\n",
      "     7     55  -7780891.9467    1.0 -24461842.2918  8900058.3984  False\n",
      "     7     56   -7760133.028    1.0 -24441083.3731   8920817.317  False\n",
      "     7     59   4007282.3886    1.0 -16398114.9997  24412679.777  False\n",
      "     7     60  -6182030.3614 0.4333 -13748554.2234  1384493.5006  False\n",
      "     7     61  -4555086.3614    1.0 -21236036.7064 12125863.9837  False\n",
      "     7     63  -8405669.6947 0.9997 -25086620.0398  8275280.6504  False\n",
      "     7     64  -6157336.3614    1.0 -34980220.6214 22665547.8986  False\n",
      "     7     65  14171901.1386 0.9999 -14650983.1214 42994785.3986  False\n",
      "     7     66  -2664346.3614    1.0 -31487230.6214 26158537.8986  False\n",
      "     7     69  -5411461.3614    1.0 -34234345.6214 23411422.8986  False\n",
      "     7     70  -8353817.1014 0.1753 -17566716.2643   859082.0616  False\n",
      "     7     75  -7472336.3614    1.0 -36295220.6214 21350547.8986  False\n",
      "     7     90  -4392649.3614    1.0   -14092439.06  5307140.3373  False\n",
      "     7    120  -8049811.3614    1.0 -36872695.6214 20773072.8986  False\n",
      "     7    130    472663.6386    1.0 -28350220.6214 29295547.8986  False\n",
      "     7    145  -7814836.3614    1.0 -36637720.6214 21008047.8986  False\n",
      "     9     10  -1470339.1349 0.9954  -4068239.5023  1127561.2324  False\n",
      "     9     11  -1341482.1672    1.0  -4594471.5597  1911507.2252  False\n",
      "     9     12   -718626.1643    1.0  -3691304.0606  2254051.7321  False\n",
      "     9     13  -1884210.6465 0.9934  -5160264.9469  1391843.6539  False\n",
      "     9     14  -1464167.9107 0.9996  -4319574.8076  1391238.9863  False\n",
      "     9     15  -1802179.2812 0.9998  -5385441.9135  1781083.3511  False\n",
      "     9     16    692416.3508    1.0  -4107820.0948  5492652.7963  False\n",
      "     9     17  -1529994.7874    1.0  -6810681.6744  3750692.0997  False\n",
      "     9     19  -3479071.1788 0.9995 -10235159.4631  3277017.1055  False\n",
      "     9     20  -3571158.0879 0.4257  -7930758.5909   788442.4151  False\n",
      "     9     21  -6141047.1839 0.0001 -10736729.0843 -1545365.2835   True\n",
      "     9     22  -3736934.8954 0.9992 -10825583.1101  3351713.3192  False\n",
      "     9     23  -3866656.0557    1.0 -12110284.6719  4376972.5605  False\n",
      "     9     24  -6343437.8121 0.0888 -12951879.2593    265003.635  False\n",
      "     9     25  -3862115.8242    1.0  -12781107.772  5056876.1235  False\n",
      "     9     26  -2099415.7288    1.0 -12482165.4165   8283333.959  False\n",
      "     9     27  -5618762.2288 0.9299 -14178549.4071  2941024.9495  False\n",
      "     9     29  -5089802.9288 0.9994 -14902599.6537  4722993.7962  False\n",
      "     9     30  -5362532.9412 0.0001  -9389672.8684 -1335393.0141   True\n",
      "     9     31  -7822000.4788    1.0 -36683111.2757 21039110.3181  False\n",
      "     9     32  -7018565.4988 0.9986 -20055369.2962  6018238.2986  False\n",
      "     9     33  -6773420.4788    1.0 -23520335.5315  9973494.5739  False\n",
      "     9     34  -6440791.1038    1.0 -20980257.8994  8098675.6918  False\n",
      "     9     35  -6589592.6788 0.9997 -19626396.4762  6447211.1186  False\n",
      "     9     36  -4830888.9502    1.0 -15903409.8993  6241631.9989  False\n",
      "     9     37  -6965493.4788 0.9999 -21504960.2744  7573973.3168  False\n",
      "     9     39  -6248825.4788    1.0 -22995740.5315 10498089.5739  False\n",
      "     9     40  -4679819.7288 0.9998 -14011623.9677  4651984.5102  False\n",
      "     9     41  -1689250.4788    1.0 -30550361.2757 27171860.3181  False\n",
      "     9     42  -3809559.4038    1.0 -12369346.5821  4750227.7745  False\n",
      "     9     43  -5520922.4788    1.0 -18557726.2762  7515881.3186  False\n",
      "     9     45  -4821123.8121 0.9999 -14633920.5371  4991672.9128  False\n",
      "     9     46  -7631250.4788 0.9992 -22170717.2744  6908216.3168  False\n",
      "     9     47   -815113.8121    1.0 -17562028.8648 15931801.2406  False\n",
      "     9     49  -9728125.4788    1.0 -38589236.2757 19132985.3181  False\n",
      "     9     50   -569536.0725    1.0 -10952285.7603  9813213.6152  False\n",
      "     9     51  -9893875.4788    1.0 -38754986.2757 18967235.3181  False\n",
      "     9     53  -5915875.4788    1.0 -34776986.2757 22945235.3181  False\n",
      "     9     54  -7059625.4788    1.0 -35920736.2757 21801485.3181  False\n",
      "     9     55  -8368181.0641 0.9998 -25115096.1168  8378733.9886  False\n",
      "     9     56  -8347422.1454 0.9998 -25094337.1981  8399492.9072  False\n",
      "     9     59   3419993.2712    1.0 -17039364.0487 23879350.5912  False\n",
      "     9     60  -6769319.4788 0.2429 -14480178.2326   941539.2751  False\n",
      "     9     61  -5142375.4788    1.0 -21889290.5315 11604539.5739  False\n",
      "     9     63  -8992958.8121 0.9987 -25739873.8648  7753956.2406  False\n",
      "     9     64  -6744625.4788    1.0 -35605736.2757 22116485.3181  False\n",
      "     9     65  13584612.0212    1.0 -15276498.7757 42445722.8181  False\n",
      "     9     66  -3251635.4788    1.0 -32112746.2757 25609475.3181  False\n",
      "     9     69  -5998750.4788    1.0 -34859861.2757 22862360.3181  False\n",
      "     9     70  -8941106.2188  0.091 -18272910.4577   390698.0202  False\n",
      "     9     75  -8059625.4788    1.0 -36920736.2757 20801485.3181  False\n",
      "     9     90  -4979938.4788 0.9997 -14792735.2037  4832858.2462  False\n",
      "     9    120  -8637100.4788    1.0 -37498211.2757 20224010.3181  False\n",
      "     9    130   -114625.4788    1.0 -28975736.2757 28746485.3181  False\n",
      "     9    145  -8402125.4788    1.0 -37263236.2757 20458985.3181  False\n",
      "    10     11    128856.9677    1.0  -2857319.7506  3115033.6859  False\n",
      "    10     12    751712.9707    1.0  -1926369.4181  3429795.3594  False\n",
      "    10     13   -413871.5116    1.0  -3425157.4802   2597414.457  False\n",
      "    10     14      6171.2242    1.0  -2541113.5954  2553456.0438  False\n",
      "    10     15   -331840.1463    1.0  -3674755.4155  3011075.1229  False\n",
      "    10     16   2162755.4857    1.0  -2460834.1737  6786345.1451  False\n",
      "    10     17    -59655.6524    1.0   -5180296.765  5060985.4602  False\n",
      "    10     19  -2008732.0439    1.0  -8640476.9357   4623012.848  False\n",
      "    10     20   -2100818.953 0.9997  -6265122.9705  2063485.0646  False\n",
      "    10     21   -4670708.049 0.0197  -9081558.7078  -259857.3901   True\n",
      "    10     22  -2266595.7605    1.0  -9236835.7073  4703644.1863  False\n",
      "    10     23  -2396316.9208    1.0 -10538351.3206   5745717.479  False\n",
      "    10     24  -4873098.6772 0.6738 -11354364.7391  1608167.3847  False\n",
      "    10     25  -2391776.6893    1.0 -11216952.5385  6433399.1599  False\n",
      "    10     26   -629076.5939    1.0 -10931348.3086  9673195.1209  False\n",
      "    10     27  -4148423.0939 0.9999 -12610412.6911  4313566.5033  False\n",
      "    10     29  -3619463.7939    1.0 -13347068.3793  6108140.7916  False\n",
      "    10     30  -3892193.8063 0.0367  -7707055.1928   -77332.4199   True\n",
      "    10     31  -6351661.3439    1.0 -35183918.0685 22480595.3808  False\n",
      "    10     32  -5548226.3639    1.0 -18521027.3204  7424574.5926  False\n",
      "    10     33  -5303081.3439    1.0 -22000221.0746 11394058.3869  False\n",
      "    10     34  -4970451.9689    1.0 -19452558.3801  9511654.4424  False\n",
      "    10     35  -5119253.5439    1.0 -18092054.5004  7853547.4126  False\n",
      "    10     36  -3360549.8153    1.0 -14357641.7751  7636542.1445  False\n",
      "    10     37  -5495154.3439    1.0 -19977260.7551  8986952.0674  False\n",
      "    10     39  -4778486.3439    1.0 -21475626.0746 11918653.3869  False\n",
      "    10     40  -3209480.5939    1.0 -12451660.0857   6032698.898  False\n",
      "    10     41   -218911.3439    1.0 -29051168.0685 28613345.3808  False\n",
      "    10     42  -2339220.2689    1.0 -10801209.8661  6122769.3283  False\n",
      "    10     43  -4050583.3439    1.0 -17023384.3004  8922217.6126  False\n",
      "    10     45  -3350784.6772    1.0 -13078389.2626  6376819.9082  False\n",
      "    10     46  -6160911.3439    1.0 -20643017.7551  8321195.0674  False\n",
      "    10     47    655225.3228    1.0 -16041914.4079 17352365.0535  False\n",
      "    10     49  -8257786.3439    1.0 -37090043.0685 20574470.3808  False\n",
      "    10     50    900803.0624    1.0  -9401468.6523 11203074.7771  False\n",
      "    10     51  -8423536.3439    1.0 -37255793.0685 20408720.3808  False\n",
      "    10     53  -4445536.3439    1.0 -33277793.0685 24386720.3808  False\n",
      "    10     54  -5589286.3439    1.0 -34421543.0685 23242970.3808  False\n",
      "    10     55  -6897841.9292    1.0 -23594981.6599  9799297.8015  False\n",
      "    10     56  -6877083.0105    1.0 -23574222.7413  9820056.7202  False\n",
      "    10     59   4890332.4061    1.0 -15528301.5675 25308966.3798  False\n",
      "    10     60  -5298980.3439 0.8462 -12901128.3381  2303167.6504  False\n",
      "    10     61  -3672036.3439    1.0 -20369176.0746 13025103.3869  False\n",
      "    10     63  -7522619.6772    1.0 -24219759.4079  9174520.0535  False\n",
      "    10     64  -5274286.3439    1.0 -34106543.0685 23557970.3808  False\n",
      "    10     65  15054951.1561 0.9993 -13777305.5685 43887207.8808  False\n",
      "    10     66  -1781296.3439    1.0 -30613553.0685 27050960.3808  False\n",
      "    10     69  -4528411.3439    1.0 -33360668.0685 24303845.3808  False\n",
      "    10     70  -7470767.0839 0.4646 -16712946.5757   1771412.408  False\n",
      "    10     75  -6589286.3439    1.0 -35421543.0685 22242970.3808  False\n",
      "    10     90  -3509599.3439    1.0 -13237203.9293  6218005.2416  False\n",
      "    10    120  -7166761.3439    1.0 -35999018.0685 21665495.3808  False\n",
      "    10    130   1355713.6561    1.0 -27476543.0685 30187970.3808  False\n",
      "    10    145  -6931786.3439    1.0 -35764043.0685 21900470.3808  False\n",
      "    11     12     622856.003    1.0  -2694519.3073  3940231.3133  False\n",
      "    11     13   -542728.4793    1.0  -4134482.4871  3049025.5286  False\n",
      "    11     14   -122685.7434    1.0  -3335397.0005  3090025.5136  False\n",
      "    11     15   -460697.1139    1.0  -4334704.8793  3413310.6514  False\n",
      "    11     16    2033898.518    1.0  -2987100.8852  7054897.9212  False\n",
      "    11     17   -188512.6201    1.0  -5670648.9804  5293623.7402  False\n",
      "    11     19  -2137589.0115    1.0  -9052275.8432  4777097.8201  False\n",
      "    11     20  -2229675.9206 0.9999  -6831228.0087  2371876.1674  False\n",
      "    11     21  -4799565.0166 0.0542  -9625376.5757    26246.5424  False\n",
      "    11     22  -2395452.7282    1.0     -9635418.1  4844512.6436  False\n",
      "    11     23  -2525173.8885    1.0 -10899275.5022  5848927.7252  False\n",
      "    11     24  -5001955.6449 0.7198 -11772455.1415  1768543.8518  False\n",
      "    11     25   -2520633.657    1.0 -11560356.1327  6519088.8187  False\n",
      "    11     26   -757933.5615    1.0 -11244575.3573  9728708.2342  False\n",
      "    11     27  -4277280.0615 0.9999  -12962792.229   4408232.106  False\n",
      "    11     29  -3748320.7615    1.0 -13670978.9054  6174337.3823  False\n",
      "    11     30   -4021050.774 0.1193  -8308943.1545   266841.6065  False\n",
      "    11     31  -6480518.3115    1.0 -35379166.7489 22418130.1258  False\n",
      "    11     32  -5677083.3315    1.0 -18796779.1484  7442612.4853  False\n",
      "    11     33  -5431938.3115    1.0 -22243462.0038 11379585.3807  False\n",
      "    11     34  -5099308.9365    1.0 -19713146.8915  9514529.0184  False\n",
      "    11     35  -5248110.5115    1.0 -18367806.3284  7871585.3053  False\n",
      "    11     36   -3489406.783    1.0 -14659406.1223  7680592.5564  False\n",
      "    11     37  -5624011.3115    1.0 -20237849.2665  8989826.6434  False\n",
      "    11     39  -4907343.3115    1.0 -21718867.0038 11904180.3807  False\n",
      "    11     40  -3338337.5615    1.0 -12785598.2983  6108923.1752  False\n",
      "    11     41   -347768.3115    1.0 -29246416.7489 28550880.1258  False\n",
      "    11     42  -2468077.2365    1.0  -11153589.404   6217434.931  False\n",
      "    11     43  -4179440.3115    1.0 -17299136.1284  8940255.5053  False\n",
      "    11     45  -3479641.6449    1.0 -13402299.7887  6443016.4989  False\n",
      "    11     46  -6289768.3115    1.0 -20903606.2665  8324069.6434  False\n",
      "    11     47    526368.3551    1.0 -16285155.3371 17337892.0474  False\n",
      "    11     49  -8386643.3115    1.0 -37285291.7489 20512005.1258  False\n",
      "    11     50    771946.0947    1.0   -9714695.701 11258587.8905  False\n",
      "    11     51  -8552393.3115    1.0 -37451041.7489 20346255.1258  False\n",
      "    11     53  -4574393.3115    1.0 -33473041.7489 24324255.1258  False\n",
      "    11     54  -5718143.3115    1.0 -34616791.7489 23180505.1258  False\n",
      "    11     55  -7026698.8969    1.0 -23838222.5891  9784824.7954  False\n",
      "    11     56  -7005939.9782    1.0 -23817463.6705  9805583.7141  False\n",
      "    11     59   4761475.4385    1.0 -15750800.5693 25273751.4462  False\n",
      "    11     60  -5427837.3115 0.8602 -13278028.8885  2422354.2655  False\n",
      "    11     61  -3800893.3115    1.0 -20612417.0038 13010630.3807  False\n",
      "    11     63  -7651476.6449    1.0 -24463000.3371  9160047.0474  False\n",
      "    11     64  -5403143.3115    1.0 -34301791.7489 23495505.1258  False\n",
      "    11     65  14926094.1885 0.9995 -13972554.2489 43824742.6258  False\n",
      "    11     66  -1910153.3115    1.0 -30808801.7489 26988495.1258  False\n",
      "    11     69  -4657268.3115    1.0 -33555916.7489 24241380.1258  False\n",
      "    11     70  -7599624.0515 0.4789 -17046884.7883  1847636.6852  False\n",
      "    11     75  -6718143.3115    1.0 -35616791.7489 22180505.1258  False\n",
      "    11     90  -3638456.3115    1.0 -13561114.4554  6284201.8323  False\n",
      "    11    120  -7295618.3115    1.0 -36194266.7489 21603030.1258  False\n",
      "    11    130   1226856.6885    1.0 -27671791.7489 30125505.1258  False\n",
      "    11    145  -7060643.3115    1.0 -35959291.7489 21838005.1258  False\n",
      "    12     13  -1165584.4822    1.0  -4505580.1022  2174411.1377  False\n",
      "    12     14   -745541.7464    1.0  -3674088.7427  2183005.2498  False\n",
      "    12     15  -1083553.1169    1.0  -4725367.2327  2558260.9989  False\n",
      "    12     16    1411042.515    1.0  -3433057.9067  6255142.9367  False\n",
      "    12     17   -811368.6231    1.0  -6131960.0339  4509222.7877  False\n",
      "    12     19  -2760445.0145    1.0  -9547769.0725  4026879.0434  False\n",
      "    12     20  -2852531.9236 0.9433  -7260383.4987  1555319.6514  False\n",
      "    12     21  -5422421.0196 0.0028 -10063900.4273   -780941.612   True\n",
      "    12     22  -3018308.7312    1.0 -10136733.5902  4100116.1278  False\n",
      "    12     23  -3148029.8914    1.0 -11417277.2408  5121217.4579  False\n",
      "    12     24  -5624811.6479 0.3319 -12265183.4238  1015560.1281  False\n",
      "    12     25    -3143489.66    1.0 -12086165.7877  5799186.4678  False\n",
      "    12     26  -1380789.5645    1.0 -11783891.5077  9022312.3787  False\n",
      "    12     27  -4900136.0645 0.9944 -13484598.5113  3684326.3823  False\n",
      "    12     29  -4371176.7645    1.0 -14205505.3398  5463151.8108  False\n",
      "    12     30   -4643906.777 0.0049  -8723232.0833  -564581.4707   True\n",
      "    12     31  -7103374.3145    1.0 -35971813.0564 21765064.4274  False\n",
      "    12     32  -6299939.3345 0.9999 -19352957.8442  6753079.1752  False\n",
      "    12     33  -6054794.3145    1.0 -22814334.9629 10704746.3338  False\n",
      "    12     34  -5722164.9395    1.0 -20276172.4173  8831842.5382  False\n",
      "    12     35  -5870966.5145    1.0 -18923985.0242  7182051.9952  False\n",
      "    12     36   -4112262.786    1.0 -15203870.3849   6979344.813  False\n",
      "    12     37  -6246867.3145    1.0 -20800874.7923  8307140.1632  False\n",
      "    12     39  -5530199.3145    1.0 -22289739.9629 11229341.3338  False\n",
      "    12     40  -3961193.5645    1.0 -13315636.8572  5393249.7282  False\n",
      "    12     41   -970624.3145    1.0 -29839063.0564 27897814.4274  False\n",
      "    12     42  -3090933.2395    1.0 -11675395.6863  5493529.2073  False\n",
      "    12     43  -4802296.3145    1.0 -17855314.8242  8250722.1952  False\n",
      "    12     45  -4102497.6479    1.0 -13936826.2232  5731830.9275  False\n",
      "    12     46  -6912624.3145    1.0 -21466631.7923  7641383.1632  False\n",
      "    12     47    -96487.6479    1.0 -16856028.2962 16663053.0005  False\n",
      "    12     49  -9009499.3145    1.0 -37877938.0564 19858939.4274  False\n",
      "    12     50    149090.0917    1.0 -10254011.8515 10552192.0349  False\n",
      "    12     51  -9175249.3145    1.0 -38043688.0564 19693189.4274  False\n",
      "    12     53  -5197249.3145    1.0 -34065688.0564 23671189.4274  False\n",
      "    12     54  -6340999.3145    1.0 -35209438.0564 22527439.4274  False\n",
      "    12     55  -7649554.8999    1.0 -24409095.5482  9109985.7485  False\n",
      "    12     56  -7628795.9812    1.0 -24388336.6296  9130744.6672  False\n",
      "    12     59   4138619.4355    1.0  -16331073.794 24608312.6649  False\n",
      "    12     60  -6050693.3145 0.5627 -13788934.8256  1687548.1966  False\n",
      "    12     61  -4423749.3145    1.0 -21183289.9629 12335791.3338  False\n",
      "    12     63  -8274332.6479 0.9999 -25033873.2962  8485208.0005  False\n",
      "    12     64  -6025999.3145    1.0 -34894438.0564 22842439.4274  False\n",
      "    12     65  14303238.1855 0.9998 -14565200.5564 43171676.9274  False\n",
      "    12     66  -2533009.3145    1.0 -31401448.0564 26335429.4274  False\n",
      "    12     69  -5280124.3145    1.0 -34148563.0564 23588314.4274  False\n",
      "    12     70  -8222480.0545   0.24 -17576923.3472  1131963.2382  False\n",
      "    12     75  -7340999.3145    1.0 -36209438.0564 21527439.4274  False\n",
      "    12     90  -4261312.3145    1.0 -14095640.8898  5573016.2608  False\n",
      "    12    120  -7918474.3145    1.0 -36786913.0564 20949964.4274  False\n",
      "    12    130    604000.6855    1.0 -28264438.0564 29472439.4274  False\n",
      "    12    145  -7683499.3145    1.0 -36551938.0564 21184939.4274  False\n",
      "    13     14    420042.7358    1.0  -2816020.5227  3656105.9943  False\n",
      "    13     15     82031.3653    1.0  -3811364.0626  3975426.7932  False\n",
      "    13     16   2576626.9973 0.9996   -2459346.275  7612600.2696  False\n",
      "    13     17    354215.8591    1.0  -5141638.1113  5850069.8296  False\n",
      "    13     19  -1594860.5323    1.0  -8520428.0738  5330707.0092  False\n",
      "    13     20  -1686947.4414    1.0  -6304833.6907  2930938.8079  False\n",
      "    13     21  -4256836.5374 0.2393  -9098225.6971   584552.6223  False\n",
      "    13     22   -1852724.249    1.0  -9103082.1971  5397633.6992  False\n",
      "    13     23  -1982445.4092    1.0 -10365533.7201  6400642.9017  False\n",
      "    13     24  -4459227.1656 0.9281 -11240838.7164  2322384.3852  False\n",
      "    13     25  -1977905.1777    1.0 -11025953.2672  7070142.9117  False\n",
      "    13     26   -215205.0823    1.0  -10709024.594 10278614.4294  False\n",
      "    13     27  -3734551.5823    1.0 -12428728.5648  4959625.4003  False\n",
      "    13     29  -3205592.2823    1.0 -13135835.8055   6724651.241  False\n",
      "    13     30  -3478322.2947 0.4662  -7783738.9829   827094.3934  False\n",
      "    13     31  -5937789.8323    1.0 -34839043.6684 22963464.0038  False\n",
      "    13     32  -5134354.8523    1.0 -18259788.5639  7991078.8593  False\n",
      "    13     33  -4889209.8323    1.0 -21705211.7545 11926792.0899  False\n",
      "    13     34  -4556580.4573    1.0  -19175569.874 10062408.9595  False\n",
      "    13     35  -4705382.0323    1.0 -17830815.7439  8420051.6793  False\n",
      "    13     36  -2946678.3037    1.0 -14123416.5145  8230059.9071  False\n",
      "    13     37  -5081282.8323    1.0  -19700272.249  9537706.5845  False\n",
      "    13     39  -4364614.8323    1.0 -21180616.7545 12451387.0899  False\n",
      "    13     40  -2795609.0823    1.0 -12250836.5899  6659618.4253  False\n",
      "    13     41    194960.1677    1.0 -28706293.6684 29096214.0038  False\n",
      "    13     42  -1925348.7573    1.0 -10619525.7398  6768828.2253  False\n",
      "    13     43  -3636711.8323    1.0 -16762145.5439  9488721.8793  False\n",
      "    13     45  -2936913.1656    1.0 -12867156.6889  6993330.3576  False\n",
      "    13     46  -5747039.8323    1.0  -20366029.249  8871949.5845  False\n",
      "    13     47   1069096.8344    1.0 -15746905.0878 17885098.7566  False\n",
      "    13     49  -7843914.8323    1.0 -36745168.6684 21057339.0038  False\n",
      "    13     50    1314674.574    1.0  -9179144.9378 11808494.0857  False\n",
      "    13     51  -8009664.8323    1.0 -36910918.6684 20891589.0038  False\n",
      "    13     53  -4031664.8323    1.0 -32932918.6684 24869589.0038  False\n",
      "    13     54  -5175414.8323    1.0 -34076668.6684 23725839.0038  False\n",
      "    13     55  -6483970.4176    1.0 -23299972.3398 10332031.5046  False\n",
      "    13     56   -6463211.499    1.0 -23279213.4212 10352790.4233  False\n",
      "    13     59   5304203.9177    1.0  -15211742.534 25820150.3695  False\n",
      "    13     60  -4885108.8323 0.9706 -12744886.1566   2974668.492  False\n",
      "    13     61  -3258164.8323    1.0 -20074166.7545 13557837.0899  False\n",
      "    13     63  -7108748.1656    1.0 -23924750.0878  9707253.7566  False\n",
      "    13     64  -4860414.8323    1.0 -33761668.6684 24040839.0038  False\n",
      "    13     65  15468822.6677 0.9988 -13432431.1684 44370076.5038  False\n",
      "    13     66  -1367424.8323    1.0 -30268678.6684 27533829.0038  False\n",
      "    13     69  -4114539.8323    1.0 -33015793.6684 24786714.0038  False\n",
      "    13     70  -7056895.5723 0.6935 -16512123.0799  2398331.9353  False\n",
      "    13     75  -6175414.8323    1.0 -35076668.6684 22725839.0038  False\n",
      "    13     90  -3095727.8323    1.0 -13025971.3555   6834515.691  False\n",
      "    13    120  -6752889.8323    1.0 -35654143.6684 22148364.0038  False\n",
      "    13    130   1769585.1677    1.0 -27131668.6684 30670839.0038  False\n",
      "    13    145  -6517914.8323    1.0 -35419168.6684 22383339.0038  False\n",
      "    14     15   -338011.3705    1.0  -3884748.5648  3208725.8238  False\n",
      "    14     16   2156584.2615    1.0  -2616448.6912  6929617.2141  False\n",
      "    14     17    -65826.8767    1.0  -5321797.5418  5190143.7884  False\n",
      "    14     19  -2014903.2681    1.0  -8751690.5246  4721883.9884  False\n",
      "    14     20  -2106990.1772 0.9999  -6436619.5123  2222639.1579  False\n",
      "    14     21  -4676879.2732 0.0346  -9244139.4764    -109619.07   True\n",
      "    14     22  -2272766.9848    1.0  -9343022.0823  4797488.1128  False\n",
      "    14     23   -2402488.145    1.0 -10630305.9843  5825329.6943  False\n",
      "    14     24  -4879269.9014 0.7137 -11467977.8168  1709438.0139  False\n",
      "    14     25  -2397947.9135    1.0 -11302328.3523  6506432.5252  False\n",
      "    14     26   -635247.8181    1.0  -11005448.622  9734952.9858  False\n",
      "    14     27  -4154594.3181 0.9999 -12699155.7563  4389967.1201  False\n",
      "    14     29  -3625635.0181    1.0 -13425153.0266  6173882.9904  False\n",
      "    14     30  -3898365.0306 0.0711  -7893040.1896    96310.1285  False\n",
      "    14     31  -6357832.5681    1.0 -35214431.2947 22498766.1585  False\n",
      "    14     32  -5554397.5881    1.0 -18581209.4346  7472414.2585  False\n",
      "    14     33  -5309252.5681    1.0 -22048390.4615 11429885.3253  False\n",
      "    14     34  -4976623.1931    1.0 -19507131.3857  9553884.9995  False\n",
      "    14     35  -5125424.7681    1.0 -18152236.6146  7901387.0785  False\n",
      "    14     36  -3366721.0395    1.0 -14427475.7064  7694033.6274  False\n",
      "    14     37  -5501325.5681    1.0 -20031833.7607  9029182.6245  False\n",
      "    14     39  -4784657.5681    1.0 -21523795.4615 11954480.3253  False\n",
      "    14     40  -3215651.8181    1.0 -12533491.9105  6102188.2743  False\n",
      "    14     41   -225082.5681    1.0 -29081681.2947 28631516.1585  False\n",
      "    14     42  -2345391.4931    1.0 -10889952.9313  6199169.9451  False\n",
      "    14     43  -4056754.5681    1.0 -17083566.4146  8970057.2785  False\n",
      "    14     45  -3356955.9014    1.0 -13156473.9099  6442562.1071  False\n",
      "    14     46  -6167082.5681    1.0 -20697590.7607  8363425.6245  False\n",
      "    14     47    649054.0986    1.0 -16090083.7949  17388191.992  False\n",
      "    14     49  -8263957.5681    1.0 -37120556.2947 20592641.1585  False\n",
      "    14     50    894631.8382    1.0  -9475568.9657  11264832.642  False\n",
      "    14     51  -8429707.5681    1.0 -37286306.2947 20426891.1585  False\n",
      "    14     53  -4451707.5681    1.0 -33308306.2947 24404891.1585  False\n",
      "    14     54  -5595457.5681    1.0 -34452056.2947 23261141.1585  False\n",
      "    14     55  -6904013.1534    1.0 -23643151.0469    9835124.74  False\n",
      "    14     56  -6883254.2348    1.0 -23622392.1282  9855883.6587  False\n",
      "    14     59   4884161.1819    1.0 -15568830.6672  25337153.031  False\n",
      "    14     60  -5305151.5681 0.8648 -12999104.8013  2388801.6652  False\n",
      "    14     61  -3678207.5681    1.0 -20417345.4615 13060930.3253  False\n",
      "    14     63  -7528790.9014    1.0 -24267928.7949   9210346.992  False\n",
      "    14     64  -5280457.5681    1.0 -34137056.2947 23576141.1585  False\n",
      "    14     65  15048779.9319 0.9994 -13807818.7947 43905378.6585  False\n",
      "    14     66  -1787467.5681    1.0 -30644066.2947 27069131.1585  False\n",
      "    14     69  -4534582.5681    1.0 -33391181.2947 24322016.1585  False\n",
      "    14     70  -7476938.3081 0.4862 -16794778.4005  1840901.7843  False\n",
      "    14     75  -6595457.5681    1.0 -35452056.2947 22261141.1585  False\n",
      "    14     90  -3515770.5681    1.0 -13315288.5766  6283747.4404  False\n",
      "    14    120  -7172932.5681    1.0 -36029531.2947 21683666.1585  False\n",
      "    14    130   1349542.4319    1.0 -27507056.2947 30206141.1585  False\n",
      "    14    145  -6937957.5681    1.0 -35794556.2947 21918641.1585  False\n",
      "    15     16   2494595.6319    1.0   -2746422.028  7735613.2919  False\n",
      "    15     17    272184.4938    1.0  -5412149.2558  5956518.2435  False\n",
      "    15     19  -1676891.8976    1.0  -8752958.9609  5399175.1657  False\n",
      "    15     20  -1768978.8067    1.0   -6609651.562  3071693.9486  False\n",
      "    15     21  -4338867.9027 0.2971  -9393201.5193   715465.7139  False\n",
      "    15     22  -1934755.6143    1.0  -9329005.3862  5459494.1576  False\n",
      "    15     23  -2064476.7745    1.0   -10572320.74   6443367.191  False\n",
      "    15     24  -4541258.5309 0.9324 -11476494.2543  2393977.1924  False\n",
      "    15     25  -2059936.5431    1.0 -11223691.9709  7103818.8848  False\n",
      "    15     26   -297236.4476    1.0 -10890984.0025 10296511.1073  False\n",
      "    15     27  -3816582.9476    1.0 -12631113.7188  4997947.8236  False\n",
      "    15     29  -3287623.6476    1.0 -13323408.4073  6748161.1121  False\n",
      "    15     30  -3560353.6601 0.5564  -8103904.2729   983196.9527  False\n",
      "    15     31  -6019821.1976    1.0  -34957507.916 22917865.5208  False\n",
      "    15     32  -5216386.2176    1.0 -18421849.0808  7989076.6456  False\n",
      "    15     33  -4971241.1976    1.0 -21849782.6026 11907300.2074  False\n",
      "    15     34  -4638611.8226    1.0 -19329496.4413 10052272.7961  False\n",
      "    15     35  -4787413.3976    1.0 -17992876.2608  8418049.4656  False\n",
      "    15     36   -3028709.669    1.0 -14299322.6225  8241903.2844  False\n",
      "    15     37  -5163314.1976    1.0 -19854198.8163  9527570.4211  False\n",
      "    15     39  -4446646.1976    1.0 -21325187.6026 12431895.2074  False\n",
      "    15     40  -2877640.4476    1.0 -12443651.4518  6688370.5566  False\n",
      "    15     41    112928.8024    1.0  -28824757.916 29050615.5208  False\n",
      "    15     42  -2007380.1226    1.0 -10821910.8938  6807150.6486  False\n",
      "    15     43  -3718743.1976    1.0 -16924206.0608  9486719.6656  False\n",
      "    15     45  -3018944.5309    1.0 -13054729.2907  7016840.2288  False\n",
      "    15     46  -5829071.1976    1.0 -20519955.8163  8861813.4211  False\n",
      "    15     47    987065.4691    1.0 -15891475.9359 17865606.8741  False\n",
      "    15     49  -7925946.1976    1.0  -36863632.916 21011740.5208  False\n",
      "    15     50   1232643.2086    1.0  -9361104.3463 11826390.7636  False\n",
      "    15     51  -8091696.1976    1.0  -37029382.916 20845990.5208  False\n",
      "    15     53  -4113696.1976    1.0  -33051382.916 24823990.5208  False\n",
      "    15     54  -5257446.1976    1.0  -34195132.916 23680240.5208  False\n",
      "    15     55  -6566001.7829    1.0 -23444543.1879 10312539.6221  False\n",
      "    15     56  -6545242.8643    1.0 -23423784.2693 10333298.5407  False\n",
      "    15     59   5222172.5524    1.0 -15345065.9137 25789411.0185  False\n",
      "    15     60  -4967140.1976 0.9707 -12959845.5531  3025565.1579  False\n",
      "    15     61  -3340196.1976    1.0 -20218737.6026 13538345.2074  False\n",
      "    15     63  -7190779.5309    1.0 -24069320.9359  9687761.8741  False\n",
      "    15     64  -4942446.1976    1.0  -33880132.916 23995240.5208  False\n",
      "    15     65  15386791.3024 0.9989  -13550895.416 44324478.0208  False\n",
      "    15     66  -1449456.1976    1.0  -30387142.916 27488230.5208  False\n",
      "    15     69  -4196571.1976    1.0  -33134257.916 24741115.5208  False\n",
      "    15     70  -7138926.9376 0.6938 -16704937.9418  2427084.0666  False\n",
      "    15     75  -6257446.1976    1.0  -35195132.916 22680240.5208  False\n",
      "    15     90  -3177759.1976    1.0 -13213543.9573  6858025.5621  False\n",
      "    15    120  -6834921.1976    1.0  -35772607.916 22102765.5208  False\n",
      "    15    130   1687553.8024    1.0  -27250132.916 30625240.5208  False\n",
      "    15    145  -6599946.1976    1.0  -35537632.916 22337740.5208  False\n",
      "    16     17  -2222411.1381    1.0  -8742698.6332   4297876.357  False\n",
      "    16     19  -4171487.5295 0.9986 -11935070.7181   3592095.659  False\n",
      "    16     20  -4263574.4387 0.7321 -10063109.8998  1535961.0225  False\n",
      "    16     21  -6833463.5346 0.0045 -12812492.4817  -854434.5876   True\n",
      "    16     22  -4429351.2462 0.9976 -12484003.8477  3625301.3553  False\n",
      "    16     23  -4559072.4065 0.9998 -13646751.3061  4528606.4931  False\n",
      "    16     24  -7035854.1629 0.1466 -14671297.3969   599589.0712  False\n",
      "    16     25   -4554532.175    1.0 -14259011.1607  5149946.8107  False\n",
      "    16     26  -2791832.0795    1.0 -13856640.5324  8272976.3733  False\n",
      "    16     27  -6311178.5795 0.9004 -15686595.9867  3064238.8276  False\n",
      "    16     29  -5782219.2795 0.9977  -16314050.772  4749612.2129  False\n",
      "    16     30   -6054949.292 0.0116 -11608898.4287  -501000.1553   True\n",
      "    16     31  -8514416.8295    1.0 -37627853.7866 20599020.1275  False\n",
      "    16     32  -7710981.8495 0.9951 -21297252.4295  5875288.7304  False\n",
      "    16     33  -7465836.8295    1.0 -24643952.5237  9712278.8646  False\n",
      "    16     34  -7133207.4545    1.0 -22167321.6526  7900906.7435  False\n",
      "    16     35  -7282009.0295 0.9987 -20868279.6095  6304261.5504  False\n",
      "    16     36   -5523305.301    1.0 -17237792.7071  6191182.1051  False\n",
      "    16     37  -7657909.8295 0.9997 -22692024.0276  7376204.3685  False\n",
      "    16     39  -6941241.8295    1.0 -24119357.5237 10236873.8646  False\n",
      "    16     40  -5372236.0795 0.9989 -15457426.4781   4712954.319  False\n",
      "    16     41  -2381666.8295    1.0 -31495103.7866 26731770.1275  False\n",
      "    16     42  -4501975.7545 0.9999 -13877393.1617  4873441.6526  False\n",
      "    16     43  -6213338.8295    1.0 -19799609.4095  7372931.7504  False\n",
      "    16     45  -5513540.1629 0.9993 -16045371.6553  5018291.3296  False\n",
      "    16     46  -8323666.8295 0.9972 -23357781.0276  6710447.3685  False\n",
      "    16     47  -1507530.1629    1.0  -18685645.857 15670585.5313  False\n",
      "    16     49 -10420541.8295    1.0 -39533978.7866 18692895.1275  False\n",
      "    16     50  -1261952.4233    1.0 -12326760.8762  9802856.0296  False\n",
      "    16     51 -10586291.8295    1.0 -39699728.7866 18527145.1275  False\n",
      "    16     53  -6608291.8295    1.0 -35721728.7866 22505145.1275  False\n",
      "    16     54  -7752041.8295    1.0 -36865478.7866 21361395.1275  False\n",
      "    16     55  -9060597.4149 0.9991  -26238713.109  8117518.2793  False\n",
      "    16     56  -9039838.4962 0.9992 -26217954.1904   8138277.198  False\n",
      "    16     59   2727576.9205    1.0 -18086211.7055 23541365.5464  False\n",
      "    16     60  -7461735.8295 0.2727  -16069048.868  1145577.2089  False\n",
      "    16     61  -5834791.8295    1.0 -23012907.5237 11343323.8646  False\n",
      "    16     63  -9685375.1629 0.9957  -26863490.857  7492740.5313  False\n",
      "    16     64  -7437041.8295    1.0 -36550478.7866 21676395.1275  False\n",
      "    16     65  12892195.6705    1.0 -16221241.2866 42005632.6275  False\n",
      "    16     66  -3944051.8295    1.0 -33057488.7866 25169385.1275  False\n",
      "    16     69  -6691166.8295    1.0 -35804603.7866 22422270.1275  False\n",
      "    16     70  -9633522.5695 0.0947 -19718712.9681    451667.829  False\n",
      "    16     75  -8752041.8295    1.0 -37865478.7866 20361395.1275  False\n",
      "    16     90  -5672354.8295 0.9985  -16204186.322  4859476.6629  False\n",
      "    16    120  -9329516.8295    1.0 -38442953.7866 19783920.1275  False\n",
      "    16    130   -807041.8295    1.0 -29920478.7866 28306395.1275  False\n",
      "    16    145  -9094541.8295    1.0 -38207978.7866 20018895.1275  False\n",
      "    17     19  -1949076.3914    1.0 -10018562.6199   6120409.837  False\n",
      "    17     20  -2041163.3005    1.0  -8244226.7075  4161900.1064  False\n",
      "    17     21  -4611052.3965 0.7694 -10982250.9663  1760146.1732  False\n",
      "    17     22  -2206940.1081    1.0 -10556839.0654  6142958.8492  False\n",
      "    17     23  -2336661.2684    1.0 -11687024.4617   7013701.925  False\n",
      "    17     24  -4813443.0248 0.9815 -12759723.7551  3132837.7056  False\n",
      "    17     25  -2332121.0369    1.0 -12283015.2906  7618773.2169  False\n",
      "    17     26   -569420.9414    1.0 -11850970.9309  10712129.048  False\n",
      "    17     27  -4088767.4414    1.0 -13719023.7009  5541488.8181  False\n",
      "    17     29  -3559808.1414    1.0 -14319123.1127  7199506.8298  False\n",
      "    17     30  -3832538.1539 0.9505  -9806626.7938  2141550.4861  False\n",
      "    17     31  -6292005.6914    1.0 -35488505.4049  22904494.022  False\n",
      "    17     32  -5488570.7114    1.0 -19251932.6676  8274791.2448  False\n",
      "    17     33  -5243425.6914    1.0 -22561943.0318 12075091.6489  False\n",
      "    17     34  -4910796.3164    1.0 -20105136.5057 10283543.8728  False\n",
      "    17     35  -5059597.8914    1.0 -18822959.8476  8703764.0648  False\n",
      "    17     36  -3300894.1629    1.0 -15220315.2584  8618526.9327  False\n",
      "    17     37  -5435498.6914    1.0 -20629838.8807  9758841.4978  False\n",
      "    17     39  -4718830.6914    1.0 -22037348.0318 12599686.6489  False\n",
      "    17     40  -3149824.9414    1.0 -13472346.4086  7172696.5257  False\n",
      "    17     41   -159255.6914    1.0 -29355755.4049  29037244.022  False\n",
      "    17     42  -2279564.6164    1.0 -11909820.8759  7350691.6431  False\n",
      "    17     43  -3990927.6914    1.0 -17754289.6476  9772434.2648  False\n",
      "    17     45  -3291129.0248    1.0  -14050443.996  7468185.9465  False\n",
      "    17     46  -6101255.6914    1.0 -21295595.8807  9093084.4978  False\n",
      "    17     47    714880.9752    1.0 -16603636.3651 18033398.3156  False\n",
      "    17     49  -8198130.6914    1.0 -37394630.4049  20998369.022  False\n",
      "    17     50    960458.7148    1.0 -10321091.2746 12242008.7043  False\n",
      "    17     51  -8363880.6914    1.0 -37560380.4049  20832619.022  False\n",
      "    17     53  -4385880.6914    1.0 -33582380.4049  24810619.022  False\n",
      "    17     54  -5529630.6914    1.0 -34726130.4049  23666869.022  False\n",
      "    17     55  -6838186.2768    1.0 -24156703.6171 10480331.0636  False\n",
      "    17     56  -6817427.3581    1.0 -24135944.6984 10501089.9822  False\n",
      "    17     59   4949988.0586    1.0  -15979827.541 25879803.6581  False\n",
      "    17     60  -5239324.6914  0.989 -14123536.6321  3644887.2493  False\n",
      "    17     61  -3612380.6914    1.0 -20930898.0318 13706136.6489  False\n",
      "    17     63  -7462964.0248    1.0 -24781481.3651  9855553.3156  False\n",
      "    17     64  -5214630.6914    1.0 -34411130.4049  23981869.022  False\n",
      "    17     65  15114606.8086 0.9995 -14081892.9049  44311106.522  False\n",
      "    17     66  -1721640.6914    1.0 -30918140.4049  27474859.022  False\n",
      "    17     69  -4468755.6914    1.0 -33665255.4049  24727744.022  False\n",
      "    17     70  -7411111.4314 0.7874 -17733632.8986  2911410.0357  False\n",
      "    17     75  -6529630.6914    1.0 -35726130.4049  22666869.022  False\n",
      "    17     90  -3449943.6914    1.0 -14209258.6627  7309371.2798  False\n",
      "    17    120  -7107105.6914    1.0 -36303605.4049  22089394.022  False\n",
      "    17    130   1415369.3086    1.0 -27781130.4049  30611869.022  False\n",
      "    17    145  -6872130.6914    1.0 -36068630.4049  22324369.022  False\n",
      "    19     20    -92086.9091    1.0  -7591224.8954  7407051.0772  False\n",
      "    19     21  -2661976.0051    1.0 -10300774.7406  4976822.7304  False\n",
      "    19     22   -257863.7167    1.0  -9610932.0636  9095204.6303  False\n",
      "    19     23   -387584.8769    1.0 -10643722.8808   9868553.127  False\n",
      "    19     24  -2864366.6333    1.0  -11858945.687  6130212.4203  False\n",
      "    19     25   -383044.6455    1.0 -11189495.0967 10423405.8058  False\n",
      "    19     26     1379655.45    1.0 -10663286.2617 13422597.1617  False\n",
      "    19     27    -2139691.05    1.0 -12651632.3802  8372250.2802  False\n",
      "    19     29    -1610731.75    1.0 -13165900.8772  9944437.3772  False\n",
      "    19     30  -1883461.7625    1.0  -9194331.0668  5427407.5418  False\n",
      "    19     31     -4342929.3    1.0 -33841991.4957 25156132.8957  False\n",
      "    19     32    -3539494.32    1.0 -17933562.7943 10854574.1543  False\n",
      "    19     33     -3294349.3    1.0 -21118213.0162 14529514.4162  False\n",
      "    19     34   -2961719.925    1.0 -18729631.9203 12806192.0703  False\n",
      "    19     35     -3110521.5    1.0 -17504589.9743 11283546.9743  False\n",
      "    19     36  -1351817.7714    1.0 -13994272.9981 11290637.4553  False\n",
      "    19     37     -3486422.3    1.0 -19254334.2953 12281489.6953  False\n",
      "    19     39     -2769754.3    1.0 -20593618.0162 15054109.4162  False\n",
      "    19     40    -1200748.55    1.0 -12350346.0471  9948848.9471  False\n",
      "    19     41      1789820.7    1.0 -27709241.4957 31288882.8957  False\n",
      "    19     42    -330488.225    1.0 -10842429.5552 10181453.1052  False\n",
      "    19     43     -2041851.3    1.0 -16435919.7743 12352217.1743  False\n",
      "    19     45  -1342052.6333    1.0 -12897221.7605 10213116.4938  False\n",
      "    19     46     -4152179.3    1.0 -19920091.2953 11615732.6953  False\n",
      "    19     47   2663957.3667    1.0 -15159906.3495 20487821.0829  False\n",
      "    19     49     -6249054.3    1.0 -35748116.4957 23250007.8957  False\n",
      "    19     50   2909535.1062    1.0  -9133406.6054 14952476.8179  False\n",
      "    19     51     -6414804.3    1.0 -35913866.4957 23084257.8957  False\n",
      "    19     53     -2436804.3    1.0 -31935866.4957 27062257.8957  False\n",
      "    19     54     -3580554.3    1.0 -33079616.4957 25918507.8957  False\n",
      "    19     55  -4889109.8853    1.0 -22712973.6015 12934753.8309  False\n",
      "    19     56  -4868350.9667    1.0 -22692214.6829 12955512.7495  False\n",
      "    19     59     6899064.45    1.0 -14450789.3185 28248918.2185  False\n",
      "    19     60     -3290248.3    1.0 -13123269.0319  6542772.4319  False\n",
      "    19     61     -1663304.3    1.0 -19487168.0162 16160559.4162  False\n",
      "    19     63  -5513887.6333    1.0 -23337751.3495 12309976.0829  False\n",
      "    19     64     -3265554.3    1.0 -32764616.4957 26233507.8957  False\n",
      "    19     65     17063683.2 0.9926 -12435378.9957 46562745.3957  False\n",
      "    19     66       227435.7    1.0 -29271626.4957 29726497.8957  False\n",
      "    19     69     -2519679.3    1.0 -32018741.4957 26979382.8957  False\n",
      "    19     70    -5462035.04 0.9999 -16611632.5371  5687562.4571  False\n",
      "    19     75     -4580554.3    1.0 -34079616.4957 24918507.8957  False\n",
      "    19     90     -1500867.3    1.0 -13056036.4272 10054301.8272  False\n",
      "    19    120     -5158029.3    1.0 -34657091.4957 24341032.8957  False\n",
      "    19    130      3364445.7    1.0 -26134616.4957 32863507.8957  False\n",
      "    19    145     -4923054.3    1.0 -34422116.4957 24576007.8957  False\n",
      "    20     21   -2569889.096    1.0  -8201286.2372  3061508.0452  False\n",
      "    20     22   -165776.8076    1.0  -7965858.5471   7634304.932  False\n",
      "    20     23   -295497.9678    1.0  -9158327.8993  8567331.9637  False\n",
      "    20     24  -2772279.7242    1.0 -10138679.1155  4594119.6671  False\n",
      "    20     25   -290957.7363    1.0  -9785206.4689  9203290.9962  False\n",
      "    20     26   1471742.3591    1.0  -9409150.6516 12352635.3698  False\n",
      "    20     27  -2047604.1409    1.0 -11205240.1989  7110031.9171  False\n",
      "    20     29  -1518644.8409    1.0 -11857083.8525  8819794.1707  False\n",
      "    20     30  -1791374.8534    1.0  -6969231.3234  3386481.6167  False\n",
      "    20     31  -4250842.3909    1.0 -33294878.9228  24793194.141  False\n",
      "    20     32  -3447407.4109    1.0 -16884319.0681  9989504.2463  False\n",
      "    20     33  -3202262.3909    1.0 -20262494.0838  13857969.302  False\n",
      "    20     34  -2869633.0159    1.0 -17768909.3853 12029643.3535  False\n",
      "    20     35  -3018434.5909    1.0 -16455346.2481 10418477.0663  False\n",
      "    20     36  -1259730.8623    1.0 -12800660.7122 10281198.9876  False\n",
      "    20     37  -3394335.3909    1.0 -18293611.7603 11504940.9785  False\n",
      "    20     39  -2677667.3909    1.0 -19737899.0838  14382564.302  False\n",
      "    20     40  -1108661.6409    1.0 -10991723.5139  8774400.2322  False\n",
      "    20     41   1881907.6091    1.0 -27162128.9228  30925944.141  False\n",
      "    20     42   -238401.3159    1.0  -9396037.3739  8919234.7421  False\n",
      "    20     43  -1949764.3909    1.0 -15386676.0481 11487147.2663  False\n",
      "    20     45  -1249965.7242    1.0 -11588404.7359  9088473.2874  False\n",
      "    20     46  -4060092.3909    1.0 -18959368.7603 10839183.9785  False\n",
      "    20     47   2756044.2758    1.0 -14304187.4171 19816275.9686  False\n",
      "    20     49  -6156967.3909    1.0 -35201003.9228  22887069.141  False\n",
      "    20     50   3001622.0154    1.0  -7879270.9954 13882515.0261  False\n",
      "    20     51  -6322717.3909    1.0 -35366753.9228  22721319.141  False\n",
      "    20     53  -2344717.3909    1.0 -31388753.9228  26699319.141  False\n",
      "    20     54  -3488467.3909    1.0 -32532503.9228  25555569.141  False\n",
      "    20     55  -4797022.9762    1.0 -21857254.6691 12263208.7166  False\n",
      "    20     56  -4776264.0576    1.0 -21836495.7504 12283967.6353  False\n",
      "    20     59   6991151.3591    1.0 -13725451.7306 27707754.4488  False\n",
      "    20     60  -3198161.3909    1.0 -11567730.3376  5171407.5558  False\n",
      "    20     61  -1571217.3909    1.0 -18631449.0838  15489014.302  False\n",
      "    20     63  -5421800.7242    1.0 -22482032.4171 11638430.9686  False\n",
      "    20     64  -3173467.3909    1.0 -32217503.9228  25870569.141  False\n",
      "    20     65  17155770.1091 0.9886 -11888266.4228  46199806.641  False\n",
      "    20     66    319522.6091    1.0 -28724513.9228  29363559.141  False\n",
      "    20     69  -2427592.3909    1.0 -31471628.9228  26616444.141  False\n",
      "    20     70  -5369948.1309 0.9982 -15253010.0039  4513113.7422  False\n",
      "    20     75  -4488467.3909    1.0 -33532503.9228  24555569.141  False\n",
      "    20     90  -1408780.3909    1.0 -11747219.4025  8929658.6207  False\n",
      "    20    120  -5065942.3909    1.0 -34109978.9228  23978094.141  False\n",
      "    20    130   3456532.6091    1.0 -25587503.9228  32500569.141  False\n",
      "    20    145  -4830967.3909    1.0 -33875003.9228  24213069.141  False\n",
      "    21     22   2404112.2884    1.0  -5530334.8081 10338559.3849  False\n",
      "    21     23   2274391.1282    1.0  -6706918.9087 11255701.1651  False\n",
      "    21     24   -202390.6282    1.0  -7710920.1498  7306138.8934  False\n",
      "    21     25   2278931.3596    1.0   -7326011.877 11883874.5963  False\n",
      "    21     26   4041631.4551    1.0  -6935982.5067 15019245.4169  False\n",
      "    21     27    522284.9551    1.0  -8750065.0035  9794634.9137  False\n",
      "    21     29   1051244.2551    1.0  -9388942.3707 11491430.8809  False\n",
      "    21     30    778514.2426    1.0  -4599624.2094  6156652.6946  False\n",
      "    21     31  -1680953.2949    1.0 -30761363.0865 27399456.4967  False\n",
      "    21     32   -877518.3149    1.0 -14392871.4538  12637834.824  False\n",
      "    21     33   -632373.2949    1.0 -17754454.9732 16489708.3834  False\n",
      "    21     34   -299743.9199    1.0  -15269801.098 14670313.2582  False\n",
      "    21     35   -448545.4949    1.0 -13963898.6338  13066807.644  False\n",
      "    21     36   1310158.2337    1.0  -10322005.683 12942322.1503  False\n",
      "    21     37   -824446.2949    1.0  -15794503.473 14145610.8832  False\n",
      "    21     39   -107778.2949    1.0 -17229859.9732 17014303.3834  False\n",
      "    21     40   1461227.4551    1.0   -8528221.357 11450676.2673  False\n",
      "    21     41   4451796.7051    1.0 -24628613.0865 33532206.4967  False\n",
      "    21     42   2331487.7801    1.0  -6940862.1785 11603837.7387  False\n",
      "    21     43    620124.7051    1.0 -12895228.4338  14135477.844  False\n",
      "    21     45   1319923.3718    1.0   -9120263.254 11760109.9976  False\n",
      "    21     46  -1490203.2949    1.0  -16460260.473 13479853.8832  False\n",
      "    21     47   5325933.3718    1.0 -11796148.3065 22448015.0501  False\n",
      "    21     49  -3587078.2949    1.0 -32667488.0865 25493331.4967  False\n",
      "    21     50   5571511.1114 0.9997  -5406102.8505 16549125.0732  False\n",
      "    21     51  -3752828.2949    1.0 -32833238.0865 25327581.4967  False\n",
      "    21     53    225171.7051    1.0 -28855238.0865 29305581.4967  False\n",
      "    21     54   -918578.2949    1.0 -29998988.0865 28161831.4967  False\n",
      "    21     55  -2227133.8802    1.0 -19349215.5585 14894947.7981  False\n",
      "    21     56  -2206374.9616    1.0 -19328456.6399 14915706.7167  False\n",
      "    21     59   9561040.4551    1.0 -11206526.0649 30328606.9751  False\n",
      "    21     60   -628272.2949    1.0  -9123203.7212  7866659.1314  False\n",
      "    21     61    998671.7051    1.0 -16123409.9732 18120753.3834  False\n",
      "    21     63  -2851911.6282    1.0 -19973993.3065 14270170.0501  False\n",
      "    21     64   -603578.2949    1.0 -29683988.0865 28476831.4967  False\n",
      "    21     65  19725659.2051   0.89  -9354750.5865 48806068.9967  False\n",
      "    21     66   2889411.7051    1.0 -26190998.0865 31969821.4967  False\n",
      "    21     69    142296.7051    1.0 -28938113.0865 29222706.4967  False\n",
      "    21     70  -2800059.0349    1.0  -12789507.847  7189389.7773  False\n",
      "    21     75  -1918578.2949    1.0 -30998988.0865 27161831.4967  False\n",
      "    21     90   1161108.7051    1.0  -9279077.9207 11601295.3309  False\n",
      "    21    120  -2496053.2949    1.0 -31576463.0865 26584356.4967  False\n",
      "    21    130   6026421.7051    1.0 -23053988.0865 35106831.4967  False\n",
      "    21    145  -2261078.2949    1.0 -31341488.0865 26819331.4967  False\n",
      "    22     23   -129721.1603    1.0 -10607916.2033 10348473.8828  False\n",
      "    22     24  -2606502.9167    1.0 -11853483.8812  6640478.0478  False\n",
      "    22     25   -125180.9288    1.0 -11142602.4039 10892240.5464  False\n",
      "    22     26   1637519.1667    1.0 -10595086.8384 13870125.1718  False\n",
      "    22     27  -1881827.3333    1.0 -12610532.5271  8846877.8605  False\n",
      "    22     29  -1352868.0333    1.0 -13105575.7283 10399839.6616  False\n",
      "    22     30  -1625598.0458    1.0   -9244850.935  5993654.8434  False\n",
      "    22     31  -4085065.5833    1.0  -33662064.671 25491933.5043  False\n",
      "    22     32  -3281630.6033    1.0 -17834754.3865 11271493.1799  False\n",
      "    22     33  -3036485.5833    1.0 -20989043.1276 14916071.9609  False\n",
      "    22     34  -2703856.2083    1.0 -18617097.6537  13209385.237  False\n",
      "    22     35  -2852657.7833    1.0 -17405781.5665 11700465.9999  False\n",
      "    22     36  -1093954.0548    1.0 -13917209.4435  11729301.334  False\n",
      "    22     37  -3228558.5833    1.0 -19141800.0287  12684682.862  False\n",
      "    22     39  -2511890.5833    1.0 -20464448.1276 15440666.9609  False\n",
      "    22     40   -942884.8333    1.0 -12297079.1663 10411309.4997  False\n",
      "    22     41   2047684.4167    1.0  -27529314.671 31624683.5043  False\n",
      "    22     42    -72624.5083    1.0 -10801329.7021 10656080.6855  False\n",
      "    22     43  -1783987.5833    1.0 -16337111.3665 12769136.1999  False\n",
      "    22     45  -1084188.9167    1.0 -12836896.6116 10668518.7783  False\n",
      "    22     46  -3894315.5833    1.0 -19807557.0287  12018925.862  False\n",
      "    22     47   2921821.0833    1.0 -15030736.4609 20874378.6276  False\n",
      "    22     49  -5991190.5833    1.0  -35568189.671 23585808.5043  False\n",
      "    22     50   3167398.8229    1.0  -9065207.1822  15400004.828  False\n",
      "    22     51  -6156940.5833    1.0  -35733939.671 23420058.5043  False\n",
      "    22     53  -2178940.5833    1.0  -31755939.671 27398058.5043  False\n",
      "    22     54  -3322690.5833    1.0  -32899689.671 26254308.5043  False\n",
      "    22     55  -4631246.1687    1.0 -22583803.7129 13321311.3756  False\n",
      "    22     56    -4610487.25    1.0 -22563044.7942 13342070.2942  False\n",
      "    22     59   7156928.1667    1.0 -14300482.2209 28614338.5543  False\n",
      "    22     60  -3032384.5833    1.0  -13096802.168  7032033.0014  False\n",
      "    22     61  -1405440.5833    1.0 -19357998.1276 16547116.9609  False\n",
      "    22     63  -5256023.9167    1.0 -23208581.4609 12696533.6276  False\n",
      "    22     64  -3007690.5833    1.0  -32584689.671 26569308.5043  False\n",
      "    22     65  17321546.9167 0.9904  -12255452.171 46898546.0043  False\n",
      "    22     66    485299.4167    1.0  -29091699.671 30062298.5043  False\n",
      "    22     69  -2261815.5833    1.0  -31838814.671 27315183.5043  False\n",
      "    22     70  -5204171.3233    1.0 -16558365.6563  6150023.0097  False\n",
      "    22     75  -4322690.5833    1.0  -33899689.671 25254308.5043  False\n",
      "    22     90  -1243003.5833    1.0 -12995711.2783 10509704.1116  False\n",
      "    22    120  -4900165.5833    1.0  -34477164.671 24676833.5043  False\n",
      "    22    130   3622309.4167    1.0  -25954689.671 33199308.5043  False\n",
      "    22    145  -4665190.5833    1.0  -34242189.671 24911808.5043  False\n",
      "    23     24  -2476781.7564    1.0  -12636266.793  7682703.2802  False\n",
      "    23     25      4540.2315    1.0 -11789189.2555 11798269.7185  False\n",
      "    23     26   1767240.3269    1.0 -11168954.2035 14703434.8573  False\n",
      "    23     27  -1752106.1731    1.0 -13276584.2258  9772371.8796  False\n",
      "    23     29  -1223146.8731    1.0 -13706520.5122 11260226.7661  False\n",
      "    23     30  -1495876.8855    1.0 -10199984.7572  7208230.9861  False\n",
      "    23     31  -3955344.4231    1.0 -33830206.0007 25919517.1545  False\n",
      "    23     32  -3151909.4431    1.0 -18301229.2661   11997410.38  False\n",
      "    23     33  -2906764.4231    1.0 -21345929.3074 15532400.4612  False\n",
      "    23     34  -2574135.0481    1.0  -19034382.086 13886111.9899  False\n",
      "    23     35  -2722936.6231    1.0 -17872256.4461    12426383.2  False\n",
      "    23     36   -964232.8945    1.0 -14460319.6613 12531853.8723  False\n",
      "    23     37  -3098837.4231    1.0  -19559084.461 13361409.6149  False\n",
      "    23     39  -2382169.4231    1.0 -20821334.3074 16056995.4612  False\n",
      "    23     40   -813163.6731    1.0 -12922094.6004 11295767.2543  False\n",
      "    23     41   2177405.5769    1.0 -27697456.0007 32052267.1545  False\n",
      "    23     42     57096.6519    1.0 -11467381.4008 11581574.7046  False\n",
      "    23     43  -1654266.4231    1.0 -16803586.2461    13495053.4  False\n",
      "    23     45   -954467.7564    1.0 -13437841.3955 11528905.8827  False\n",
      "    23     46  -3764594.4231    1.0  -20224841.461 12695652.6149  False\n",
      "    23     47   3051542.2436    1.0 -15387622.6407 21490707.1279  False\n",
      "    23     49  -5861469.4231    1.0 -35736331.0007 24013392.1545  False\n",
      "    23     50   3297119.9832    1.0  -9639074.5472 16233314.5136  False\n",
      "    23     51  -6027219.4231    1.0 -35902081.0007 23847642.1545  False\n",
      "    23     53  -2049219.4231    1.0 -31924081.0007 27825642.1545  False\n",
      "    23     54  -3192969.4231    1.0 -33067831.0007 26681892.1545  False\n",
      "    23     55  -4501525.0084    1.0 -22940689.8927 13937639.8759  False\n",
      "    23     56  -4480766.0897    1.0 -22919930.9741 13958398.7946  False\n",
      "    23     59   7286649.3269    1.0 -14579510.3678 29152809.0216  False\n",
      "    23     60  -2902663.4231    1.0  -13811420.482  8006093.6359  False\n",
      "    23     61  -1275719.4231    1.0 -19714884.3074 17163445.4612  False\n",
      "    23     63  -5126302.7564    1.0 -23565467.6407 13312862.1279  False\n",
      "    23     64  -2877969.4231    1.0 -32752831.0007 26996892.1545  False\n",
      "    23     65  17451268.0769 0.9909 -12423593.5007 47326129.6545  False\n",
      "    23     66    615020.5769    1.0 -29259841.0007 30489882.1545  False\n",
      "    23     69  -2132094.4231    1.0 -32006956.0007 27742767.1545  False\n",
      "    23     70  -5074450.1631    1.0 -17183381.0904  7034480.7643  False\n",
      "    23     75  -4192969.4231    1.0 -34067831.0007 25681892.1545  False\n",
      "    23     90  -1113282.4231    1.0 -13596656.0622 11370091.2161  False\n",
      "    23    120  -4770444.4231    1.0 -34645306.0007 25104417.1545  False\n",
      "    23    130   3752030.5769    1.0 -26122831.0007 33626892.1545  False\n",
      "    23    145  -4535469.4231    1.0 -34410331.0007 25339392.1545  False\n",
      "    24     25   2481321.9879    1.0  -8233440.7631 13196084.7389  False\n",
      "    24     26   4244022.0833    1.0  -7716714.2872 16204758.4539  False\n",
      "    24     27    724675.5833    1.0  -9692986.3417 11142337.5084  False\n",
      "    24     29   1253634.8833    1.0 -10215833.4135 12723103.1802  False\n",
      "    24     30    980904.8709    1.0  -6193743.5135  8155553.2553  False\n",
      "    24     31  -1478562.6667    1.0  -30944160.232 27987034.8986  False\n",
      "    24     32   -675127.6867    1.0 -15000488.9979 13650233.6246  False\n",
      "    24     33   -429982.6667    1.0 -18198406.5481 17338441.2147  False\n",
      "    24     34    -97353.2917    1.0 -15802569.5636 15607862.9802  False\n",
      "    24     35   -246154.8667    1.0 -14571516.1779 14079206.4446  False\n",
      "    24     36   1512548.8619    1.0 -11051624.1556 14076721.8794  False\n",
      "    24     37   -622055.6667    1.0 -16327271.9386 15083160.6052  False\n",
      "    24     39     94612.3333    1.0 -17673811.5481 17863036.2147  False\n",
      "    24     40   1663618.0833    1.0  -9397136.5836 12724372.7502  False\n",
      "    24     41   4654187.3333    1.0  -24811410.232 34119784.8986  False\n",
      "    24     42   2533878.4083    1.0  -7883783.5167 12951540.3334  False\n",
      "    24     43    822515.3333    1.0 -13502845.9779 15147876.6446  False\n",
      "    24     45      1522314.0    1.0  -9947154.2968 12991782.2968  False\n",
      "    24     46  -1287812.6667    1.0 -16993028.9386 14417403.6052  False\n",
      "    24     47      5528324.0    1.0 -12240099.8814 23296747.8814  False\n",
      "    24     49  -3384687.6667    1.0  -32850285.232 26080909.8986  False\n",
      "    24     50   5773901.7396 0.9999   -6186834.631 17734638.1101  False\n",
      "    24     51  -3550437.6667    1.0  -33016035.232 25915159.8986  False\n",
      "    24     53    427562.3333    1.0  -29038035.232 29893159.8986  False\n",
      "    24     54   -716187.6667    1.0  -30181785.232 28749409.8986  False\n",
      "    24     55   -2024743.252    1.0 -19793167.1334 15743680.6294  False\n",
      "    24     56  -2003984.3333    1.0 -19772408.2147 15764439.5481  False\n",
      "    24     59   9763431.0833    1.0 -11540160.7592 31067022.9258  False\n",
      "    24     60   -425881.6667    1.0 -10158048.2378  9306284.9045  False\n",
      "    24     61   1201062.3333    1.0 -16567361.5481 18969486.2147  False\n",
      "    24     63     -2649521.0    1.0 -20417944.8814 15118902.8814  False\n",
      "    24     64   -401187.6667    1.0  -29866785.232 29064409.8986  False\n",
      "    24     65  19928049.8333 0.8941   -9537547.732 49393647.3986  False\n",
      "    24     66   3091802.3333    1.0  -26373795.232 32557399.8986  False\n",
      "    24     69    344687.3333    1.0  -29120910.232 29810284.8986  False\n",
      "    24     70  -2597668.4067    1.0 -13658423.0736  8463086.2602  False\n",
      "    24     75  -1716187.6667    1.0  -31181785.232 27749409.8986  False\n",
      "    24     90   1363499.3333    1.0 -10105968.9635 12832967.6302  False\n",
      "    24    120  -2293662.6667    1.0  -31759260.232 27171934.8986  False\n",
      "    24    130   6228812.3333    1.0  -23236785.232 35694409.8986  False\n",
      "    24    145  -2058687.6667    1.0  -31524285.232 27406909.8986  False\n",
      "    25     26   1762700.0955    1.0 -11614001.0498 15139401.2407  False\n",
      "    25     27  -1756646.4045    1.0 -13773492.8706 10260200.0615  False\n",
      "    25     29  -1227687.1045    1.0 -14166992.4188 11711618.2097  False\n",
      "    25     30   -1500417.117    1.0 -10846672.9686  7845838.7345  False\n",
      "    25     31  -3959884.6545    1.0 -34028113.0507 26108343.7416  False\n",
      "    25     32  -3156449.6745    1.0 -18683616.0516 12370716.7026  False\n",
      "    25     33  -2911304.6545    1.0 -21662139.4688 15839530.1597  False\n",
      "    25     34  -2578675.2795    1.0 -19387325.9437 14229975.3846  False\n",
      "    25     35  -2727476.8545    1.0 -18254643.2316 12799689.5226  False\n",
      "    25     36    -968773.126    1.0 -14887658.2328 12950111.9809  False\n",
      "    25     37  -3103377.6545    1.0 -19912028.3187 13705273.0096  False\n",
      "    25     39  -2386709.6545    1.0 -21137544.4688 16364125.1597  False\n",
      "    25     40   -817703.9045    1.0 -13396146.2884 11760738.4793  False\n",
      "    25     41   2172865.3455    1.0 -27895363.0507 32241093.7416  False\n",
      "    25     42     52556.4205    1.0 -11964290.0456 12069402.8865  False\n",
      "    25     43  -1658806.6545    1.0 -17185973.0316 13868359.7226  False\n",
      "    25     45   -959007.9879    1.0 -13898313.3021 11980297.3264  False\n",
      "    25     46  -3769134.6545    1.0 -20577785.3187 13039516.0096  False\n",
      "    25     47   3047002.0121    1.0 -15703832.8022 21797836.8264  False\n",
      "    25     49  -5866009.6545    1.0 -35934238.0507 24202218.7416  False\n",
      "    25     50   3292579.7517    1.0 -10084121.3935 16669280.8969  False\n",
      "    25     51  -6031759.6545    1.0 -36099988.0507 24036468.7416  False\n",
      "    25     53  -2053759.6545    1.0 -32121988.0507 28014468.7416  False\n",
      "    25     54  -3197509.6545    1.0 -33265738.0507 26870718.7416  False\n",
      "    25     55  -4506065.2399    1.0 -23256900.0542 14244769.5744  False\n",
      "    25     56  -4485306.3212    1.0 -23236141.1355 14265528.4931  False\n",
      "    25     59   7282109.0955    1.0 -14847507.8103 29411726.0012  False\n",
      "    25     60  -2907203.6545    1.0 -14334888.6857  8520481.3766  False\n",
      "    25     61  -1280259.6545    1.0 -20031094.4688 17470575.1597  False\n",
      "    25     63  -5130842.9879    1.0 -23881677.8022 13619991.8264  False\n",
      "    25     64  -2882509.6545    1.0 -32950738.0507 27185718.7416  False\n",
      "    25     65  17446727.8455 0.9921 -12621500.5507 47514956.2416  False\n",
      "    25     66    610480.3455    1.0 -29457748.0507 30678708.7416  False\n",
      "    25     69  -2136634.6545    1.0 -32204863.0507 27931593.7416  False\n",
      "    25     70  -5078990.3945    1.0 -17657432.7784  7499451.9893  False\n",
      "    25     75  -4197509.6545    1.0 -34265738.0507 25870718.7416  False\n",
      "    25     90  -1117822.6545    1.0 -14057127.9688 11821482.6597  False\n",
      "    25    120  -4774984.6545    1.0 -34843213.0507 25293243.7416  False\n",
      "    25    130   3747490.3455    1.0 -26320738.0507 33815718.7416  False\n",
      "    25    145  -4540009.6545    1.0 -34608238.0507 25528218.7416  False\n",
      "    26     27     -3519346.5    1.0 -16659273.1628  9620580.1628  False\n",
      "    26     29     -2990387.2    1.0 -16978907.3408 10998132.9408  False\n",
      "    26     30  -3263117.2125    1.0  -14015120.382  7488885.9571  False\n",
      "    26     31    -5722584.75    1.0 -36257015.0312 24811845.5312  False\n",
      "    26     32    -4919149.77    1.0 -21330912.9116 11492613.3716  False\n",
      "    26     33    -4674004.75    1.0 -24163665.5974 14815656.0974  False\n",
      "    26     34   -4341375.375    1.0 -21970436.9174 13287686.1674  False\n",
      "    26     35    -4490176.95    1.0 -20901940.0916 11921586.1916  False\n",
      "    26     36  -2731473.2214    1.0 -17630749.5909  12167803.148  False\n",
      "    26     37    -4866077.75    1.0 -22495139.2924 12762983.7924  False\n",
      "    26     39    -4149409.75    1.0 -23639070.5974 15340251.0974  False\n",
      "    26     40     -2580404.0    1.0 -16235816.3526 11075008.3526  False\n",
      "    26     41      410165.25    1.0 -30124265.0312 30944595.5312  False\n",
      "    26     42   -1710143.675    1.0 -14850070.3378 11429782.9878  False\n",
      "    26     43    -3421506.75    1.0 -19833269.8916 12990256.3916  False\n",
      "    26     45  -2721708.0833    1.0 -16710228.2242 11266812.0575  False\n",
      "    26     46    -5531834.75    1.0 -23160896.2924 12097226.7924  False\n",
      "    26     47   1284301.9167    1.0 -18205358.9307 20773962.7641  False\n",
      "    26     49    -7628709.75    1.0 -38163140.0312 22905720.5312  False\n",
      "    26     50   1529879.6562    1.0 -12864188.8181 15923948.1306  False\n",
      "    26     51    -7794459.75    1.0 -38328890.0312 22739970.5312  False\n",
      "    26     53    -3816459.75    1.0 -34350890.0312 26717970.5312  False\n",
      "    26     54    -4960209.75    1.0 -35494640.0312 25574220.5312  False\n",
      "    26     55  -6268765.3353    1.0 -25758426.1827 13220895.5121  False\n",
      "    26     56  -6248006.4167    1.0 -25737667.2641 13241654.4307  False\n",
      "    26     59      5519409.0    1.0 -17239611.5877 28278429.5877  False\n",
      "    26     60    -4669903.75    1.0 -17273278.6507  7933471.1507  False\n",
      "    26     61    -3042959.75    1.0 -22532620.5974 16446701.0974  False\n",
      "    26     63  -6893543.0833    1.0 -26383203.9307 12596117.7641  False\n",
      "    26     64    -4645209.75    1.0 -35179640.0312 25889220.5312  False\n",
      "    26     65    15684027.75 0.9996 -14850402.5312 46218458.0312  False\n",
      "    26     66    -1152219.75    1.0 -31686650.0312 29382210.5312  False\n",
      "    26     69    -3899334.75    1.0 -34433765.0312 26635095.5312  False\n",
      "    26     70    -6841690.49 0.9998 -20497102.8426  6813721.8626  False\n",
      "    26     75    -5960209.75    1.0 -36494640.0312 24574220.5312  False\n",
      "    26     90    -2880522.75    1.0 -16869042.8908 11107997.3908  False\n",
      "    26    120    -6537684.75    1.0 -37072115.0312 23996745.5312  False\n",
      "    26    130     1984790.25    1.0 -28549640.0312 32519220.5312  False\n",
      "    26    145    -6302709.75    1.0 -36837140.0312 24231720.5312  False\n",
      "    27     29       528959.3    1.0 -12165415.8792 13223334.4792  False\n",
      "    27     30    256229.2875    1.0  -8747882.9739   9260341.549  False\n",
      "    27     31    -2203238.25    1.0  -32166881.187  27760404.687  False\n",
      "    27     32    -1399803.27    1.0 -16723459.3245 13923852.7845  False\n",
      "    27     33    -1154658.25    1.0 -19737320.7451 17428004.2451  False\n",
      "    27     34    -822028.875    1.0 -17442867.4918 15798809.7418  False\n",
      "    27     35     -970830.45    1.0 -16294486.5045 14352825.6045  False\n",
      "    27     36    787873.2786    1.0 -12903616.8446 14479363.4017  False\n",
      "    27     37    -1346731.25    1.0 -17967569.8668 15274107.3668  False\n",
      "    27     39     -630063.25    1.0 -19212725.7451 17952599.2451  False\n",
      "    27     40       938942.5    1.0 -11387401.3204 13265286.3204  False\n",
      "    27     41     3929511.75    1.0  -26034131.187  33893154.687  False\n",
      "    27     42    1809202.825    1.0  -9943504.8699 13561910.5199  False\n",
      "    27     43       97839.75    1.0 -15225816.3045 15421495.8045  False\n",
      "    27     45    797638.4167    1.0 -11896736.7625 13492013.5958  False\n",
      "    27     46    -2012488.25    1.0 -18633326.8668 14608350.3668  False\n",
      "    27     47   4803648.4167    1.0 -13779014.0784 23386310.9118  False\n",
      "    27     49    -4109363.25    1.0  -34073006.187  25854279.687  False\n",
      "    27     50   5049226.1562    1.0  -8090700.5065  18189152.819  False\n",
      "    27     51    -4275113.25    1.0  -34238756.187  25688529.687  False\n",
      "    27     53     -297113.25    1.0  -30260756.187  29666529.687  False\n",
      "    27     54    -1440863.25    1.0  -31404506.187  28522779.687  False\n",
      "    27     55  -2749418.8353    1.0 -21332081.3304 15833243.6598  False\n",
      "    27     56  -2728659.9167    1.0 -21311322.4118 15854002.5784  False\n",
      "    27     59      9038755.5    1.0 -12948547.2807 31026058.2807  False\n",
      "    27     60    -1150557.25    1.0 -12300154.7471  9999040.2471  False\n",
      "    27     61      476386.75    1.0 -18106275.7451 19059049.2451  False\n",
      "    27     63  -3374196.5833    1.0 -21956859.0784 15208465.9118  False\n",
      "    27     64    -1125863.25    1.0  -31089506.187  28837779.687  False\n",
      "    27     65    19203374.25 0.9512  -10760268.687  49167017.187  False\n",
      "    27     66     2367126.75    1.0  -27596516.187  32330769.687  False\n",
      "    27     69     -379988.25    1.0  -30343631.187  29583654.687  False\n",
      "    27     70    -3322343.99    1.0 -15648687.8104  9003999.8304  False\n",
      "    27     75    -2440863.25    1.0  -32404506.187  27522779.687  False\n",
      "    27     90      638823.75    1.0 -12055551.4292 13333198.9292  False\n",
      "    27    120    -3018338.25    1.0  -32981981.187  26945304.687  False\n",
      "    27    130     5504136.75    1.0  -24459506.187  35467779.687  False\n",
      "    27    145    -2783363.25    1.0  -32747006.187  27180279.687  False\n",
      "    29     30   -272730.0125    1.0 -10475428.7066  9929968.6817  False\n",
      "    29     31    -2732197.55    1.0 -33077558.3336 27613163.2336  False\n",
      "    29     32    -1928762.57    1.0 -17986018.1856 14128493.0456  False\n",
      "    29     33    -1683617.55    1.0 -20875708.8491 17508473.7491  False\n",
      "    29     34   -1350988.175    1.0 -18650505.4906 15948529.1406  False\n",
      "    29     35    -1499789.75    1.0 -17557045.3656 14557465.8656  False\n",
      "    29     36    258913.9786    1.0 -14248943.3691 14766771.3262  False\n",
      "    29     37    -1875690.55    1.0 -19175207.8656 15423826.7656  False\n",
      "    29     39    -1159022.55    1.0 -20351113.8491 18033068.7491  False\n",
      "    29     40       409983.2    1.0 -12817252.9061 13637219.3061  False\n",
      "    29     41     3400552.45    1.0 -26944808.3336 33745913.2336  False\n",
      "    29     42    1280243.525    1.0 -11414131.6542 13974618.7042  False\n",
      "    29     43     -431119.55    1.0 -16488375.1656 15626136.0656  False\n",
      "    29     45    268679.1167    1.0 -13302178.7861 13839537.0194  False\n",
      "    29     46    -2541447.55    1.0 -19840964.8656 14758069.7656  False\n",
      "    29     47   4274689.1167    1.0 -14917402.1825 23466780.4158  False\n",
      "    29     49    -4638322.55    1.0 -34983683.3336 25707038.2336  False\n",
      "    29     50   4520266.8562    1.0  -9468253.2846 18508786.9971  False\n",
      "    29     51    -4804072.55    1.0 -35149433.3336 25541288.2336  False\n",
      "    29     53     -826072.55    1.0 -31171433.3336 29519288.2336  False\n",
      "    29     54    -1969822.55    1.0 -32315183.3336 28375538.2336  False\n",
      "    29     55  -3278378.1353    1.0 -22470469.4345 15913713.1638  False\n",
      "    29     56  -3257619.2167    1.0 -22449710.5158 15934472.0825  False\n",
      "    29     59      8509796.2    1.0 -13994925.6733 31014518.0733  False\n",
      "    29     60    -1679516.55    1.0 -13817660.8634 10458627.7634  False\n",
      "    29     61      -52572.55    1.0 -19244663.8491 19139518.7491  False\n",
      "    29     63  -3903155.8833    1.0 -23095247.1825 15288935.4158  False\n",
      "    29     64    -1654822.55    1.0 -32000183.3336 28690538.2336  False\n",
      "    29     65    18674414.95 0.9753 -11670945.8336 49019775.7336  False\n",
      "    29     66     1838167.45    1.0 -28507193.3336 32183528.2336  False\n",
      "    29     69     -908947.55    1.0 -31254308.3336 29436413.2336  False\n",
      "    29     70    -3851303.29    1.0 -17078539.3961  9375932.8161  False\n",
      "    29     75    -2969822.55    1.0 -33315183.3336 27375538.2336  False\n",
      "    29     90      109864.45    1.0 -13460993.4528 13680722.3528  False\n",
      "    29    120    -3547297.55    1.0 -33892658.3336 26798063.2336  False\n",
      "    29    130     4975177.45    1.0 -25370183.3336 35320538.2336  False\n",
      "    29    145    -3312322.55    1.0 -33657683.3336 27033038.2336  False\n",
      "    30     31  -2459467.5375    1.0   -31455463.77 26536528.6949  False\n",
      "    30     32  -1656032.5575    1.0  -14988786.749  11676721.634  False\n",
      "    30     33  -1410887.5375    1.0 -18389204.4406 15567429.3655  False\n",
      "    30     34  -1078258.1625    1.0 -15883668.5175 13727152.1925  False\n",
      "    30     35  -1227059.7375    1.0  -14559813.929  12105694.454  False\n",
      "    30     36     531643.991    1.0 -10887848.1713 11951136.1534  False\n",
      "    30     37  -1602960.5375    1.0 -16408370.8925 13202449.8175  False\n",
      "    30     39   -886292.5375    1.0 -17864609.4406 16092024.3655  False\n",
      "    30     40    682713.2125    1.0  -9058264.7381  10423691.163  False\n",
      "    30     41   3673282.4625    1.0   -25322713.77 32669278.6949  False\n",
      "    30     42   1552973.5375    1.0   -7451138.724 10557085.7989  False\n",
      "    30     43   -158389.5375    1.0  -13491143.729  13174364.654  False\n",
      "    30     45    541409.1291    1.0  -9661289.5651 10744107.8233  False\n",
      "    30     46  -2268717.5375    1.0 -17074127.8925 12536692.8175  False\n",
      "    30     47   4547419.1291    1.0 -12430897.7739 21525736.0322  False\n",
      "    30     49  -4365592.5375    1.0   -33361588.77 24630403.6949  False\n",
      "    30     50   4792996.8687    1.0  -5959006.3008 15545000.0383  False\n",
      "    30     51  -4531342.5375    1.0   -33527338.77 24464653.6949  False\n",
      "    30     53   -553342.5375    1.0   -29549338.77 28442653.6949  False\n",
      "    30     54  -1697092.5375    1.0   -30693088.77 27298903.6949  False\n",
      "    30     55  -3005648.1229    1.0 -19983965.0259 13972668.7802  False\n",
      "    30     56  -2984889.2042    1.0 -19963206.1073 13993427.6989  False\n",
      "    30     59   8782526.2125    1.0 -11866671.9081 29431724.3331  False\n",
      "    30     60  -1406786.5375    1.0  -9608092.7628  6794519.6878  False\n",
      "    30     61    220157.4625    1.0 -16758159.4406 17198474.3655  False\n",
      "    30     63  -3630425.8709    1.0 -20608742.7739 13347891.0322  False\n",
      "    30     64  -1382092.5375    1.0   -30378088.77 27613903.6949  False\n",
      "    30     65  18947144.9625 0.9344   -10048851.27 47943141.1949  False\n",
      "    30     66   2110897.4625    1.0   -26885098.77 31106893.6949  False\n",
      "    30     69   -636217.5375    1.0   -29632213.77 28359778.6949  False\n",
      "    30     70  -3578573.2775    1.0 -13319551.2281   6162404.673  False\n",
      "    30     75  -2697092.5375    1.0   -31693088.77 26298903.6949  False\n",
      "    30     90    382594.4625    1.0  -9820104.2317 10585293.1566  False\n",
      "    30    120  -3274567.5375    1.0   -32270563.77 25721428.6949  False\n",
      "    30    130   5247907.4625    1.0   -23748088.77 34243903.6949  False\n",
      "    30    145  -3039592.5375    1.0   -32035588.77 25956403.6949  False\n",
      "    31     32      803434.98    1.0 -30732389.0107 32339258.9707  False\n",
      "    31     33      1048580.0    1.0 -32193097.2336 34290257.2336  False\n",
      "    31     34    1381209.375    1.0 -30804906.2064 33567324.9564  False\n",
      "    31     35      1232407.8    1.0 -30303416.1907 32768231.7907  False\n",
      "    31     36   2991111.5286    1.0 -27784701.4044 33766924.4616  False\n",
      "    31     37       856507.0    1.0 -31329608.5814 33042622.5814  False\n",
      "    31     39      1573175.0    1.0 -31668502.2336 34814852.2336  False\n",
      "    31     40     3142180.75    1.0 -27051072.0041 33335433.5041  False\n",
      "    31     41      6132750.0    1.0 -34579823.7083 46845323.7083  False\n",
      "    31     42    4012441.075    1.0  -25951201.862  33976084.012  False\n",
      "    31     43      2301078.0    1.0 -29234745.9907 33836901.9907  False\n",
      "    31     45   3000876.6667    1.0 -27344484.1169 33346237.4502  False\n",
      "    31     46       190750.0    1.0 -31995365.5814 32376865.5814  False\n",
      "    31     47   7006886.6667    1.0 -26234790.5669 40248563.9002  False\n",
      "    31     49     -1906125.0    1.0 -42618698.7083 38806448.7083  False\n",
      "    31     50   7252464.4062    1.0  -23281965.875 37786894.6875  False\n",
      "    31     51     -2071875.0    1.0 -42784448.7083 38640698.7083  False\n",
      "    31     53      1906125.0    1.0 -38806448.7083 42618698.7083  False\n",
      "    31     54       762375.0    1.0 -39950198.7083 41474948.7083  False\n",
      "    31     55   -546180.5853    1.0 -33787857.8189 32695496.6482  False\n",
      "    31     56   -525421.6667    1.0 -33767098.9002 32716255.5669  False\n",
      "    31     59    11241993.75    1.0 -24016129.3348 46500116.8348  False\n",
      "    31     60      1052681.0    1.0 -28679578.9922 30784940.9922  False\n",
      "    31     61      2679625.0    1.0 -30562052.2336 35921302.2336  False\n",
      "    31     63  -1170958.3333    1.0 -34412635.5669 32070718.9002  False\n",
      "    31     64      1077375.0    1.0 -39635198.7083 41789948.7083  False\n",
      "    31     65     21406612.5 0.9992 -19305961.2083 62119186.2083  False\n",
      "    31     66      4570365.0    1.0 -36142208.7083 45282938.7083  False\n",
      "    31     69      1823250.0    1.0 -38889323.7083 42535823.7083  False\n",
      "    31     70    -1119105.74    1.0 -31312358.4941 29074147.0141  False\n",
      "    31     75      -237625.0    1.0 -40950198.7083 40474948.7083  False\n",
      "    31     90      2842062.0    1.0 -27503298.7836 33187422.7836  False\n",
      "    31    120      -815100.0    1.0 -41527673.7083 39897473.7083  False\n",
      "    31    130      7707375.0    1.0 -33005198.7083 48419948.7083  False\n",
      "    31    145      -580125.0    1.0 -41292698.7083 40132448.7083  False\n",
      "    32     33      245145.02    1.0 -20778737.6405 21269027.6805  False\n",
      "    32     34     577774.395    1.0 -18733894.9538 19889443.7438  False\n",
      "    32     35      428972.82    1.0 -17778243.6501 18636189.2901  False\n",
      "    32     36   2187676.5486    1.0 -14668930.4204 19044283.5175  False\n",
      "    32     37       53072.02    1.0 -19258597.3288 19364741.3688  False\n",
      "    32     39      769740.02    1.0 -20254142.6405 21793622.6805  False\n",
      "    32     40     2338745.77    1.0 -13429166.2253 18106657.7653  False\n",
      "    32     41     5329315.02    1.0 -26206508.9707 36865139.0107  False\n",
      "    32     42    3209006.095    1.0 -12114649.9595 18532662.1495  False\n",
      "    32     43     1497643.02    1.0 -16709573.4501 19704859.4901  False\n",
      "    32     45   2197441.6867    1.0 -13859813.9289 18254697.3022  False\n",
      "    32     46     -612684.98    1.0 -19924354.3288 18698984.3688  False\n",
      "    32     47   6203451.6867    1.0 -14820430.9738 27227334.3471  False\n",
      "    32     49    -2709559.98    1.0 -34245383.9707 28826264.0107  False\n",
      "    32     50   6449029.4262    1.0  -9962733.7154 22860792.5679  False\n",
      "    32     51    -2875309.98    1.0 -34411133.9707 28660514.0107  False\n",
      "    32     53     1102690.02    1.0 -30433133.9707 32638514.0107  False\n",
      "    32     54      -41059.98    1.0 -31576883.9707 31494764.0107  False\n",
      "    32     55  -1349615.5653    1.0 -22373498.2258 19674267.0951  False\n",
      "    32     56  -1328856.6467    1.0 -22352739.3071 19695026.0138  False\n",
      "    32     59    10438558.77    1.0 -13647324.6533 34524442.1933  False\n",
      "    32     60      249246.02    1.0 -14616883.9761 15115376.0161  False\n",
      "    32     61     1876190.02    1.0 -19147692.6405 22900072.6805  False\n",
      "    32     63  -1974393.3133    1.0 -22998275.9738 19049489.3471  False\n",
      "    32     64      273940.02    1.0 -31261883.9707 31809764.0107  False\n",
      "    32     65    20603177.52 0.9346 -10932646.4707 52139001.5107  False\n",
      "    32     66     3766930.02    1.0 -27768893.9707 35302754.0107  False\n",
      "    32     69     1019815.02    1.0 -30516008.9707 32555639.0107  False\n",
      "    32     70    -1922540.72    1.0 -17690452.7153 13845371.2753  False\n",
      "    32     75    -1041059.98    1.0 -32576883.9707 30494764.0107  False\n",
      "    32     90     2038627.02    1.0 -14018628.5956 18095882.6356  False\n",
      "    32    120    -1618534.98    1.0 -33154358.9707 29917289.0107  False\n",
      "    32    130     6903940.02    1.0 -24631883.9707 38439764.0107  False\n",
      "    32    145    -1383559.98    1.0 -32919383.9707 30152264.0107  False\n",
      "    33     34     332629.375    1.0 -21654673.4057 22319932.1557  False\n",
      "    33     35       183827.8    1.0 -20840054.8605 21207710.4605  False\n",
      "    33     36   1942531.5286    1.0 -17923170.2973 21808233.3545  False\n",
      "    33     37      -192073.0    1.0 -22179375.7807 21795229.7807  False\n",
      "    33     39       524595.0    1.0 -22980820.3899 24030010.3899  False\n",
      "    33     40     2093600.75    1.0 -16857070.9854 21044272.4854  False\n",
      "    33     41      5084170.0    1.0 -28157507.2336 38325847.2336  False\n",
      "    33     42    2963861.075    1.0 -15618801.4201 21546523.5701  False\n",
      "    33     43      1252498.0    1.0 -19771384.6605 22276380.6605  False\n",
      "    33     45   1952296.6667    1.0 -17239794.6325 21144387.9658  False\n",
      "    33     46      -857830.0    1.0 -22845132.7807 21129472.7807  False\n",
      "    33     47   5958306.6667    1.0 -17547108.7232 29463722.0565  False\n",
      "    33     49     -2954705.0    1.0 -36196382.2336 30286972.2336  False\n",
      "    33     50   6203884.4062    1.0 -13285776.4412 25693545.2537  False\n",
      "    33     51     -3120455.0    1.0 -36362132.2336 30121222.2336  False\n",
      "    33     53       857545.0    1.0 -32384132.2336 34099222.2336  False\n",
      "    33     54      -286205.0    1.0 -33527882.2336 32955472.2336  False\n",
      "    33     55  -1594760.5853    1.0 -25100175.9752 21910654.8045  False\n",
      "    33     56  -1574001.6667    1.0 -25079417.0565 21931413.7232  False\n",
      "    33     59    10193413.75    1.0 -16086439.5756 36473267.0756  False\n",
      "    33     60         4101.0    1.0 -18203115.4701 18211317.4701  False\n",
      "    33     61      1631045.0    1.0 -21874370.3899 25136460.3899  False\n",
      "    33     63  -2219538.3333    1.0 -25724953.7232 21285877.0565  False\n",
      "    33     64        28795.0    1.0 -33212882.2336 33270472.2336  False\n",
      "    33     65     20358032.5 0.9774 -12883644.7336 53599709.7336  False\n",
      "    33     66      3521785.0    1.0 -29719892.2336 36763462.2336  False\n",
      "    33     69       774670.0    1.0 -32467007.2336 34016347.2336  False\n",
      "    33     70    -2167685.74    1.0 -21118357.4754 16782985.9954  False\n",
      "    33     75     -1286205.0    1.0 -34527882.2336 31955472.2336  False\n",
      "    33     90      1793482.0    1.0 -17398609.2991 20985573.2991  False\n",
      "    33    120     -1863680.0    1.0 -35105357.2336 31377997.2336  False\n",
      "    33    130      6658795.0    1.0 -26582882.2336 39900472.2336  False\n",
      "    33    145     -1628705.0    1.0 -34870382.2336 31612972.2336  False\n",
      "    34     35    -148801.575    1.0 -19460470.9238 19162867.7738  False\n",
      "    34     36   1609902.1536    1.0 -16434017.5967 19653821.9039  False\n",
      "    34     37    -524702.375    1.0 -20880989.2291 19831584.4791  False\n",
      "    34     39     191965.625    1.0 -21795337.1557 22179268.4057  False\n",
      "    34     40    1760971.375    1.0 -15270320.1245 18792262.8745  False\n",
      "    34     41    4751540.625    1.0 -27434574.9564 36937656.2064  False\n",
      "    34     42      2631231.7    1.0 -13989606.9168 19252070.3168  False\n",
      "    34     43     919868.625    1.0 -18391800.7238 20231537.9738  False\n",
      "    34     45   1619667.2917    1.0 -15679850.0239 18919184.6073  False\n",
      "    34     46   -1190459.375    1.0 -21546746.2291 19165827.4791  False\n",
      "    34     47   5625677.2917    1.0  -16361625.489 27612980.0723  False\n",
      "    34     49   -3287334.375    1.0 -35473449.9564 28898781.2064  False\n",
      "    34     50   5871255.0312    1.0 -11757806.5112 23500316.5737  False\n",
      "    34     51   -3453084.375    1.0 -35639199.9564 28733031.2064  False\n",
      "    34     53     524915.625    1.0 -31661199.9564 32711031.2064  False\n",
      "    34     54    -618834.375    1.0 -32804949.9564 31567281.2064  False\n",
      "    34     55  -1927389.9603    1.0  -23914692.741 20059912.8203  False\n",
      "    34     56  -1906631.0417    1.0 -23893933.8223  20080671.739  False\n",
      "    34     59    9860784.375    1.0 -15070473.5502 34792042.3002  False\n",
      "    34     60    -328528.375    1.0 -16528517.9586 15871461.2086  False\n",
      "    34     61    1298415.625    1.0 -20688887.1557 23285718.4057  False\n",
      "    34     63  -2552167.7083    1.0  -24539470.489 19435135.0723  False\n",
      "    34     64    -303834.375    1.0 -32489949.9564 31882281.2064  False\n",
      "    34     65   20025403.125 0.9701 -12160712.4564 52211518.7064  False\n",
      "    34     66    3189155.625    1.0 -28996959.9564 35375271.2064  False\n",
      "    34     69     442040.625    1.0 -31744074.9564 32628156.2064  False\n",
      "    34     70   -2500315.115    1.0 -19531606.6145 14530976.3845  False\n",
      "    34     75   -1618834.375    1.0 -33804949.9564 30567281.2064  False\n",
      "    34     90    1460852.625    1.0 -15838664.6906 18760369.9406  False\n",
      "    34    120   -2196309.375    1.0 -34382424.9564 29989806.2064  False\n",
      "    34    130    6326165.625    1.0 -25859949.9564 38512281.2064  False\n",
      "    34    145   -1961334.375    1.0 -34147449.9564 30224781.2064  False\n",
      "    35     36   1758703.7286    1.0 -15097903.2404 18615310.6975  False\n",
      "    35     37      -375900.8    1.0 -19687570.1488 18935768.5488  False\n",
      "    35     39       340767.2    1.0 -20683115.4605 21364649.8605  False\n",
      "    35     40     1909772.95    1.0 -13858139.0453 17677684.9453  False\n",
      "    35     41      4900342.2    1.0 -26635481.7907 36436166.1907  False\n",
      "    35     42    2780033.275    1.0 -12543622.7795 18103689.3295  False\n",
      "    35     43      1068670.2    1.0 -17138546.2701 19275886.6701  False\n",
      "    35     45   1768468.8667    1.0 -14288786.7489 17825724.4822  False\n",
      "    35     46     -1041657.8    1.0 -20353327.1488 18270011.5488  False\n",
      "    35     47   5774478.8667    1.0 -15249403.7938 26798361.5271  False\n",
      "    35     49     -3138532.8    1.0 -34674356.7907 28397291.1907  False\n",
      "    35     50   6020056.6062    1.0 -10391706.5354 22431819.7479  False\n",
      "    35     51     -3304282.8    1.0 -34840106.7907 28231541.1907  False\n",
      "    35     53       673717.2    1.0 -30862106.7907 32209541.1907  False\n",
      "    35     54      -470032.8    1.0 -32005856.7907 31065791.1907  False\n",
      "    35     55  -1778588.3853    1.0 -22802471.0458 19245294.2751  False\n",
      "    35     56  -1757829.4667    1.0 -22781712.1271 19266053.1938  False\n",
      "    35     59    10009585.95    1.0 -14076297.4733 34095469.3733  False\n",
      "    35     60      -179726.8    1.0 -15045856.7961 14686403.1961  False\n",
      "    35     61      1447217.2    1.0 -19576665.4605 22471099.8605  False\n",
      "    35     63  -2403366.1333    1.0 -23427248.7938 18620516.5271  False\n",
      "    35     64      -155032.8    1.0 -31690856.7907 31380791.1907  False\n",
      "    35     65     20174204.7 0.9526 -11361619.2907 51710028.6907  False\n",
      "    35     66      3337957.2    1.0 -28197866.7907 34873781.1907  False\n",
      "    35     69       590842.2    1.0 -30944981.7907 32126666.1907  False\n",
      "    35     70    -2351513.54    1.0 -18119425.5353 13416398.4553  False\n",
      "    35     75     -1470032.8    1.0 -33005856.7907 30065791.1907  False\n",
      "    35     90      1609654.2    1.0 -14447601.4156 17666909.8156  False\n",
      "    35    120     -2047507.8    1.0 -33583331.7907 29488316.1907  False\n",
      "    35    130      6474967.2    1.0 -25060856.7907 38010791.1907  False\n",
      "    35    145     -1812532.8    1.0 -33348356.7907 29723291.1907  False\n",
      "    36     37  -2134604.5286    1.0 -20178524.2789 15909315.2217  False\n",
      "    36     39  -1417936.5286    1.0 -21283638.3545 18447765.2973  False\n",
      "    36     40    151069.2214    1.0 -14035879.5558 14338017.9987  False\n",
      "    36     41   3141638.4714    1.0 -27634174.4616 33917451.4044  False\n",
      "    36     42   1021329.5464    1.0 -12670160.5767 14712819.6696  False\n",
      "    36     43   -690033.5286    1.0 -17546640.4975 16166573.4404  False\n",
      "    36     45      9765.1381    1.0 -14498092.2095 14517622.4857  False\n",
      "    36     46  -2800361.5286    1.0 -20844281.2789 15243558.2217  False\n",
      "    36     47   4015775.1381    1.0 -15849926.6878  23881476.964  False\n",
      "    36     49  -4897236.5286    1.0 -35673049.4616 25878576.4044  False\n",
      "    36     50   4261352.8777    1.0 -10637923.4918 19160629.2471  False\n",
      "    36     51  -5062986.5286    1.0 -35838799.4616 25712826.4044  False\n",
      "    36     53  -1084986.5286    1.0 -31860799.4616 29690826.4044  False\n",
      "    36     54  -2228736.5286    1.0 -33004549.4616 28547076.4044  False\n",
      "    36     55  -3537292.1139    1.0 -23402993.9398  16328409.712  False\n",
      "    36     56  -3516533.1952    1.0 -23382235.0212 16349168.6307  False\n",
      "    36     59   8250882.2214    1.0 -14830977.4783 31332741.9212  False\n",
      "    36     60  -1938430.5286    1.0 -15115846.3593 11238985.3022  False\n",
      "    36     61   -311486.5286    1.0 -20177188.3545 19554215.2973  False\n",
      "    36     63  -4162069.8619    1.0 -24027771.6878  15703631.964  False\n",
      "    36     64  -1913736.5286    1.0 -32689549.4616 28862076.4044  False\n",
      "    36     65  18415500.9714 0.9853 -12360311.9616 49191313.9044  False\n",
      "    36     66   1579253.4714    1.0 -29196559.4616 32355066.4044  False\n",
      "    36     69  -1167861.5286    1.0 -31943674.4616 29607951.4044  False\n",
      "    36     70  -4110217.2686    1.0 -18297166.0458 10076731.5087  False\n",
      "    36     75  -3228736.5286    1.0 -34004549.4616 27547076.4044  False\n",
      "    36     90   -149049.5286    1.0 -14656906.8762 14358807.8191  False\n",
      "    36    120  -3806211.5286    1.0 -34582024.4616 26969601.4044  False\n",
      "    36    130   4716263.4714    1.0 -26059549.4616 35492076.4044  False\n",
      "    36    145  -3571236.5286    1.0 -34347049.4616 27204576.4044  False\n",
      "    37     39       716668.0    1.0 -21270634.7807 22703970.7807  False\n",
      "    37     40     2285673.75    1.0 -14745617.7495 19316965.2495  False\n",
      "    37     41      5276243.0    1.0 -26909872.5814 37462358.5814  False\n",
      "    37     42    3155934.075    1.0 -13464904.5418 19776772.6918  False\n",
      "    37     43      1444571.0    1.0 -17867098.3488 20756240.3488  False\n",
      "    37     45   2144369.6667    1.0 -15155147.6489 19443886.9823  False\n",
      "    37     46      -665757.0    1.0 -21022043.8541 19690529.8541  False\n",
      "    37     47   6150379.6667    1.0  -15836923.114 28137682.4473  False\n",
      "    37     49     -2762632.0    1.0 -34948747.5814 29423483.5814  False\n",
      "    37     50   6395957.4062    1.0 -11233104.1362 24025018.9487  False\n",
      "    37     51     -2928382.0    1.0 -35114497.5814 29257733.5814  False\n",
      "    37     53      1049618.0    1.0 -31136497.5814 33235733.5814  False\n",
      "    37     54       -94132.0    1.0 -32280247.5814 32091983.5814  False\n",
      "    37     55  -1402687.5853    1.0  -23389990.366 20584615.1953  False\n",
      "    37     56  -1381928.6667    1.0 -23369231.4473  20605374.114  False\n",
      "    37     59    10385486.75    1.0 -14545771.1752 35316744.6752  False\n",
      "    37     60       196174.0    1.0 -16003815.5836 16396163.5836  False\n",
      "    37     61      1823118.0    1.0 -20164184.7807 23810420.7807  False\n",
      "    37     63  -2027465.3333    1.0  -24014768.114 19959837.4473  False\n",
      "    37     64       220868.0    1.0 -31965247.5814 32406983.5814  False\n",
      "    37     65     20550105.5 0.9541 -11636010.0814 52736221.0814  False\n",
      "    37     66      3713858.0    1.0 -28472257.5814 35899973.5814  False\n",
      "    37     69       966743.0    1.0 -31219372.5814 33152858.5814  False\n",
      "    37     70    -1975612.74    1.0 -19006904.2395 15055678.7595  False\n",
      "    37     75     -1094132.0    1.0 -33280247.5814 31091983.5814  False\n",
      "    37     90      1985555.0    1.0 -15313962.3156 19285072.3156  False\n",
      "    37    120     -1671607.0    1.0 -33857722.5814 30514508.5814  False\n",
      "    37    130      6850868.0    1.0 -25335247.5814 39036983.5814  False\n",
      "    37    145     -1436632.0    1.0 -33622747.5814 30749483.5814  False\n",
      "    39     40     1569005.75    1.0 -17381665.9854 20519677.4854  False\n",
      "    39     41      4559575.0    1.0 -28682102.2336 37801252.2336  False\n",
      "    39     42    2439266.075    1.0 -16143396.4201 21021928.5701  False\n",
      "    39     43       727903.0    1.0 -20295979.6605 21751785.6605  False\n",
      "    39     45   1427701.6667    1.0 -17764389.6325 20619792.9658  False\n",
      "    39     46     -1382425.0    1.0 -23369727.7807 20604877.7807  False\n",
      "    39     47   5433711.6667    1.0 -18071703.7232 28939127.0565  False\n",
      "    39     49     -3479300.0    1.0 -36720977.2336 29762377.2336  False\n",
      "    39     50   5679289.4062    1.0 -13810371.4412 25168950.2537  False\n",
      "    39     51     -3645050.0    1.0 -36886727.2336 29596627.2336  False\n",
      "    39     53       332950.0    1.0 -32908727.2336 33574627.2336  False\n",
      "    39     54      -810800.0    1.0 -34052477.2336 32430877.2336  False\n",
      "    39     55  -2119355.5853    1.0 -25624770.9752 21386059.8045  False\n",
      "    39     56  -2098596.6667    1.0 -25604012.0565 21406818.7232  False\n",
      "    39     59     9668818.75    1.0 -16611034.5756 35948672.0756  False\n",
      "    39     60      -520494.0    1.0 -18727710.4701 17686722.4701  False\n",
      "    39     61      1106450.0    1.0 -22398965.3899 24611865.3899  False\n",
      "    39     63  -2744133.3333    1.0 -26249548.7232 20761282.0565  False\n",
      "    39     64      -495800.0    1.0 -33737477.2336 32745877.2336  False\n",
      "    39     65     19833437.5 0.9861 -13408239.7336 53075114.7336  False\n",
      "    39     66      2997190.0    1.0 -30244487.2336 36238867.2336  False\n",
      "    39     69       250075.0    1.0 -32991602.2336 33491752.2336  False\n",
      "    39     70    -2692280.74    1.0 -21642952.4754 16258390.9954  False\n",
      "    39     75     -1810800.0    1.0 -35052477.2336 31430877.2336  False\n",
      "    39     90      1268887.0    1.0 -17923204.2991 20460978.2991  False\n",
      "    39    120     -2388275.0    1.0 -35629952.2336 30853402.2336  False\n",
      "    39    130      6134200.0    1.0 -27107477.2336 39375877.2336  False\n",
      "    39    145     -2153300.0    1.0 -35394977.2336 31088377.2336  False\n",
      "    40     41     2990569.25    1.0 -27202683.5041 33183822.0041  False\n",
      "    40     42     870260.325    1.0 -11456083.4954 13196604.1454  False\n",
      "    40     43     -841102.75    1.0 -16609014.7453 14926809.2453  False\n",
      "    40     45   -141304.0833    1.0 -13368540.1894 13085932.0227  False\n",
      "    40     46    -2951430.75    1.0 -19982722.2495 14079860.7495  False\n",
      "    40     47   3864705.9167    1.0 -15085965.8187 22815377.6521  False\n",
      "    40     49    -5048305.75    1.0 -35241558.5041 25144947.0041  False\n",
      "    40     50   4110283.6562    1.0  -9545128.6964 17765696.0089  False\n",
      "    40     51    -5214055.75    1.0 -35407308.5041 24979197.0041  False\n",
      "    40     53    -1236055.75    1.0 -31429308.5041 28957197.0041  False\n",
      "    40     54    -2379805.75    1.0 -32573058.5041 27813447.0041  False\n",
      "    40     55  -3688361.3353    1.0 -22639033.0707 15262310.4001  False\n",
      "    40     56  -3667602.4167    1.0 -22618274.1521 15283069.3187  False\n",
      "    40     59      8099813.0    1.0 -14199381.9941 30399007.9941  False\n",
      "    40     60    -2089499.75    1.0 -13842207.4449  9663207.9449  False\n",
      "    40     61     -462555.75    1.0 -19413227.4854 18488115.9854  False\n",
      "    40     63  -4313139.0833    1.0 -23263810.8187 14637532.6521  False\n",
      "    40     64    -2064805.75    1.0 -32258058.5041 28128447.0041  False\n",
      "    40     65    18264431.75  0.982 -11928821.0041 48457684.5041  False\n",
      "    40     66     1428184.25    1.0 -28765068.5041 31621437.0041  False\n",
      "    40     69    -1318930.75    1.0 -31512183.5041 28874322.0041  False\n",
      "    40     70    -4261286.49    1.0 -17135732.7226  8613159.7426  False\n",
      "    40     75    -3379805.75    1.0 -33573058.5041 26813447.0041  False\n",
      "    40     90     -300118.75    1.0 -13527354.8561 12927117.3561  False\n",
      "    40    120    -3957280.75    1.0 -34150533.5041 26235972.0041  False\n",
      "    40    130     4565194.25    1.0 -25628058.5041 34758447.0041  False\n",
      "    40    145    -3722305.75    1.0 -33915558.5041 26470947.0041  False\n",
      "    41     42   -2120308.925    1.0  -32083951.862  27843334.012  False\n",
      "    41     43     -3831672.0    1.0 -35367495.9907 27704151.9907  False\n",
      "    41     45  -3131873.3333    1.0 -33477234.1169 27213487.4502  False\n",
      "    41     46     -5942000.0    1.0 -38128115.5814 26244115.5814  False\n",
      "    41     47    874136.6667    1.0 -32367540.5669 34115813.9002  False\n",
      "    41     49     -8038875.0    1.0 -48751448.7083 32673698.7083  False\n",
      "    41     50   1119714.4062    1.0  -29414715.875 31654144.6875  False\n",
      "    41     51     -8204625.0    1.0 -48917198.7083 32507948.7083  False\n",
      "    41     53     -4226625.0    1.0 -44939198.7083 36485948.7083  False\n",
      "    41     54     -5370375.0    1.0 -46082948.7083 35342198.7083  False\n",
      "    41     55  -6678930.5853    1.0 -39920607.8189 26562746.6482  False\n",
      "    41     56  -6658171.6667    1.0 -39899848.9002 26583505.5669  False\n",
      "    41     59     5109243.75    1.0 -30148879.3348 40367366.8348  False\n",
      "    41     60     -5080069.0    1.0 -34812328.9922 24652190.9922  False\n",
      "    41     61     -3453125.0    1.0 -36694802.2336 29788552.2336  False\n",
      "    41     63  -7303708.3333    1.0 -40545385.5669 25937968.9002  False\n",
      "    41     64     -5055375.0    1.0 -45767948.7083 35657198.7083  False\n",
      "    41     65     15273862.5    1.0 -25438711.2083 55986436.2083  False\n",
      "    41     66     -1562385.0    1.0 -42274958.7083 39150188.7083  False\n",
      "    41     69     -4309500.0    1.0 -45022073.7083 36403073.7083  False\n",
      "    41     70    -7251855.74    1.0 -37445108.4941 22941397.0141  False\n",
      "    41     75     -6370375.0    1.0 -47082948.7083 34342198.7083  False\n",
      "    41     90     -3290688.0    1.0 -33636048.7836 27054672.7836  False\n",
      "    41    120     -6947850.0    1.0 -47660423.7083 33764723.7083  False\n",
      "    41    130      1574625.0    1.0 -39137948.7083 42287198.7083  False\n",
      "    41    145     -6712875.0    1.0 -47425448.7083 33999698.7083  False\n",
      "    42     43   -1711363.075    1.0 -17035019.1295 13612292.9795  False\n",
      "    42     45  -1011564.4083    1.0 -13705939.5875 11682810.7708  False\n",
      "    42     46   -3821691.075    1.0 -20442529.6918 12799147.5418  False\n",
      "    42     47   2994445.5917    1.0 -15588216.9034 21577108.0868  False\n",
      "    42     49   -5918566.075    1.0  -35882209.012  24045076.862  False\n",
      "    42     50   3240023.3313    1.0  -9899903.3315  16379949.994  False\n",
      "    42     51   -6084316.075    1.0  -36047959.012  23879326.862  False\n",
      "    42     53   -2106316.075    1.0  -32069959.012  27857326.862  False\n",
      "    42     54   -3250066.075    1.0  -33213709.012  26713576.862  False\n",
      "    42     55  -4558621.6603    1.0 -23141284.1554 14024040.8348  False\n",
      "    42     56  -4537862.7417    1.0 -23120525.2368 14044799.7534  False\n",
      "    42     59    7229552.675    1.0 -14757750.1057 29216855.4557  False\n",
      "    42     60   -2959760.075    1.0 -14109357.5721  8189837.4221  False\n",
      "    42     61   -1332816.075    1.0 -19915478.5701 17249846.4201  False\n",
      "    42     63  -5183399.4083    1.0 -23766061.9034 13399263.0868  False\n",
      "    42     64   -2935066.075    1.0  -32898709.012  27028576.862  False\n",
      "    42     65   17394171.425  0.992  -12569471.512  47357814.362  False\n",
      "    42     66     557923.925    1.0  -29405719.012  30521566.862  False\n",
      "    42     69   -2189191.075    1.0  -32152834.012  27774451.862  False\n",
      "    42     70   -5131546.815    1.0 -17457890.6354  7194797.0054  False\n",
      "    42     75   -4250066.075    1.0  -34213709.012  25713576.862  False\n",
      "    42     90   -1170379.075    1.0 -13864754.2542 11523996.1042  False\n",
      "    42    120   -4827541.075    1.0  -34791184.012  25136101.862  False\n",
      "    42    130    3694933.925    1.0  -26268709.012  33658576.862  False\n",
      "    42    145   -4592566.075    1.0  -34556209.012  25371076.862  False\n",
      "    43     45    699798.6667    1.0 -15357456.9489 16757054.2822  False\n",
      "    43     46     -2110328.0    1.0 -21421997.3488 17201341.3488  False\n",
      "    43     47   4705808.6667    1.0 -16318073.9938 25729691.3271  False\n",
      "    43     49     -4207203.0    1.0 -35743026.9907 27328620.9907  False\n",
      "    43     50   4951386.4062    1.0 -11460376.7354 21363149.5479  False\n",
      "    43     51     -4372953.0    1.0 -35908776.9907 27162870.9907  False\n",
      "    43     53      -394953.0    1.0 -31930776.9907 31140870.9907  False\n",
      "    43     54     -1538703.0    1.0 -33074526.9907 29997120.9907  False\n",
      "    43     55  -2847258.5853    1.0 -23871141.2458 18176624.0751  False\n",
      "    43     56  -2826499.6667    1.0 -23850382.3271 18197382.9938  False\n",
      "    43     59     8940915.75    1.0 -15144967.6733 33026799.1733  False\n",
      "    43     60     -1248397.0    1.0 -16114526.9961 13617732.9961  False\n",
      "    43     61       378547.0    1.0 -20645335.6605 21402429.6605  False\n",
      "    43     63  -3472036.3333    1.0 -24495918.9938 17551846.3271  False\n",
      "    43     64     -1223703.0    1.0 -32759526.9907 30312120.9907  False\n",
      "    43     65     19105534.5 0.9815 -12430289.4907 50641358.4907  False\n",
      "    43     66      2269287.0    1.0 -29266536.9907 33805110.9907  False\n",
      "    43     69      -477828.0    1.0 -32013651.9907 31057995.9907  False\n",
      "    43     70    -3420183.74    1.0 -19188095.7353 12347728.2553  False\n",
      "    43     75     -2538703.0    1.0 -34074526.9907 28997120.9907  False\n",
      "    43     90       540984.0    1.0 -15516271.6156 16598239.6156  False\n",
      "    43    120     -3116178.0    1.0 -34652001.9907 28419645.9907  False\n",
      "    43    130      5406297.0    1.0 -26129526.9907 36942120.9907  False\n",
      "    43    145     -2881203.0    1.0 -34417026.9907 28654620.9907  False\n",
      "    45     46  -2810126.6667    1.0 -20109643.9823 14489390.6489  False\n",
      "    45     47      4006010.0    1.0 -15186081.2991 23198101.2991  False\n",
      "    45     49  -4907001.6667    1.0 -35252362.4502 25438359.1169  False\n",
      "    45     50   4251587.7396    1.0  -9736932.4012 18240107.8804  False\n",
      "    45     51  -5072751.6667    1.0 -35418112.4502 25272609.1169  False\n",
      "    45     53  -1094751.6667    1.0 -31440112.4502 29250609.1169  False\n",
      "    45     54  -2238501.6667    1.0 -32583862.4502 28106859.1169  False\n",
      "    45     55   -3547057.252    1.0 -22739148.5511 15645034.0471  False\n",
      "    45     56  -3526298.3333    1.0 -22718389.6325 15665792.9658  False\n",
      "    45     59   8241117.0833    1.0   -14263604.79 30745838.9567  False\n",
      "    45     60  -1948195.6667    1.0 -14086339.9801 10189948.6468  False\n",
      "    45     61   -321251.6667    1.0 -19513342.9658 18870839.6325  False\n",
      "    45     63     -4171835.0    1.0 -23363926.2991 15020256.2991  False\n",
      "    45     64  -1923501.6667    1.0 -32268862.4502 28421859.1169  False\n",
      "    45     65  18405735.8333  0.981 -11939624.9502 48751096.6169  False\n",
      "    45     66   1569488.3333    1.0 -28775872.4502 31914849.1169  False\n",
      "    45     69  -1177626.6667    1.0 -31522987.4502 29167734.1169  False\n",
      "    45     70  -4119982.4067    1.0 -17347218.5127  9107253.6994  False\n",
      "    45     75  -3238501.6667    1.0 -33583862.4502 27106859.1169  False\n",
      "    45     90   -158814.6667    1.0 -13729672.5694 13412043.2361  False\n",
      "    45    120  -3815976.6667    1.0 -34161337.4502 26529384.1169  False\n",
      "    45    130   4706498.3333    1.0 -25638862.4502 35051859.1169  False\n",
      "    45    145  -3581001.6667    1.0 -33926362.4502 26764359.1169  False\n",
      "    46     47   6816136.6667    1.0  -15171166.114 28803439.4473  False\n",
      "    46     49     -2096875.0    1.0 -34282990.5814 30089240.5814  False\n",
      "    46     50   7061714.4062    1.0 -10567347.1362 24690775.9487  False\n",
      "    46     51     -2262625.0    1.0 -34448740.5814 29923490.5814  False\n",
      "    46     53      1715375.0    1.0 -30470740.5814 33901490.5814  False\n",
      "    46     54       571625.0    1.0 -31614490.5814 32757740.5814  False\n",
      "    46     55   -736930.5853    1.0  -22724233.366 21250372.1953  False\n",
      "    46     56   -716171.6667    1.0 -22703474.4473  21271131.114  False\n",
      "    46     59    11051243.75    1.0 -13880014.1752 35982501.6752  False\n",
      "    46     60       861931.0    1.0 -15338058.5836 17061920.5836  False\n",
      "    46     61      2488875.0    1.0 -19498427.7807 24476177.7807  False\n",
      "    46     63  -1361708.3333    1.0  -23349011.114 20625594.4473  False\n",
      "    46     64       886625.0    1.0 -31299490.5814 33072740.5814  False\n",
      "    46     65     21215862.5 0.9256 -10970253.0814 53401978.0814  False\n",
      "    46     66      4379615.0    1.0 -27806500.5814 36565730.5814  False\n",
      "    46     69      1632500.0    1.0 -30553615.5814 33818615.5814  False\n",
      "    46     70    -1309855.74    1.0 -18341147.2395 15721435.7595  False\n",
      "    46     75      -428375.0    1.0 -32614490.5814 31757740.5814  False\n",
      "    46     90      2651312.0    1.0 -14648205.3156 19950829.3156  False\n",
      "    46    120     -1005850.0    1.0 -33191965.5814 31180265.5814  False\n",
      "    46    130      7516625.0    1.0 -24669490.5814 39702740.5814  False\n",
      "    46    145      -770875.0    1.0 -32956990.5814 31415240.5814  False\n",
      "    47     49  -8913011.6667    1.0 -42154688.9002 24328665.5669  False\n",
      "    47     50    245577.7396    1.0 -19244083.1078  19735238.587  False\n",
      "    47     51  -9078761.6667    1.0 -42320438.9002 24162915.5669  False\n",
      "    47     53  -5100761.6667    1.0 -38342438.9002 28140915.5669  False\n",
      "    47     54  -6244511.6667    1.0 -39486188.9002 26997165.5669  False\n",
      "    47     55   -7553067.252    1.0 -31058482.6419 15952348.1379  False\n",
      "    47     56  -7532308.3333    1.0 -31037723.7232 15973107.0565  False\n",
      "    47     59   4235107.0833    1.0 -22044746.2422 30514960.4089  False\n",
      "    47     60  -5954205.6667    1.0 -24161422.1368 12253010.8035  False\n",
      "    47     61  -4327261.6667    1.0 -27832677.0565 19178153.7232  False\n",
      "    47     63     -8177845.0    1.0 -31683260.3899 15327570.3899  False\n",
      "    47     64  -5929511.6667    1.0 -39171188.9002 27312165.5669  False\n",
      "    47     65  14399725.8333    1.0 -18841951.4002 47641403.0669  False\n",
      "    47     66  -2436521.6667    1.0 -35678198.9002 30805155.5669  False\n",
      "    47     69  -5183636.6667    1.0 -38425313.9002 28058040.5669  False\n",
      "    47     70  -8125992.4067    1.0 -27076664.1421 10824679.3287  False\n",
      "    47     75  -7244511.6667    1.0 -40486188.9002 25997165.5669  False\n",
      "    47     90  -4164824.6667    1.0 -23356915.9658 15027266.6325  False\n",
      "    47    120  -7821986.6667    1.0 -41063663.9002 25419690.5669  False\n",
      "    47    130    700488.3333    1.0 -32541188.9002 33942165.5669  False\n",
      "    47    145  -7587011.6667    1.0 -40828688.9002 25654665.5669  False\n",
      "    49     50   9158589.4062    1.0  -21375840.875 39693019.6875  False\n",
      "    49     51      -165750.0    1.0 -40878323.7083 40546823.7083  False\n",
      "    49     53      3812250.0    1.0 -36900323.7083 44524823.7083  False\n",
      "    49     54      2668500.0    1.0 -38044073.7083 43381073.7083  False\n",
      "    49     55   1359944.4147    1.0 -31881732.8189 34601621.6482  False\n",
      "    49     56   1380703.3333    1.0 -31860973.9002 34622380.5669  False\n",
      "    49     59    13148118.75    1.0 -22110004.3348 48406241.8348  False\n",
      "    49     60      2958806.0    1.0 -26773453.9922 32691065.9922  False\n",
      "    49     61      4585750.0    1.0 -28655927.2336 37827427.2336  False\n",
      "    49     63    735166.6667    1.0 -32506510.5669 33976843.9002  False\n",
      "    49     64      2983500.0    1.0 -37729073.7083 43696073.7083  False\n",
      "    49     65     23312737.5  0.994 -17399836.2083 64025311.2083  False\n",
      "    49     66      6476490.0    1.0 -34236083.7083 47189063.7083  False\n",
      "    49     69      3729375.0    1.0 -36983198.7083 44441948.7083  False\n",
      "    49     70      787019.26    1.0 -29406233.4941 30980272.0141  False\n",
      "    49     75      1668500.0    1.0 -39044073.7083 42381073.7083  False\n",
      "    49     90      4748187.0    1.0 -25597173.7836 35093547.7836  False\n",
      "    49    120      1091025.0    1.0 -39621548.7083 41803598.7083  False\n",
      "    49    130      9613500.0    1.0 -31099073.7083 50326073.7083  False\n",
      "    49    145      1326000.0    1.0 -39386573.7083 42038573.7083  False\n",
      "    50     51  -9324339.4062    1.0 -39858769.6875  21210090.875  False\n",
      "    50     53  -5346339.4062    1.0 -35880769.6875  25188090.875  False\n",
      "    50     54  -6490089.4062    1.0 -37024519.6875  24044340.875  False\n",
      "    50     55  -7798644.9916    1.0  -27288305.839 11691015.8558  False\n",
      "    50     56  -7777886.0729    1.0 -27267546.9203 11711774.7745  False\n",
      "    50     59   3989529.3438    1.0 -18769491.2439 26748549.9314  False\n",
      "    50     60  -6199783.4062 0.9999 -18803158.3069  6403591.4944  False\n",
      "    50     61  -4572839.4062    1.0 -24062500.2537 14916821.4412  False\n",
      "    50     63  -8423422.7396    1.0  -27913083.587 11066238.1078  False\n",
      "    50     64  -6175089.4062    1.0 -36709519.6875  24359340.875  False\n",
      "    50     65  14154148.0938    1.0 -16380282.1875  44688578.375  False\n",
      "    50     66  -2682099.4062    1.0 -33216529.6875  27852330.875  False\n",
      "    50     69  -5429214.4062    1.0 -35963644.6875  25105215.875  False\n",
      "    50     70  -8371570.1462  0.977 -22026982.4989  5283842.2064  False\n",
      "    50     75  -7490089.4062    1.0 -38024519.6875  23044340.875  False\n",
      "    50     90  -4410402.4062    1.0 -18398922.5471  9578117.7346  False\n",
      "    50    120  -8067564.4062    1.0 -38601994.6875  22466865.875  False\n",
      "    50    130    454910.5938    1.0 -30079519.6875  30989340.875  False\n",
      "    50    145  -7832589.4062    1.0 -38367019.6875  22701840.875  False\n",
      "    51     53      3978000.0    1.0 -36734573.7083 44690573.7083  False\n",
      "    51     54      2834250.0    1.0 -37878323.7083 43546823.7083  False\n",
      "    51     55   1525694.4147    1.0 -31715982.8189 34767371.6482  False\n",
      "    51     56   1546453.3333    1.0 -31695223.9002 34788130.5669  False\n",
      "    51     59    13313868.75    1.0 -21944254.3348 48571991.8348  False\n",
      "    51     60      3124556.0    1.0 -26607703.9922 32856815.9922  False\n",
      "    51     61      4751500.0    1.0 -28490177.2336 37993177.2336  False\n",
      "    51     63    900916.6667    1.0 -32340760.5669 34142593.9002  False\n",
      "    51     64      3149250.0    1.0 -37563323.7083 43861823.7083  False\n",
      "    51     65     23478487.5  0.993 -17234086.2083 64191061.2083  False\n",
      "    51     66      6642240.0    1.0 -34070333.7083 47354813.7083  False\n",
      "    51     69      3895125.0    1.0 -36817448.7083 44607698.7083  False\n",
      "    51     70      952769.26    1.0 -29240483.4941 31146022.0141  False\n",
      "    51     75      1834250.0    1.0 -38878323.7083 42546823.7083  False\n",
      "    51     90      4913937.0    1.0 -25431423.7836 35259297.7836  False\n",
      "    51    120      1256775.0    1.0 -39455798.7083 41969348.7083  False\n",
      "    51    130      9779250.0    1.0 -30933323.7083 50491823.7083  False\n",
      "    51    145      1491750.0    1.0 -39220823.7083 42204323.7083  False\n",
      "    53     54     -1143750.0    1.0 -41856323.7083 39568823.7083  False\n",
      "    53     55  -2452305.5853    1.0 -35693982.8189 30789371.6482  False\n",
      "    53     56  -2431546.6667    1.0 -35673223.9002 30810130.5669  False\n",
      "    53     59     9335868.75    1.0 -25922254.3348 44593991.8348  False\n",
      "    53     60      -853444.0    1.0 -30585703.9922 28878815.9922  False\n",
      "    53     61       773500.0    1.0 -32468177.2336 34015177.2336  False\n",
      "    53     63  -3077083.3333    1.0 -36318760.5669 30164593.9002  False\n",
      "    53     64      -828750.0    1.0 -41541323.7083 39883823.7083  False\n",
      "    53     65     19500487.5 0.9999 -21212086.2083 60213061.2083  False\n",
      "    53     66      2664240.0    1.0 -38048333.7083 43376813.7083  False\n",
      "    53     69       -82875.0    1.0 -40795448.7083 40629698.7083  False\n",
      "    53     70    -3025230.74    1.0 -33218483.4941 27168022.0141  False\n",
      "    53     75     -2143750.0    1.0 -42856323.7083 38568823.7083  False\n",
      "    53     90       935937.0    1.0 -29409423.7836 31281297.7836  False\n",
      "    53    120     -2721225.0    1.0 -43433798.7083 37991348.7083  False\n",
      "    53    130      5801250.0    1.0 -34911323.7083 46513823.7083  False\n",
      "    53    145     -2486250.0    1.0 -43198823.7083 38226323.7083  False\n",
      "    54     55  -1308555.5853    1.0 -34550232.8189 31933121.6482  False\n",
      "    54     56  -1287796.6667    1.0 -34529473.9002 31953880.5669  False\n",
      "    54     59    10479618.75    1.0 -24778504.3348 45737741.8348  False\n",
      "    54     60       290306.0    1.0 -29441953.9922 30022565.9922  False\n",
      "    54     61      1917250.0    1.0 -31324427.2336 35158927.2336  False\n",
      "    54     63  -1933333.3333    1.0 -35175010.5669 31308343.9002  False\n",
      "    54     64       315000.0    1.0 -40397573.7083 41027573.7083  False\n",
      "    54     65     20644237.5 0.9997 -20068336.2083 61356811.2083  False\n",
      "    54     66      3807990.0    1.0 -36904583.7083 44520563.7083  False\n",
      "    54     69      1060875.0    1.0 -39651698.7083 41773448.7083  False\n",
      "    54     70    -1881480.74    1.0 -32074733.4941 28311772.0141  False\n",
      "    54     75     -1000000.0    1.0 -41712573.7083 39712573.7083  False\n",
      "    54     90      2079687.0    1.0 -28265673.7836 32425047.7836  False\n",
      "    54    120     -1577475.0    1.0 -42290048.7083 39135098.7083  False\n",
      "    54    130      6945000.0    1.0 -33767573.7083 47657573.7083  False\n",
      "    54    145     -1342500.0    1.0 -42055073.7083 39370073.7083  False\n",
      "    55     56     20758.9187    1.0 -23484656.4712 23526174.3085  False\n",
      "    55     59  11788174.3353    1.0 -14491678.9902 38068027.6609  False\n",
      "    55     60   1598861.5853    1.0 -16608354.8848 19806078.0555  False\n",
      "    55     61   3225805.5853    1.0 -20279609.8045 26731220.9752  False\n",
      "    55     63    -624777.748    1.0 -24130193.1379 22880637.6419  False\n",
      "    55     64   1623555.5853    1.0 -31618121.6482 34865232.8189  False\n",
      "    55     65  21952793.0853 0.9235 -11288884.1482 55194470.3189  False\n",
      "    55     66   5116545.5853    1.0 -28125131.6482 38358222.8189  False\n",
      "    55     69   2369430.5853    1.0 -30872246.6482 35611107.8189  False\n",
      "    55     70   -572925.1547    1.0 -19523596.8901 18377746.5807  False\n",
      "    55     75    308555.5853    1.0 -32933121.6482 33550232.8189  False\n",
      "    55     90   3388242.5853    1.0 -15803848.7138 22580333.8845  False\n",
      "    55    120   -268919.4147    1.0 -33510596.6482 32972757.8189  False\n",
      "    55    130   8253555.5853    1.0 -24988121.6482 41495232.8189  False\n",
      "    55    145    -33944.4147    1.0 -33275621.6482 33207732.8189  False\n",
      "    56     59  11767415.4167    1.0 -14512437.9089 38047268.7422  False\n",
      "    56     60   1578102.6667    1.0 -16629113.8035 19785319.1368  False\n",
      "    56     61   3205046.6667    1.0 -20300368.7232 26710462.0565  False\n",
      "    56     63   -645536.6667    1.0 -24150952.0565 22859878.7232  False\n",
      "    56     64   1602796.6667    1.0 -31638880.5669 34844473.9002  False\n",
      "    56     65  21932034.1667 0.9246 -11309643.0669 55173711.4002  False\n",
      "    56     66   5095786.6667    1.0 -28145890.5669 38337463.9002  False\n",
      "    56     69   2348671.6667    1.0 -30893005.5669 35590348.9002  False\n",
      "    56     70   -593684.0733    1.0 -19544355.8087 18356987.6621  False\n",
      "    56     75    287796.6667    1.0 -32953880.5669 33529473.9002  False\n",
      "    56     90   3367483.6667    1.0 -15824607.6325 22559574.9658  False\n",
      "    56    120   -289678.3333    1.0 -33531355.5669 32951998.9002  False\n",
      "    56    130   8232796.6667    1.0 -25008880.5669 41474473.9002  False\n",
      "    56    145    -54703.3333    1.0 -33296380.5669 33186973.9002  False\n",
      "    59     60   -10189312.75    1.0 -31860234.9674 11481609.4674  False\n",
      "    59     61    -8562368.75    1.0 -34842222.0756 17717484.5756  False\n",
      "    59     63 -12412952.0833    1.0 -38692805.4089 13866901.2422  False\n",
      "    59     64   -10164618.75    1.0 -45422741.8348 25093504.3348  False\n",
      "    59     65    10164618.75    1.0 -25093504.3348 45422741.8348  False\n",
      "    59     66    -6671628.75    1.0 -41929751.8348 28586494.3348  False\n",
      "    59     69    -9418743.75    1.0 -44676866.8348 25839379.3348  False\n",
      "    59     70   -12361099.49 0.9971 -34660294.4841  9938095.5041  False\n",
      "    59     75   -11479618.75    1.0 -46737741.8348 23778504.3348  False\n",
      "    59     90    -8399931.75    1.0 -30904653.6233 14104790.1233  False\n",
      "    59    120   -12057093.75    1.0 -47315216.8348 23201029.3348  False\n",
      "    59    130    -3534618.75    1.0 -38792741.8348 31723504.3348  False\n",
      "    59    145   -11822118.75    1.0 -47080241.8348 23436004.3348  False\n",
      "    60     61      1626944.0    1.0 -16580272.4701 19834160.4701  False\n",
      "    60     63  -2223639.3333    1.0 -20430855.8035 15983577.1368  False\n",
      "    60     64        24694.0    1.0 -29707565.9922 29756953.9922  False\n",
      "    60     65     20353931.5 0.8763  -9378328.4922 50086191.4922  False\n",
      "    60     66      3517684.0    1.0 -26214575.9922 33249943.9922  False\n",
      "    60     69       770569.0    1.0 -28961690.9922 30502828.9922  False\n",
      "    60     70    -2171786.74    1.0 -13924494.4349  9580920.9549  False\n",
      "    60     75     -1290306.0    1.0 -31022565.9922 28441953.9922  False\n",
      "    60     90      1789381.0    1.0 -10348763.3134 13927525.3134  False\n",
      "    60    120     -1867781.0    1.0 -31600040.9922 27864478.9922  False\n",
      "    60    130      6654694.0    1.0 -23077565.9922 36386953.9922  False\n",
      "    60    145     -1632806.0    1.0 -31365065.9922 28099453.9922  False\n",
      "    61     63  -3850583.3333    1.0 -27355998.7232 19654832.0565  False\n",
      "    61     64     -1602250.0    1.0 -34843927.2336 31639427.2336  False\n",
      "    61     65     18726987.5 0.9958 -14514689.7336 51968664.7336  False\n",
      "    61     66      1890740.0    1.0 -31350937.2336 35132417.2336  False\n",
      "    61     69      -856375.0    1.0 -34098052.2336 32385302.2336  False\n",
      "    61     70    -3798730.74    1.0 -22749402.4754 15151940.9954  False\n",
      "    61     75     -2917250.0    1.0 -36158927.2336 30324427.2336  False\n",
      "    61     90       162437.0    1.0 -19029654.2991 19354528.2991  False\n",
      "    61    120     -3494725.0    1.0 -36736402.2336 29746952.2336  False\n",
      "    61    130      5027750.0    1.0 -28213927.2336 38269427.2336  False\n",
      "    61    145     -3259750.0    1.0 -36501427.2336 29981927.2336  False\n",
      "    63     64   2248333.3333    1.0 -30993343.9002 35490010.5669  False\n",
      "    63     65  22577570.8333 0.8881 -10664106.4002 55819248.0669  False\n",
      "    63     66   5741323.3333    1.0 -27500353.9002 38983000.5669  False\n",
      "    63     69   2994208.3333    1.0 -30247468.9002 36235885.5669  False\n",
      "    63     70     51852.5933    1.0 -18898819.1421 19002524.3287  False\n",
      "    63     75    933333.3333    1.0 -32308343.9002 34175010.5669  False\n",
      "    63     90   4013020.3333    1.0 -15179070.9658 23205111.6325  False\n",
      "    63    120    355858.3333    1.0 -32885818.9002 33597535.5669  False\n",
      "    63    130   8878333.3333    1.0 -24363343.9002 42120010.5669  False\n",
      "    63    145    590833.3333    1.0 -32650843.9002 33832510.5669  False\n",
      "    64     65     20329237.5 0.9998 -20383336.2083 61041811.2083  False\n",
      "    64     66      3492990.0    1.0 -37219583.7083 44205563.7083  False\n",
      "    64     69       745875.0    1.0 -39966698.7083 41458448.7083  False\n",
      "    64     70    -2196480.74    1.0 -32389733.4941 27996772.0141  False\n",
      "    64     75     -1315000.0    1.0 -42027573.7083 39397573.7083  False\n",
      "    64     90      1764687.0    1.0 -28580673.7836 32110047.7836  False\n",
      "    64    120     -1892475.0    1.0 -42605048.7083 38820098.7083  False\n",
      "    64    130      6630000.0    1.0 -34082573.7083 47342573.7083  False\n",
      "    64    145     -1657500.0    1.0 -42370073.7083 39055073.7083  False\n",
      "    65     66    -16836247.5    1.0 -57548821.2083 23876326.2083  False\n",
      "    65     69    -19583362.5 0.9999 -60295936.2083 21129211.2083  False\n",
      "    65     70   -22525718.24 0.6946 -52718970.9941  7667534.5141  False\n",
      "    65     75    -21644237.5  0.999 -62356811.2083 19068336.2083  False\n",
      "    65     90    -18564550.5 0.9778 -48909911.2836 11780810.2836  False\n",
      "    65    120    -22221712.5  0.998 -62934286.2083 18490861.2083  False\n",
      "    65    130    -13699237.5    1.0 -54411811.2083 27013336.2083  False\n",
      "    65    145    -21986737.5 0.9984 -62699311.2083 18725836.2083  False\n",
      "    66     69     -2747115.0    1.0 -43459688.7083 37965458.7083  False\n",
      "    66     70    -5689470.74    1.0 -35882723.4941 24503782.0141  False\n",
      "    66     75     -4807990.0    1.0 -45520563.7083 35904583.7083  False\n",
      "    66     90     -1728303.0    1.0 -32073663.7836 28617057.7836  False\n",
      "    66    120     -5385465.0    1.0 -46098038.7083 35327108.7083  False\n",
      "    66    130      3137010.0    1.0 -37575563.7083 43849583.7083  False\n",
      "    66    145     -5150490.0    1.0 -45863063.7083 35562083.7083  False\n",
      "    69     70    -2942355.74    1.0 -33135608.4941 27250897.0141  False\n",
      "    69     75     -2060875.0    1.0 -42773448.7083 38651698.7083  False\n",
      "    69     90      1018812.0    1.0 -29326548.7836 31364172.7836  False\n",
      "    69    120     -2638350.0    1.0 -43350923.7083 38074223.7083  False\n",
      "    69    130      5884125.0    1.0 -34828448.7083 46596698.7083  False\n",
      "    69    145     -2403375.0    1.0 -43115948.7083 38309198.7083  False\n",
      "    70     75      881480.74    1.0 -29311772.0141 31074733.4941  False\n",
      "    70     90     3961167.74    1.0  -9266068.3661 17188403.8461  False\n",
      "    70    120      304005.74    1.0 -29889247.0141 30497258.4941  False\n",
      "    70    130     8826480.74    1.0 -21366772.0141 39019733.4941  False\n",
      "    70    145      538980.74    1.0 -29654272.0141 30732233.4941  False\n",
      "    75     90      3079687.0    1.0 -27265673.7836 33425047.7836  False\n",
      "    75    120      -577475.0    1.0 -41290048.7083 40135098.7083  False\n",
      "    75    130      7945000.0    1.0 -32767573.7083 48657573.7083  False\n",
      "    75    145      -342500.0    1.0 -41055073.7083 40370073.7083  False\n",
      "    90    120     -3657162.0    1.0 -34002522.7836 26688198.7836  False\n",
      "    90    130      4865313.0    1.0 -25480047.7836 35210673.7836  False\n",
      "    90    145     -3422187.0    1.0 -33767547.7836 26923173.7836  False\n",
      "   120    130      8522475.0    1.0 -32190098.7083 49235048.7083  False\n",
      "   120    145       234975.0    1.0 -40477598.7083 40947548.7083  False\n",
      "   130    145     -8287500.0    1.0 -49000073.7083 32425073.7083  False\n",
      "-----------------------------------------------------------------------\n"
     ]
    }
   ],
   "source": [
    "tukey = pairwise_tukeyhsd(data.total_cost,data.night_mainland,alpha=0.05)\n",
    "print (tukey)"
   ]
  },
  {
   "cell_type": "code",
   "execution_count": 133,
   "id": "0c44a1ac",
   "metadata": {},
   "outputs": [],
   "source": [
    "data['night_mainland'].replace({6: 0},inplace = True)\n",
    "data['night_mainland'].replace({7: 0},inplace = True)\n",
    "data['night_mainland'].replace({9: 0},inplace = True)\n",
    "data['night_mainland'].replace({10: 0},inplace = True)\n",
    "data['night_mainland'].replace({12: 0},inplace = True)\n",
    "data['night_mainland'].replace({15: 0},inplace = True)\n",
    "data['night_mainland'].replace({13: 0},inplace = True)\n",
    "data['night_mainland'].replace({14: 0},inplace = True)\n",
    "data['night_mainland'].replace({16: 0},inplace = True)\n",
    "data['night_mainland'].replace({17: 0},inplace = True)\n",
    "data['night_mainland'].replace({19: 0},inplace = True)\n",
    "data['night_mainland'].replace({20: 0},inplace = True)\n",
    "data['night_mainland'].replace({23: 0},inplace = True)\n",
    "data['night_mainland'].replace({24: 0},inplace = True)\n",
    "data['night_mainland'].replace({25: 0},inplace = True)\n",
    "data['night_mainland'].replace({26: 0},inplace = True)\n",
    "data['night_mainland'].replace({27: 0},inplace = True)\n",
    "data['night_mainland'].replace({29: 0},inplace = True)\n",
    "data['night_mainland'].replace({31: 0},inplace = True)\n",
    "data['night_mainland'].replace({32: 0},inplace = True)\n",
    "data['night_mainland'].replace({33: 0},inplace = True)\n",
    "data['night_mainland'].replace({34: 0},inplace = True)\n",
    "data['night_mainland'].replace({35: 0},inplace = True)\n",
    "data['night_mainland'].replace({36: 0},inplace = True)\n",
    "data['night_mainland'].replace({37: 0},inplace = True)\n",
    "data['night_mainland'].replace({39: 0},inplace = True)\n",
    "data['night_mainland'].replace({40: 0},inplace = True)\n",
    "data['night_mainland'].replace({41: 0},inplace = True)\n",
    "data['night_mainland'].replace({42: 0},inplace = True)\n",
    "data['night_mainland'].replace({43: 0},inplace = True)\n",
    "data['night_mainland'].replace({45: 0},inplace = True)\n",
    "data['night_mainland'].replace({47: 0},inplace = True)\n",
    "data['night_mainland'].replace({49: 0},inplace = True)\n",
    "data['night_mainland'].replace({50: 0},inplace = True)\n",
    "data['night_mainland'].replace({51: 0},inplace = True)\n",
    "data['night_mainland'].replace({53: 0},inplace = True)\n",
    "data['night_mainland'].replace({54: 0},inplace = True)\n",
    "data['night_mainland'].replace({55: 0},inplace = True)\n",
    "data['night_mainland'].replace({56: 0},inplace = True)\n",
    "data['night_mainland'].replace({59: 0},inplace = True)\n",
    "data['night_mainland'].replace({60: 0},inplace = True)\n",
    "data['night_mainland'].replace({61: 0},inplace = True)\n",
    "data['night_mainland'].replace({63: 0},inplace = True)\n",
    "data['night_mainland'].replace({64: 0},inplace = True)\n",
    "data['night_mainland'].replace({69: 0},inplace = True)\n",
    "data['night_mainland'].replace({70: 0},inplace = True)\n",
    "data['night_mainland'].replace({75: 0},inplace = True)\n",
    "data['night_mainland'].replace({90: 0},inplace = True)\n",
    "data['night_mainland'].replace({120: 0},inplace = True)\n",
    "data['night_mainland'].replace({130: 0},inplace = True)\n",
    "data['night_mainland'].replace({145: 0},inplace = True)\n",
    "data['night_mainland'].replace({11: 0},inplace = True)\n",
    "data['night_mainland'].replace({22: 0},inplace = True)\n",
    "data['night_mainland'].replace({46: 0},inplace = True)\n",
    "data['night_mainland'].replace({65: 0},inplace = True)\n",
    "data['night_mainland'].replace({66: 0},inplace = True)"
   ]
  },
  {
   "cell_type": "code",
   "execution_count": 134,
   "id": "dfab4870",
   "metadata": {},
   "outputs": [
    {
     "name": "stdout",
     "output_type": "stream",
     "text": [
      "         Multiple Comparison of Means - Tukey HSD, FWER=0.05         \n",
      "=====================================================================\n",
      "group1 group2    meandiff   p-adj      lower         upper     reject\n",
      "---------------------------------------------------------------------\n",
      "     0      1 -6865944.0191   -0.0 -8429034.8183 -5302853.2198   True\n",
      "     0      2 -7094422.2072   -0.0 -8204176.5275 -5984667.8869   True\n",
      "     0      3 -5702618.8843   -0.0 -6848636.7991 -4556600.9694   True\n",
      "     0      4 -3376101.6861   -0.0 -4543269.2946 -2208934.0777   True\n",
      "     0      5 -2159188.4343    0.0 -3402504.5785  -915872.2901   True\n",
      "     0     21 -4648575.3782 0.0001 -7730195.1532 -1566955.6032   True\n",
      "     0     30 -3870061.1355 0.0002 -6475552.6417 -1264569.6294   True\n",
      "     1      2  -228478.1881 0.9999  -2063097.582  1606141.2058  False\n",
      "     1      3  1163325.1348 0.5511  -693454.5318  3020104.8014  False\n",
      "     1      4   3489842.333    0.0  1619934.8766  5359749.7893   True\n",
      "     1      5  4706755.5848   -0.0  2788394.6429  6625116.5267   True\n",
      "     1     21  2217368.6409 0.5014  -1193005.841  5627743.1228  False\n",
      "     1     30  2995882.8835 0.0487     8767.2752  5982998.4919   True\n",
      "     2      3  1391803.3229 0.0897  -103500.1697  2887106.8155  False\n",
      "     2      4  3718320.5211   -0.0  2206746.6062  5229894.4359   True\n",
      "     2      5  4935233.7729   -0.0  3364116.1745  6506351.3713   True\n",
      "     2     21   2445846.829 0.2949  -781993.9216  5673687.5796  False\n",
      "     2     30  3224361.0716 0.0103   447463.2589  6001258.8844   True\n",
      "     3      4  2326517.1981 0.0001   788122.5447  3864911.8516   True\n",
      "     3      5    3543430.45    0.0  1946491.8419   5140369.058   True\n",
      "     3     21  1054043.5061 0.9765 -2186443.8525  4294530.8647  False\n",
      "     3     30  1832557.7487 0.4884  -959030.3069  4624145.8043  False\n",
      "     4      5  1216913.2518 0.2999  -395270.3863  2829096.8899  False\n",
      "     4     21 -1272473.6921 0.9356 -4520501.0143  1975553.6302  False\n",
      "     4     30  -493959.4494 0.9995 -3294296.4001  2306377.5012  False\n",
      "     5     21 -2489386.9439 0.2914 -5765548.7675   786774.8797  False\n",
      "     5     30 -1710872.7013 0.5986 -4543793.7812  1122048.3787  False\n",
      "    21     30   778514.2426  0.999 -3218483.0364  4775511.5217  False\n",
      "---------------------------------------------------------------------\n"
     ]
    }
   ],
   "source": [
    "tukey = pairwise_tukeyhsd(data.total_cost,data.night_mainland,alpha=0.05)\n",
    "print (tukey)"
   ]
  },
  {
   "cell_type": "code",
   "execution_count": 135,
   "id": "6f41f907",
   "metadata": {},
   "outputs": [],
   "source": [
    "data['night_mainland'].replace({2: 1},inplace = True)\n",
    "data['night_mainland'].replace({3: 1},inplace = True)\n",
    "data['night_mainland'].replace({21: 1},inplace = True)"
   ]
  },
  {
   "cell_type": "code",
   "execution_count": 136,
   "id": "be8bb63b",
   "metadata": {},
   "outputs": [
    {
     "name": "stdout",
     "output_type": "stream",
     "text": [
      "         Multiple Comparison of Means - Tukey HSD, FWER=0.05         \n",
      "=====================================================================\n",
      "group1 group2    meandiff   p-adj      lower         upper     reject\n",
      "---------------------------------------------------------------------\n",
      "     0      1 -6425288.0212    0.0  -7112883.844 -5737692.1984   True\n",
      "     0      4 -3376101.6861    0.0 -4427447.1333 -2324756.2389   True\n",
      "     0      5 -2159188.4343    0.0 -3279125.9292 -1039250.9394   True\n",
      "     0     30 -3870061.1355 0.0001 -6217000.5235 -1523121.7476   True\n",
      "     1      4  3049186.3351    0.0  1897051.0708  4201321.5994   True\n",
      "     1      5  4266099.5869    0.0  3051048.8018  5481150.3721   True\n",
      "     1     30  2555226.8857 0.0296   161440.5734  4949013.1979   True\n",
      "     4      5  1216913.2518 0.1493  -235287.7137  2669114.2174  False\n",
      "     4     30  -493959.4494 0.9838 -3016409.0807  2028490.1819  False\n",
      "     5     30 -1710872.7013 0.3565 -4262673.0237   840927.6212  False\n",
      "---------------------------------------------------------------------\n"
     ]
    }
   ],
   "source": [
    "tukey = pairwise_tukeyhsd(data.total_cost,data.night_mainland,alpha=0.05)\n",
    "print (tukey)"
   ]
  },
  {
   "cell_type": "code",
   "execution_count": 137,
   "id": "204145ad",
   "metadata": {},
   "outputs": [],
   "source": [
    "data['night_mainland'].replace({30: 4},inplace = True)"
   ]
  },
  {
   "cell_type": "code",
   "execution_count": 138,
   "id": "06677237",
   "metadata": {},
   "outputs": [
    {
     "name": "stdout",
     "output_type": "stream",
     "text": [
      "         Multiple Comparison of Means - Tukey HSD, FWER=0.05         \n",
      "=====================================================================\n",
      "group1 group2    meandiff   p-adj      lower         upper     reject\n",
      "---------------------------------------------------------------------\n",
      "     0      1 -6425288.0212    0.0 -7072801.5973 -5777774.4452   True\n",
      "     0      4  -3452180.262    0.0 -4372162.2448 -2532198.2793   True\n",
      "     0      5 -2159188.4343    0.0 -3213841.0488 -1104535.8197   True\n",
      "     1      4  2973107.7592    0.0  1951678.6607  3994536.8577   True\n",
      "     1      5  4266099.5869    0.0  3121878.1521  5410321.0218   True\n",
      "     4      5  1292991.8277 0.0567   -24709.0903  2610692.7458  False\n",
      "---------------------------------------------------------------------\n"
     ]
    }
   ],
   "source": [
    "tukey = pairwise_tukeyhsd(data.total_cost,data.night_mainland,alpha=0.05)\n",
    "print (tukey)"
   ]
  },
  {
   "cell_type": "markdown",
   "id": "6552a40b",
   "metadata": {},
   "source": [
    "### 17.night_zanzibar"
   ]
  },
  {
   "cell_type": "code",
   "execution_count": 139,
   "id": "80e21558",
   "metadata": {},
   "outputs": [
    {
     "name": "stdout",
     "output_type": "stream",
     "text": [
      "                      sum_sq      df          F  PR(>F)\n",
      "night_zanzibar  9.722398e+15     1.0  177.30104     0.0\n",
      "Residual        2.635944e+17  4807.0        NaN     NaN\n"
     ]
    }
   ],
   "source": [
    "annova=ols('total_cost ~ night_zanzibar',data=data).fit()\n",
    "an=sm.stats.anova_lm(annova,typ=2)\n",
    "print(an.round(decimals=5))"
   ]
  },
  {
   "cell_type": "code",
   "execution_count": 140,
   "id": "cf93beda",
   "metadata": {},
   "outputs": [
    {
     "name": "stdout",
     "output_type": "stream",
     "text": [
      "          Multiple Comparison of Means - Tukey HSD, FWER=0.05          \n",
      "=======================================================================\n",
      "group1 group2    meandiff    p-adj      lower          upper     reject\n",
      "-----------------------------------------------------------------------\n",
      "     0      1  -1804846.2792 0.9992  -5819244.3266  2209551.7682  False\n",
      "     0      2   1946098.9579 0.4581   -544021.5209  4436219.4367  False\n",
      "     0      3   3298095.1339    0.0   1517839.1109  5078351.1569   True\n",
      "     0      4   4841859.4948    0.0   3123704.5713  6560014.4182   True\n",
      "     0      5     5212763.32    0.0   3321470.9501    7104055.69   True\n",
      "     0      6   3832160.3839    0.0   1736882.1009  5927438.6668   True\n",
      "     0      7   4564721.7581    0.0   3039377.1888  6090066.3274   True\n",
      "     0      9   3319133.2399 0.5704  -1127910.8256  7766177.3053  False\n",
      "     0     10   4480472.7442 0.0007    940231.2939  8020714.1945   True\n",
      "     0     11   5129984.8458 0.1235   -411659.1198 10671628.8114  False\n",
      "     0     12   6107226.5822 0.0315    202722.1727 12011730.9916   True\n",
      "     0     13   2670799.9818 0.9971  -2870843.9838  8212443.9474  False\n",
      "     0     14   7302968.3718    0.0    3368397.059 11237539.6846   True\n",
      "     0     15   1265438.9458    1.0  -5445966.4744  7976844.3659  False\n",
      "     0     16    751245.8125    1.0 -15188264.5971  16690756.222  False\n",
      "     0     17   1676269.8347    1.0  -7535529.8822 10888069.5516  False\n",
      "     0     19   4626806.6458    1.0  -9179495.0067 18433108.2982  False\n",
      "     0     20   6494136.7958    1.0 -13024470.8812 26012744.4728  False\n",
      "     0     21  -4850066.0542    1.0 -32448982.8139 22748850.7055  False\n",
      "     0     22   -172982.7209    1.0 -16112493.1304 15766527.6886  False\n",
      "     0     23   3523609.2958    1.0 -15994998.3812 23042216.9728  False\n",
      "     0     24   -209066.0542    1.0 -27807982.8139 27389850.7055  False\n",
      "     0     25   1049373.6833    1.0 -12756927.9692 14855675.3357  False\n",
      "     0     26  -4029223.3042    1.0 -23547830.9812 15489384.3728  False\n",
      "     0     27  -2529566.0542    1.0 -22048173.7312 16989041.6228  False\n",
      "     0     30     68477.6958    1.0 -13737823.9567 13874779.3482  False\n",
      "     0     31  -1866566.0542    1.0 -29465482.8139 25732350.7055  False\n",
      "     0     33  18462671.4458 0.8006  -9136245.3139 46061588.2055  False\n",
      "     0     35  -4932941.0542    1.0 -32531857.8139 22665975.7055  False\n",
      "     0     43   2908333.9458    1.0 -13031176.4637 18847844.3553  False\n",
      "     0     50  18462671.4458 0.8006  -9136245.3139 46061588.2055  False\n",
      "     0     60  -4931566.0542    1.0 -24450173.7312 14587041.6228  False\n",
      "     0     61   -981566.0542    1.0 -28580482.8139 26617350.7055  False\n",
      "     1      2   3750945.2371 0.3922    -919421.098  8421311.5723  False\n",
      "     1      3   5102941.4131 0.0035    769244.0064  9436638.8198   True\n",
      "     1      4    6646705.774    0.0   2338147.0769 10955264.4711   True\n",
      "     1      5   7017609.5992    0.0   2637129.1993 11398089.9991   True\n",
      "     1      6   5637006.6631 0.0008   1164668.0368 10109345.2894   True\n",
      "     1      7   6369568.0373    0.0   2134205.2713 10604930.8034   True\n",
      "     1      9   5123979.5191 0.2397   -824786.9602 11072745.9984  False\n",
      "     1     10   6285319.0234 0.0031    980139.3628  11590498.684   True\n",
      "     1     11    6934831.125 0.0389    128845.5574 13740816.6926   True\n",
      "     1     12   7912072.8614 0.0098     807511.367 15016634.3557   True\n",
      "     1     13    4475646.261 0.8282  -2330339.3066 11281631.8286  False\n",
      "     1     14    9107814.651    0.0   3531752.1405 14683877.1615   True\n",
      "     1     15    3070285.225 0.9999  -4717820.0914 10858390.5414  False\n",
      "     1     16   2556092.0917    1.0 -13865832.6981 18978016.8814  False\n",
      "     1     17   3481116.1139    1.0  -6542300.2563  13504532.484  False\n",
      "     1     19    6431652.925 0.9992  -7928903.7155 20792209.5655  False\n",
      "     1     20    8298983.075 0.9998 -11615525.8909 28213492.0409  False\n",
      "     1     21   -3045219.775    1.0 -30925532.3273 24835092.7773  False\n",
      "     1     22   1631863.5583    1.0 -14790061.2314 18053788.3481  False\n",
      "     1     23    5328455.575    1.0 -14586053.3909 25242964.5409  False\n",
      "     1     24    1595780.225    1.0 -26284532.3273 29476092.7773  False\n",
      "     1     25   2854219.9625    1.0  -11506336.678  17214776.603  False\n",
      "     1     26   -2224377.025    1.0 -22138885.9909 17690131.9409  False\n",
      "     1     27    -724719.775    1.0 -20639228.7409 19189789.1909  False\n",
      "     1     30    1873323.975    1.0 -12487232.6655 16233880.6155  False\n",
      "     1     31     -61719.775    1.0 -27942032.3273 27818592.7773  False\n",
      "     1     33   20267517.725 0.6326  -7612794.8273 48147830.2773  False\n",
      "     1     35   -3128094.775    1.0 -31008407.3273 24752217.7773  False\n",
      "     1     43    4713180.225    1.0 -11708744.5648 21135105.0148  False\n",
      "     1     50   20267517.725 0.6326  -7612794.8273 48147830.2773  False\n",
      "     1     60   -3126719.775    1.0 -23041228.7409 16787789.1909  False\n",
      "     1     61     823280.225    1.0 -27057032.3273 28703592.7773  False\n",
      "     2      3    1351996.176  0.999  -1625627.2939   4329619.646  False\n",
      "     2      4   2895760.5369  0.061    -45155.3685  5836676.4422  False\n",
      "     2      5   3266664.3621 0.0182    221353.7293  6311974.9949   True\n",
      "     2      6    1886061.426 0.9402  -1289961.4178  5062084.2698  False\n",
      "     2      7   2618622.8002 0.1252   -213974.2549  5451219.8553  False\n",
      "     2      9    1373034.282    1.0  -3674057.0528  6420125.6168  False\n",
      "     2     10   2534373.7863 0.9405   -1735314.674  6804062.2465  False\n",
      "     2     11   3183885.8879 0.9877  -2849914.5615  9217686.3373  False\n",
      "     2     12   4161127.6243  0.838  -2207553.7419 10529808.9904  False\n",
      "     2     13    724701.0239    1.0  -5309099.4255  6758501.4733  False\n",
      "     2     14   5356869.4139 0.0043    754937.0549  9958801.7729   True\n",
      "     2     15   -680660.0121    1.0  -7803854.0102   6442533.986  False\n",
      "     2     16  -1194853.1454    1.0 -17312077.5379  14922371.247  False\n",
      "     2     17   -269829.1232    1.0  -9785825.3425  9246167.0961  False\n",
      "     2     19   2680707.6879    1.0 -11330391.3175 16691806.6933  False\n",
      "     2     20   4548037.8379    1.0 -15115964.1879 24212039.8637  False\n",
      "     2     21  -6796165.0121    1.0 -34498098.8134 20905768.7891  False\n",
      "     2     22  -2119081.6788    1.0 -18236306.0712 13998142.7137  False\n",
      "     2     23   1577510.3379    1.0 -18086491.6879 21241512.3637  False\n",
      "     2     24  -2155165.0121    1.0 -29857098.8134 25546768.7891  False\n",
      "     2     25   -896725.2746    1.0   -14907824.28 13114373.7308  False\n",
      "     2     26  -5975322.2621    1.0 -25639324.2879 13688679.7637  False\n",
      "     2     27  -4475665.0121    1.0 -24139667.0379 15188337.0137  False\n",
      "     2     30  -1877621.2621    1.0 -15888720.2675 12133477.7433  False\n",
      "     2     31  -3812665.0121    1.0 -31514598.8134 23889268.7891  False\n",
      "     2     33  16516572.4879 0.9373 -11185361.3134 44218506.2891  False\n",
      "     2     35  -6879040.0121    1.0 -34580973.8134 20822893.7891  False\n",
      "     2     43    962234.9879    1.0 -15154989.4046 17079459.3803  False\n",
      "     2     50  16516572.4879 0.9373 -11185361.3134 44218506.2891  False\n",
      "     2     60  -6877665.0121    1.0 -26541667.0379 12786337.0137  False\n",
      "     2     61  -2927665.0121    1.0 -30629598.8134 24774268.7891  False\n",
      "     3      4   1543764.3608 0.8425   -826382.8647  3913911.5864  False\n",
      "     3      5   1914668.1861 0.5062   -583837.0387  4413173.4109  False\n",
      "     3      6      534065.25    1.0  -2122197.6535  3190328.1535  False\n",
      "     3      7   1266626.6242 0.9664   -967700.4746  3500953.7231  False\n",
      "     3      9      21038.106    1.0  -4716233.5191  4758309.7311  False\n",
      "     3     10   1182377.6103    1.0  -2716192.7759  5080947.9964  False\n",
      "     3     11   1831889.7119    1.0  -3945251.3952   7609030.819  False\n",
      "     3     12   2809131.4482 0.9988  -3316936.9362  8935199.8327  False\n",
      "     3     13   -627295.1521    1.0  -6404436.2592   5149845.955  False\n",
      "     3     14   4004873.2379 0.1048   -254985.0866  8264731.5624  False\n",
      "     3     15  -2032656.1881    1.0  -8939790.4885  4874478.1122  False\n",
      "     3     16  -2546849.3215    1.0 -18569755.8501 13476057.2072  False\n",
      "     3     17  -1621825.2992    1.0 -10977187.1604   7733536.562  False\n",
      "     3     19   1328711.5119    1.0 -12573788.5096 15231211.5334  False\n",
      "     3     20   3196041.6619    1.0 -16390729.0566 22782812.3803  False\n",
      "     3     21  -8148161.1881    1.0 -35795326.4648 19499004.0886  False\n",
      "     3     22  -3471077.8548    1.0 -19493984.3834 12551828.6738  False\n",
      "     3     23    225514.1619    1.0 -19361256.5566 19812284.8803  False\n",
      "     3     24  -3507161.1881    1.0 -31154326.4648 24140004.0886  False\n",
      "     3     25  -2248721.4506    1.0 -16151221.4721 11653778.5709  False\n",
      "     3     26  -7327318.4381    1.0 -26914089.1566 12259452.2803  False\n",
      "     3     27  -5827661.1881    1.0 -25414431.9066 13759109.5303  False\n",
      "     3     30  -3229617.4381    1.0 -17132117.4596 10672882.5834  False\n",
      "     3     31  -5164661.1881    1.0 -32811826.4648 22482504.0886  False\n",
      "     3     33  15164576.3119 0.9784 -12482588.9648 42811741.5886  False\n",
      "     3     35  -8231036.1881    1.0 -35878201.4648 19416129.0886  False\n",
      "     3     43   -389761.1881    1.0 -16412667.7167 15633145.3405  False\n",
      "     3     50  15164576.3119 0.9784 -12482588.9648 42811741.5886  False\n",
      "     3     60  -8229661.1881 0.9998 -27816431.9066 11357109.5303  False\n",
      "     3     61  -4279661.1881    1.0 -31926826.4648 23367504.0886  False\n",
      "     4      5    370903.8253    1.0  -2083739.3651  2825547.0156  False\n",
      "     4      6  -1009699.1109    1.0  -3624747.3793  1605349.1576  False\n",
      "     4      7   -277137.7366    1.0  -2462306.4758  1908031.0025  False\n",
      "     4      9  -1522726.2549    1.0  -6237011.7027  3191559.1929  False\n",
      "     4     10   -361386.7506    1.0  -4231993.4071  3509219.9059  False\n",
      "     4     11     288125.351    1.0   -5470182.057   6046432.759  False\n",
      "     4     12   1265367.0874    1.0  -4842943.5371  7373677.7119  False\n",
      "     4     13   -2171059.513    1.0   -7929366.921   3587247.895  False\n",
      "     4     14    2461108.877 0.9538  -1773172.3818  6695390.1358  False\n",
      "     4     15   -3576420.549 0.9904 -10467810.0371  3314968.9391  False\n",
      "     4     16  -4090613.6823    1.0 -20106739.2581 11925511.8935  False\n",
      "     4     17  -3165589.6601    1.0  -12509333.042  6178153.7219  False\n",
      "     4     19    -215052.849    1.0 -14109737.1448 13679631.4469  False\n",
      "     4     20    1652277.301    1.0 -17928946.6651 21233501.2672  False\n",
      "     4     21   -9691925.549    1.0 -37335161.4788 17951310.3808  False\n",
      "     4     22  -5014842.2156    1.0 -21030967.7914 11001283.3601  False\n",
      "     4     23   -1318250.199    1.0 -20899474.1651 18262973.7672  False\n",
      "     4     24   -5050925.549    1.0 -32694161.4788 22592310.3808  False\n",
      "     4     25  -3792485.8115    1.0 -17687170.1073 10102198.4844  False\n",
      "     4     26   -8871082.799 0.9991 -28452306.7651 10710141.1672  False\n",
      "     4     27   -7371425.549    1.0 -26952649.5151 12209798.4172  False\n",
      "     4     30   -4773381.799    1.0 -18668066.0948  9121302.4969  False\n",
      "     4     31   -6708425.549    1.0 -34351661.4788 20934810.3808  False\n",
      "     4     33   13620811.951 0.9958 -14022423.9788 41264047.8808  False\n",
      "     4     35   -9774800.549    1.0 -37418036.4788 17868435.3808  False\n",
      "     4     43   -1933525.549    1.0 -17949651.1247 14082600.0268  False\n",
      "     4     50   13620811.951 0.9958 -14022423.9788 41264047.8808  False\n",
      "     4     60   -9773425.549 0.9948 -29354649.5151  9807798.4172  False\n",
      "     4     61   -5823425.549    1.0 -33466661.4788 21819810.3808  False\n",
      "     5      6  -1380602.9361 0.9937  -4112526.7883   1351320.916  False\n",
      "     5      7   -648041.5619    1.0  -2971808.5266  1675725.4028  False\n",
      "     5      9  -1893630.0801 0.9999  -6673736.5404  2886476.3801  False\n",
      "     5     10   -732290.5758    1.0   -4682800.211  3218219.0593  False\n",
      "     5     11    -82778.4742    1.0  -5895095.9718  5729539.0233  False\n",
      "     5     12    894463.2621    1.0  -5264789.0604  7053715.5847  False\n",
      "     5     13  -2541963.3382 0.9995  -8354280.8358  3270354.1593  False\n",
      "     5     14   2090205.0518 0.9968  -2217238.3044  6397648.4079  False\n",
      "     5     15  -3947324.3742 0.9647  -10883907.075  2989258.3265  False\n",
      "     5     16  -4461517.5076    1.0 -20497140.6307 11574105.6155  False\n",
      "     5     17  -3536493.4853    1.0 -12913618.3579  5840631.3872  False\n",
      "     5     19   -585956.6742    1.0 -14503110.9153 13331197.5668  False\n",
      "     5     20   1281373.4758    1.0 -18315801.3844 20878548.3359  False\n",
      "     5     21 -10062829.3742    1.0 -37717366.4913 17591707.7428  False\n",
      "     5     22  -5385746.0409    1.0  -21421369.164 10649877.0822  False\n",
      "     5     23  -1689154.0242    1.0 -21286328.8844 17908020.8359  False\n",
      "     5     24  -5421829.3742    1.0 -33076366.4913 22232707.7428  False\n",
      "     5     25  -4163389.6367    1.0 -18080543.8778  9753764.6043  False\n",
      "     5     26  -9241986.6242  0.998 -28839161.4844 10355188.2359  False\n",
      "     5     27  -7742329.3742 0.9999 -27339504.2344 11854845.4859  False\n",
      "     5     30  -5144285.6242    1.0 -19061439.8653  8772868.6168  False\n",
      "     5     31  -7079329.3742    1.0 -34733866.4913 20575207.7428  False\n",
      "     5     33  13249908.1258 0.9974 -14404628.9913 40904445.2428  False\n",
      "     5     35 -10145704.3742    1.0 -37800241.4913 17508832.7428  False\n",
      "     5     43  -2304429.3742    1.0 -18340052.4973 13731193.7489  False\n",
      "     5     50  13249908.1258 0.9974 -14404628.9913 40904445.2428  False\n",
      "     5     60 -10144329.3742 0.9908 -29741504.2344  9452845.4859  False\n",
      "     5     61  -6194329.3742    1.0 -33848866.4913 21460207.7428  False\n",
      "     6      7    732561.3742    1.0   -1760047.131  3225169.8795  False\n",
      "     6      9    -513027.144    1.0  -5377451.2646  4351396.9766  False\n",
      "     6     10    648312.3603    1.0  -3403814.3198  4700439.0404  False\n",
      "     6     11   1297824.4619    1.0  -4584032.2982   7179681.222  False\n",
      "     6     12   2275066.1983    1.0  -3949850.9439  8499983.3404  False\n",
      "     6     13  -1161360.4021    1.0  -7043217.1622   4720496.358  False\n",
      "     6     14   3470807.9879 0.4359   -930018.3573  7871634.3331  False\n",
      "     6     15  -2566721.4381    1.0  -9561675.6066  4428232.7304  False\n",
      "     6     16  -3080914.5714    1.0 -19141873.8579  12980044.715  False\n",
      "     6     17  -2155890.5492    1.0 -11576276.6947  7264495.5963  False\n",
      "     6     19    794646.2619    1.0  -13151693.273 14740985.7968  False\n",
      "     6     20   2661976.4119    1.0 -16955935.4738 22279888.2976  False\n",
      "     6     21  -8682226.4381    1.0 -36351462.5572  18987009.681  False\n",
      "     6     22  -4005143.1048    1.0 -20066102.3912 12055816.1817  False\n",
      "     6     23   -308551.0881    1.0 -19926462.9738 19309360.7976  False\n",
      "     6     24  -4041226.4381    1.0 -31710462.5572  23628009.681  False\n",
      "     6     25  -2782786.7006    1.0 -16729126.2355 11163552.8343  False\n",
      "     6     26  -7861383.6881 0.9999 -27479295.5738 11756528.1976  False\n",
      "     6     27  -6361726.4381    1.0 -25979638.3238 13256185.4476  False\n",
      "     6     30  -3763682.6881    1.0  -17710022.223 10182656.8468  False\n",
      "     6     31  -5698726.4381    1.0 -33367962.5572  21970509.681  False\n",
      "     6     33  14630511.0619 0.9873 -13038725.0572  42299747.181  False\n",
      "     6     35  -8765101.4381    1.0 -36434337.5572  18904134.681  False\n",
      "     6     43   -923826.4381    1.0 -16984785.7245 15137132.8483  False\n",
      "     6     50  14630511.0619 0.9873 -13038725.0572  42299747.181  False\n",
      "     6     60  -8763726.4381 0.9993 -28381638.3238 10854185.4476  False\n",
      "     6     61  -4813726.4381    1.0 -32482962.5572  22855509.681  False\n",
      "     7      9  -1245588.5182    1.0  -5893072.4609  3401895.4244  False\n",
      "     7     10     -84249.014    1.0  -3873208.7134  3704710.6854  False\n",
      "     7     11    565263.0877    1.0  -5138483.3933  6269009.5686  False\n",
      "     7     12    1542504.824    1.0  -4514398.5431  7599408.1912  False\n",
      "     7     13  -1893921.7763    1.0  -7597668.2573  3809824.7046  False\n",
      "     7     14   2738246.6137 0.8267  -1421531.9252  6898025.1526  False\n",
      "     7     15  -3299282.8123 0.9971 -10145147.8995  3546582.2748  False\n",
      "     7     16  -3813475.9457    1.0 -19810066.1502 12183114.2589  False\n",
      "     7     17  -2888451.9235    1.0 -12198669.9715  6421766.1246  False\n",
      "     7     19     62084.8877    1.0 -13810076.8543 13934246.6296  False\n",
      "     7     20   1929415.0377    1.0 -17635833.5354 21494663.6107  False\n",
      "     7     21  -9414787.8123    1.0 -37046709.7937  18217134.169  False\n",
      "     7     22   -4737704.479    1.0 -20734294.6836 11258885.7255  False\n",
      "     7     23  -1041112.4623    1.0 -20606361.0354 18524136.1107  False\n",
      "     7     24  -4773787.8123    1.0 -32405709.7937  22858134.169  False\n",
      "     7     25  -3515348.0748    1.0 -17387509.8168 10356813.6671  False\n",
      "     7     26  -8593945.0623 0.9995 -28159193.6354 10971303.5107  False\n",
      "     7     27  -7094287.8123    1.0 -26659536.3854 12470960.7607  False\n",
      "     7     30  -4496244.0623    1.0 -18368405.8043  9375917.6796  False\n",
      "     7     31  -6431287.8123    1.0 -34063209.7937  21200634.169  False\n",
      "     7     33  13897949.6877 0.9942 -13733972.2937  41529871.669  False\n",
      "     7     35  -9497662.8123    1.0 -37129584.7937  18134259.169  False\n",
      "     7     43  -1656387.8123    1.0 -17652978.0169 14340202.3922  False\n",
      "     7     50  13897949.6877 0.9942 -13733972.2937  41529871.669  False\n",
      "     7     60  -9496287.8123 0.9968 -29061536.3854 10068960.7607  False\n",
      "     7     61  -5546287.8123    1.0 -33178209.7937  22085634.169  False\n",
      "     9     10   1161339.5043    1.0  -4478318.3283  6800997.3369  False\n",
      "     9     11   1810851.6059    1.0   -5258960.894  8880664.1058  False\n",
      "     9     12   2788093.3423    1.0  -4569596.7344 10145783.4189  False\n",
      "     9     13   -648333.2581    1.0   -7718145.758  6421479.2418  False\n",
      "     9     14   3983835.1319 0.7831  -1911356.3287  9879026.5925  False\n",
      "     9     15  -2053694.2941    1.0 -10073382.1718  5965993.5836  False\n",
      "     9     16  -2567887.4274    1.0 -19100897.5296 13965122.6747  False\n",
      "     9     17  -1642863.4052    1.0 -11847258.7801  8561531.9697  False\n",
      "     9     19   1307673.4059    1.0 -13179783.1087 15795129.9204  False\n",
      "     9     20   3175003.5559    1.0 -16831207.3945 23181214.5063  False\n",
      "     9     21  -8169199.2941    1.0 -36115086.9567 19776688.3685  False\n",
      "     9     22  -3492115.9608    1.0 -20025126.0629 13040894.1414  False\n",
      "     9     23    204476.0559    1.0 -19801734.8945 20210687.0063  False\n",
      "     9     24  -3528199.2941    1.0 -31474086.9567 24417688.3685  False\n",
      "     9     25  -2269759.5566    1.0 -16757216.0712 12217696.9579  False\n",
      "     9     26  -7348356.5441    1.0 -27354567.4945 12657854.4063  False\n",
      "     9     27  -5848699.2941    1.0 -25854910.2445 14157511.6563  False\n",
      "     9     30  -3250655.5441    1.0 -17738112.0587 11236800.9704  False\n",
      "     9     31  -5185699.2941    1.0 -33131586.9567 22760188.3685  False\n",
      "     9     33  15143538.2059 0.9818 -12802349.4567 43089425.8685  False\n",
      "     9     35  -8252074.2941    1.0 -36197961.9567 19693813.3685  False\n",
      "     9     43   -410799.2941    1.0 -16943809.3962  16122210.808  False\n",
      "     9     50  15143538.2059 0.9818 -12802349.4567 43089425.8685  False\n",
      "     9     60  -8250699.2941 0.9999 -28256910.2445 11755511.6563  False\n",
      "     9     61  -4300699.2941    1.0 -32246586.9567 23645188.3685  False\n",
      "    10     11    649512.1016    1.0  -5888022.4023  7187046.6055  False\n",
      "    10     12    1626753.838    1.0  -5221071.5008  8474579.1767  False\n",
      "    10     13  -1809672.7624    1.0  -8347207.2663  4727861.7415  False\n",
      "    10     14   2822495.6276 0.9836  -2422539.2592  8067530.5144  False\n",
      "    10     15  -3215033.7984 0.9997 -10769668.2874  4339600.6906  False\n",
      "    10     16  -3729226.9317    1.0 -20041723.1124 12583269.2489  False\n",
      "    10     17  -2804202.9095    1.0 -12647311.8479  7038906.0289  False\n",
      "    10     19    146333.9016    1.0 -14088956.9232 14381624.7264  False\n",
      "    10     20   2013664.0516    1.0 -17810704.4174 21838032.5207  False\n",
      "    10     21  -9330538.7984    1.0 -37146536.8185 18485459.2218  False\n",
      "    10     22  -4653455.4651    1.0 -20965951.6457 11659040.7156  False\n",
      "    10     23   -956863.4484    1.0 -20781231.9174 18867505.0207  False\n",
      "    10     24  -4689538.7984    1.0 -32505536.8185 23126459.2218  False\n",
      "    10     25  -3431099.0609    1.0 -17666389.8857 10804191.7639  False\n",
      "    10     26  -8509696.0484 0.9997 -28334064.5174 11314672.4207  False\n",
      "    10     27  -7010038.7984    1.0 -26834407.2674 12814329.6707  False\n",
      "    10     30  -4411995.0484    1.0 -18647285.8732  9823295.7764  False\n",
      "    10     31  -6347038.7984    1.0 -34163036.8185 21468959.2218  False\n",
      "    10     33  13982198.7016 0.9942 -13833799.3185 41798196.7218  False\n",
      "    10     35  -9413413.7984    1.0 -37229411.8185 18402584.2218  False\n",
      "    10     43  -1572138.7984    1.0  -17884634.979 14740357.3823  False\n",
      "    10     50  13982198.7016 0.9942 -13833799.3185 41798196.7218  False\n",
      "    10     60  -9412038.7984 0.9978 -29236407.2674 10412329.6707  False\n",
      "    10     61  -5462038.7984    1.0 -33278036.8185 22353959.2218  False\n",
      "    11     12    977241.7364    1.0  -7089307.7233   9043791.196  False\n",
      "    11     13   -2459184.864    1.0 -10264046.5351  5345676.8071  False\n",
      "    11     14    2172983.526    1.0  -4586224.9542  8932192.0062  False\n",
      "    11     15     -3864545.9 0.9993 -12539164.6569  4810072.8569  False\n",
      "    11     16  -4378739.0333    1.0 -21239167.2592 12481689.1925  False\n",
      "    11     17  -3453715.0111    1.0 -14180471.3656  7273041.3434  False\n",
      "    11     19      -503178.2    1.0 -15363192.1025 14356835.7025  False\n",
      "    11     20     1364151.95    1.0 -18913473.4907 21641777.3907  False\n",
      "    11     21     -9980050.9    1.0 -38120879.8532 18160778.0532  False\n",
      "    11     22  -5302967.5667    1.0 -22163395.7925 11557460.6592  False\n",
      "    11     23    -1606375.55    1.0 -21884000.9907 18671249.8907  False\n",
      "    11     24     -5339050.9    1.0 -33479879.8532 22801778.0532  False\n",
      "    11     25  -4080611.1625    1.0  -18940625.065   10779402.74  False\n",
      "    11     26    -9159208.15 0.9991 -29436833.5907 11118417.2907  False\n",
      "    11     27     -7659550.9    1.0 -27937176.3407 12618074.5407  False\n",
      "    11     30    -5061507.15    1.0 -19921521.0525  9798506.7525  False\n",
      "    11     31     -6996550.9    1.0 -35137379.8532 21144278.0532  False\n",
      "    11     33     13332686.6 0.9979 -14808142.3532 41473515.5532  False\n",
      "    11     35    -10062925.9    1.0 -38203754.8532 18077903.0532  False\n",
      "    11     43     -2221650.9    1.0 -19082079.1259 14638777.3259  False\n",
      "    11     50     13332686.6 0.9979 -14808142.3532 41473515.5532  False\n",
      "    11     60    -10061550.9 0.9953 -30339176.3407 10216074.5407  False\n",
      "    11     61     -6111550.9    1.0 -34252379.8532 22029278.0532  False\n",
      "    12     13  -3436426.6004 0.9997   -11502976.06  4630122.8593  False\n",
      "    12     14   1195741.7896    1.0  -5864021.2205  8255504.7998  False\n",
      "    12     15  -4841787.6364 0.9811 -13752588.1087  4069012.8359  False\n",
      "    12     16  -5355980.7697    1.0 -22339131.0793 11627169.5399  False\n",
      "    12     17  -4430956.7475 0.9999 -15349594.7746  6487681.2797  False\n",
      "    12     19  -1480419.9364    1.0 -16479532.1655 13518692.2928  False\n",
      "    12     20    386910.2136    1.0 -19992870.1579 20766690.5852  False\n",
      "    12     21 -10957292.6364    1.0 -39171820.9622 17257235.6895  False\n",
      "    12     22   -6280209.303    1.0 -23263359.6126 10702941.0066  False\n",
      "    12     23  -2583617.2864    1.0 -22963397.6579 17796163.0852  False\n",
      "    12     24  -6316292.6364    1.0 -34530820.9622 21898235.6895  False\n",
      "    12     25  -5057852.8989    1.0  -20056965.128  9941259.3303  False\n",
      "    12     26 -10136449.8864 0.9951 -30516230.2579 10243330.4852  False\n",
      "    12     27  -8636792.6364 0.9997 -29016573.0079 11742987.7352  False\n",
      "    12     30  -6038748.8864 0.9999 -21037861.1155  8960363.3428  False\n",
      "    12     31  -7973792.6364    1.0 -36188320.9622 20240735.6895  False\n",
      "    12     33  12355444.8636 0.9995 -15859083.4622 40569973.1895  False\n",
      "    12     35 -11040167.6364    1.0 -39254695.9622 17174360.6895  False\n",
      "    12     43  -3198892.6364    1.0  -20182042.946 13784257.6733  False\n",
      "    12     50  12355444.8636 0.9995 -15859083.4622 40569973.1895  False\n",
      "    12     60 -11038792.6364 0.9819 -31418573.0079  9340987.7352  False\n",
      "    12     61  -7088792.6364    1.0 -35303320.9622 21125735.6895  False\n",
      "    13     14     4632168.39 0.7573  -2127040.0902 11391376.8702  False\n",
      "    13     15   -1405361.036    1.0 -10079979.7929  7269257.7209  False\n",
      "    13     16  -1919554.1693    1.0 -18779982.3952 14940874.0565  False\n",
      "    13     17   -994530.1471    1.0 -11721286.5016  9732226.2074  False\n",
      "    13     19    1956006.664    1.0 -12904007.2385 16816020.5665  False\n",
      "    13     20    3823336.814    1.0 -16454288.6267 24100962.2547  False\n",
      "    13     21   -7520866.036    1.0 -35661694.9892 20619962.9172  False\n",
      "    13     22  -2843782.7027    1.0 -19704210.9285 14016645.5232  False\n",
      "    13     23     852809.314    1.0 -19424816.1267 21130434.7547  False\n",
      "    13     24   -2879866.036    1.0 -31020694.9892 25260962.9172  False\n",
      "    13     25  -1621426.2985    1.0  -16481440.201  13238587.604  False\n",
      "    13     26   -6700023.286    1.0 -26977648.7267 13577602.1547  False\n",
      "    13     27   -5200366.036    1.0 -25477991.4767 15077259.4047  False\n",
      "    13     30   -2602322.286    1.0 -17462336.1885 12257691.6165  False\n",
      "    13     31   -4537366.036    1.0 -32678194.9892 23603462.9172  False\n",
      "    13     33   15791871.464 0.9706 -12348957.4892 43932700.4172  False\n",
      "    13     35   -7603741.036    1.0 -35744569.9892 20537087.9172  False\n",
      "    13     43     237533.964    1.0 -16622894.2619 17097962.1899  False\n",
      "    13     50   15791871.464 0.9706 -12348957.4892 43932700.4172  False\n",
      "    13     60   -7602366.036    1.0 -27879991.4767 12675259.4047  False\n",
      "    13     61   -3652366.036    1.0 -31793194.9892 24488462.9172  False\n",
      "    14     15   -6037529.426  0.465 -13784789.8548  1709731.0028  False\n",
      "    14     16  -6551722.5593 0.9999 -22954316.0595  9850870.9409  False\n",
      "    14     17  -5626698.5371 0.9692 -15618411.8768  4365014.8025  False\n",
      "    14     19   -2676161.726    1.0 -17014608.1815 11662284.7295  False\n",
      "    14     20    -808831.576    1.0  -20707402.557  19089739.405  False\n",
      "    14     21  -12153034.426 0.9995 -40021964.9355 15715896.0835  False\n",
      "    14     22  -7475951.0927 0.9989 -23878544.5929  8926642.4075  False\n",
      "    14     23   -3779359.076    1.0  -23677930.057  16119211.905  False\n",
      "    14     24   -7512034.426    1.0 -35380964.9355 20356896.0835  False\n",
      "    14     25  -6253594.6885 0.9995  -20592041.144   8084851.767  False\n",
      "    14     26  -11332191.676 0.9643  -31230762.657   8566379.305  False\n",
      "    14     27   -9832534.426 0.9956  -29731105.407  10066036.555  False\n",
      "    14     30   -7234490.676 0.9939 -21572937.1315  7103955.7795  False\n",
      "    14     31   -9169534.426    1.0 -37038464.9355 18699396.0835  False\n",
      "    14     33   11159703.074 0.9999 -16709227.4355 39028633.5835  False\n",
      "    14     35  -12235909.426 0.9995 -40104839.9355 15633021.0835  False\n",
      "    14     43   -4394634.426    1.0 -20797227.9262 12007959.0742  False\n",
      "    14     50   11159703.074 0.9999 -16709227.4355 39028633.5835  False\n",
      "    14     60  -12234534.426 0.9115  -32133105.407   7664036.555  False\n",
      "    14     61   -8284534.426    1.0 -36153464.9355 19584396.0835  False\n",
      "    15     16   -514193.1333    1.0 -17794447.3222 16766061.0555  False\n",
      "    15     17    410830.8889    1.0 -10964425.0098 11786086.7876  False\n",
      "    15     19      3361367.7    1.0  -11973336.668  18696072.068  False\n",
      "    15     20     5228697.85    1.0 -15399322.8593 25856718.5593  False\n",
      "    15     21     -6115505.0    1.0  -34509860.056  22278850.056  False\n",
      "    15     22  -1438421.6667    1.0 -18718675.8555 15841832.5222  False\n",
      "    15     23     2258170.35    1.0 -18369850.3593 22886191.0593  False\n",
      "    15     24     -1474505.0    1.0  -29868860.056  26919850.056  False\n",
      "    15     25   -216065.2625    1.0 -15550769.6305 15118639.1055  False\n",
      "    15     26    -5294662.25    1.0 -25922682.9593 15333358.4593  False\n",
      "    15     27     -3795005.0    1.0 -24423025.7093 16833015.7093  False\n",
      "    15     30    -1196961.25    1.0  -16531665.618  14137743.118  False\n",
      "    15     31     -3132005.0    1.0  -31526360.056  25262350.056  False\n",
      "    15     33     17197232.5  0.925  -11197122.556  45591587.556  False\n",
      "    15     35     -6198380.0    1.0  -34592735.056  22195975.056  False\n",
      "    15     43      1642895.0    1.0 -15637359.1888 18923149.1888  False\n",
      "    15     50     17197232.5  0.925  -11197122.556  45591587.556  False\n",
      "    15     60     -6197005.0    1.0 -26825025.7093 14431015.7093  False\n",
      "    15     61     -2247005.0    1.0  -30641360.056  26147350.056  False\n",
      "    16     17    925024.0222    1.0 -17471211.3574 19321259.4018  False\n",
      "    16     19   3875560.8333    1.0  -17199974.449 24951096.1156  False\n",
      "    16     20   5742890.9833    1.0 -19447191.7431 30932973.7098  False\n",
      "    16     21  -5601311.8667    1.0 -37464526.2121 26261902.4788  False\n",
      "    16     22   -924228.5333    1.0 -23454923.4674 21606466.4007  False\n",
      "    16     23   2772363.4833    1.0 -22417719.2431 27962446.2098  False\n",
      "    16     24   -960311.8667    1.0 -32823526.2121 30902902.4788  False\n",
      "    16     25    298127.8708    1.0 -20777407.4115 21373663.1531  False\n",
      "    16     26  -4780469.1167    1.0 -29970551.8431 20409613.6098  False\n",
      "    16     27  -3280811.8667    1.0 -28470894.5931 21909270.8598  False\n",
      "    16     30   -682768.1167    1.0  -21758303.399 20392767.1656  False\n",
      "    16     31  -2617811.8667    1.0 -34481026.2121 29245402.4788  False\n",
      "    16     33  17711425.6333 0.9741 -14151788.7121 49574639.9788  False\n",
      "    16     35  -5684186.8667    1.0 -37547401.2121 26179027.4788  False\n",
      "    16     43   2157088.1333    1.0 -20373606.8007 24687783.0674  False\n",
      "    16     50  17711425.6333 0.9741 -14151788.7121 49574639.9788  False\n",
      "    16     60  -5682811.8667    1.0 -30872894.5931 19507270.8598  False\n",
      "    16     61  -1732811.8667    1.0 -33596026.2121 30130402.4788  False\n",
      "    17     19   2950536.8111    1.0 -13631605.6731 19532679.2953  False\n",
      "    17     20   4817866.9611    1.0 -16753631.1254 26389365.0476  False\n",
      "    17     21  -6526335.8889    1.0 -35613337.9749 22560666.1972  False\n",
      "    17     22  -1849252.5556    1.0 -20245487.9352  16546982.824  False\n",
      "    17     23   1847339.4611    1.0 -19724158.6254 23418837.5476  False\n",
      "    17     24  -1885335.8889    1.0 -30972337.9749 27201666.1972  False\n",
      "    17     25   -626896.1514    1.0 -17209038.6356 15955246.3328  False\n",
      "    17     26  -5705493.1389    1.0 -27276991.2254 15866004.9476  False\n",
      "    17     27  -4205835.8889    1.0 -25777333.9754 17365662.1976  False\n",
      "    17     30  -1607792.1389    1.0 -18189934.6231 14974350.3453  False\n",
      "    17     31  -3542835.8889    1.0 -32629837.9749 25544166.1972  False\n",
      "    17     33  16786401.6111 0.9577 -12300600.4749 45873403.6972  False\n",
      "    17     35  -6609210.8889    1.0 -35696212.9749 22477791.1972  False\n",
      "    17     43   1232064.1111    1.0 -17164171.2685 19628299.4907  False\n",
      "    17     50  16786401.6111 0.9577 -12300600.4749 45873403.6972  False\n",
      "    17     60  -6607835.8889    1.0 -28179333.9754 14963662.1976  False\n",
      "    17     61  -2657835.8889    1.0 -31744837.9749 26429166.1972  False\n",
      "    19     20     1867330.15    1.0 -22030080.6091 25764740.9091  False\n",
      "    19     21     -9476872.7    1.0 -40328297.3292 21374551.9292  False\n",
      "    19     22  -4799789.3667    1.0  -25875324.649 16275745.9156  False\n",
      "    19     23    -1103197.35    1.0 -25000608.1091 22794213.4091  False\n",
      "    19     24     -4835872.7    1.0 -35687297.3292 26015551.9292  False\n",
      "    19     25  -3577432.9625    1.0 -23089587.1403 15934721.2153  False\n",
      "    19     26    -8656029.95    1.0 -32553440.7091 15241380.8091  False\n",
      "    19     27     -7156372.7    1.0 -31053783.4591 16741038.0591  False\n",
      "    19     30    -4558328.95    1.0 -24070483.1278 14953825.2278  False\n",
      "    19     31     -6493372.7    1.0 -37344797.3292 24358051.9292  False\n",
      "    19     33     13835864.8 0.9992 -17015559.8292 44687289.4292  False\n",
      "    19     35     -9559747.7    1.0 -40411172.3292 21291676.9292  False\n",
      "    19     43     -1718472.7    1.0 -22794007.9823 19357062.5823  False\n",
      "    19     50     13835864.8 0.9992 -17015559.8292 44687289.4292  False\n",
      "    19     60     -9558372.7 0.9999 -33455783.4591 14339038.0591  False\n",
      "    19     61     -5608372.7    1.0 -36459797.3292 25243051.9292  False\n",
      "    20     21   -11344202.85    1.0 -45140245.2511 22451839.5511  False\n",
      "    20     22  -6667119.5167    1.0 -31857202.2431 18522963.2098  False\n",
      "    20     23     -2970527.5    1.0 -30564880.5694 24623825.5694  False\n",
      "    20     24    -6703202.85    1.0 -40499245.2511 27092839.5511  False\n",
      "    20     25  -5444763.1125    1.0 -29342173.8716 18452647.6466  False\n",
      "    20     26    -10523360.1    1.0 -38117713.1694 17070992.9694  False\n",
      "    20     27    -9023702.85    1.0 -36618055.9194 18570650.2194  False\n",
      "    20     30     -6425659.1    1.0 -30323069.8591 17471751.6591  False\n",
      "    20     31    -8360702.85    1.0 -42156745.2511 25435339.5511  False\n",
      "    20     33    11968534.65    1.0 -21827507.7511 45764577.0511  False\n",
      "    20     35   -11427077.85    1.0 -45223120.2511 22368964.5511  False\n",
      "    20     43    -3585802.85    1.0 -28775885.5765 21604279.8765  False\n",
      "    20     50    11968534.65    1.0 -21827507.7511 45764577.0511  False\n",
      "    20     60   -11425702.85 0.9998 -39020055.9194 16168650.2194  False\n",
      "    20     61    -7475702.85    1.0 -41271745.2511 26320339.5511  False\n",
      "    21     22   4677083.3333    1.0 -27186131.0121 36540297.6788  False\n",
      "    21     23     8373675.35    1.0 -25422367.0511 42169717.7511  False\n",
      "    21     24      4641000.0    1.0 -34383308.3557 43665308.3557  False\n",
      "    21     25   5899439.7375    1.0 -24951984.8917 36750864.3667  False\n",
      "    21     26      820842.75    1.0 -32975199.6511 34616885.1511  False\n",
      "    21     27      2320500.0    1.0 -31475542.4011 36116542.4011  False\n",
      "    21     30     4918543.75    1.0 -25932880.8792 35769968.3792  False\n",
      "    21     31      2983500.0    1.0 -36040808.3557 42007808.3557  False\n",
      "    21     33     23312737.5 0.9359 -15711570.8557 62337045.8557  False\n",
      "    21     35       -82875.0    1.0 -39107183.3557 38941433.3557  False\n",
      "    21     43      7758400.0    1.0 -24104814.3455 39621614.3455  False\n",
      "    21     50     23312737.5 0.9359 -15711570.8557 62337045.8557  False\n",
      "    21     60       -81500.0    1.0 -33877542.4011 33714542.4011  False\n",
      "    21     61      3868500.0    1.0 -35155808.3557 42892808.3557  False\n",
      "    22     23   3696592.0167    1.0 -21493490.7098 28886674.7431  False\n",
      "    22     24    -36083.3333    1.0 -31899297.6788 31827131.0121  False\n",
      "    22     25   1222356.4042    1.0 -19853178.8781 22297891.6865  False\n",
      "    22     26  -3856240.5833    1.0 -29046323.3098 21333842.1431  False\n",
      "    22     27  -2356583.3333    1.0 -27546666.0598 22833499.3931  False\n",
      "    22     30    241460.4167    1.0 -20834074.8656  21316995.699  False\n",
      "    22     31  -1693583.3333    1.0 -33556797.6788 30169631.0121  False\n",
      "    22     33  18635654.1667 0.9502 -13227560.1788 50498868.5121  False\n",
      "    22     35  -4759958.3333    1.0 -36623172.6788 27103256.0121  False\n",
      "    22     43   3081316.6667    1.0 -19449378.2674 25612011.6007  False\n",
      "    22     50  18635654.1667 0.9502 -13227560.1788 50498868.5121  False\n",
      "    22     60  -4758583.3333    1.0 -29948666.0598 20431499.3931  False\n",
      "    22     61   -808583.3333    1.0 -32671797.6788 31054631.0121  False\n",
      "    23     24    -3732675.35    1.0 -37528717.7511 30063367.0511  False\n",
      "    23     25  -2474235.6125    1.0 -26371646.3716 21423175.1466  False\n",
      "    23     26     -7552832.6    1.0 -35147185.6694 20041520.4694  False\n",
      "    23     27    -6053175.35    1.0 -33647528.4194 21541177.7194  False\n",
      "    23     30     -3455131.6    1.0 -27352542.3591 20442279.1591  False\n",
      "    23     31    -5390175.35    1.0 -39186217.7511 28405867.0511  False\n",
      "    23     33    14939062.15 0.9994 -18856980.2511 48735104.5511  False\n",
      "    23     35    -8456550.35    1.0 -42252592.7511 25339492.0511  False\n",
      "    23     43     -615275.35    1.0 -25805358.0765 24574807.3765  False\n",
      "    23     50    14939062.15 0.9994 -18856980.2511 48735104.5511  False\n",
      "    23     60    -8455175.35    1.0 -36049528.4194 19139177.7194  False\n",
      "    23     61    -4505175.35    1.0 -38301217.7511 29290867.0511  False\n",
      "    24     25   1258439.7375    1.0 -29592984.8917 32109864.3667  False\n",
      "    24     26    -3820157.25    1.0 -37616199.6511 29975885.1511  False\n",
      "    24     27     -2320500.0    1.0 -36116542.4011 31475542.4011  False\n",
      "    24     30      277543.75    1.0 -30573880.8792 31128968.3792  False\n",
      "    24     31     -1657500.0    1.0 -40681808.3557 37366808.3557  False\n",
      "    24     33     18671737.5 0.9975 -20352570.8557 57696045.8557  False\n",
      "    24     35     -4723875.0    1.0 -43748183.3557 34300433.3557  False\n",
      "    24     43      3117400.0    1.0 -28745814.3455 34980614.3455  False\n",
      "    24     50     18671737.5 0.9975 -20352570.8557 57696045.8557  False\n",
      "    24     60     -4722500.0    1.0 -38518542.4011 29073542.4011  False\n",
      "    24     61      -772500.0    1.0 -39796808.3557 38251808.3557  False\n",
      "    25     26  -5078596.9875    1.0 -28976007.7466 18818813.7716  False\n",
      "    25     27  -3578939.7375    1.0 -27476350.4966 20318471.0216  False\n",
      "    25     30   -980895.9875    1.0 -20493050.1653 18531258.1903  False\n",
      "    25     31  -2915939.7375    1.0 -33767364.3667 27935484.8917  False\n",
      "    25     33  17413297.7625 0.9682 -13438126.8667 48264722.3917  False\n",
      "    25     35  -5982314.7375    1.0 -36833739.3667 24869109.8917  False\n",
      "    25     43   1858960.2625    1.0 -19216575.0198 22934495.5448  False\n",
      "    25     50  17413297.7625 0.9682 -13438126.8667 48264722.3917  False\n",
      "    25     60  -5980939.7375    1.0 -29878350.4966 17916471.0216  False\n",
      "    25     61  -2030939.7375    1.0 -32882364.3667 28820484.8917  False\n",
      "    26     27     1499657.25    1.0 -26094695.8194 29094010.3194  False\n",
      "    26     30      4097701.0    1.0 -19799709.7591 27995111.7591  False\n",
      "    26     31     2162657.25    1.0 -31633385.1511 35958699.6511  False\n",
      "    26     33    22491894.75 0.8092 -11304147.6511 56287937.1511  False\n",
      "    26     35     -903717.75    1.0 -34699760.1511 32892324.6511  False\n",
      "    26     43     6937557.25    1.0 -18252525.4765 32127639.9765  False\n",
      "    26     50    22491894.75 0.8092 -11304147.6511 56287937.1511  False\n",
      "    26     60     -902342.75    1.0 -28496695.8194 26692010.3194  False\n",
      "    26     61     3047657.25    1.0 -30748385.1511 36843699.6511  False\n",
      "    27     30     2598043.75    1.0 -21299367.0091 26495454.5091  False\n",
      "    27     31       663000.0    1.0 -33133042.4011 34459042.4011  False\n",
      "    27     33     20992237.5 0.9014 -12803804.9011 54788279.9011  False\n",
      "    27     35     -2403375.0    1.0 -36199417.4011 31392667.4011  False\n",
      "    27     43      5437900.0    1.0 -19752182.7265 30627982.7265  False\n",
      "    27     50     20992237.5 0.9014 -12803804.9011 54788279.9011  False\n",
      "    27     60     -2402000.0    1.0 -29996353.0694 25192353.0694  False\n",
      "    27     61      1548000.0    1.0 -32248042.4011 35344042.4011  False\n",
      "    30     31    -1935043.75    1.0 -32786468.3792 28916380.8792  False\n",
      "    30     33    18394193.75 0.9373 -12457230.8792 49245618.3792  False\n",
      "    30     35    -5001418.75    1.0 -35852843.3792 25850005.8792  False\n",
      "    30     43     2839856.25    1.0 -18235679.0323 23915391.5323  False\n",
      "    30     50    18394193.75 0.9373 -12457230.8792 49245618.3792  False\n",
      "    30     60    -5000043.75    1.0 -28897454.5091 18897367.0091  False\n",
      "    30     61    -1050043.75    1.0 -31901468.3792 29801380.8792  False\n",
      "    31     33     20329237.5 0.9898 -18695070.8557 59353545.8557  False\n",
      "    31     35     -3066375.0    1.0 -42090683.3557 35957933.3557  False\n",
      "    31     43      4774900.0    1.0 -27088314.3455 36638114.3455  False\n",
      "    31     50     20329237.5 0.9898 -18695070.8557 59353545.8557  False\n",
      "    31     60     -3065000.0    1.0 -36861042.4011 30731042.4011  False\n",
      "    31     61       885000.0    1.0 -38139308.3557 39909308.3557  False\n",
      "    33     35    -23395612.5 0.9332 -62419920.8557 15628695.8557  False\n",
      "    33     43    -15554337.5 0.9964 -47417551.8455 16308876.8455  False\n",
      "    33     50            0.0    1.0 -39024308.3557 39024308.3557  False\n",
      "    33     60    -23394237.5 0.7379 -57190279.9011 10401804.9011  False\n",
      "    33     61    -19444237.5  0.995 -58468545.8557 19580070.8557  False\n",
      "    35     43      7841275.0    1.0 -24021939.3455 39704489.3455  False\n",
      "    35     50     23395612.5 0.9332 -15628695.8557 62419920.8557  False\n",
      "    35     60         1375.0    1.0 -33794667.4011 33797417.4011  False\n",
      "    35     61      3951375.0    1.0 -35072933.3557 42975683.3557  False\n",
      "    43     50     15554337.5 0.9964 -16308876.8455 47417551.8455  False\n",
      "    43     60     -7839900.0    1.0 -33029982.7265 17350182.7265  False\n",
      "    43     61     -3889900.0    1.0 -35753114.3455 27973314.3455  False\n",
      "    50     60    -23394237.5 0.7379 -57190279.9011 10401804.9011  False\n",
      "    50     61    -19444237.5  0.995 -58468545.8557 19580070.8557  False\n",
      "    60     61      3950000.0    1.0 -29846042.4011 37746042.4011  False\n",
      "-----------------------------------------------------------------------\n"
     ]
    }
   ],
   "source": [
    "tukey = pairwise_tukeyhsd(data.total_cost,data.night_zanzibar,alpha=0.05)\n",
    "print (tukey)"
   ]
  },
  {
   "cell_type": "code",
   "execution_count": 141,
   "id": "239c3a51",
   "metadata": {},
   "outputs": [],
   "source": [
    "data['night_zanzibar'].replace({1: 0},inplace = True)\n",
    "data['night_zanzibar'].replace({2: 0},inplace = True)\n",
    "data['night_zanzibar'].replace({9: 0},inplace = True)\n",
    "data['night_zanzibar'].replace({11: 0},inplace = True)\n",
    "data['night_zanzibar'].replace({15: 0},inplace = True)\n",
    "data['night_zanzibar'].replace({13: 0},inplace = True)\n",
    "data['night_zanzibar'].replace({16: 0},inplace = True)\n",
    "data['night_zanzibar'].replace({17: 0},inplace = True)\n",
    "data['night_zanzibar'].replace({19: 0},inplace = True)\n",
    "data['night_zanzibar'].replace({20: 0},inplace = True)\n",
    "data['night_zanzibar'].replace({21: 0},inplace = True)\n",
    "data['night_zanzibar'].replace({22: 0},inplace = True)\n",
    "data['night_zanzibar'].replace({23: 0},inplace = True)\n",
    "data['night_zanzibar'].replace({24: 0},inplace = True)\n",
    "data['night_zanzibar'].replace({25: 0},inplace = True)\n",
    "data['night_zanzibar'].replace({26: 0},inplace = True)\n",
    "data['night_zanzibar'].replace({27: 0},inplace = True)\n",
    "data['night_zanzibar'].replace({30: 0},inplace = True)\n",
    "data['night_zanzibar'].replace({31: 0},inplace = True)\n",
    "data['night_zanzibar'].replace({33: 0},inplace = True)\n",
    "data['night_zanzibar'].replace({35: 0},inplace = True)\n",
    "data['night_zanzibar'].replace({43: 0},inplace = True)\n",
    "data['night_zanzibar'].replace({50: 0},inplace = True)\n",
    "data['night_zanzibar'].replace({60: 0},inplace = True)\n",
    "data['night_zanzibar'].replace({61: 0},inplace = True)"
   ]
  },
  {
   "cell_type": "code",
   "execution_count": 142,
   "id": "a225958c",
   "metadata": {},
   "outputs": [
    {
     "name": "stdout",
     "output_type": "stream",
     "text": [
      "         Multiple Comparison of Means - Tukey HSD, FWER=0.05         \n",
      "=====================================================================\n",
      "group1 group2    meandiff   p-adj      lower         upper     reject\n",
      "---------------------------------------------------------------------\n",
      "     0      3  3125627.6235    0.0  1677522.5614  4573732.6855   True\n",
      "     0      4  4669391.9843   -0.0  3272205.8987  6066578.0699   True\n",
      "     0      5  5040295.8096   -0.0  3501181.8971  6579409.7221   True\n",
      "     0      6  3659692.8734    0.0  1953478.6374  5365907.1095   True\n",
      "     0      7  4392254.2477   -0.0  3153268.2404   5631240.255   True\n",
      "     0     10  4308005.2337 0.0001  1419838.5214  7196171.9461   True\n",
      "     0     12  5934759.0717 0.0043  1114753.4665 10754764.6769   True\n",
      "     0     14  7130500.8613    0.0   3920031.741 10340969.9817   True\n",
      "     3      4  1543764.3608 0.2443  -391736.8908  3479265.6125  False\n",
      "     3      5  1914668.1861  0.086  -125652.3213  3954988.6936  False\n",
      "     3      6     534065.25 0.9978 -1635082.7756  2703213.2756  False\n",
      "     3      7  1266626.6242 0.4363  -557961.6756   3091214.924  False\n",
      "     3     10  1182377.6103 0.9659 -2001259.1617  4366014.3823  False\n",
      "     3     12  2809131.4482   0.72 -2193516.8676  7811779.7641  False\n",
      "     3     14  4004873.2379 0.0107   526202.7864  7483543.6894   True\n",
      "     4      5   370903.8253 0.9997 -1633598.2226  2375405.8732  False\n",
      "     4      6 -1009699.1109 0.8708 -3145190.5868  1125792.3651  False\n",
      "     4      7  -277137.7366 0.9999 -2061582.5104  1507307.0372  False\n",
      "     4     10  -361386.7506    1.0 -3522187.8805  2799414.3793  False\n",
      "     4     12  1265367.0874 0.9972 -3722779.9492   6253514.124  False\n",
      "     4     14   2461108.877    0.4  -996674.9214  5918892.6755  False\n",
      "     5      6 -1380602.9361 0.5995 -3611536.9382   850331.0659  False\n",
      "     5      7  -648041.5619 0.9797 -2545667.9289  1249584.8051  False\n",
      "     5     10  -732290.5758 0.9987 -3958341.7938  2493760.6421  False\n",
      "     5     12   894463.2621 0.9998  -4135283.604  5924210.1282  False\n",
      "     5     14  2090205.0518 0.6526 -1427324.1201  5607734.2236  False\n",
      "     6      7   732561.3742 0.9719 -1302943.7749  2768066.5234  False\n",
      "     6     10   648312.3603 0.9996 -2660721.0098  3957345.7304  False\n",
      "     6     12  2275066.1983 0.9024 -2808303.6408  7358436.0373  False\n",
      "     6     14  3470807.9879  0.068  -122979.2705  7064595.2463  False\n",
      "     7     10    -84249.014    1.0 -3178375.8943  3009877.8664  False\n",
      "     7     12   1542504.824 0.9887 -3403662.1998  6488671.8478  False\n",
      "     7     14  2738246.6137 0.2313   -658697.037  6135190.2643  False\n",
      "    10     12   1626753.838 0.9929 -3965293.0913  7218800.7673  False\n",
      "    10     14  2822495.6276 0.5118 -1460686.2268   7105677.482  False\n",
      "    12     14  1195741.7896 0.9993 -4569376.9319  6960860.5112  False\n",
      "---------------------------------------------------------------------\n"
     ]
    }
   ],
   "source": [
    "tukey = pairwise_tukeyhsd(data.total_cost,data.night_zanzibar,alpha=0.05)\n",
    "print (tukey)"
   ]
  },
  {
   "cell_type": "code",
   "execution_count": 143,
   "id": "6b52a4b4",
   "metadata": {},
   "outputs": [],
   "source": [
    "data['night_zanzibar'].replace({4: 3},inplace = True)\n",
    "data['night_zanzibar'].replace({5: 3},inplace = True)\n",
    "data['night_zanzibar'].replace({6: 3},inplace = True)\n",
    "data['night_zanzibar'].replace({7: 3},inplace = True)\n",
    "data['night_zanzibar'].replace({10: 3},inplace = True)\n",
    "data['night_zanzibar'].replace({12: 3},inplace = True)"
   ]
  },
  {
   "cell_type": "code",
   "execution_count": 144,
   "id": "4b0eaaa1",
   "metadata": {},
   "outputs": [
    {
     "name": "stdout",
     "output_type": "stream",
     "text": [
      "       Multiple Comparison of Means - Tukey HSD, FWER=0.05        \n",
      "==================================================================\n",
      "group1 group2   meandiff   p-adj     lower        upper     reject\n",
      "------------------------------------------------------------------\n",
      "     0      3 4242918.9136    0.0 3701763.4702 4784074.3569   True\n",
      "     0     14 7130500.8613    0.0 4703368.9512 9557632.7715   True\n",
      "     3     14 2887581.9478 0.0159  435917.9047 5339245.9908   True\n",
      "------------------------------------------------------------------\n"
     ]
    }
   ],
   "source": [
    "tukey = pairwise_tukeyhsd(data.total_cost,data.night_zanzibar,alpha=0.05)\n",
    "print (tukey)"
   ]
  },
  {
   "cell_type": "markdown",
   "id": "80ee8c78",
   "metadata": {},
   "source": [
    "### 18.payment_mode"
   ]
  },
  {
   "cell_type": "code",
   "execution_count": 145,
   "id": "b10be207",
   "metadata": {},
   "outputs": [
    {
     "name": "stdout",
     "output_type": "stream",
     "text": [
      "                    sum_sq      df         F  PR(>F)\n",
      "payment_mode  4.099583e+15     3.0  24.38984     0.0\n",
      "Residual      2.692172e+17  4805.0       NaN     NaN\n"
     ]
    }
   ],
   "source": [
    "annova=ols('total_cost ~ payment_mode',data=data).fit()\n",
    "an=sm.stats.anova_lm(annova,typ=2)\n",
    "print(an.round(decimals=5))"
   ]
  },
  {
   "cell_type": "code",
   "execution_count": 146,
   "id": "a33279e1",
   "metadata": {},
   "outputs": [
    {
     "name": "stdout",
     "output_type": "stream",
     "text": [
      "                 Multiple Comparison of Means - Tukey HSD, FWER=0.05                  \n",
      "======================================================================================\n",
      "   group1         group2         meandiff   p-adj      lower          upper     reject\n",
      "--------------------------------------------------------------------------------------\n",
      "       Cash       Credit Card  2738653.1369    0.0   1911839.0708   3565467.203   True\n",
      "       Cash             Other -1707985.8523 0.9174  -8515635.2553  5099663.5508  False\n",
      "       Cash Travellers Cheque  1256852.0299 0.9708  -6019960.7176  8533664.7773  False\n",
      "Credit Card             Other -4446638.9892   0.34 -11291368.2203  2398090.2419  False\n",
      "Credit Card Travellers Cheque -1481801.1071 0.9541  -8793314.7406  5829712.5265  False\n",
      "      Other Travellers Cheque  2964837.8821 0.8701   -6990999.627 12920675.3913  False\n",
      "--------------------------------------------------------------------------------------\n"
     ]
    }
   ],
   "source": [
    "tukey = pairwise_tukeyhsd(data.total_cost,data.payment_mode,alpha=0.05)\n",
    "print (tukey)"
   ]
  },
  {
   "cell_type": "code",
   "execution_count": 147,
   "id": "2830a9e3",
   "metadata": {},
   "outputs": [],
   "source": [
    "data['payment_mode'].replace({'Other': 'Cash'},inplace = True)\n",
    "data['payment_mode'].replace({'Travellers Cheque': 'Cash'},inplace = True)"
   ]
  },
  {
   "cell_type": "code",
   "execution_count": 148,
   "id": "9e260720",
   "metadata": {},
   "outputs": [
    {
     "name": "stdout",
     "output_type": "stream",
     "text": [
      "         Multiple Comparison of Means - Tukey HSD, FWER=0.05         \n",
      "=====================================================================\n",
      "group1    group2     meandiff   p-adj    lower       upper     reject\n",
      "---------------------------------------------------------------------\n",
      "  Cash Credit Card 2739815.2871  -0.0 2109322.264 3370308.3102   True\n",
      "---------------------------------------------------------------------\n"
     ]
    }
   ],
   "source": [
    "tukey = pairwise_tukeyhsd(data.total_cost,data.payment_mode,alpha=0.05)\n",
    "print (tukey)"
   ]
  },
  {
   "cell_type": "markdown",
   "id": "27109118",
   "metadata": {},
   "source": [
    "### 19.first_trip_tz"
   ]
  },
  {
   "cell_type": "code",
   "execution_count": 149,
   "id": "746feb61",
   "metadata": {},
   "outputs": [
    {
     "name": "stdout",
     "output_type": "stream",
     "text": [
      "                     sum_sq      df          F  PR(>F)\n",
      "first_trip_tz  2.400668e+16     1.0  462.87767     0.0\n",
      "Residual       2.493101e+17  4807.0        NaN     NaN\n"
     ]
    }
   ],
   "source": [
    "annova=ols('total_cost ~ first_trip_tz',data=data).fit()\n",
    "an=sm.stats.anova_lm(annova,typ=2)\n",
    "print(an.round(decimals=5))"
   ]
  },
  {
   "cell_type": "code",
   "execution_count": 150,
   "id": "c0baa5e9",
   "metadata": {},
   "outputs": [
    {
     "name": "stdout",
     "output_type": "stream",
     "text": [
      "      Multiple Comparison of Means - Tukey HSD, FWER=0.05       \n",
      "================================================================\n",
      "group1 group2   meandiff   p-adj    lower        upper    reject\n",
      "----------------------------------------------------------------\n",
      "    No    Yes 4767866.3247  -0.0 4333407.7135 5202324.936   True\n",
      "----------------------------------------------------------------\n"
     ]
    }
   ],
   "source": [
    "tukey = pairwise_tukeyhsd(data.total_cost,data.first_trip_tz,alpha=0.05)\n",
    "print (tukey)"
   ]
  },
  {
   "cell_type": "code",
   "execution_count": null,
   "id": "3c4c0d72",
   "metadata": {},
   "outputs": [],
   "source": []
  },
  {
   "cell_type": "markdown",
   "id": "8274efca",
   "metadata": {},
   "source": [
    "### 20.most_impressing"
   ]
  },
  {
   "cell_type": "code",
   "execution_count": 151,
   "id": "de7ab042",
   "metadata": {},
   "outputs": [
    {
     "name": "stdout",
     "output_type": "stream",
     "text": [
      "                       sum_sq      df        F  PR(>F)\n",
      "most_impressing  7.716298e+15     6.0  23.2515     0.0\n",
      "Residual         2.656005e+17  4802.0      NaN     NaN\n"
     ]
    }
   ],
   "source": [
    "annova=ols('total_cost ~ most_impressing',data=data).fit()\n",
    "an=sm.stats.anova_lm(annova,typ=2)\n",
    "print(an.round(decimals=5))"
   ]
  },
  {
   "cell_type": "code",
   "execution_count": 152,
   "id": "9874f4ef",
   "metadata": {},
   "outputs": [
    {
     "name": "stdout",
     "output_type": "stream",
     "text": [
      "                                   Multiple Comparison of Means - Tukey HSD, FWER=0.05                                   \n",
      "=========================================================================================================================\n",
      "           group1                           group2                   meandiff   p-adj      lower         upper     reject\n",
      "-------------------------------------------------------------------------------------------------------------------------\n",
      "                    Wildlife                 Excellent Experience -2316110.8615 0.0001 -3812516.1787  -819705.5442   True\n",
      "                    Wildlife                      Friendly People -3064664.5115   -0.0 -3915035.3219 -2214293.7011   True\n",
      "                    Wildlife                         Good service -2664553.6062    0.0 -3999446.6446 -1329660.5678   True\n",
      "                    Wildlife                          No comments -3473396.6372   -0.0 -4527544.7067 -2419248.5677   True\n",
      "                    Wildlife         Satisfies and Hope Come Back -3789663.3958 0.0766 -7787932.9562   208606.1645  False\n",
      "                    Wildlife Wonderful Country, Landscape, Nature -2244889.1495    0.0  -3433457.953  -1056320.346   True\n",
      "        Excellent Experience                      Friendly People  -748553.6501 0.7157 -2175155.2229   678047.9228  False\n",
      "        Excellent Experience                         Good service  -348442.7448 0.9973  -2107419.992  1410534.5025  False\n",
      "        Excellent Experience                          No comments -1157285.7757 0.2995   -2713977.68   399406.1285  False\n",
      "        Excellent Experience         Satisfies and Hope Come Back -1473552.5344 0.9435 -5632665.5419  2685560.4732  False\n",
      "        Excellent Experience Wonderful Country, Landscape, Nature     71221.712    1.0 -1579462.1866  1721905.6106  False\n",
      "             Friendly People                         Good service   400110.9053 0.9661   -856035.025  1656256.8355  False\n",
      "             Friendly People                          No comments  -408732.1257 0.8676 -1361198.0445   543733.7931  False\n",
      "             Friendly People         Satisfies and Hope Come Back  -724998.8843 0.9983 -4697670.8631  3247673.0945  False\n",
      "             Friendly People Wonderful Country, Landscape, Nature    819775.362 0.2959  -279614.9121  1919165.6362  False\n",
      "                Good service                          No comments   -808843.031 0.6151 -2210984.3346   593298.2726  False\n",
      "                Good service         Satisfies and Hope Come Back -1125109.7896 0.9842 -5228880.1974  2978660.6182  False\n",
      "                Good service Wonderful Country, Landscape, Nature   419664.4567 0.9828 -1086146.9138  1925475.8273  False\n",
      "                 No comments         Satisfies and Hope Come Back  -316266.7587    1.0 -4337488.0021  3704954.4848  False\n",
      "                 No comments Wonderful Country, Landscape, Nature  1228507.4877  0.063   -35120.8643  2492135.8397  False\n",
      "Satisfies and Hope Come Back Wonderful Country, Landscape, Nature  1544774.2464 0.9213 -2513758.4856  5603306.9784  False\n",
      "-------------------------------------------------------------------------------------------------------------------------\n"
     ]
    }
   ],
   "source": [
    "tukey = pairwise_tukeyhsd(data.total_cost,data.most_impressing,alpha=0.05)\n",
    "print (tukey)"
   ]
  },
  {
   "cell_type": "code",
   "execution_count": 153,
   "id": "27cd280d",
   "metadata": {},
   "outputs": [],
   "source": [
    "data['most_impressing'].replace({'Satisfies and Hope Come Back': 'Wildlife'},inplace = True)"
   ]
  },
  {
   "cell_type": "code",
   "execution_count": 154,
   "id": "1e79cd8e",
   "metadata": {},
   "outputs": [
    {
     "name": "stdout",
     "output_type": "stream",
     "text": [
      "                               Multiple Comparison of Means - Tukey HSD, FWER=0.05                               \n",
      "=================================================================================================================\n",
      "       group1                       group2                   meandiff   p-adj      lower         upper     reject\n",
      "-----------------------------------------------------------------------------------------------------------------\n",
      "            Wildlife                 Excellent Experience -2316110.8615 0.0001 -3812516.1787  -819705.5442   True\n",
      "            Wildlife                      Friendly People -3064664.5115   -0.0 -3915035.3219 -2214293.7011   True\n",
      "            Wildlife                         Good service -2664553.6062    0.0 -3999446.6446 -1329660.5678   True\n",
      "            Wildlife                          No comments -3473396.6372   -0.0 -4527544.7067 -2419248.5677   True\n",
      "            Wildlife                             Wildlife -3789663.3958 0.0766 -7787932.9562   208606.1645  False\n",
      "            Wildlife Wonderful Country, Landscape, Nature -2244889.1495    0.0  -3433457.953  -1056320.346   True\n",
      "Excellent Experience                      Friendly People  -748553.6501 0.7157 -2175155.2229   678047.9228  False\n",
      "Excellent Experience                         Good service  -348442.7448 0.9973  -2107419.992  1410534.5025  False\n",
      "Excellent Experience                          No comments -1157285.7757 0.2995   -2713977.68   399406.1285  False\n",
      "Excellent Experience                             Wildlife -1473552.5344 0.9435 -5632665.5419  2685560.4732  False\n",
      "Excellent Experience Wonderful Country, Landscape, Nature     71221.712    1.0 -1579462.1866  1721905.6106  False\n",
      "     Friendly People                         Good service   400110.9053 0.9661   -856035.025  1656256.8355  False\n",
      "     Friendly People                          No comments  -408732.1257 0.8676 -1361198.0445   543733.7931  False\n",
      "     Friendly People                             Wildlife  -724998.8843 0.9983 -4697670.8631  3247673.0945  False\n",
      "     Friendly People Wonderful Country, Landscape, Nature    819775.362 0.2959  -279614.9121  1919165.6362  False\n",
      "        Good service                          No comments   -808843.031 0.6151 -2210984.3346   593298.2726  False\n",
      "        Good service                             Wildlife -1125109.7896 0.9842 -5228880.1974  2978660.6182  False\n",
      "        Good service Wonderful Country, Landscape, Nature   419664.4567 0.9828 -1086146.9138  1925475.8273  False\n",
      "         No comments                             Wildlife  -316266.7587    1.0 -4337488.0021  3704954.4848  False\n",
      "         No comments Wonderful Country, Landscape, Nature  1228507.4877  0.063   -35120.8643  2492135.8397  False\n",
      "            Wildlife Wonderful Country, Landscape, Nature  1544774.2464 0.9213 -2513758.4856  5603306.9784  False\n",
      "-----------------------------------------------------------------------------------------------------------------\n"
     ]
    }
   ],
   "source": [
    "tukey = pairwise_tukeyhsd(data.total_cost,data.most_impressing,alpha=0.05)\n",
    "print (tukey)"
   ]
  },
  {
   "cell_type": "code",
   "execution_count": 155,
   "id": "6a58e61f",
   "metadata": {},
   "outputs": [],
   "source": [
    "data['most_impressing'].replace({'Wildlife': 'Wildlife'},inplace = True)"
   ]
  },
  {
   "cell_type": "code",
   "execution_count": 156,
   "id": "f7134ec2",
   "metadata": {},
   "outputs": [
    {
     "name": "stdout",
     "output_type": "stream",
     "text": [
      "                               Multiple Comparison of Means - Tukey HSD, FWER=0.05                               \n",
      "=================================================================================================================\n",
      "       group1                       group2                   meandiff   p-adj      lower         upper     reject\n",
      "-----------------------------------------------------------------------------------------------------------------\n",
      "            Wildlife                 Excellent Experience -2316110.8615 0.0001 -3812516.1787  -819705.5442   True\n",
      "            Wildlife                      Friendly People -3064664.5115   -0.0 -3915035.3219 -2214293.7011   True\n",
      "            Wildlife                         Good service -2664553.6062    0.0 -3999446.6446 -1329660.5678   True\n",
      "            Wildlife                          No comments -3473396.6372   -0.0 -4527544.7067 -2419248.5677   True\n",
      "            Wildlife                             Wildlife -3789663.3958 0.0766 -7787932.9562   208606.1645  False\n",
      "            Wildlife Wonderful Country, Landscape, Nature -2244889.1495    0.0  -3433457.953  -1056320.346   True\n",
      "Excellent Experience                      Friendly People  -748553.6501 0.7157 -2175155.2229   678047.9228  False\n",
      "Excellent Experience                         Good service  -348442.7448 0.9973  -2107419.992  1410534.5025  False\n",
      "Excellent Experience                          No comments -1157285.7757 0.2995   -2713977.68   399406.1285  False\n",
      "Excellent Experience                             Wildlife -1473552.5344 0.9435 -5632665.5419  2685560.4732  False\n",
      "Excellent Experience Wonderful Country, Landscape, Nature     71221.712    1.0 -1579462.1866  1721905.6106  False\n",
      "     Friendly People                         Good service   400110.9053 0.9661   -856035.025  1656256.8355  False\n",
      "     Friendly People                          No comments  -408732.1257 0.8676 -1361198.0445   543733.7931  False\n",
      "     Friendly People                             Wildlife  -724998.8843 0.9983 -4697670.8631  3247673.0945  False\n",
      "     Friendly People Wonderful Country, Landscape, Nature    819775.362 0.2959  -279614.9121  1919165.6362  False\n",
      "        Good service                          No comments   -808843.031 0.6151 -2210984.3346   593298.2726  False\n",
      "        Good service                             Wildlife -1125109.7896 0.9842 -5228880.1974  2978660.6182  False\n",
      "        Good service Wonderful Country, Landscape, Nature   419664.4567 0.9828 -1086146.9138  1925475.8273  False\n",
      "         No comments                             Wildlife  -316266.7587    1.0 -4337488.0021  3704954.4848  False\n",
      "         No comments Wonderful Country, Landscape, Nature  1228507.4877  0.063   -35120.8643  2492135.8397  False\n",
      "            Wildlife Wonderful Country, Landscape, Nature  1544774.2464 0.9213 -2513758.4856  5603306.9784  False\n",
      "-----------------------------------------------------------------------------------------------------------------\n"
     ]
    }
   ],
   "source": [
    "tukey = pairwise_tukeyhsd(data.total_cost,data.most_impressing,alpha=0.05)\n",
    "print (tukey)"
   ]
  },
  {
   "cell_type": "code",
   "execution_count": 157,
   "id": "5eb0d9da",
   "metadata": {},
   "outputs": [],
   "source": [
    "data['most_impressing'].replace({'Friendly People': 'Excellent Experience'},inplace = True)\n",
    "data['most_impressing'].replace({'Good service': 'Excellent Experience'},inplace = True)\n",
    "data['most_impressing'].replace({'Wonderful Country, Landscape, Nature': 'Excellent Experience'},inplace = True)\n",
    "data['most_impressing'].replace({'No comments': 'Excellent Experience'},inplace = True)\n",
    "data['most_impressing'].replace({'Wildlife': 'Excellent Experience'},inplace = True)"
   ]
  },
  {
   "cell_type": "code",
   "execution_count": 158,
   "id": "4eb67e3c",
   "metadata": {},
   "outputs": [
    {
     "name": "stdout",
     "output_type": "stream",
     "text": [
      "                 Multiple Comparison of Means - Tukey HSD, FWER=0.05                 \n",
      "=====================================================================================\n",
      "  group1         group2           meandiff   p-adj     lower         upper     reject\n",
      "-------------------------------------------------------------------------------------\n",
      " Wildlife Excellent Experience -2948419.0346  -0.0 -3459816.1861 -2437021.8831   True\n",
      "-------------------------------------------------------------------------------------\n"
     ]
    }
   ],
   "source": [
    "tukey = pairwise_tukeyhsd(data.total_cost,data.most_impressing,alpha=0.05)\n",
    "print (tukey)"
   ]
  },
  {
   "cell_type": "code",
   "execution_count": null,
   "id": "c766da2c",
   "metadata": {},
   "outputs": [],
   "source": []
  },
  {
   "cell_type": "markdown",
   "id": "577c2c99",
   "metadata": {},
   "source": [
    "### LABEL ENCODING"
   ]
  },
  {
   "cell_type": "code",
   "execution_count": 159,
   "id": "02af7a18",
   "metadata": {},
   "outputs": [],
   "source": [
    "df = pd.DataFrame(data)\n",
    "\n",
    "# apply label encoding to all categorical columns\n",
    "for col in df.columns:\n",
    "    if df[col].dtype == 'object':\n",
    "        le = LabelEncoder()\n",
    "        df[col] = le.fit_transform(df[col])"
   ]
  },
  {
   "cell_type": "code",
   "execution_count": null,
   "id": "95931ef2",
   "metadata": {},
   "outputs": [],
   "source": []
  },
  {
   "cell_type": "markdown",
   "id": "6f90c10b",
   "metadata": {},
   "source": [
    "### FEATURE SCALING"
   ]
  },
  {
   "cell_type": "code",
   "execution_count": 160,
   "id": "69924806",
   "metadata": {},
   "outputs": [],
   "source": [
    "from sklearn.preprocessing import StandardScaler, MinMaxScaler\n",
    "import pandas as pd"
   ]
  },
  {
   "cell_type": "code",
   "execution_count": 161,
   "id": "14cc1c61",
   "metadata": {},
   "outputs": [],
   "source": [
    "# Get the names of all the columns in the DataFrame\n",
    "columns = data.columns"
   ]
  },
  {
   "cell_type": "code",
   "execution_count": 162,
   "id": "062bdefb",
   "metadata": {},
   "outputs": [
    {
     "data": {
      "text/plain": [
       "StandardScaler()"
      ]
     },
     "execution_count": 162,
     "metadata": {},
     "output_type": "execute_result"
    }
   ],
   "source": [
    "# Initialize the standard scaler and fit it to the dataset\n",
    "scaler = StandardScaler()\n",
    "scaler.fit(data)"
   ]
  },
  {
   "cell_type": "code",
   "execution_count": 163,
   "id": "25ebdc7c",
   "metadata": {},
   "outputs": [],
   "source": [
    "# Use the scaler to transform the dataset\n",
    "scaled_df = scaler.transform(data)"
   ]
  },
  {
   "cell_type": "code",
   "execution_count": 164,
   "id": "201ec4d1",
   "metadata": {},
   "outputs": [],
   "source": [
    "# Convert the transformed dataset back to a DataFrame\n",
    "scaled_df = pd.DataFrame(scaled_df, columns=columns)"
   ]
  },
  {
   "cell_type": "code",
   "execution_count": 165,
   "id": "97c4bb5d",
   "metadata": {},
   "outputs": [
    {
     "data": {
      "text/plain": [
       "MinMaxScaler()"
      ]
     },
     "execution_count": 165,
     "metadata": {},
     "output_type": "execute_result"
    }
   ],
   "source": [
    "# Initialize the min-max scaler and fit it to the dataset\n",
    "scaler = MinMaxScaler()\n",
    "scaler.fit(data)\n"
   ]
  },
  {
   "cell_type": "code",
   "execution_count": 166,
   "id": "eb96dcad",
   "metadata": {},
   "outputs": [],
   "source": [
    "# Use the scaler to transform the dataset\n",
    "normalized_df = scaler.transform(data)"
   ]
  },
  {
   "cell_type": "code",
   "execution_count": 167,
   "id": "f452ca2b",
   "metadata": {},
   "outputs": [],
   "source": [
    "# Convert the transformed dataset back to a DataFrame\n",
    "normalized_df = pd.DataFrame(normalized_df, columns=columns)"
   ]
  },
  {
   "cell_type": "code",
   "execution_count": null,
   "id": "fc57f262",
   "metadata": {},
   "outputs": [],
   "source": []
  },
  {
   "cell_type": "code",
   "execution_count": null,
   "id": "ceaaa11d",
   "metadata": {},
   "outputs": [],
   "source": []
  },
  {
   "cell_type": "markdown",
   "id": "d32a5c31",
   "metadata": {},
   "source": [
    "### transforming dependent variable(total_cost) to make it near normal distribution"
   ]
  },
  {
   "cell_type": "code",
   "execution_count": 168,
   "id": "71207cdf",
   "metadata": {},
   "outputs": [],
   "source": [
    "df['total_cost']=df['total_cost'].transform(np.log)"
   ]
  },
  {
   "cell_type": "code",
   "execution_count": null,
   "id": "44f3adb7",
   "metadata": {},
   "outputs": [],
   "source": []
  },
  {
   "cell_type": "code",
   "execution_count": 173,
   "id": "9c49311f",
   "metadata": {},
   "outputs": [
    {
     "name": "stdout",
     "output_type": "stream",
     "text": [
      "                            OLS Regression Results                            \n",
      "==============================================================================\n",
      "Dep. Variable:             total_cost   R-squared:                       0.491\n",
      "Model:                            OLS   Adj. R-squared:                  0.489\n",
      "Method:                 Least Squares   F-statistic:                     231.2\n",
      "Date:                Tue, 18 Apr 2023   Prob (F-statistic):               0.00\n",
      "Time:                        15:30:10   Log-Likelihood:                -81352.\n",
      "No. Observations:                4809   AIC:                         1.627e+05\n",
      "Df Residuals:                    4788   BIC:                         1.629e+05\n",
      "Df Model:                          20                                         \n",
      "Covariance Type:            nonrobust                                         \n",
      "=========================================================================================\n",
      "                            coef    std err          t      P>|t|      [0.025      0.975]\n",
      "-----------------------------------------------------------------------------------------\n",
      "Intercept             -3.231e+05   3.43e+05     -0.942      0.346   -9.96e+05     3.5e+05\n",
      "ID                     -134.9261     56.573     -2.385      0.017    -245.836     -24.016\n",
      "country                2484.3301   2319.026      1.071      0.284   -2062.027    7030.687\n",
      "age_group              1.905e+06   1.37e+05     13.920      0.000    1.64e+06    2.17e+06\n",
      "travel_with            1.565e+06   2.11e+05      7.403      0.000    1.15e+06    1.98e+06\n",
      "total_female           6.152e+05   8.57e+04      7.174      0.000    4.47e+05    7.83e+05\n",
      "total_male             9.694e+05   1.48e+05      6.560      0.000     6.8e+05    1.26e+06\n",
      "purpose                9.235e+05    1.9e+05      4.855      0.000    5.51e+05     1.3e+06\n",
      "main_activity         -1.834e+05   9.09e+04     -2.018      0.044   -3.62e+05   -5200.469\n",
      "info_source            2.812e+05   1.04e+05      2.692      0.007    7.64e+04    4.86e+05\n",
      "tour_arrangement        1.52e+06   6.41e+05      2.371      0.018    2.63e+05    2.78e+06\n",
      "package_accomodation   6.922e+05   6.33e+05      1.093      0.274   -5.49e+05    1.93e+06\n",
      "package_transport_int  2.233e+06   2.55e+05      8.774      0.000    1.73e+06    2.73e+06\n",
      "package_transport_tz    8.18e+05   3.24e+05      2.522      0.012    1.82e+05    1.45e+06\n",
      "package_sightseeing    1.744e+06   2.97e+05      5.862      0.000    1.16e+06    2.33e+06\n",
      "package_guided_tour    5.341e+05   3.04e+05      1.754      0.079   -6.29e+04    1.13e+06\n",
      "package_insurance     -4.609e+04   2.59e+05     -0.178      0.859   -5.54e+05    4.62e+05\n",
      "night_mainland        -1.879e+05      5e+04     -3.758      0.000   -2.86e+05   -8.99e+04\n",
      "night_zanzibar         2.078e+05   4.68e+04      4.437      0.000    1.16e+05       3e+05\n",
      "payment_mode           1.602e+06   2.35e+05      6.806      0.000    1.14e+06    2.06e+06\n",
      "first_trip_tz          4.094e+05   1.95e+05      2.098      0.036    2.68e+04    7.92e+05\n",
      "==============================================================================\n",
      "Omnibus:                      305.761   Durbin-Watson:                   2.017\n",
      "Prob(Omnibus):                  0.000   Jarque-Bera (JB):              515.660\n",
      "Skew:                           0.494   Prob(JB):                    1.06e-112\n",
      "Kurtosis:                       4.264   Cond. No.                     3.07e+04\n",
      "==============================================================================\n",
      "\n",
      "Notes:\n",
      "[1] Standard Errors assume that the covariance matrix of the errors is correctly specified.\n",
      "[2] The condition number is large, 3.07e+04. This might indicate that there are\n",
      "strong multicollinearity or other numerical problems.\n"
     ]
    }
   ],
   "source": [
    "#Running Linear regression\n",
    "model_1 = smf.ols(formula = 'total_cost ~   ID + country + age_group + travel_with + total_female + total_male + purpose + main_activity + info_source + tour_arrangement + package_accomodation + package_transport_int + package_food + package_transport_tz + package_sightseeing + package_guided_tour + package_insurance + night_mainland + night_zanzibar + payment_mode + first_trip_tz + most_impressing', data = data).fit()\n",
    "print(model_1.summary())"
   ]
  },
  {
   "cell_type": "code",
   "execution_count": 171,
   "id": "77ae2d01",
   "metadata": {},
   "outputs": [],
   "source": [
    "X = data.iloc[:, :-1]\n",
    "y = data['total_cost']"
   ]
  },
  {
   "cell_type": "code",
   "execution_count": 172,
   "id": "dcce7bed",
   "metadata": {},
   "outputs": [],
   "source": [
    "from sklearn.model_selection import train_test_split\n",
    "X_train, X_test, y_train, y_test = train_test_split(X, y, test_size=0.2, random_state = 1)"
   ]
  },
  {
   "cell_type": "code",
   "execution_count": 173,
   "id": "8c7aebb3",
   "metadata": {},
   "outputs": [
    {
     "name": "stdout",
     "output_type": "stream",
     "text": [
      "X_train:  (3847, 22)\n",
      "y_train:  (3847,)\n",
      "X_test:  (962, 22)\n",
      "y_test:  (962,)\n"
     ]
    }
   ],
   "source": [
    "print('X_train: ', X_train.shape)\n",
    "print('y_train: ', y_train.shape)\n",
    "print('X_test: ', X_test.shape)\n",
    "print('y_test: ', y_test.shape)\n"
   ]
  },
  {
   "cell_type": "code",
   "execution_count": 174,
   "id": "4503873d",
   "metadata": {},
   "outputs": [],
   "source": [
    "lr = LinearRegression()\n",
    "\n",
    "lr_model = lr.fit(X_train, y_train)"
   ]
  },
  {
   "cell_type": "code",
   "execution_count": 175,
   "id": "d5083243",
   "metadata": {},
   "outputs": [],
   "source": [
    "y_train_pred = lr_model.predict(X_train)"
   ]
  },
  {
   "cell_type": "code",
   "execution_count": 176,
   "id": "fc2483a6",
   "metadata": {},
   "outputs": [
    {
     "name": "stdout",
     "output_type": "stream",
     "text": [
      "0.5019939065854244\n"
     ]
    }
   ],
   "source": [
    "from sklearn.metrics import r2_score\n",
    "r2 = r2_score(y_train, y_train_pred)\n",
    "print(r2)"
   ]
  },
  {
   "cell_type": "code",
   "execution_count": null,
   "id": "4cafd4ff",
   "metadata": {},
   "outputs": [],
   "source": []
  },
  {
   "cell_type": "code",
   "execution_count": 177,
   "id": "2540ef53",
   "metadata": {},
   "outputs": [],
   "source": [
    "lr = LinearRegression()\n",
    "\n",
    "lr_model = lr.fit(X_test, y_test)"
   ]
  },
  {
   "cell_type": "code",
   "execution_count": 178,
   "id": "e0503a31",
   "metadata": {},
   "outputs": [],
   "source": [
    "y_test_pred = lr_model.predict(X_test)"
   ]
  },
  {
   "cell_type": "code",
   "execution_count": 179,
   "id": "efec2239",
   "metadata": {},
   "outputs": [
    {
     "name": "stdout",
     "output_type": "stream",
     "text": [
      "0.45470030242172355\n"
     ]
    }
   ],
   "source": [
    "from sklearn.metrics import r2_score\n",
    "r2 = r2_score(y_test, y_test_pred)\n",
    "print(r2)"
   ]
  },
  {
   "cell_type": "code",
   "execution_count": null,
   "id": "2c42cb67",
   "metadata": {},
   "outputs": [],
   "source": []
  },
  {
   "cell_type": "code",
   "execution_count": null,
   "id": "072293fa",
   "metadata": {},
   "outputs": [],
   "source": []
  },
  {
   "cell_type": "code",
   "execution_count": 180,
   "id": "b7d18f8f",
   "metadata": {},
   "outputs": [],
   "source": [
    "from sklearn.ensemble import GradientBoostingRegressor\n",
    "gbrt = GradientBoostingRegressor(max_depth=4, n_estimators=300, learning_rate=0.1, random_state=42)\n",
    "gbrt.fit(X_train, y_train)\n",
    "y_pred_gbrt = gbrt.predict(X_train)"
   ]
  },
  {
   "cell_type": "code",
   "execution_count": 181,
   "id": "533a47ac",
   "metadata": {},
   "outputs": [
    {
     "name": "stdout",
     "output_type": "stream",
     "text": [
      "0.7739058024232802\n"
     ]
    }
   ],
   "source": [
    "r2 = r2_score(y_train, y_pred_gbrt)\n",
    "print(r2)"
   ]
  },
  {
   "cell_type": "code",
   "execution_count": 182,
   "id": "4727b1fc",
   "metadata": {},
   "outputs": [],
   "source": [
    "from sklearn.ensemble import GradientBoostingRegressor\n",
    "gbrt_2 = GradientBoostingRegressor(max_depth=4, n_estimators=300, learning_rate=0.1, random_state=42)\n",
    "gbrt.fit(X_test, y_test)\n",
    "y_pred_gbrt_2 = gbrt.predict(X_test)"
   ]
  },
  {
   "cell_type": "code",
   "execution_count": 183,
   "id": "6de822fd",
   "metadata": {},
   "outputs": [
    {
     "name": "stdout",
     "output_type": "stream",
     "text": [
      "0.947778296135186\n"
     ]
    }
   ],
   "source": [
    "r2 = r2_score(y_test, y_pred_gbrt_2)\n",
    "print(r2)"
   ]
  },
  {
   "cell_type": "code",
   "execution_count": null,
   "id": "6a3a1d97",
   "metadata": {},
   "outputs": [],
   "source": []
  },
  {
   "cell_type": "code",
   "execution_count": null,
   "id": "594f3cee",
   "metadata": {},
   "outputs": [],
   "source": []
  },
  {
   "cell_type": "code",
   "execution_count": null,
   "id": "313c0fc4",
   "metadata": {},
   "outputs": [],
   "source": []
  },
  {
   "cell_type": "code",
   "execution_count": 211,
   "id": "e3a97daf",
   "metadata": {},
   "outputs": [
    {
     "data": {
      "image/png": "[encoded data removed]",
      "text/plain": [
       "<Figure size 432x288 with 1 Axes>"
      ]
     },
     "metadata": {
      "needs_background": "light"
     },
     "output_type": "display_data"
    }
   ],
   "source": [
    "X = np.random.normal(0, 1, size=100)\n",
    "y = 2*X + np.random.normal(0, 1, size=100)\n",
    "\n",
    "# Fit a linear regression model to the data\n",
    "reg = LinearRegression().fit(X.reshape(-1, 1), y)\n",
    "\n",
    "# Get the predicted values and residuals from the model\n",
    "y_pred = reg.predict(X.reshape(-1, 1))\n",
    "residuals = y - y_pred\n",
    "\n",
    "# Create a histogram of the residuals\n",
    "plt.hist(residuals, bins=10)\n",
    "plt.xlabel(\"Residuals\")\n",
    "plt.ylabel(\"Frequency\")\n",
    "plt.title(\"Histogram of Residuals\")\n",
    "plt.show()"
   ]
  },
  {
   "cell_type": "code",
   "execution_count": null,
   "id": "174b1b17",
   "metadata": {},
   "outputs": [],
   "source": []
  },
  {
   "cell_type": "code",
   "execution_count": 191,
   "id": "3a525e80",
   "metadata": {},
   "outputs": [
    {
     "data": {
      "image/png": "[encoded data removed]",
      "text/plain": [
       "<Figure size 432x288 with 1 Axes>"
      ]
     },
     "metadata": {
      "needs_background": "light"
     },
     "output_type": "display_data"
    }
   ],
   "source": [
    "# Generate some random data for demonstration purposes\n",
    "x = np.random.randn(100)\n",
    "y = 2*x + np.random.randn(100)\n",
    "\n",
    "# Fit a linear regression model to the data\n",
    "model = np.polyfit(x, y, 1)\n",
    "predict = np.poly1d(model)\n",
    "\n",
    "# Calculate the residuals\n",
    "residuals = y - predict(x)\n",
    "\n",
    "# Plot the residuals against the predicted values\n",
    "plt.scatter(predict(x), residuals)\n",
    "plt.axhline(y=0, color='r', linestyle='--')\n",
    "plt.xlabel('Predicted Values')\n",
    "plt.ylabel('Residuals')\n",
    "plt.title('Homoscedasticity Plot')\n",
    "plt.show()"
   ]
  },
  {
   "cell_type": "code",
   "execution_count": null,
   "id": "dc0d31df",
   "metadata": {},
   "outputs": [],
   "source": []
  }
 ],
 "metadata": {
  "kernelspec": {
   "display_name": "Python 3 (ipykernel)",
   "language": "python",
   "name": "python3"
  },
  "language_info": {
   "codemirror_mode": {
    "name": "ipython",
    "version": 3
   },
   "file_extension": ".py",
   "mimetype": "text/x-python",
   "name": "python",
   "nbconvert_exporter": "python",
   "pygments_lexer": "ipython3",
   "version": "3.10.9"
  }
 },
 "nbformat": 4,
 "nbformat_minor": 5
}
